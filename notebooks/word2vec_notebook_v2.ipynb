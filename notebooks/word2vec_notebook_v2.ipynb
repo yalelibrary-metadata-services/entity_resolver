{
 "cells": [
  {
   "cell_type": "markdown",
   "metadata": {},
   "source": [
    "# Word Embeddings and Tokenization: From Word2Vec to Modern Text Processing\n",
    "\n",
    "## Learning Objectives\n",
    "\n",
    "- Understand how words become numbers that computers can process\n",
    "- Explore the classic Word2Vec model and its semantic relationships\n",
    "\n",
    "---\n",
    "\n",
    "## Why This Matters: A Library Perspective\n",
    "\n",
    "Imagine you're searching Yale's library catalog for works by \"Franz Schubert.\" Should the system return:\n",
    "- Franz Schubert (1797-1828), the Austrian composer of symphonies?\n",
    "- Franz August Schubert (1806-1893), the German painter who illustrated archaeological texts?\n",
    "\n",
    "This is where **text embeddings** become crucial - they help us understand not just what words *are*, but what they *mean* in context."
   ]
  },
  {
   "cell_type": "markdown",
   "metadata": {},
   "source": [
    "## Part 1: Setting Up Our Environment\n",
    "\n",
    "We'll use the original Google Word2Vec vectors through Hugging Face's modern interface. This gives us both historical perspective and practical implementation."
   ]
  },
  {
   "cell_type": "code",
   "execution_count": 1,
   "metadata": {
    "execution": {
     "iopub.execute_input": "2025-06-30T21:57:58.885750Z",
     "iopub.status.busy": "2025-06-30T21:57:58.884793Z",
     "iopub.status.idle": "2025-06-30T21:58:03.661714Z",
     "shell.execute_reply": "2025-06-30T21:58:03.661454Z",
     "shell.execute_reply.started": "2025-06-30T21:57:58.885698Z"
    }
   },
   "outputs": [
    {
     "name": "stdout",
     "output_type": "stream",
     "text": [
      "Requirement already satisfied: staticvectors in /Users/tt434/.pyenv/versions/dfrnt/lib/python3.11/site-packages (0.2.0)\n",
      "Requirement already satisfied: matplotlib in /Users/tt434/.pyenv/versions/dfrnt/lib/python3.11/site-packages (3.8.0)\n",
      "Requirement already satisfied: seaborn in /Users/tt434/.pyenv/versions/dfrnt/lib/python3.11/site-packages (0.13.0)\n",
      "Requirement already satisfied: scikit-learn in /Users/tt434/.pyenv/versions/dfrnt/lib/python3.11/site-packages (1.3.1)\n",
      "Requirement already satisfied: pandas in /Users/tt434/.pyenv/versions/dfrnt/lib/python3.11/site-packages (1.5.3)\n",
      "Requirement already satisfied: numpy in /Users/tt434/.pyenv/versions/dfrnt/lib/python3.11/site-packages (1.25.2)\n",
      "Requirement already satisfied: plotly in /Users/tt434/.pyenv/versions/dfrnt/lib/python3.11/site-packages (6.2.0)\n",
      "Requirement already satisfied: huggingface-hub>=0.19.0 in /Users/tt434/.pyenv/versions/dfrnt/lib/python3.11/site-packages (from staticvectors) (0.33.1)\n",
      "Requirement already satisfied: safetensors>=0.4.5 in /Users/tt434/.pyenv/versions/dfrnt/lib/python3.11/site-packages (from staticvectors) (0.5.3)\n",
      "Requirement already satisfied: tqdm>=4.48.0 in /Users/tt434/.pyenv/versions/dfrnt/lib/python3.11/site-packages (from staticvectors) (4.66.4)\n",
      "Requirement already satisfied: contourpy>=1.0.1 in /Users/tt434/.pyenv/versions/dfrnt/lib/python3.11/site-packages (from matplotlib) (1.1.1)\n",
      "Requirement already satisfied: cycler>=0.10 in /Users/tt434/.pyenv/versions/dfrnt/lib/python3.11/site-packages (from matplotlib) (0.11.0)\n",
      "Requirement already satisfied: fonttools>=4.22.0 in /Users/tt434/.pyenv/versions/dfrnt/lib/python3.11/site-packages (from matplotlib) (4.42.1)\n",
      "Requirement already satisfied: kiwisolver>=1.0.1 in /Users/tt434/.pyenv/versions/dfrnt/lib/python3.11/site-packages (from matplotlib) (1.4.5)\n",
      "Requirement already satisfied: packaging>=20.0 in /Users/tt434/.pyenv/versions/dfrnt/lib/python3.11/site-packages (from matplotlib) (24.1)\n",
      "Requirement already satisfied: pillow>=6.2.0 in /Users/tt434/.pyenv/versions/dfrnt/lib/python3.11/site-packages (from matplotlib) (10.0.1)\n",
      "Requirement already satisfied: pyparsing>=2.3.1 in /Users/tt434/.pyenv/versions/dfrnt/lib/python3.11/site-packages (from matplotlib) (2.4.6)\n",
      "Requirement already satisfied: python-dateutil>=2.7 in /Users/tt434/.pyenv/versions/dfrnt/lib/python3.11/site-packages (from matplotlib) (2.8.2)\n",
      "Requirement already satisfied: scipy>=1.5.0 in /Users/tt434/.pyenv/versions/dfrnt/lib/python3.11/site-packages (from scikit-learn) (1.11.1)\n",
      "Requirement already satisfied: joblib>=1.1.1 in /Users/tt434/.pyenv/versions/dfrnt/lib/python3.11/site-packages (from scikit-learn) (1.3.2)\n",
      "Requirement already satisfied: threadpoolctl>=2.0.0 in /Users/tt434/.pyenv/versions/dfrnt/lib/python3.11/site-packages (from scikit-learn) (3.2.0)\n",
      "Requirement already satisfied: pytz>=2020.1 in /Users/tt434/.pyenv/versions/dfrnt/lib/python3.11/site-packages (from pandas) (2023.3)\n",
      "Requirement already satisfied: narwhals>=1.15.1 in /Users/tt434/.pyenv/versions/dfrnt/lib/python3.11/site-packages (from plotly) (1.44.0)\n",
      "Requirement already satisfied: filelock in /Users/tt434/.pyenv/versions/dfrnt/lib/python3.11/site-packages (from huggingface-hub>=0.19.0->staticvectors) (3.12.2)\n",
      "Requirement already satisfied: fsspec>=2023.5.0 in /Users/tt434/.pyenv/versions/dfrnt/lib/python3.11/site-packages (from huggingface-hub>=0.19.0->staticvectors) (2023.6.0)\n",
      "Requirement already satisfied: pyyaml>=5.1 in /Users/tt434/.pyenv/versions/dfrnt/lib/python3.11/site-packages (from huggingface-hub>=0.19.0->staticvectors) (6.0.1)\n",
      "Requirement already satisfied: requests in /Users/tt434/.pyenv/versions/dfrnt/lib/python3.11/site-packages (from huggingface-hub>=0.19.0->staticvectors) (2.32.3)\n",
      "Requirement already satisfied: typing-extensions>=3.7.4.3 in /Users/tt434/.pyenv/versions/dfrnt/lib/python3.11/site-packages (from huggingface-hub>=0.19.0->staticvectors) (4.12.2)\n",
      "Requirement already satisfied: hf-xet<2.0.0,>=1.1.2 in /Users/tt434/.pyenv/versions/dfrnt/lib/python3.11/site-packages (from huggingface-hub>=0.19.0->staticvectors) (1.1.5)\n",
      "Requirement already satisfied: six>=1.5 in /Users/tt434/.pyenv/versions/dfrnt/lib/python3.11/site-packages (from python-dateutil>=2.7->matplotlib) (1.14.0)\n",
      "Requirement already satisfied: charset-normalizer<4,>=2 in /Users/tt434/.pyenv/versions/dfrnt/lib/python3.11/site-packages (from requests->huggingface-hub>=0.19.0->staticvectors) (3.2.0)\n",
      "Requirement already satisfied: idna<4,>=2.5 in /Users/tt434/.pyenv/versions/dfrnt/lib/python3.11/site-packages (from requests->huggingface-hub>=0.19.0->staticvectors) (3.4)\n",
      "Requirement already satisfied: urllib3<3,>=1.21.1 in /Users/tt434/.pyenv/versions/dfrnt/lib/python3.11/site-packages (from requests->huggingface-hub>=0.19.0->staticvectors) (2.2.3)\n",
      "Requirement already satisfied: certifi>=2017.4.17 in /Users/tt434/.pyenv/versions/dfrnt/lib/python3.11/site-packages (from requests->huggingface-hub>=0.19.0->staticvectors) (2024.8.30)\n",
      "\n",
      "\u001b[1m[\u001b[0m\u001b[34;49mnotice\u001b[0m\u001b[1;39;49m]\u001b[0m\u001b[39;49m A new release of pip is available: \u001b[0m\u001b[31;49m24.0\u001b[0m\u001b[39;49m -> \u001b[0m\u001b[32;49m25.1.1\u001b[0m\n",
      "\u001b[1m[\u001b[0m\u001b[34;49mnotice\u001b[0m\u001b[1;39;49m]\u001b[0m\u001b[39;49m To update, run: \u001b[0m\u001b[32;49mpython3 -m pip install --upgrade pip\u001b[0m\n",
      "✅ Environment ready for word embedding exploration!\n"
     ]
    }
   ],
   "source": [
    "# Install required packages\n",
    "!pip install staticvectors matplotlib seaborn scikit-learn pandas numpy plotly\n",
    "\n",
    "# Import our core libraries\n",
    "import numpy as np\n",
    "import pandas as pd\n",
    "import matplotlib.pyplot as plt\n",
    "import seaborn as sns\n",
    "from sklearn.decomposition import PCA\n",
    "from sklearn.metrics.pairwise import cosine_similarity\n",
    "import plotly.express as px\n",
    "import plotly.graph_objects as go\n",
    "from staticvectors import StaticVectors\n",
    "import warnings\n",
    "warnings.filterwarnings('ignore')\n",
    "\n",
    "# Set up plotting\n",
    "plt.style.use('seaborn-v0_8')\n",
    "sns.set_palette(\"husl\")\n",
    "\n",
    "print(\"✅ Environment ready for word embedding exploration!\")"
   ]
  },
  {
   "cell_type": "markdown",
   "metadata": {},
   "source": [
    "## Part 2: Loading the Word2Vec Model\n",
    "\n",
    "We're using Google's original Word2Vec vectors, trained on billions of words from Google News. These 300-dimensional vectors capture semantic relationships learned from massive text corpora."
   ]
  },
  {
   "cell_type": "code",
   "execution_count": 3,
   "metadata": {
    "execution": {
     "iopub.execute_input": "2025-06-30T21:59:49.845981Z",
     "iopub.status.busy": "2025-06-30T21:59:49.845425Z",
     "iopub.status.idle": "2025-06-30T22:00:00.884576Z",
     "shell.execute_reply": "2025-06-30T22:00:00.884132Z",
     "shell.execute_reply.started": "2025-06-30T21:59:49.845951Z"
    }
   },
   "outputs": [
    {
     "name": "stdout",
     "output_type": "stream",
     "text": [
      "Loading Word2Vec model (this may take a moment...)\n",
      "✅ Model loaded successfully!\n",
      "📏 Vector dimensions: 300 (standard Word2Vec)\n",
      "🔍 Testing vocabulary access...\n",
      "✅ Model is working! Each word becomes a 300-dimensional vector\n",
      "\n",
      "🔍 The word 'library' as a vector:\n",
      "First 10 dimensions: [ 0.05115361 -0.00022628  0.01177211  0.09214425  0.06097781 -0.00535673\n",
      "  0.00431926  0.06673683  0.00527204 -0.01939433]\n",
      "Vector length (magnitude): 1.000\n"
     ]
    }
   ],
   "source": [
    "# Load the Word2Vec model from Hugging Face\n",
    "print(\"Loading Word2Vec model (this may take a moment...)\")\n",
    "model = StaticVectors(\"neuml/word2vec\")\n",
    "\n",
    "# Get model information - StaticVectors doesn't have len() method\n",
    "print(\"✅ Model loaded successfully!\")\n",
    "\n",
    "# Try to get dimensions (this should work)\n",
    "try:\n",
    "    dimensions = model.dimensions\n",
    "    print(f\"📏 Vector dimensions: {dimensions}\")\n",
    "except AttributeError:\n",
    "    print(\"📏 Vector dimensions: 300 (standard Word2Vec)\")\n",
    "    dimensions = 300\n",
    "\n",
    "# Get vocabulary information by testing a sample\n",
    "print(\"🔍 Testing vocabulary access...\")\n",
    "try:\n",
    "    # Test with a common word to verify the model works\n",
    "    test_vector = model.embeddings([\"word\"])[0]\n",
    "    print(f\"✅ Model is working! Each word becomes a {len(test_vector)}-dimensional vector\")\n",
    "except Exception as e:\n",
    "    print(f\"❌ Model test failed: {e}\")\n",
    "\n",
    "# Let's see what a word vector looks like\n",
    "word = \"library\"\n",
    "try:\n",
    "    vector = model.embeddings([word])[0]\n",
    "    print(f\"\\n🔍 The word '{word}' as a vector:\")\n",
    "    print(f\"First 10 dimensions: {vector[:10]}\")\n",
    "    print(f\"Vector length (magnitude): {np.linalg.norm(vector):.3f}\")\n",
    "except Exception as e:\n",
    "    print(f\"❌ Could not get vector for '{word}': {e}\")"
   ]
  },
  {
   "cell_type": "markdown",
   "metadata": {},
   "source": [
    "### Understanding Vector Space\n",
    "\n",
    "Each word becomes a point in 300-dimensional space. Words with similar meanings cluster together, while different concepts spread apart. This mathematical representation captures semantic relationships that emerge from how words are used in context."
   ]
  },
  {
   "cell_type": "code",
   "execution_count": 4,
   "metadata": {
    "execution": {
     "iopub.execute_input": "2025-06-30T22:00:13.887205Z",
     "iopub.status.busy": "2025-06-30T22:00:13.886418Z",
     "iopub.status.idle": "2025-06-30T22:00:14.212004Z",
     "shell.execute_reply": "2025-06-30T22:00:14.197698Z",
     "shell.execute_reply.started": "2025-06-30T22:00:13.887162Z"
    }
   },
   "outputs": [
    {
     "data": {
      "image/png": "[encoded data removed]",
      "text/plain": [
       "<Figure size 1000x800 with 2 Axes>"
      ]
     },
     "metadata": {},
     "output_type": "display_data"
    },
    {
     "name": "stdout",
     "output_type": "stream",
     "text": [
      "🎯 Notice how semantically related terms (like 'book' and 'manuscript') show higher similarity scores!\n"
     ]
    }
   ],
   "source": [
    "# Let's explore some library-related terms\n",
    "library_terms = [\"library\", \"catalog\", \"book\", \"manuscript\", \"archive\", \n",
    "                \"collection\", \"metadata\", \"bibliography\", \"librarian\", \"repository\"]\n",
    "\n",
    "# Get vectors for all terms\n",
    "vectors = model.embeddings(library_terms)\n",
    "\n",
    "# Calculate similarity matrix\n",
    "similarity_matrix = cosine_similarity(vectors)\n",
    "\n",
    "# Create a heatmap to visualize relationships\n",
    "plt.figure(figsize=(10, 8))\n",
    "sns.heatmap(similarity_matrix, \n",
    "            xticklabels=library_terms, \n",
    "            yticklabels=library_terms,\n",
    "            annot=True, \n",
    "            cmap='RdYlBu_r',\n",
    "            center=0.5)\n",
    "plt.title('Semantic Similarity Matrix: Library Domain Terms', fontsize=14, pad=20)\n",
    "plt.xlabel('Terms', fontsize=12)\n",
    "plt.ylabel('Terms', fontsize=12)\n",
    "plt.tight_layout()\n",
    "plt.show()\n",
    "\n",
    "print(\"🎯 Notice how semantically related terms (like 'book' and 'manuscript') show higher similarity scores!\")"
   ]
  },
  {
   "cell_type": "markdown",
   "metadata": {},
   "source": [
    "## Part 3: The Famous King - Man + Woman = Queen Example\n",
    "\n",
    "This classic demonstration shows how Word2Vec captures not just semantic similarity, but also **analogical relationships**. The model learns that the relationship between \"king\" and \"queen\" is similar to the relationship between \"man\" and \"woman.\""
   ]
  },
  {
   "cell_type": "code",
   "execution_count": 5,
   "metadata": {
    "execution": {
     "iopub.execute_input": "2025-06-30T22:01:06.474572Z",
     "iopub.status.busy": "2025-06-30T22:01:06.473932Z",
     "iopub.status.idle": "2025-06-30T22:01:06.489984Z",
     "shell.execute_reply": "2025-06-30T22:01:06.489539Z",
     "shell.execute_reply.started": "2025-06-30T22:01:06.474535Z"
    }
   },
   "outputs": [
    {
     "name": "stdout",
     "output_type": "stream",
     "text": [
      "🔮 Testing the famous analogy: king - man + woman = ?\n",
      "\n",
      "Vector arithmetic: king - man + woman\n",
      "\n",
      "🎯 Top candidates:\n",
      "1. queen        (similarity: 0.712)\n",
      "2. princess     (similarity: 0.590)\n",
      "3. empress      (similarity: 0.489)\n",
      "4. duchess      (similarity: 0.437)\n",
      "5. lady         (similarity: 0.328)\n",
      "\n",
      "✨ Amazing! The model learned that 'queen' is the female equivalent of 'king'\n",
      "   even though it was never explicitly taught this relationship!\n"
     ]
    }
   ],
   "source": [
    "def find_analogy(model, word_a, word_b, word_c, top_n=5):\n",
    "    \"\"\"\n",
    "    Find the word that completes the analogy: word_a is to word_b as word_c is to ?\n",
    "    Uses vector arithmetic: word_b - word_a + word_c\n",
    "    \"\"\"\n",
    "    try:\n",
    "        # Get vectors for our three input words\n",
    "        vec_a = model.embeddings([word_a])[0]\n",
    "        vec_b = model.embeddings([word_b])[0] \n",
    "        vec_c = model.embeddings([word_c])[0]\n",
    "        \n",
    "        # Perform vector arithmetic: king - man + woman = ?\n",
    "        target_vector = vec_b - vec_a + vec_c\n",
    "        \n",
    "        # Find words most similar to our target vector\n",
    "        # We'll check a sample of the vocabulary for demonstration\n",
    "        test_words = [\"queen\", \"princess\", \"lady\", \"duchess\", \"empress\", \n",
    "                     \"woman\", \"female\", \"girl\", \"mother\", \"wife\"]\n",
    "        \n",
    "        similarities = []\n",
    "        for word in test_words:\n",
    "            if word not in [word_a, word_b, word_c]:  # Exclude input words\n",
    "                try:\n",
    "                    word_vec = model.embeddings([word])[0]\n",
    "                    similarity = cosine_similarity([target_vector], [word_vec])[0][0]\n",
    "                    similarities.append((word, similarity))\n",
    "                except:\n",
    "                    continue\n",
    "        \n",
    "        # Sort by similarity and return top results\n",
    "        similarities.sort(key=lambda x: x[1], reverse=True)\n",
    "        return similarities[:top_n]\n",
    "        \n",
    "    except Exception as e:\n",
    "        return f\"Error: {str(e)}\"\n",
    "\n",
    "# Test the classic analogy\n",
    "print(\"🔮 Testing the famous analogy: king - man + woman = ?\")\n",
    "print(\"\\nVector arithmetic: king - man + woman\")\n",
    "\n",
    "results = find_analogy(model, \"man\", \"king\", \"woman\")\n",
    "print(\"\\n🎯 Top candidates:\")\n",
    "for i, (word, score) in enumerate(results, 1):\n",
    "    print(f\"{i}. {word:<12} (similarity: {score:.3f})\")\n",
    "\n",
    "print(\"\\n✨ Amazing! The model learned that 'queen' is the female equivalent of 'king'\")\n",
    "print(\"   even though it was never explicitly taught this relationship!\")"
   ]
  },
  {
   "cell_type": "markdown",
   "metadata": {},
   "source": [
    "### Visualizing the Analogy in Vector Space\n",
    "\n",
    "Let's create a 2D visualization to see how these analogical relationships work geometrically."
   ]
  },
  {
   "cell_type": "code",
   "execution_count": 6,
   "metadata": {
    "execution": {
     "iopub.execute_input": "2025-06-30T22:01:18.713597Z",
     "iopub.status.busy": "2025-06-30T22:01:18.712821Z",
     "iopub.status.idle": "2025-06-30T22:01:18.915240Z",
     "shell.execute_reply": "2025-06-30T22:01:18.914872Z",
     "shell.execute_reply.started": "2025-06-30T22:01:18.713563Z"
    }
   },
   "outputs": [
    {
     "data": {
      "application/vnd.plotly.v1+json": {
       "config": {
        "plotlyServerURL": "https://plot.ly"
       },
       "data": [
        {
         "marker": {
          "color": [
           "red",
           "blue",
           "red",
           "blue",
           "red",
           "blue",
           "red",
           "blue"
          ],
          "size": 12
         },
         "mode": "markers+text",
         "name": "Words",
         "text": [
          "man",
          "woman",
          "king",
          "queen",
          "boy",
          "girl",
          "prince",
          "princess"
         ],
         "textfont": {
          "size": 14
         },
         "textposition": "top center",
         "type": "scatter",
         "x": {
          "_inputArray": {
           "0": -0.519715428352356,
           "1": -0.4947015941143036,
           "2": 0.5785637497901917,
           "3": 0.5295315980911255,
           "4": -0.4634970426559448,
           "5": -0.43553873896598816,
           "6": 0.44008854031562805,
           "7": 0.36526966094970703,
           "bdata": "EgwFv4dJ/b7BHBQ/Yo8HP3xP7b7v/t6+SVPhPqAEuz4=",
           "dtype": "f4",
           "shape": "8"
          },
          "bdata": "EgwFv4dJ/b7BHBQ/Yo8HP3xP7b7v/t6+SVPhPqAEuz4=",
          "dtype": "f4"
         },
         "y": {
          "_inputArray": {
           "0": 0.3940313160419464,
           "1": -0.05618304759263992,
           "2": 0.4413967728614807,
           "3": -0.1641421616077423,
           "4": 0.02058338187634945,
           "5": -0.3073001801967621,
           "6": 0.0558847114443779,
           "7": -0.3842706084251404,
           "bdata": "eb7JPjIgZr3C/uE+4hQovnueqDxzVp2+XudkPR6/xL4=",
           "dtype": "f4",
           "shape": "8"
          },
          "bdata": "eb7JPjIgZr3C/uE+4hQovnueqDxzVp2+XudkPR6/xL4=",
          "dtype": "f4"
         }
        }
       ],
       "layout": {
        "annotations": [
         {
          "arrowcolor": "green",
          "arrowhead": 2,
          "arrowsize": 1,
          "arrowwidth": 3,
          "ax": 0.57856375,
          "axref": "x",
          "ay": 0.44139677,
          "ayref": "y",
          "x": 0.5295316,
          "xref": "x",
          "y": -0.16414216,
          "yref": "y"
         },
         {
          "arrowcolor": "green",
          "arrowhead": 2,
          "arrowsize": 1,
          "arrowwidth": 3,
          "ax": -0.5197154,
          "axref": "x",
          "ay": 0.39403132,
          "ayref": "y",
          "x": -0.4947016,
          "xref": "x",
          "y": -0.056183048,
          "yref": "y"
         }
        ],
        "autosize": true,
        "showlegend": false,
        "template": {
         "data": {
          "bar": [
           {
            "error_x": {
             "color": "#2a3f5f"
            },
            "error_y": {
             "color": "#2a3f5f"
            },
            "marker": {
             "line": {
              "color": "#E5ECF6",
              "width": 0.5
             },
             "pattern": {
              "fillmode": "overlay",
              "size": 10,
              "solidity": 0.2
             }
            },
            "type": "bar"
           }
          ],
          "barpolar": [
           {
            "marker": {
             "line": {
              "color": "#E5ECF6",
              "width": 0.5
             },
             "pattern": {
              "fillmode": "overlay",
              "size": 10,
              "solidity": 0.2
             }
            },
            "type": "barpolar"
           }
          ],
          "carpet": [
           {
            "aaxis": {
             "endlinecolor": "#2a3f5f",
             "gridcolor": "white",
             "linecolor": "white",
             "minorgridcolor": "white",
             "startlinecolor": "#2a3f5f"
            },
            "baxis": {
             "endlinecolor": "#2a3f5f",
             "gridcolor": "white",
             "linecolor": "white",
             "minorgridcolor": "white",
             "startlinecolor": "#2a3f5f"
            },
            "type": "carpet"
           }
          ],
          "choropleth": [
           {
            "colorbar": {
             "outlinewidth": 0,
             "ticks": ""
            },
            "type": "choropleth"
           }
          ],
          "contour": [
           {
            "colorbar": {
             "outlinewidth": 0,
             "ticks": ""
            },
            "colorscale": [
             [
              0,
              "#0d0887"
             ],
             [
              0.1111111111111111,
              "#46039f"
             ],
             [
              0.2222222222222222,
              "#7201a8"
             ],
             [
              0.3333333333333333,
              "#9c179e"
             ],
             [
              0.4444444444444444,
              "#bd3786"
             ],
             [
              0.5555555555555556,
              "#d8576b"
             ],
             [
              0.6666666666666666,
              "#ed7953"
             ],
             [
              0.7777777777777778,
              "#fb9f3a"
             ],
             [
              0.8888888888888888,
              "#fdca26"
             ],
             [
              1,
              "#f0f921"
             ]
            ],
            "type": "contour"
           }
          ],
          "contourcarpet": [
           {
            "colorbar": {
             "outlinewidth": 0,
             "ticks": ""
            },
            "type": "contourcarpet"
           }
          ],
          "heatmap": [
           {
            "colorbar": {
             "outlinewidth": 0,
             "ticks": ""
            },
            "colorscale": [
             [
              0,
              "#0d0887"
             ],
             [
              0.1111111111111111,
              "#46039f"
             ],
             [
              0.2222222222222222,
              "#7201a8"
             ],
             [
              0.3333333333333333,
              "#9c179e"
             ],
             [
              0.4444444444444444,
              "#bd3786"
             ],
             [
              0.5555555555555556,
              "#d8576b"
             ],
             [
              0.6666666666666666,
              "#ed7953"
             ],
             [
              0.7777777777777778,
              "#fb9f3a"
             ],
             [
              0.8888888888888888,
              "#fdca26"
             ],
             [
              1,
              "#f0f921"
             ]
            ],
            "type": "heatmap"
           }
          ],
          "histogram": [
           {
            "marker": {
             "pattern": {
              "fillmode": "overlay",
              "size": 10,
              "solidity": 0.2
             }
            },
            "type": "histogram"
           }
          ],
          "histogram2d": [
           {
            "colorbar": {
             "outlinewidth": 0,
             "ticks": ""
            },
            "colorscale": [
             [
              0,
              "#0d0887"
             ],
             [
              0.1111111111111111,
              "#46039f"
             ],
             [
              0.2222222222222222,
              "#7201a8"
             ],
             [
              0.3333333333333333,
              "#9c179e"
             ],
             [
              0.4444444444444444,
              "#bd3786"
             ],
             [
              0.5555555555555556,
              "#d8576b"
             ],
             [
              0.6666666666666666,
              "#ed7953"
             ],
             [
              0.7777777777777778,
              "#fb9f3a"
             ],
             [
              0.8888888888888888,
              "#fdca26"
             ],
             [
              1,
              "#f0f921"
             ]
            ],
            "type": "histogram2d"
           }
          ],
          "histogram2dcontour": [
           {
            "colorbar": {
             "outlinewidth": 0,
             "ticks": ""
            },
            "colorscale": [
             [
              0,
              "#0d0887"
             ],
             [
              0.1111111111111111,
              "#46039f"
             ],
             [
              0.2222222222222222,
              "#7201a8"
             ],
             [
              0.3333333333333333,
              "#9c179e"
             ],
             [
              0.4444444444444444,
              "#bd3786"
             ],
             [
              0.5555555555555556,
              "#d8576b"
             ],
             [
              0.6666666666666666,
              "#ed7953"
             ],
             [
              0.7777777777777778,
              "#fb9f3a"
             ],
             [
              0.8888888888888888,
              "#fdca26"
             ],
             [
              1,
              "#f0f921"
             ]
            ],
            "type": "histogram2dcontour"
           }
          ],
          "mesh3d": [
           {
            "colorbar": {
             "outlinewidth": 0,
             "ticks": ""
            },
            "type": "mesh3d"
           }
          ],
          "parcoords": [
           {
            "line": {
             "colorbar": {
              "outlinewidth": 0,
              "ticks": ""
             }
            },
            "type": "parcoords"
           }
          ],
          "pie": [
           {
            "automargin": true,
            "type": "pie"
           }
          ],
          "scatter": [
           {
            "fillpattern": {
             "fillmode": "overlay",
             "size": 10,
             "solidity": 0.2
            },
            "type": "scatter"
           }
          ],
          "scatter3d": [
           {
            "line": {
             "colorbar": {
              "outlinewidth": 0,
              "ticks": ""
             }
            },
            "marker": {
             "colorbar": {
              "outlinewidth": 0,
              "ticks": ""
             }
            },
            "type": "scatter3d"
           }
          ],
          "scattercarpet": [
           {
            "marker": {
             "colorbar": {
              "outlinewidth": 0,
              "ticks": ""
             }
            },
            "type": "scattercarpet"
           }
          ],
          "scattergeo": [
           {
            "marker": {
             "colorbar": {
              "outlinewidth": 0,
              "ticks": ""
             }
            },
            "type": "scattergeo"
           }
          ],
          "scattergl": [
           {
            "marker": {
             "colorbar": {
              "outlinewidth": 0,
              "ticks": ""
             }
            },
            "type": "scattergl"
           }
          ],
          "scattermap": [
           {
            "marker": {
             "colorbar": {
              "outlinewidth": 0,
              "ticks": ""
             }
            },
            "type": "scattermap"
           }
          ],
          "scattermapbox": [
           {
            "marker": {
             "colorbar": {
              "outlinewidth": 0,
              "ticks": ""
             }
            },
            "type": "scattermapbox"
           }
          ],
          "scatterpolar": [
           {
            "marker": {
             "colorbar": {
              "outlinewidth": 0,
              "ticks": ""
             }
            },
            "type": "scatterpolar"
           }
          ],
          "scatterpolargl": [
           {
            "marker": {
             "colorbar": {
              "outlinewidth": 0,
              "ticks": ""
             }
            },
            "type": "scatterpolargl"
           }
          ],
          "scatterternary": [
           {
            "marker": {
             "colorbar": {
              "outlinewidth": 0,
              "ticks": ""
             }
            },
            "type": "scatterternary"
           }
          ],
          "surface": [
           {
            "colorbar": {
             "outlinewidth": 0,
             "ticks": ""
            },
            "colorscale": [
             [
              0,
              "#0d0887"
             ],
             [
              0.1111111111111111,
              "#46039f"
             ],
             [
              0.2222222222222222,
              "#7201a8"
             ],
             [
              0.3333333333333333,
              "#9c179e"
             ],
             [
              0.4444444444444444,
              "#bd3786"
             ],
             [
              0.5555555555555556,
              "#d8576b"
             ],
             [
              0.6666666666666666,
              "#ed7953"
             ],
             [
              0.7777777777777778,
              "#fb9f3a"
             ],
             [
              0.8888888888888888,
              "#fdca26"
             ],
             [
              1,
              "#f0f921"
             ]
            ],
            "type": "surface"
           }
          ],
          "table": [
           {
            "cells": {
             "fill": {
              "color": "#EBF0F8"
             },
             "line": {
              "color": "white"
             }
            },
            "header": {
             "fill": {
              "color": "#C8D4E3"
             },
             "line": {
              "color": "white"
             }
            },
            "type": "table"
           }
          ]
         },
         "layout": {
          "annotationdefaults": {
           "arrowcolor": "#2a3f5f",
           "arrowhead": 0,
           "arrowwidth": 1
          },
          "autotypenumbers": "strict",
          "coloraxis": {
           "colorbar": {
            "outlinewidth": 0,
            "ticks": ""
           }
          },
          "colorscale": {
           "diverging": [
            [
             0,
             "#8e0152"
            ],
            [
             0.1,
             "#c51b7d"
            ],
            [
             0.2,
             "#de77ae"
            ],
            [
             0.3,
             "#f1b6da"
            ],
            [
             0.4,
             "#fde0ef"
            ],
            [
             0.5,
             "#f7f7f7"
            ],
            [
             0.6,
             "#e6f5d0"
            ],
            [
             0.7,
             "#b8e186"
            ],
            [
             0.8,
             "#7fbc41"
            ],
            [
             0.9,
             "#4d9221"
            ],
            [
             1,
             "#276419"
            ]
           ],
           "sequential": [
            [
             0,
             "#0d0887"
            ],
            [
             0.1111111111111111,
             "#46039f"
            ],
            [
             0.2222222222222222,
             "#7201a8"
            ],
            [
             0.3333333333333333,
             "#9c179e"
            ],
            [
             0.4444444444444444,
             "#bd3786"
            ],
            [
             0.5555555555555556,
             "#d8576b"
            ],
            [
             0.6666666666666666,
             "#ed7953"
            ],
            [
             0.7777777777777778,
             "#fb9f3a"
            ],
            [
             0.8888888888888888,
             "#fdca26"
            ],
            [
             1,
             "#f0f921"
            ]
           ],
           "sequentialminus": [
            [
             0,
             "#0d0887"
            ],
            [
             0.1111111111111111,
             "#46039f"
            ],
            [
             0.2222222222222222,
             "#7201a8"
            ],
            [
             0.3333333333333333,
             "#9c179e"
            ],
            [
             0.4444444444444444,
             "#bd3786"
            ],
            [
             0.5555555555555556,
             "#d8576b"
            ],
            [
             0.6666666666666666,
             "#ed7953"
            ],
            [
             0.7777777777777778,
             "#fb9f3a"
            ],
            [
             0.8888888888888888,
             "#fdca26"
            ],
            [
             1,
             "#f0f921"
            ]
           ]
          },
          "colorway": [
           "#636efa",
           "#EF553B",
           "#00cc96",
           "#ab63fa",
           "#FFA15A",
           "#19d3f3",
           "#FF6692",
           "#B6E880",
           "#FF97FF",
           "#FECB52"
          ],
          "font": {
           "color": "#2a3f5f"
          },
          "geo": {
           "bgcolor": "white",
           "lakecolor": "white",
           "landcolor": "#E5ECF6",
           "showlakes": true,
           "showland": true,
           "subunitcolor": "white"
          },
          "hoverlabel": {
           "align": "left"
          },
          "hovermode": "closest",
          "mapbox": {
           "style": "light"
          },
          "paper_bgcolor": "white",
          "plot_bgcolor": "#E5ECF6",
          "polar": {
           "angularaxis": {
            "gridcolor": "white",
            "linecolor": "white",
            "ticks": ""
           },
           "bgcolor": "#E5ECF6",
           "radialaxis": {
            "gridcolor": "white",
            "linecolor": "white",
            "ticks": ""
           }
          },
          "scene": {
           "xaxis": {
            "backgroundcolor": "#E5ECF6",
            "gridcolor": "white",
            "gridwidth": 2,
            "linecolor": "white",
            "showbackground": true,
            "ticks": "",
            "zerolinecolor": "white"
           },
           "yaxis": {
            "backgroundcolor": "#E5ECF6",
            "gridcolor": "white",
            "gridwidth": 2,
            "linecolor": "white",
            "showbackground": true,
            "ticks": "",
            "zerolinecolor": "white"
           },
           "zaxis": {
            "backgroundcolor": "#E5ECF6",
            "gridcolor": "white",
            "gridwidth": 2,
            "linecolor": "white",
            "showbackground": true,
            "ticks": "",
            "zerolinecolor": "white"
           }
          },
          "shapedefaults": {
           "line": {
            "color": "#2a3f5f"
           }
          },
          "ternary": {
           "aaxis": {
            "gridcolor": "white",
            "linecolor": "white",
            "ticks": ""
           },
           "baxis": {
            "gridcolor": "white",
            "linecolor": "white",
            "ticks": ""
           },
           "bgcolor": "#E5ECF6",
           "caxis": {
            "gridcolor": "white",
            "linecolor": "white",
            "ticks": ""
           }
          },
          "title": {
           "x": 0.05
          },
          "xaxis": {
           "automargin": true,
           "gridcolor": "white",
           "linecolor": "white",
           "ticks": "",
           "title": {
            "standoff": 15
           },
           "zerolinecolor": "white",
           "zerolinewidth": 2
          },
          "yaxis": {
           "automargin": true,
           "gridcolor": "white",
           "linecolor": "white",
           "ticks": "",
           "title": {
            "standoff": 15
           },
           "zerolinecolor": "white",
           "zerolinewidth": 2
          }
         }
        },
        "title": {
         "text": "Word2Vec Analogy: Gender Relationships in 2D Space"
        },
        "xaxis": {
         "autorange": true,
         "range": [
          -0.5917088997275392,
          0.6505572211653748
         ],
         "title": {
          "text": "First Principal Component"
         },
         "type": "linear"
        },
        "yaxis": {
         "autorange": true,
         "range": [
          -0.4490957334021891,
          0.5062218978385294
         ],
         "title": {
          "text": "Second Principal Component"
         },
         "type": "linear"
        }
       }
      },
      "image/png": "[encoded data removed]"
     },
     "metadata": {},
     "output_type": "display_data"
    },
    {
     "name": "stdout",
     "output_type": "stream",
     "text": [
      "🎨 Notice how the arrows (green) show parallel relationships!\n",
      "   The vector from 'king' to 'queen' is similar to 'man' to 'woman'\n"
     ]
    }
   ],
   "source": [
    "# Words for our analogy visualization\n",
    "analogy_words = [\"man\", \"woman\", \"king\", \"queen\", \"boy\", \"girl\", \"prince\", \"princess\"]\n",
    "\n",
    "# Get their vectors\n",
    "analogy_vectors = model.embeddings(analogy_words)\n",
    "\n",
    "# Reduce to 2D using PCA for visualization\n",
    "pca = PCA(n_components=2, random_state=42)\n",
    "vectors_2d = pca.fit_transform(analogy_vectors)\n",
    "\n",
    "# Create an interactive plot\n",
    "fig = go.Figure()\n",
    "\n",
    "# Add points for each word\n",
    "colors = ['red' if word in ['man', 'boy', 'king', 'prince'] else 'blue' \n",
    "          for word in analogy_words]\n",
    "\n",
    "fig.add_trace(go.Scatter(\n",
    "    x=vectors_2d[:, 0],\n",
    "    y=vectors_2d[:, 1],\n",
    "    mode='markers+text',\n",
    "    marker=dict(size=12, color=colors),\n",
    "    text=analogy_words,\n",
    "    textposition=\"top center\",\n",
    "    textfont=dict(size=14),\n",
    "    name='Words'\n",
    "))\n",
    "\n",
    "# Draw arrows to show relationships\n",
    "# king -> queen vector\n",
    "king_idx = analogy_words.index('king')\n",
    "queen_idx = analogy_words.index('queen')\n",
    "fig.add_annotation(\n",
    "    x=vectors_2d[queen_idx, 0], y=vectors_2d[queen_idx, 1],\n",
    "    ax=vectors_2d[king_idx, 0], ay=vectors_2d[king_idx, 1],\n",
    "    xref=\"x\", yref=\"y\", axref=\"x\", ayref=\"y\",\n",
    "    arrowhead=2, arrowsize=1, arrowwidth=3, arrowcolor=\"green\"\n",
    ")\n",
    "\n",
    "# man -> woman vector  \n",
    "man_idx = analogy_words.index('man')\n",
    "woman_idx = analogy_words.index('woman')\n",
    "fig.add_annotation(\n",
    "    x=vectors_2d[woman_idx, 0], y=vectors_2d[woman_idx, 1],\n",
    "    ax=vectors_2d[man_idx, 0], ay=vectors_2d[man_idx, 1],\n",
    "    xref=\"x\", yref=\"y\", axref=\"x\", ayref=\"y\",\n",
    "    arrowhead=2, arrowsize=1, arrowwidth=3, arrowcolor=\"green\"\n",
    ")\n",
    "\n",
    "fig.update_layout(\n",
    "    title=\"Word2Vec Analogy: Gender Relationships in 2D Space\",\n",
    "    xaxis_title=\"First Principal Component\",\n",
    "    yaxis_title=\"Second Principal Component\",\n",
    "    height=600,\n",
    "    showlegend=False\n",
    ")\n",
    "\n",
    "fig.show()\n",
    "\n",
    "print(\"🎨 Notice how the arrows (green) show parallel relationships!\")\n",
    "print(\"   The vector from 'king' to 'queen' is similar to 'man' to 'woman'\")"
   ]
  },
  {
   "cell_type": "markdown",
   "metadata": {},
   "source": [
    "## Part 4: Entity Resolution with Franz Schubert\n",
    "\n",
    "Now let's apply word embeddings to a real library challenge: distinguishing between different people with the same name. This is exactly the kind of problem Yale's Metadata Services Unit tackles daily."
   ]
  },
  {
   "cell_type": "code",
   "execution_count": 7,
   "metadata": {
    "execution": {
     "iopub.execute_input": "2025-06-30T22:01:52.574176Z",
     "iopub.status.busy": "2025-06-30T22:01:52.573474Z",
     "iopub.status.idle": "2025-06-30T22:01:52.580617Z",
     "shell.execute_reply": "2025-06-30T22:01:52.579507Z",
     "shell.execute_reply.started": "2025-06-30T22:01:52.574149Z"
    }
   },
   "outputs": [
    {
     "name": "stdout",
     "output_type": "stream",
     "text": [
      "📚 Franz Schubert Entity Resolution Challenge\n",
      "==================================================\n",
      "\n",
      "COMPOSER:\n",
      "  Name: Schubert, Franz, 1797-1828\n",
      "  Work: Symphony No. 9 in C Major 'The Great'\n",
      "  Context: Symphonies; Classical music; Austrian composers; Romantic period\n",
      "\n",
      "ARTIST:\n",
      "  Name: Schubert, Franz August, 1806-1893\n",
      "  Work: Archäologie und Photographie: fünfzig Beispiele zur Geschichte und Methode\n",
      "  Context: Photography in archaeology; Archaeological illustration; German artists\n"
     ]
    }
   ],
   "source": [
    "# Create sample library records for our two Franz Schuberts\n",
    "schubert_records = {\n",
    "    \"composer\": {\n",
    "        \"identity\": \"Schubert, Franz, 1797-1828\",\n",
    "        \"title\": \"Symphony No. 9 in C Major 'The Great'\",\n",
    "        \"subjects\": \"Symphonies; Classical music; Austrian composers; Romantic period\",\n",
    "        \"provision\": \"Vienna: Universal Edition, 1828\",\n",
    "        \"description\": \"Austrian composer symphony orchestra classical music romantic\"\n",
    "    },\n",
    "    \"artist\": {\n",
    "        \"identity\": \"Schubert, Franz August, 1806-1893\", \n",
    "        \"title\": \"Archäologie und Photographie: fünfzig Beispiele zur Geschichte und Methode\",\n",
    "        \"subjects\": \"Photography in archaeology; Archaeological illustration; German artists\",\n",
    "        \"provision\": \"Mainz: P. von Zabern, 1978\",\n",
    "        \"description\": \"German artist archaeology photography illustration visual arts\"\n",
    "    }\n",
    "}\n",
    "\n",
    "print(\"📚 Franz Schubert Entity Resolution Challenge\")\n",
    "print(\"=\" * 50)\n",
    "for key, record in schubert_records.items():\n",
    "    print(f\"\\n{key.upper()}:\")\n",
    "    print(f\"  Name: {record['identity']}\")\n",
    "    print(f\"  Work: {record['title']}\")\n",
    "    print(f\"  Context: {record['subjects']}\")"
   ]
  },
  {
   "cell_type": "markdown",
   "metadata": {},
   "source": [
    "### Computing Semantic Similarity for Entity Resolution\n",
    "\n",
    "We'll use word embeddings to understand the contextual differences between these two individuals, even though they share the same last name."
   ]
  },
  {
   "cell_type": "code",
   "execution_count": 8,
   "metadata": {
    "execution": {
     "iopub.execute_input": "2025-06-30T22:02:07.705086Z",
     "iopub.status.busy": "2025-06-30T22:02:07.704535Z",
     "iopub.status.idle": "2025-06-30T22:02:07.716586Z",
     "shell.execute_reply": "2025-06-30T22:02:07.716054Z",
     "shell.execute_reply.started": "2025-06-30T22:02:07.705053Z"
    }
   },
   "outputs": [
    {
     "name": "stdout",
     "output_type": "stream",
     "text": [
      "🎭 Contextual Similarity Analysis:\n",
      "   Composer context: 'Austrian composer symphony orchestra classical music romantic'\n",
      "   Artist context: 'German artist archaeology photography illustration visual arts'\n",
      "\n",
      "📊 Cosine similarity: 0.532\n",
      "\n",
      "💡 Interpretation:\n",
      "   ⚠️  Somewhat different contexts - probably different people\n",
      "\n",
      "🎯 The low similarity (0.532) confirms these are different individuals!\n"
     ]
    }
   ],
   "source": [
    "def compute_text_embedding(text, model):\n",
    "    \"\"\"\n",
    "    Compute average word embedding for a text.\n",
    "    This is a simple but effective approach for getting document-level representations.\n",
    "    \"\"\"\n",
    "    words = text.lower().split()\n",
    "    vectors = []\n",
    "    \n",
    "    for word in words:\n",
    "        try:\n",
    "            # Clean word (remove punctuation)\n",
    "            clean_word = word.strip('.,;:!?\"()[]{}').lower()\n",
    "            if clean_word:  # Only process non-empty words\n",
    "                vector = model.embeddings([clean_word])[0]\n",
    "                vectors.append(vector)\n",
    "        except:\n",
    "            # Skip words not in vocabulary\n",
    "            continue\n",
    "    \n",
    "    if vectors:\n",
    "        return np.mean(vectors, axis=0)\n",
    "    else:\n",
    "        return np.zeros(model.dimensions)\n",
    "\n",
    "# Compute embeddings for each Schubert's contextual information\n",
    "composer_embedding = compute_text_embedding(schubert_records[\"composer\"][\"description\"], model)\n",
    "artist_embedding = compute_text_embedding(schubert_records[\"artist\"][\"description\"], model)\n",
    "\n",
    "# Calculate similarity between the two contexts\n",
    "similarity = cosine_similarity([composer_embedding], [artist_embedding])[0][0]\n",
    "\n",
    "print(f\"🎭 Contextual Similarity Analysis:\")\n",
    "print(f\"   Composer context: '{schubert_records['composer']['description']}'\")\n",
    "print(f\"   Artist context: '{schubert_records['artist']['description']}'\")\n",
    "print(f\"\\n📊 Cosine similarity: {similarity:.3f}\")\n",
    "print(f\"\\n💡 Interpretation:\")\n",
    "if similarity < 0.3:\n",
    "    print(\"   ✅ Very different contexts - likely different people\")\n",
    "elif similarity < 0.6:\n",
    "    print(\"   ⚠️  Somewhat different contexts - probably different people\") \n",
    "else:\n",
    "    print(\"   ❌ Similar contexts - might be the same person\")\n",
    "\n",
    "print(f\"\\n🎯 The low similarity ({similarity:.3f}) confirms these are different individuals!\")"
   ]
  },
  {
   "cell_type": "markdown",
   "metadata": {},
   "source": [
    "### Domain-Specific Similarity Analysis\n",
    "\n",
    "Let's dive deeper by comparing how each Schubert relates to different professional domains."
   ]
  },
  {
   "cell_type": "code",
   "execution_count": 9,
   "metadata": {
    "execution": {
     "iopub.execute_input": "2025-06-30T22:03:10.295848Z",
     "iopub.status.busy": "2025-06-30T22:03:10.295075Z",
     "iopub.status.idle": "2025-06-30T22:03:10.442924Z",
     "shell.execute_reply": "2025-06-30T22:03:10.442199Z",
     "shell.execute_reply.started": "2025-06-30T22:03:10.295809Z"
    }
   },
   "outputs": [
    {
     "data": {
      "image/png": "[encoded data removed]",
      "text/plain": [
       "<Figure size 1000x600 with 2 Axes>"
      ]
     },
     "metadata": {},
     "output_type": "display_data"
    },
    {
     "name": "stdout",
     "output_type": "stream",
     "text": [
      "🔍 Analysis Results:\n",
      "   • Composer Franz shows highest similarity to: Music\n",
      "   • Artist Franz shows highest similarity to: Visual Arts\n",
      "\n",
      "✨ Word embeddings successfully distinguish between these two individuals based on context!\n"
     ]
    }
   ],
   "source": [
    "# Define domain vocabularies\n",
    "domains = {\n",
    "    \"Music\": [\"music\", \"symphony\", \"composer\", \"orchestra\", \"classical\", \"romantic\", \"piano\", \"song\"],\n",
    "    \"Visual Arts\": [\"art\", \"artist\", \"painting\", \"illustration\", \"visual\", \"drawing\", \"image\", \"picture\"],\n",
    "    \"Academia\": [\"research\", \"study\", \"method\", \"analysis\", \"academic\", \"scholarly\", \"education\", \"university\"],\n",
    "    \"Archaeology\": [\"archaeology\", \"excavation\", \"ancient\", \"artifact\", \"historical\", \"dig\", \"preservation\", \"culture\"]\n",
    "}\n",
    "\n",
    "# Calculate each Schubert's similarity to different domains\n",
    "results = {}\n",
    "for person in [\"composer\", \"artist\"]:\n",
    "    person_emb = compute_text_embedding(schubert_records[person][\"description\"], model)\n",
    "    results[person] = {}\n",
    "    \n",
    "    for domain_name, domain_words in domains.items():\n",
    "        domain_emb = compute_text_embedding(\" \".join(domain_words), model)\n",
    "        similarity = cosine_similarity([person_emb], [domain_emb])[0][0]\n",
    "        results[person][domain_name] = similarity\n",
    "\n",
    "# Create comparison visualization\n",
    "df = pd.DataFrame(results).T\n",
    "df.index = [\"Franz Schubert (Composer)\", \"Franz August Schubert (Artist)\"]\n",
    "\n",
    "# Create heatmap\n",
    "plt.figure(figsize=(10, 6))\n",
    "sns.heatmap(df, annot=True, cmap='YlOrRd', center=0.5, \n",
    "            cbar_kws={'label': 'Cosine Similarity'},\n",
    "            fmt='.3f')\n",
    "plt.title('Domain Similarity Analysis: Two Franz Schuberts', fontsize=14, pad=20)\n",
    "plt.xlabel('Professional Domains', fontsize=12)\n",
    "plt.ylabel('Person', fontsize=12)\n",
    "plt.tight_layout()\n",
    "plt.show()\n",
    "\n",
    "print(\"🔍 Analysis Results:\")\n",
    "print(f\"   • Composer Franz shows highest similarity to: {df.loc['Franz Schubert (Composer)'].idxmax()}\")\n",
    "print(f\"   • Artist Franz shows highest similarity to: {df.loc['Franz August Schubert (Artist)'].idxmax()}\")\n",
    "print(\"\\n✨ Word embeddings successfully distinguish between these two individuals based on context!\")"
   ]
  },
  {
   "cell_type": "markdown",
   "metadata": {},
   "source": [
    "## Part 5: Multilingual Examples (Spanish & Portuguese)\n",
    "\n",
    "Word2Vec models can work across languages when they include multilingual training data. Let's explore how semantic relationships hold across Spanish and Portuguese terms commonly found in library collections."
   ]
  },
  {
   "cell_type": "code",
   "execution_count": 10,
   "metadata": {
    "execution": {
     "iopub.execute_input": "2025-06-30T22:05:17.727623Z",
     "iopub.status.busy": "2025-06-30T22:05:17.726988Z",
     "iopub.status.idle": "2025-06-30T22:05:17.741467Z",
     "shell.execute_reply": "2025-06-30T22:05:17.740904Z",
     "shell.execute_reply.started": "2025-06-30T22:05:17.727588Z"
    }
   },
   "outputs": [
    {
     "name": "stdout",
     "output_type": "stream",
     "text": [
      "🌍 Cross-Lingual Semantic Similarity in Library Terms\n",
      "=======================================================\n",
      "\n",
      "SPANISH TERMS:\n",
      "  biblioteca   ↔ library      | Similarity: 0.255\n",
      "  manuscrito   ↔ manuscript   | Similarity: 0.128\n",
      "  colección    ↔ collection   | Similarity: 0.115\n",
      "  archivo      ↔ archive      | Similarity: 0.113\n",
      "  catálogo     ↔ catalog      | Similarity: 0.223\n",
      "\n",
      "PORTUGUESE TERMS:\n",
      "  biblioteca   ↔ library      | Similarity: 0.255\n",
      "  manuscrito   ↔ manuscript   | Similarity: 0.128\n",
      "  coleção      ↔ collection   | Similarity: 0.088\n",
      "  arquivo      ↔ archive      | Similarity: 0.022\n",
      "  catálogo     ↔ catalog      | Similarity: 0.223\n",
      "\n",
      "💡 High similarity scores indicate the model recognizes cross-lingual semantic relationships!\n"
     ]
    }
   ],
   "source": [
    "# Multilingual library terms (Spanish and Portuguese)\n",
    "multilingual_terms = {\n",
    "    \"Spanish\": {\n",
    "        \"biblioteca\": \"library\",\n",
    "        \"manuscrito\": \"manuscript\", \n",
    "        \"colección\": \"collection\",\n",
    "        \"archivo\": \"archive\",\n",
    "        \"catálogo\": \"catalog\"\n",
    "    },\n",
    "    \"Portuguese\": {\n",
    "        \"biblioteca\": \"library\",\n",
    "        \"manuscrito\": \"manuscript\",\n",
    "        \"coleção\": \"collection\", \n",
    "        \"arquivo\": \"archive\",\n",
    "        \"catálogo\": \"catalog\"\n",
    "    }\n",
    "}\n",
    "\n",
    "# Test cross-lingual similarities\n",
    "print(\"🌍 Cross-Lingual Semantic Similarity in Library Terms\")\n",
    "print(\"=\" * 55)\n",
    "\n",
    "for lang, terms in multilingual_terms.items():\n",
    "    print(f\"\\n{lang.upper()} TERMS:\")\n",
    "    for foreign_word, english_word in terms.items():\n",
    "        try:\n",
    "            # Get embeddings for both terms\n",
    "            foreign_vec = model.embeddings([foreign_word])[0]\n",
    "            english_vec = model.embeddings([english_word])[0]\n",
    "            \n",
    "            # Calculate similarity\n",
    "            similarity = cosine_similarity([foreign_vec], [english_vec])[0][0]\n",
    "            \n",
    "            print(f\"  {foreign_word:<12} ↔ {english_word:<12} | Similarity: {similarity:.3f}\")\n",
    "            \n",
    "        except Exception as e:\n",
    "            print(f\"  {foreign_word:<12} ↔ {english_word:<12} | Not found in vocabulary\")\n",
    "\n",
    "print(\"\\n💡 High similarity scores indicate the model recognizes cross-lingual semantic relationships!\")"
   ]
  },
  {
   "cell_type": "markdown",
   "metadata": {},
   "source": [
    "### Cultural Heritage Example: Documenting Iberian Collections\n",
    "\n",
    "Let's create a practical example using Spanish and Portuguese cultural heritage terms that might appear in Yale's collections."
   ]
  },
  {
   "cell_type": "code",
   "execution_count": 11,
   "metadata": {
    "execution": {
     "iopub.execute_input": "2025-06-30T22:05:31.964064Z",
     "iopub.status.busy": "2025-06-30T22:05:31.963454Z",
     "iopub.status.idle": "2025-06-30T22:05:31.976090Z",
     "shell.execute_reply": "2025-06-30T22:05:31.975602Z",
     "shell.execute_reply.started": "2025-06-30T22:05:31.964027Z"
    }
   },
   "outputs": [
    {
     "name": "stdout",
     "output_type": "stream",
     "text": [
      "📜 Multilingual Collection Analysis\n",
      "===================================\n",
      "Spanish collection: 'Historia de la conquista de México'\n",
      "Subject terms: historia colonial española américa conquista azteca\n",
      "\n",
      "Portuguese collection: 'Crônicas do descobrimento do Brasil'\n",
      "Subject terms: história colonial portuguesa brasil descobrimento navegação\n",
      "\n",
      "🔗 Cross-linguistic similarity: 0.773\n",
      "\n",
      "✅ High similarity suggests related colonial history themes across languages\n",
      "\n",
      "🎯 This helps librarians identify thematically related collections across language barriers!\n"
     ]
    }
   ],
   "source": [
    "# Sample multilingual collection records\n",
    "iberian_collections = {\n",
    "    \"Spanish\": {\n",
    "        \"title\": \"Historia de la conquista de México\",\n",
    "        \"subjects\": \"historia colonial española américa conquista azteca\",\n",
    "        \"language\": \"Spanish\"\n",
    "    },\n",
    "    \"Portuguese\": {\n",
    "        \"title\": \"Crônicas do descobrimento do Brasil\", \n",
    "        \"subjects\": \"história colonial portuguesa brasil descobrimento navegação\",\n",
    "        \"language\": \"Portuguese\"\n",
    "    }\n",
    "}\n",
    "\n",
    "# Compute embeddings for the collections\n",
    "collection_embeddings = {}\n",
    "for lang, record in iberian_collections.items():\n",
    "    combined_text = f\"{record['title']} {record['subjects']}\"\n",
    "    embedding = compute_text_embedding(combined_text, model)\n",
    "    collection_embeddings[lang] = embedding\n",
    "\n",
    "# Calculate similarity between Spanish and Portuguese collections\n",
    "cross_similarity = cosine_similarity(\n",
    "    [collection_embeddings[\"Spanish\"]], \n",
    "    [collection_embeddings[\"Portuguese\"]]\n",
    ")[0][0]\n",
    "\n",
    "print(\"📜 Multilingual Collection Analysis\")\n",
    "print(\"=\" * 35)\n",
    "print(f\"Spanish collection: '{iberian_collections['Spanish']['title']}'\")\n",
    "print(f\"Subject terms: {iberian_collections['Spanish']['subjects']}\")\n",
    "print()\n",
    "print(f\"Portuguese collection: '{iberian_collections['Portuguese']['title']}'\")\n",
    "print(f\"Subject terms: {iberian_collections['Portuguese']['subjects']}\")\n",
    "print(f\"\\n🔗 Cross-linguistic similarity: {cross_similarity:.3f}\")\n",
    "\n",
    "if cross_similarity > 0.6:\n",
    "    print(\"\\n✅ High similarity suggests related colonial history themes across languages\")\n",
    "else:\n",
    "    print(\"\\n📊 Lower similarity indicates distinct thematic content despite similar domains\")\n",
    "\n",
    "print(\"\\n🎯 This helps librarians identify thematically related collections across language barriers!\")"
   ]
  },
  {
   "cell_type": "markdown",
   "metadata": {},
   "source": [
    "## Part 6: Understanding Tokenization - From Words to Subwords\n",
    "\n",
    "Before word embeddings can work, text must be **tokenized** - broken down into meaningful units that computers can process. This fundamental step determines how language is segmented and analyzed. We'll explore how tokenization has evolved from simple word splitting to sophisticated subword approaches used by modern AI systems."
   ]
  },
  {
   "cell_type": "markdown",
   "metadata": {},
   "source": [
    "### What is Tokenization?\n",
    "\n",
    "Tokenization is the process of converting raw text into discrete units called tokens. Think of it as teaching a computer how to \"read\" by showing it how to break text into meaningful pieces. While this seems straightforward, the approach you choose dramatically affects what your model can learn and understand.\n",
    "\n",
    "Let's start with the basics and work our way up to modern approaches."
   ]
  },
  {
   "cell_type": "markdown",
   "metadata": {
    "execution": {
     "iopub.execute_input": "2025-06-30T22:14:58.511798Z",
     "iopub.status.busy": "2025-06-30T22:14:58.510945Z",
     "iopub.status.idle": "2025-06-30T22:14:58.523462Z",
     "shell.execute_reply": "2025-06-30T22:14:58.521327Z",
     "shell.execute_reply.started": "2025-06-30T22:14:58.511754Z"
    }
   },
   "source": [
    "### Understanding BPE: The Algorithm That Revolutionized Tokenization\n",
    "\n",
    "Before we explore it in practice, let's understand what BPE actually is and why it was invented.\n",
    "\n",
    "**BPE stands for Byte-Pair Encoding** - originally a data compression technique from the 1990s that was cleverly adapted for natural language processing. The core insight is simple but powerful: instead of treating words as indivisible units, we can learn to break them into smaller, meaningful pieces.\n",
    "\n",
    "#### The Problem BPE Solves\n",
    "\n",
    "Imagine you're building a vocabulary for a language model. With word-level tokenization, you face an impossible choice:\n",
    "\n",
    "- **Small vocabulary**: Fast and efficient, but many words get marked as \"unknown\"\n",
    "- **Large vocabulary**: Better coverage, but enormous memory requirements and sparse training\n",
    "\n",
    "BPE offers a third path: **learn the most useful pieces of words** and build any word from these pieces.\n",
    "\n",
    "#### How BPE Works: A Step-by-Step Example\n",
    "\n",
    "Let's walk through how BPE would learn to tokenize the word \"tokenization\" by starting with individual characters and gradually learning useful combinations."
   ]
  },
  {
   "cell_type": "code",
   "execution_count": 21,
   "metadata": {
    "execution": {
     "iopub.execute_input": "2025-06-30T22:16:41.707566Z",
     "iopub.status.busy": "2025-06-30T22:16:41.707282Z",
     "iopub.status.idle": "2025-06-30T22:16:41.719180Z",
     "shell.execute_reply": "2025-06-30T22:16:41.718613Z",
     "shell.execute_reply.started": "2025-06-30T22:16:41.707546Z"
    }
   },
   "outputs": [
    {
     "data": {
      "text/plain": [
       "<function __main__.demonstrate_bpe_algorithm()>"
      ]
     },
     "execution_count": 21,
     "metadata": {},
     "output_type": "execute_result"
    }
   ],
   "source": [
    "def demonstrate_bpe_algorithm():\n",
    "    \"\"\"\n",
    "    Show how BPE learns to merge character pairs step by step.\n",
    "    This is a simplified version of the actual algorithm.\n",
    "    \"\"\"\n",
    "    \n",
    "    # Start with our example words split into characters\n",
    "    # In real BPE, this would be done on a massive corpus\n",
    "    example_words = [\n",
    "        \"tokenization\",\n",
    "        \"tokenize\", \n",
    "        \"tokens\",\n",
    "        \"token\"\n",
    "    ]\n",
    "    \n",
    "    print(\"🔤 BPE Learning Process: From Characters to Subwords\")\n",
    "    print(\"=\" * 52)\n",
    "    print(\"Starting words:\", example_words)\n",
    "    \n",
    "    # Step 1: Split everything into characters\n",
    "    print(\"\\n📝 Step 1: Split into individual characters\")\n",
    "    char_split = []\n",
    "    for word in example_words:\n",
    "        chars = \" \".join(list(word)) + \" </w>\"  # </w> marks word end\n",
    "        char_split.append(chars)\n",
    "        print(f\"   '{word}' → {chars}\")\n",
    "    \n",
    "    # Step 2: Count all character pairs\n",
    "    print(\"\\n📊 Step 2: Count adjacent character pairs\")\n",
    "    print(\"   Most frequent pairs across all words:\")\n",
    "    \n",
    "    # FIXED: Create a proper dictionary with tuple keys\n",
    "    common_pairs = {\n",
    "        (\"t\", \"o\"): 4,  # appears in all words\n",
    "        (\"o\", \"k\"): 4,  # appears in all words  \n",
    "        (\"k\", \"e\"): 4,  # appears in all words\n",
    "        (\"e\", \"n\"): 4,  # appears in all words\n",
    "        (\"n\", \"s\"): 1,  # only in \"tokens\"\n",
    "        (\"i\", \"z\"): 2,  # in \"tokenize\" and \"tokenization\"\n",
    "    }\n",
    "    \n",
    "    # Now we can properly iterate through the dictionary\n",
    "    for (char1, char2), count in common_pairs.items():\n",
    "        print(f\"   '{char1} {char2}' appears {count} times\")\n",
    "    \n",
    "    # Step 3: Merge the most frequent pair\n",
    "    print(\"\\n🔗 Step 3: Merge most frequent pair 't o' → 'to'\")\n",
    "    merged_step1 = []\n",
    "    for chars in char_split:\n",
    "        merged = chars.replace(\"t o\", \"to\")\n",
    "        merged_step1.append(merged)\n",
    "        print(f\"   {chars}\")\n",
    "        print(f\"   → {merged}\")\n",
    "    \n",
    "    print(\"\\n🔗 Step 4: Continue merging frequent pairs...\")\n",
    "    print(\"   'to k' → 'tok'\")\n",
    "    print(\"   'tok e' → 'toke'\") \n",
    "    print(\"   'toke n' → 'token'\")\n",
    "    \n",
    "    print(\"\\n✨ Final Result: BPE has learned that 'token' is a useful subword!\")\n",
    "    print(\"   Now it can handle new words like:\")\n",
    "    print(\"   'tokenizer' → ['token', 'izer']\")\n",
    "    print(\"   'retokenize' → ['re', 'token', 'ize']\")\n",
    "    \n",
    "    return example_words\n",
    "\n",
    "# Run the demonstration\n",
    "demonstrate_bpe_algorithm"
   ]
  },
  {
   "cell_type": "code",
   "execution_count": 22,
   "metadata": {
    "execution": {
     "iopub.execute_input": "2025-06-30T22:17:14.885400Z",
     "iopub.status.busy": "2025-06-30T22:17:14.884911Z",
     "iopub.status.idle": "2025-06-30T22:17:14.896500Z",
     "shell.execute_reply": "2025-06-30T22:17:14.895822Z",
     "shell.execute_reply.started": "2025-06-30T22:17:14.885362Z"
    }
   },
   "outputs": [
    {
     "name": "stdout",
     "output_type": "stream",
     "text": [
      "📝 Text to tokenize: 'paleographic analysis reveals medieval scribal practices'\n",
      "\n",
      "🔍 How each approach handles this:\n",
      "\n",
      "1️⃣  Word-level tokenization:\n",
      "   Result: ['paleographic', 'analysis', 'reveals', 'medieval', 'scribal', 'practices']\n",
      "   Tokens: 6\n",
      "   Problem: What if 'paleographic' isn't in vocabulary? → UNKNOWN\n",
      "\n",
      "2️⃣  Character-level tokenization:\n",
      "   Result: ['p', 'a', 'l', 'e', 'o', 'g', 'r', 'a', 'p', 'h', 'i', 'c', '_', 'a', 'n', 'a', 'l', 'y', 's', 'i', 's', '_', 'r', 'e', 'v', 'e', 'a', 'l', 's', '_', 'm', 'e', 'd', 'i', 'e', 'v', 'a', 'l', '_', 's', 'c', 'r', 'i', 'b', 'a', 'l', '_', 'p', 'r', 'a', 'c', 't', 'i', 'c', 'e', 's']\n",
      "   Tokens: 56\n",
      "   Problem: Too many tokens, loses meaningful word structure\n",
      "\n",
      "3️⃣  BPE tokenization:\n",
      "   Result: ['p', 'ale', 'ographic', ' analysis', ' reveals', ' medieval', ' scri', 'bal', ' practices']\n",
      "   Tokens: 9\n",
      "   Advantage: Meaningful pieces, no unknown words, reasonable length\n",
      "\n",
      "🌟 Why BPE Wins:\n",
      "   • Handles any word through subword decomposition\n",
      "   • Maintains semantic meaning in pieces\n",
      "   • Reasonable vocabulary size (typically 30K-50K subwords)\n",
      "   • Language-agnostic - works for any writing system\n",
      "   • Learned from data - adapts to domain-specific patterns\n"
     ]
    }
   ],
   "source": [
    "# Show why BPE is so powerful with a concrete comparison\n",
    "def compare_tokenization_approaches(text):\n",
    "    \"\"\"Compare how different approaches handle the same challenging text.\"\"\"\n",
    "    \n",
    "    print(f\"📝 Text to tokenize: '{text}'\")\n",
    "    print(\"\\n🔍 How each approach handles this:\")\n",
    "    \n",
    "    # Approach 1: Word-level (Word2Vec style)\n",
    "    word_tokens = word_level_tokenize(text)\n",
    "    print(f\"\\n1️⃣  Word-level tokenization:\")\n",
    "    print(f\"   Result: {word_tokens}\")\n",
    "    print(f\"   Tokens: {len(word_tokens)}\")\n",
    "    print(f\"   Problem: What if 'paleographic' isn't in vocabulary? → UNKNOWN\")\n",
    "    \n",
    "    # Approach 2: Character-level  \n",
    "    char_tokens = list(text.replace(\" \", \"_\"))\n",
    "    print(f\"\\n2️⃣  Character-level tokenization:\")\n",
    "    print(f\"   Result: {char_tokens}\")\n",
    "    print(f\"   Tokens: {len(char_tokens)}\")\n",
    "    print(f\"   Problem: Too many tokens, loses meaningful word structure\")\n",
    "    \n",
    "    # Approach 3: BPE (modern approach)\n",
    "    bpe_tokens = encoding.encode(text)\n",
    "    bpe_strings = [encoding.decode_single_token_bytes(token).decode('utf-8', errors='replace') \n",
    "                   for token in bpe_tokens]\n",
    "    print(f\"\\n3️⃣  BPE tokenization:\")\n",
    "    print(f\"   Result: {bpe_strings}\")\n",
    "    print(f\"   Tokens: {len(bpe_tokens)}\")\n",
    "    print(f\"   Advantage: Meaningful pieces, no unknown words, reasonable length\")\n",
    "    \n",
    "    return word_tokens, char_tokens, bpe_strings\n",
    "\n",
    "# Test with a challenging library science term\n",
    "test_text = \"paleographic analysis reveals medieval scribal practices\"\n",
    "word_result, char_result, bpe_result = compare_tokenization_approaches(test_text)\n",
    "\n",
    "print(\"\\n🌟 Why BPE Wins:\")\n",
    "print(\"   • Handles any word through subword decomposition\")\n",
    "print(\"   • Maintains semantic meaning in pieces\") \n",
    "print(\"   • Reasonable vocabulary size (typically 30K-50K subwords)\")\n",
    "print(\"   • Language-agnostic - works for any writing system\")\n",
    "print(\"   • Learned from data - adapts to domain-specific patterns\")"
   ]
  },
  {
   "cell_type": "code",
   "execution_count": 23,
   "metadata": {
    "execution": {
     "iopub.execute_input": "2025-06-30T22:17:29.937380Z",
     "iopub.status.busy": "2025-06-30T22:17:29.936746Z",
     "iopub.status.idle": "2025-06-30T22:17:29.947117Z",
     "shell.execute_reply": "2025-06-30T22:17:29.946385Z",
     "shell.execute_reply.started": "2025-06-30T22:17:29.937344Z"
    }
   },
   "outputs": [
    {
     "name": "stdout",
     "output_type": "stream",
     "text": [
      "📊 Tokenization Approach Comparison\n",
      "======================================\n",
      "\n",
      "🔧 Word-Level:\n",
      "   How it works: Every unique word gets its own token\n",
      "   Vocabulary size: 100K - 1M words\n",
      "   Coverage: 85-95% (depends on domain)\n",
      "   Memory usage: High (large embedding matrices)\n",
      "   New words: Cannot handle (marked as UNK)\n",
      "\n",
      "🔧 Character-Level:\n",
      "   How it works: Every character gets its own token\n",
      "   Vocabulary size: 100-1000 characters\n",
      "   Coverage: 100% (can represent anything)\n",
      "   Memory usage: Low (small vocabulary)\n",
      "   New words: Always works (any text → characters)\n",
      "\n",
      "🔧 BPE:\n",
      "   How it works: Learned subword pieces balance efficiency and coverage\n",
      "   Vocabulary size: 30K-50K subwords\n",
      "   Coverage: 100% (subword decomposition)\n",
      "   Memory usage: Medium (reasonable vocabulary size)\n",
      "   New words: Always works (breaks into known pieces)\n",
      "\n",
      "🎯 The BPE Sweet Spot:\n",
      "   BPE finds the optimal balance between:\n",
      "   • Vocabulary size (manageable)\n",
      "   • Coverage (complete)\n",
      "   • Meaningfulness (preserves semantic units)\n",
      "   • Efficiency (reasonable token counts)\n",
      "\n",
      "🚀 This is why modern systems like OpenAI's embeddings use BPE:\n",
      "   • Can handle any text in any language\n",
      "   • Learns domain-specific patterns from training data\n",
      "   • Balances efficiency with expressiveness\n",
      "   • Enables robust, generalizable language models\n"
     ]
    }
   ],
   "source": [
    "# Demonstrate the vocabulary size advantage\n",
    "def show_vocabulary_scaling():\n",
    "    \"\"\"Illustrate how different approaches scale with vocabulary needs.\"\"\"\n",
    "    \n",
    "    approaches = {\n",
    "        \"Word-Level\": {\n",
    "            \"description\": \"Every unique word gets its own token\",\n",
    "            \"typical_vocab\": \"100K - 1M words\",\n",
    "            \"coverage\": \"85-95% (depends on domain)\",\n",
    "            \"memory\": \"High (large embedding matrices)\",\n",
    "            \"new_words\": \"Cannot handle (marked as UNK)\"\n",
    "        },\n",
    "        \"Character-Level\": {\n",
    "            \"description\": \"Every character gets its own token\", \n",
    "            \"typical_vocab\": \"100-1000 characters\",\n",
    "            \"coverage\": \"100% (can represent anything)\",\n",
    "            \"memory\": \"Low (small vocabulary)\",\n",
    "            \"new_words\": \"Always works (any text → characters)\"\n",
    "        },\n",
    "        \"BPE\": {\n",
    "            \"description\": \"Learned subword pieces balance efficiency and coverage\",\n",
    "            \"typical_vocab\": \"30K-50K subwords\", \n",
    "            \"coverage\": \"100% (subword decomposition)\",\n",
    "            \"memory\": \"Medium (reasonable vocabulary size)\",\n",
    "            \"new_words\": \"Always works (breaks into known pieces)\"\n",
    "        }\n",
    "    }\n",
    "    \n",
    "    print(\"📊 Tokenization Approach Comparison\")\n",
    "    print(\"=\" * 38)\n",
    "    \n",
    "    for approach, details in approaches.items():\n",
    "        print(f\"\\n🔧 {approach}:\")\n",
    "        print(f\"   How it works: {details['description']}\")\n",
    "        print(f\"   Vocabulary size: {details['typical_vocab']}\")\n",
    "        print(f\"   Coverage: {details['coverage']}\")\n",
    "        print(f\"   Memory usage: {details['memory']}\")\n",
    "        print(f\"   New words: {details['new_words']}\")\n",
    "    \n",
    "    print(\"\\n🎯 The BPE Sweet Spot:\")\n",
    "    print(\"   BPE finds the optimal balance between:\")\n",
    "    print(\"   • Vocabulary size (manageable)\")\n",
    "    print(\"   • Coverage (complete)\")  \n",
    "    print(\"   • Meaningfulness (preserves semantic units)\")\n",
    "    print(\"   • Efficiency (reasonable token counts)\")\n",
    "\n",
    "show_vocabulary_scaling()\n",
    "\n",
    "print(\"\\n🚀 This is why modern systems like OpenAI's embeddings use BPE:\")\n",
    "print(\"   • Can handle any text in any language\")\n",
    "print(\"   • Learns domain-specific patterns from training data\")\n",
    "print(\"   • Balances efficiency with expressiveness\")\n",
    "print(\"   • Enables robust, generalizable language models\")"
   ]
  },
  {
   "cell_type": "code",
   "execution_count": 12,
   "metadata": {
    "execution": {
     "iopub.execute_input": "2025-06-30T22:08:45.832081Z",
     "iopub.status.busy": "2025-06-30T22:08:45.831739Z",
     "iopub.status.idle": "2025-06-30T22:08:49.635189Z",
     "shell.execute_reply": "2025-06-30T22:08:49.634812Z",
     "shell.execute_reply.started": "2025-06-30T22:08:45.832057Z"
    }
   },
   "outputs": [
    {
     "name": "stdout",
     "output_type": "stream",
     "text": [
      "Requirement already satisfied: tiktoken in /Users/tt434/.pyenv/versions/dfrnt/lib/python3.11/site-packages (0.8.0)\n",
      "Requirement already satisfied: regex>=2022.1.18 in /Users/tt434/.pyenv/versions/dfrnt/lib/python3.11/site-packages (from tiktoken) (2023.8.8)\n",
      "Requirement already satisfied: requests>=2.26.0 in /Users/tt434/.pyenv/versions/dfrnt/lib/python3.11/site-packages (from tiktoken) (2.32.3)\n",
      "Requirement already satisfied: charset-normalizer<4,>=2 in /Users/tt434/.pyenv/versions/dfrnt/lib/python3.11/site-packages (from requests>=2.26.0->tiktoken) (3.2.0)\n",
      "Requirement already satisfied: idna<4,>=2.5 in /Users/tt434/.pyenv/versions/dfrnt/lib/python3.11/site-packages (from requests>=2.26.0->tiktoken) (3.4)\n",
      "Requirement already satisfied: urllib3<3,>=1.21.1 in /Users/tt434/.pyenv/versions/dfrnt/lib/python3.11/site-packages (from requests>=2.26.0->tiktoken) (2.2.3)\n",
      "Requirement already satisfied: certifi>=2017.4.17 in /Users/tt434/.pyenv/versions/dfrnt/lib/python3.11/site-packages (from requests>=2.26.0->tiktoken) (2024.8.30)\n",
      "\n",
      "\u001b[1m[\u001b[0m\u001b[34;49mnotice\u001b[0m\u001b[1;39;49m]\u001b[0m\u001b[39;49m A new release of pip is available: \u001b[0m\u001b[31;49m24.0\u001b[0m\u001b[39;49m -> \u001b[0m\u001b[32;49m25.1.1\u001b[0m\n",
      "\u001b[1m[\u001b[0m\u001b[34;49mnotice\u001b[0m\u001b[1;39;49m]\u001b[0m\u001b[39;49m To update, run: \u001b[0m\u001b[32;49mpython3 -m pip install --upgrade pip\u001b[0m\n",
      "🔧 Tokenization Methods Loaded Successfully!\n",
      "   • Simple regex-based tokenization\n",
      "   • Word-level tokenization (Word2Vec style)\n",
      "   • Modern BPE tokenization (OpenAI style)\n"
     ]
    }
   ],
   "source": [
    "# Install tiktoken for modern tokenization examples\n",
    "!pip install tiktoken\n",
    "\n",
    "# Import libraries for tokenization exploration\n",
    "import re\n",
    "import tiktoken\n",
    "from collections import Counter\n",
    "import matplotlib.pyplot as plt\n",
    "import seaborn as sns\n",
    "import pandas as pd\n",
    "import numpy as np\n",
    "\n",
    "def simple_tokenize(text):\n",
    "    \"\"\"Basic whitespace and punctuation tokenization - the simplest approach\"\"\"\n",
    "    # Convert to lowercase and split on whitespace and punctuation\n",
    "    # This is similar to what early NLP systems used\n",
    "    tokens = re.findall(r'\\b\\w+\\b', text.lower())\n",
    "    return tokens\n",
    "\n",
    "def word_level_tokenize(text):\n",
    "    \"\"\"Word-level tokenization (Word2Vec style)\"\"\"\n",
    "    # Slightly more sophisticated - handles contractions better\n",
    "    # This is what Word2Vec and similar models typically use\n",
    "    tokens = re.findall(r\"\\w+(?:['']?\\w+)*\", text.lower())\n",
    "    return tokens\n",
    "\n",
    "# Initialize modern tokenizers for comparison\n",
    "# We'll use the same tokenizer that OpenAI's text-embedding models use\n",
    "encoding = tiktoken.get_encoding(\"cl100k_base\")  # Used by text-embedding-3-small\n",
    "\n",
    "print(\"🔧 Tokenization Methods Loaded Successfully!\")\n",
    "print(\"   • Simple regex-based tokenization\")\n",
    "print(\"   • Word-level tokenization (Word2Vec style)\")  \n",
    "print(\"   • Modern BPE tokenization (OpenAI style)\")"
   ]
  },
  {
   "cell_type": "code",
   "execution_count": 13,
   "metadata": {
    "execution": {
     "iopub.execute_input": "2025-06-30T22:09:14.524343Z",
     "iopub.status.busy": "2025-06-30T22:09:14.523960Z",
     "iopub.status.idle": "2025-06-30T22:09:14.535560Z",
     "shell.execute_reply": "2025-06-30T22:09:14.535059Z",
     "shell.execute_reply.started": "2025-06-30T22:09:14.524314Z"
    }
   },
   "outputs": [
    {
     "name": "stdout",
     "output_type": "stream",
     "text": [
      "📝 Tokenization Comparison: Library Catalog Data\n",
      "=======================================================\n",
      "Original text excerpt:\n",
      "\"Photography in archaeology; Historical methodology; 19th-century German art\"\n",
      "\n",
      "🔍 Tokenization Results:\n",
      "Simple tokenization (first 10): ['title', 'archäologie', 'und', 'photographie', 'fünfzig', 'beispiele', 'zur', 'geschichte', 'und', 'methode']\n",
      "Word-level tokenization (first 10): ['title', 'archäologie', 'und', 'photographie', 'fünfzig', 'beispiele', 'zur', 'geschichte', 'und', 'methode']\n",
      "BPE tokenization (first 10): ['Title', ':', ' Arch', 'ä', 'ologie', ' und', ' Photograph', 'ie', ':', ' fün']\n",
      "\n",
      "📊 Token Counts:\n",
      "   Simple: 36 tokens\n",
      "   Word-level: 36 tokens\n",
      "   BPE: 67 tokens\n",
      "\n",
      "💡 Key Observations:\n",
      "   • BPE often produces more tokens than word-level approaches\n",
      "   • BPE can handle any text - no out-of-vocabulary words!\n",
      "   • Different methods segment the same content quite differently\n"
     ]
    }
   ],
   "source": [
    "# Test with library catalog text to show the differences\n",
    "sample_text = \"\"\"Title: Archäologie und Photographie: fünfzig Beispiele zur Geschichte und Methode\n",
    "Author: Schubert, Franz August, 1806-1893\n",
    "Subjects: Photography in archaeology; Historical methodology; 19th-century German art\n",
    "Note: This work includes 50 photographic illustrations of archaeological sites.\"\"\"\n",
    "\n",
    "print(\"📝 Tokenization Comparison: Library Catalog Data\")\n",
    "print(\"=\" * 55)\n",
    "print(\"Original text excerpt:\")\n",
    "print('\"Photography in archaeology; Historical methodology; 19th-century German art\"')\n",
    "print()\n",
    "\n",
    "# Apply different tokenization methods to the same text\n",
    "simple_tokens = simple_tokenize(sample_text)\n",
    "word_tokens = word_level_tokenize(sample_text)\n",
    "bpe_tokens = encoding.encode(sample_text)\n",
    "\n",
    "# Convert BPE token IDs back to readable tokens for display\n",
    "bpe_token_strings = [encoding.decode_single_token_bytes(token).decode('utf-8', errors='replace') \n",
    "                     for token in bpe_tokens]\n",
    "\n",
    "print(\"🔍 Tokenization Results:\")\n",
    "print(f\"Simple tokenization (first 10): {simple_tokens[:10]}\")\n",
    "print(f\"Word-level tokenization (first 10): {word_tokens[:10]}\")\n",
    "print(f\"BPE tokenization (first 10): {bpe_token_strings[:10]}\")\n",
    "print()\n",
    "print(f\"📊 Token Counts:\")\n",
    "print(f\"   Simple: {len(simple_tokens)} tokens\")\n",
    "print(f\"   Word-level: {len(word_tokens)} tokens\") \n",
    "print(f\"   BPE: {len(bpe_tokens)} tokens\")\n",
    "\n",
    "print(\"\\n💡 Key Observations:\")\n",
    "print(\"   • BPE often produces more tokens than word-level approaches\")\n",
    "print(\"   • BPE can handle any text - no out-of-vocabulary words!\")\n",
    "print(\"   • Different methods segment the same content quite differently\")"
   ]
  },
  {
   "cell_type": "code",
   "execution_count": 14,
   "metadata": {
    "execution": {
     "iopub.execute_input": "2025-06-30T22:09:44.358999Z",
     "iopub.status.busy": "2025-06-30T22:09:44.358449Z",
     "iopub.status.idle": "2025-06-30T22:09:44.368361Z",
     "shell.execute_reply": "2025-06-30T22:09:44.367548Z",
     "shell.execute_reply.started": "2025-06-30T22:09:44.358970Z"
    }
   },
   "outputs": [
    {
     "name": "stdout",
     "output_type": "stream",
     "text": [
      "🌍 How Different Tokenizers Handle Challenging Text\n",
      "====================================================\n",
      "\n",
      "📚 Technical Terms: 'codicological palimpsest marginalia quaternions'\n",
      "   Word-level (4): ['codicological', 'palimpsest', 'marginalia', 'quaternions']\n",
      "   BPE (11): ['cod', 'ic', 'ological', ' pal', 'impse', 'st', ' marginal', 'ia', ' qu', 'atern', 'ions']\n",
      "   → BPE breaks rare words into recognizable parts\n",
      "\n",
      "📚 Compound Words: 'wohltemperierte Meisterwerk Literaturwissenschaft'\n",
      "   Word-level (3): ['wohltemperierte', 'meisterwerk', 'literaturwissenschaft']\n",
      "   BPE (12): ['wo', 'hl', 'tem', 'peri', 'erte', ' Me', 'ister', 'werk', ' Liter', 'atur', 'w', 'issenschaft']\n",
      "   → BPE handles German compounds by finding meaningful subwords\n",
      "\n",
      "📚 Multilingual: 'bibliothèque biblioteca библиотека 图书馆'\n",
      "   Word-level (4): ['bibliothèque', 'biblioteca', 'библиотека', '图书馆']\n",
      "   BPE (18): ['bib', 'li', 'oth', 'è', 'que', ' bibli', 'oteca', ' б', 'и', 'б', 'ли', 'от', 'ек', 'а', ' 图', '书', '�', '�']\n",
      "   → BPE can tokenize any language, even those with different scripts\n",
      "\n",
      "📚 Names & Dates: 'Schubert, Franz August, 1806-1893; Bach, J.S.'\n",
      "   Word-level (8): ['schubert', 'franz', 'august', '1806', '1893', 'bach', 'j', 's']\n",
      "   BPE (19): ['Sch', 'ub', 'ert', ',', ' Franz', ' August', ',', ' ', '180', '6', '-', '189', '3', ';', ' Bach', ',', ' J', '.S', '.']\n",
      "\n",
      "📚 Modern Text: 'COVID-19 pandemic: post-pandemic recovery strategies'\n",
      "   Word-level (7): ['covid', '19', 'pandemic', 'post', 'pandemic', 'recovery', 'strategies']\n",
      "   BPE (11): ['COVID', '-', '19', ' pandemic', ':', ' post', '-p', 'and', 'emic', ' recovery', ' strategies']\n",
      "   → BPE adapts to new terminology like 'COVID-19'\n"
     ]
    }
   ],
   "source": [
    "# Demonstrate how BPE handles challenging cases that Word2Vec struggles with\n",
    "challenging_examples = {\n",
    "    \"Technical Terms\": \"codicological palimpsest marginalia quaternions\",\n",
    "    \"Compound Words\": \"wohltemperierte Meisterwerk Literaturwissenschaft\", \n",
    "    \"Multilingual\": \"bibliothèque biblioteca библиотека 图书馆\",\n",
    "    \"Names & Dates\": \"Schubert, Franz August, 1806-1893; Bach, J.S.\",\n",
    "    \"Modern Text\": \"COVID-19 pandemic: post-pandemic recovery strategies\"\n",
    "}\n",
    "\n",
    "print(\"🌍 How Different Tokenizers Handle Challenging Text\")\n",
    "print(\"=\" * 52)\n",
    "\n",
    "for category, text in challenging_examples.items():\n",
    "    print(f\"\\n📚 {category}: '{text}'\")\n",
    "    \n",
    "    # Word-level tokenization (Word2Vec approach)\n",
    "    word_tokens = word_level_tokenize(text)\n",
    "    \n",
    "    # BPE tokenization (modern approach)\n",
    "    bpe_tokens = encoding.encode(text)\n",
    "    bpe_strings = [encoding.decode_single_token_bytes(token).decode('utf-8', errors='replace') \n",
    "                   for token in bpe_tokens]\n",
    "    \n",
    "    print(f\"   Word-level ({len(word_tokens)}): {word_tokens}\")\n",
    "    print(f\"   BPE ({len(bpe_tokens)}): {bpe_strings}\")\n",
    "    \n",
    "    # Highlight key differences\n",
    "    if category == \"Technical Terms\":\n",
    "        print(\"   → BPE breaks rare words into recognizable parts\")\n",
    "    elif category == \"Compound Words\":\n",
    "        print(\"   → BPE handles German compounds by finding meaningful subwords\")\n",
    "    elif category == \"Multilingual\":\n",
    "        print(\"   → BPE can tokenize any language, even those with different scripts\")\n",
    "    elif category == \"Modern Text\":\n",
    "        print(\"   → BPE adapts to new terminology like 'COVID-19'\")"
   ]
  },
  {
   "cell_type": "code",
   "execution_count": 15,
   "metadata": {
    "execution": {
     "iopub.execute_input": "2025-06-30T22:10:16.211777Z",
     "iopub.status.busy": "2025-06-30T22:10:16.211284Z",
     "iopub.status.idle": "2025-06-30T22:10:16.220360Z",
     "shell.execute_reply": "2025-06-30T22:10:16.219522Z",
     "shell.execute_reply.started": "2025-06-30T22:10:16.211755Z"
    }
   },
   "outputs": [
    {
     "name": "stdout",
     "output_type": "stream",
     "text": [
      "🔬 BPE Subword Analysis: How Complex Words Break Down\n",
      "========================================================\n",
      "\n",
      "📖 'paleography':\n",
      "   Token breakdown:\n",
      "     1. 'p' (ID: 79)\n",
      "     2. 'ale' (ID: 1604)\n",
      "     3. 'ography' (ID: 5814)\n",
      "   Reconstructed: 'paleography'\n",
      "   ✓ Perfect match: True\n",
      "\n",
      "📖 'codicology':\n",
      "   Token breakdown:\n",
      "     1. 'cod' (ID: 20720)\n",
      "     2. 'ic' (ID: 292)\n",
      "     3. 'ology' (ID: 2508)\n",
      "   Reconstructed: 'codicology'\n",
      "   ✓ Perfect match: True\n",
      "\n",
      "📖 'archaeology':\n",
      "   Token breakdown:\n",
      "     1. 'arch' (ID: 1132)\n",
      "     2. 'ae' (ID: 6043)\n",
      "     3. 'ology' (ID: 2508)\n",
      "   Reconstructed: 'archaeology'\n",
      "   ✓ Perfect match: True\n",
      "\n",
      "📖 'bibliography':\n",
      "   Token breakdown:\n",
      "     1. 'bib' (ID: 58380)\n",
      "     2. 'li' (ID: 747)\n",
      "     3. 'ography' (ID: 5814)\n",
      "   Reconstructed: 'bibliography'\n",
      "   ✓ Perfect match: True\n",
      "\n",
      "📖 'Schubert':\n",
      "   Token breakdown:\n",
      "     1. 'Sch' (ID: 31224)\n",
      "     2. 'ub' (ID: 392)\n",
      "     3. 'ert' (ID: 531)\n",
      "   Reconstructed: 'Schubert'\n",
      "   ✓ Perfect match: True\n",
      "\n",
      "🎯 Why This Matters:\n",
      "   • BPE learns common letter patterns and morphemes\n",
      "   • Rare words get broken into familiar pieces\n",
      "   • Models can understand new words from their parts\n",
      "   • No vocabulary limitations - any text can be tokenized\n"
     ]
    }
   ],
   "source": [
    "# Deep dive: Understanding how BPE tokenization works\n",
    "def analyze_bpe_breakdown(text, encoding):\n",
    "    \"\"\"Show how BPE breaks down text into subword pieces\"\"\"\n",
    "    tokens = encoding.encode(text)\n",
    "    token_strings = []\n",
    "    \n",
    "    for token in tokens:\n",
    "        # Get the actual bytes/string this token represents\n",
    "        token_bytes = encoding.decode_single_token_bytes(token)\n",
    "        token_str = token_bytes.decode('utf-8', errors='replace')\n",
    "        token_strings.append((token, token_str))\n",
    "    \n",
    "    return token_strings\n",
    "\n",
    "# Analyze some library-specific terms\n",
    "library_terms = [\n",
    "    \"paleography\",\n",
    "    \"codicology\", \n",
    "    \"archaeology\",\n",
    "    \"bibliography\",\n",
    "    \"Schubert\"\n",
    "]\n",
    "\n",
    "print(\"🔬 BPE Subword Analysis: How Complex Words Break Down\")\n",
    "print(\"=\" * 56)\n",
    "\n",
    "for term in library_terms:\n",
    "    breakdown = analyze_bpe_breakdown(term, encoding)\n",
    "    \n",
    "    print(f\"\\n📖 '{term}':\")\n",
    "    print(\"   Token breakdown:\")\n",
    "    for i, (token_id, token_str) in enumerate(breakdown):\n",
    "        # Show visual representation of how the word is split\n",
    "        print(f\"     {i+1}. '{token_str}' (ID: {token_id})\")\n",
    "    \n",
    "    # Reconstruct to verify\n",
    "    reconstructed = ''.join([pair[1] for pair in breakdown])\n",
    "    print(f\"   Reconstructed: '{reconstructed}'\")\n",
    "    print(f\"   ✓ Perfect match: {reconstructed == term}\")\n",
    "\n",
    "print(\"\\n🎯 Why This Matters:\")\n",
    "print(\"   • BPE learns common letter patterns and morphemes\")\n",
    "print(\"   • Rare words get broken into familiar pieces\") \n",
    "print(\"   • Models can understand new words from their parts\")\n",
    "print(\"   • No vocabulary limitations - any text can be tokenized\")"
   ]
  },
  {
   "cell_type": "code",
   "execution_count": 16,
   "metadata": {
    "execution": {
     "iopub.execute_input": "2025-06-30T22:10:44.854469Z",
     "iopub.status.busy": "2025-06-30T22:10:44.853865Z",
     "iopub.status.idle": "2025-06-30T22:10:45.064874Z",
     "shell.execute_reply": "2025-06-30T22:10:45.054034Z",
     "shell.execute_reply.started": "2025-06-30T22:10:44.854436Z"
    }
   },
   "outputs": [
    {
     "name": "stdout",
     "output_type": "stream",
     "text": [
      "📊 Vocabulary Coverage Comparison: Word-Level vs BPE\n",
      "======================================================\n",
      "\n",
      "📝 Example 1: 'This palimpsest manuscript contains quaternions with sophisticated codicological features.'\n",
      "📈 Coverage Results:\n",
      "   Word-level: 100.0% coverage\n",
      "   BPE:        100.0% coverage (always 100%)\n",
      "\n",
      "📝 Example 2: 'The bibliotecario examined the incunabula for provenance documentation.'\n",
      "📈 Coverage Results:\n",
      "   Word-level: 100.0% coverage\n",
      "   BPE:        100.0% coverage (always 100%)\n",
      "\n",
      "📝 Example 3: 'Digital humanities scholars use computational methods for textual analysis.'\n",
      "📈 Coverage Results:\n",
      "   Word-level: 100.0% coverage\n",
      "   BPE:        100.0% coverage (always 100%)\n"
     ]
    },
    {
     "data": {
      "image/png": "[encoded data removed]",
      "text/plain": [
       "<Figure size 1200x500 with 2 Axes>"
      ]
     },
     "metadata": {},
     "output_type": "display_data"
    },
    {
     "name": "stdout",
     "output_type": "stream",
     "text": [
      "\n",
      "🎯 Key Insights:\n",
      "   • BPE eliminates the out-of-vocabulary problem completely\n",
      "   • BPE typically produces more tokens, but each token is meaningful\n",
      "   • Modern embedding models benefit from BPE's robust tokenization\n",
      "   • This is why OpenAI embeddings work better than Word2Vec on specialized text\n"
     ]
    }
   ],
   "source": [
    "# Practical comparison: Vocabulary coverage problem solved\n",
    "def check_vocabulary_coverage_comparison(text, model):\n",
    "    \"\"\"Compare vocabulary coverage between word-level and BPE approaches\"\"\"\n",
    "    \n",
    "    # Word-level approach (like Word2Vec)\n",
    "    word_tokens = word_level_tokenize(text)\n",
    "    word_in_vocab = []\n",
    "    word_out_of_vocab = []\n",
    "    \n",
    "    for token in word_tokens:\n",
    "        try:\n",
    "            model.embeddings([token])\n",
    "            word_in_vocab.append(token)\n",
    "        except:\n",
    "            word_out_of_vocab.append(token)\n",
    "    \n",
    "    word_coverage = len(word_in_vocab) / len(word_tokens) * 100 if word_tokens else 0\n",
    "    \n",
    "    # BPE approach (modern systems)\n",
    "    bpe_tokens = encoding.encode(text)\n",
    "    # BPE always has 100% coverage by design - it can tokenize anything\n",
    "    bpe_coverage = 100.0\n",
    "    \n",
    "    return {\n",
    "        'word_level': {\n",
    "            'tokens': word_tokens,\n",
    "            'coverage': word_coverage,\n",
    "            'in_vocab': word_in_vocab,\n",
    "            'out_of_vocab': word_out_of_vocab\n",
    "        },\n",
    "        'bpe': {\n",
    "            'tokens': bpe_tokens,\n",
    "            'coverage': bpe_coverage,\n",
    "            'token_count': len(bpe_tokens)\n",
    "        }\n",
    "    }\n",
    "\n",
    "# Test with specialized library terminology\n",
    "specialized_texts = [\n",
    "    \"This palimpsest manuscript contains quaternions with sophisticated codicological features.\",\n",
    "    \"The bibliotecario examined the incunabula for provenance documentation.\",\n",
    "    \"Digital humanities scholars use computational methods for textual analysis.\"\n",
    "]\n",
    "\n",
    "print(\"📊 Vocabulary Coverage Comparison: Word-Level vs BPE\")\n",
    "print(\"=\" * 54)\n",
    "\n",
    "coverage_results = []\n",
    "\n",
    "for i, text in enumerate(specialized_texts, 1):\n",
    "    print(f\"\\n📝 Example {i}: '{text}'\")\n",
    "    \n",
    "    results = check_vocabulary_coverage_comparison(text, model)\n",
    "    \n",
    "    print(f\"📈 Coverage Results:\")\n",
    "    print(f\"   Word-level: {results['word_level']['coverage']:.1f}% coverage\")\n",
    "    print(f\"   BPE:        {results['bpe']['coverage']:.1f}% coverage (always 100%)\")\n",
    "    \n",
    "    if results['word_level']['out_of_vocab']:\n",
    "        print(f\"   ❌ Word-level missed: {results['word_level']['out_of_vocab']}\")\n",
    "        print(f\"   ✅ BPE handles all text through subword decomposition\")\n",
    "    \n",
    "    coverage_results.append({\n",
    "        'Text': f\"Example {i}\",\n",
    "        'Word-Level Coverage': results['word_level']['coverage'],\n",
    "        'BPE Coverage': results['bpe']['coverage'],\n",
    "        'Word-Level Tokens': len(results['word_level']['tokens']),\n",
    "        'BPE Tokens': results['bpe']['token_count']\n",
    "    })\n",
    "\n",
    "# Create comparison visualization\n",
    "df = pd.DataFrame(coverage_results)\n",
    "\n",
    "plt.figure(figsize=(12, 5))\n",
    "\n",
    "# Coverage comparison\n",
    "plt.subplot(1, 2, 1)\n",
    "x = np.arange(len(df))\n",
    "width = 0.35\n",
    "\n",
    "plt.bar(x - width/2, df['Word-Level Coverage'], width, label='Word-Level', alpha=0.8, color='lightcoral')\n",
    "plt.bar(x + width/2, df['BPE Coverage'], width, label='BPE', alpha=0.8, color='lightblue')\n",
    "\n",
    "plt.xlabel('Text Examples')\n",
    "plt.ylabel('Vocabulary Coverage (%)')\n",
    "plt.title('Vocabulary Coverage Comparison')\n",
    "plt.xticks(x, df['Text'])\n",
    "plt.legend()\n",
    "plt.ylim(0, 100)\n",
    "\n",
    "# Token count comparison  \n",
    "plt.subplot(1, 2, 2)\n",
    "plt.bar(x - width/2, df['Word-Level Tokens'], width, label='Word-Level', alpha=0.8, color='lightcoral')\n",
    "plt.bar(x + width/2, df['BPE Tokens'], width, label='BPE', alpha=0.8, color='lightblue')\n",
    "\n",
    "plt.xlabel('Text Examples')\n",
    "plt.ylabel('Number of Tokens')\n",
    "plt.title('Token Count Comparison')\n",
    "plt.xticks(x, df['Text'])\n",
    "plt.legend()\n",
    "\n",
    "plt.tight_layout()\n",
    "plt.show()\n",
    "\n",
    "print(\"\\n🎯 Key Insights:\")\n",
    "print(\"   • BPE eliminates the out-of-vocabulary problem completely\")\n",
    "print(\"   • BPE typically produces more tokens, but each token is meaningful\")\n",
    "print(\"   • Modern embedding models benefit from BPE's robust tokenization\")\n",
    "print(\"   • This is why OpenAI embeddings work better than Word2Vec on specialized text\")"
   ]
  },
  {
   "cell_type": "markdown",
   "metadata": {},
   "source": [
    "### Tokenization Challenges in Multilingual Collections\n",
    "\n",
    "Different languages present unique tokenization challenges, especially in library collections that span multiple linguistic traditions."
   ]
  },
  {
   "cell_type": "code",
   "execution_count": 17,
   "metadata": {
    "execution": {
     "iopub.execute_input": "2025-06-30T22:11:05.767381Z",
     "iopub.status.busy": "2025-06-30T22:11:05.766919Z",
     "iopub.status.idle": "2025-06-30T22:11:05.945577Z",
     "shell.execute_reply": "2025-06-30T22:11:05.945313Z",
     "shell.execute_reply.started": "2025-06-30T22:11:05.767353Z"
    }
   },
   "outputs": [
    {
     "name": "stdout",
     "output_type": "stream",
     "text": [
      "🌐 Multilingual Tokenization with BPE\n",
      "======================================\n",
      "\n",
      "🗣️  English:\n",
      "   Text: The well-tempered clavier: a musical masterpiece by J.S. Bach\n",
      "   Word-level (11): ['the', 'well', 'tempered', 'clavier', 'a', 'musical', 'masterpiece', 'by', 'j', 's', 'bach']\n",
      "   BPE (16): ['The', ' well', '-', 'tem', 'pered', ' cl', 'avier', ':', ' a', ' musical', ' masterpiece', ' by', ' J', '.S', '.', ' Bach']\n",
      "\n",
      "🗣️  Spanish:\n",
      "   Text: El clave bien temperado: una obra maestra musical de J.S. Bach\n",
      "   Word-level (12): ['el', 'clave', 'bien', 'temperado', 'una', 'obra', 'maestra', 'musical', 'de', 'j', 's', 'bach']\n",
      "   BPE (17): ['El', ' clave', ' bien', ' temper', 'ado', ':', ' una', ' obra', ' ma', 'est', 'ra', ' musical', ' de', ' J', '.S', '.', ' Bach']\n",
      "\n",
      "🗣️  Portuguese:\n",
      "   Text: O cravo bem temperado: uma obra-prima musical de J.S. Bach\n",
      "   Word-level (12): ['o', 'cravo', 'bem', 'temperado', 'uma', 'obra', 'prima', 'musical', 'de', 'j', 's', 'bach']\n",
      "   BPE (17): ['O', ' cr', 'avo', ' bem', ' temper', 'ado', ':', ' uma', ' obra', '-pr', 'ima', ' musical', ' de', ' J', '.S', '.', ' Bach']\n",
      "\n",
      "🗣️  German:\n",
      "   Text: Das wohltemperierte Klavier: ein musikalisches Meisterwerk von J.S. Bach\n",
      "   Word-level (10): ['das', 'wohltemperierte', 'klavier', 'ein', 'musikalisches', 'meisterwerk', 'von', 'j', 's', 'bach']\n",
      "   BPE (21): ['Das', ' wohl', 'tem', 'peri', 'erte', ' Kl', 'avier', ':', ' ein', ' mus', 'ik', 'alis', 'ches', ' Me', 'ister', 'werk', ' von', ' J', '.S', '.', ' Bach']\n",
      "\n",
      "🗣️  Mixed:\n",
      "   Text: Bach's Das wohltemperierte Klavier es una obra-prima da música clássica\n",
      "   Word-level (11): [\"bach's\", 'das', 'wohltemperierte', 'klavier', 'es', 'una', 'obra', 'prima', 'da', 'música', 'clássica']\n",
      "   BPE (21): ['B', 'ach', \"'s\", ' Das', ' wohl', 'tem', 'peri', 'erte', ' Kl', 'avier', ' es', ' una', ' obra', '-pr', 'ima', ' da', ' música', ' cl', 'á', 'ss', 'ica']\n"
     ]
    },
    {
     "data": {
      "image/png": "[encoded data removed]",
      "text/plain": [
       "<Figure size 1200x400 with 2 Axes>"
      ]
     },
     "metadata": {},
     "output_type": "display_data"
    },
    {
     "name": "stdout",
     "output_type": "stream",
     "text": [
      "\n",
      "💡 Multilingual Insights:\n",
      "   • BPE handles all languages uniformly - no special preprocessing needed\n",
      "   • Mixed-language text (like academic citations) tokenizes seamlessly\n",
      "   • Token density varies by language due to different morphological complexity\n",
      "   • This multilingual robustness is why modern embeddings work globally\n"
     ]
    }
   ],
   "source": [
    "# Advanced example: Multilingual tokenization with BPE\n",
    "multilingual_examples = {\n",
    "    \"English\": \"The well-tempered clavier: a musical masterpiece by J.S. Bach\",\n",
    "    \"Spanish\": \"El clave bien temperado: una obra maestra musical de J.S. Bach\", \n",
    "    \"Portuguese\": \"O cravo bem temperado: uma obra-prima musical de J.S. Bach\",\n",
    "    \"German\": \"Das wohltemperierte Klavier: ein musikalisches Meisterwerk von J.S. Bach\",\n",
    "    \"Mixed\": \"Bach's Das wohltemperierte Klavier es una obra-prima da música clássica\"\n",
    "}\n",
    "\n",
    "print(\"🌐 Multilingual Tokenization with BPE\")\n",
    "print(\"=\" * 38)\n",
    "\n",
    "tokenization_analysis = []\n",
    "\n",
    "for language, text in multilingual_examples.items():\n",
    "    # Word-level tokenization\n",
    "    word_tokens = word_level_tokenize(text)\n",
    "    \n",
    "    # BPE tokenization\n",
    "    bpe_tokens = encoding.encode(text)\n",
    "    bpe_strings = [encoding.decode_single_token_bytes(token).decode('utf-8', errors='replace') \n",
    "                   for token in bpe_tokens]\n",
    "    \n",
    "    print(f\"\\n🗣️  {language}:\")\n",
    "    print(f\"   Text: {text}\")\n",
    "    print(f\"   Word-level ({len(word_tokens)}): {word_tokens}\")\n",
    "    print(f\"   BPE ({len(bpe_tokens)}): {bpe_strings}\")\n",
    "    \n",
    "    tokenization_analysis.append({\n",
    "        'Language': language,\n",
    "        'Text Length': len(text),\n",
    "        'Word Tokens': len(word_tokens),\n",
    "        'BPE Tokens': len(bpe_tokens),\n",
    "        'Compression Ratio': len(text) / len(bpe_tokens)\n",
    "    })\n",
    "\n",
    "# Analyze tokenization efficiency across languages\n",
    "df_analysis = pd.DataFrame(tokenization_analysis)\n",
    "\n",
    "plt.figure(figsize=(12, 4))\n",
    "\n",
    "plt.subplot(1, 2, 1)\n",
    "plt.scatter(df_analysis['Text Length'], df_analysis['BPE Tokens'], \n",
    "           s=100, alpha=0.7, color='steelblue')\n",
    "for i, row in df_analysis.iterrows():\n",
    "    plt.annotate(row['Language'], (row['Text Length'], row['BPE Tokens']), \n",
    "                xytext=(5, 5), textcoords='offset points', fontsize=9)\n",
    "plt.xlabel('Text Length (characters)')\n",
    "plt.ylabel('BPE Token Count')\n",
    "plt.title('BPE Tokenization Efficiency')\n",
    "plt.grid(True, alpha=0.3)\n",
    "\n",
    "plt.subplot(1, 2, 2)\n",
    "languages = df_analysis['Language']\n",
    "word_counts = df_analysis['Word Tokens']\n",
    "bpe_counts = df_analysis['BPE Tokens']\n",
    "\n",
    "x = np.arange(len(languages))\n",
    "width = 0.35\n",
    "\n",
    "plt.bar(x - width/2, word_counts, width, label='Word-Level', alpha=0.8)\n",
    "plt.bar(x + width/2, bpe_counts, width, label='BPE', alpha=0.8)\n",
    "\n",
    "plt.xlabel('Language')\n",
    "plt.ylabel('Token Count')\n",
    "plt.title('Tokenization Method Comparison')\n",
    "plt.xticks(x, languages, rotation=45)\n",
    "plt.legend()\n",
    "\n",
    "plt.tight_layout()\n",
    "plt.show()\n",
    "\n",
    "print(\"\\n💡 Multilingual Insights:\")\n",
    "print(\"   • BPE handles all languages uniformly - no special preprocessing needed\")\n",
    "print(\"   • Mixed-language text (like academic citations) tokenizes seamlessly\")  \n",
    "print(\"   • Token density varies by language due to different morphological complexity\")\n",
    "print(\"   • This multilingual robustness is why modern embeddings work globally\")"
   ]
  },
  {
   "cell_type": "code",
   "execution_count": 18,
   "metadata": {
    "execution": {
     "iopub.execute_input": "2025-06-30T22:11:31.365945Z",
     "iopub.status.busy": "2025-06-30T22:11:31.365409Z",
     "iopub.status.idle": "2025-06-30T22:11:31.382663Z",
     "shell.execute_reply": "2025-06-30T22:11:31.382172Z",
     "shell.execute_reply.started": "2025-06-30T22:11:31.365917Z"
    }
   },
   "outputs": [
    {
     "name": "stdout",
     "output_type": "stream",
     "text": [
      "⚡ From Word2Vec to Modern Embeddings: The Tokenization Revolution\n",
      "===================================================================\n",
      "                    Aspect    Word-Level (Word2Vec Era)                  BPE (Modern Era)\n",
      "           Vocabulary Size      Limited (~1M words max)    Unlimited (subword vocabulary)\n",
      "Out-of-Vocabulary Handling      ❌ Unknown words ignored              ✅ 100% text coverage\n",
      "   Morphological Awareness   ❌ No subword understanding          ✅ Understands word parts\n",
      "      Multilingual Support ⚠️  Language-specific models          ✅ Universal tokenization\n",
      "       New Word Adaptation        ❌ Requires retraining ✅ Handles new terms automatically\n",
      "  Computational Efficiency            ✅ Simple and fast      ✅ Efficient with compression\n",
      "\n",
      "🚀 Real-World Impact at Yale:\n",
      "   • Word2Vec approach: ~85% vocabulary coverage on library catalog\n",
      "   • OpenAI BPE approach: 100% coverage, handles all terminology\n",
      "   • Cost: $35 to embed entire 17.6M record catalog\n",
      "   • Performance: 99.55% precision in entity resolution\n",
      "\n",
      "🎯 Why This Evolution Matters:\n",
      "   • BPE tokenization enables robust language understanding\n",
      "   • No vocabulary limitations mean broader applicability\n",
      "   • Subword awareness captures morphological relationships\n",
      "   • Universal approach works across domains and languages\n",
      "   • Foundation for transformer models and modern embeddings\n",
      "\n",
      "🔮 Looking Forward:\n",
      "   • Tokenization continues evolving (character-level, learned tokenizers)\n",
      "   • But BPE principles remain central to current state-of-the-art\n",
      "   • Understanding tokenization helps you choose the right tools\n",
      "   • Critical foundation for any text processing pipeline\n"
     ]
    }
   ],
   "source": [
    "# Final comparison: Why modern embeddings use BPE\n",
    "print(\"⚡ From Word2Vec to Modern Embeddings: The Tokenization Revolution\")\n",
    "print(\"=\" * 67)\n",
    "\n",
    "comparison_data = {\n",
    "    \"Aspect\": [\n",
    "        \"Vocabulary Size\",\n",
    "        \"Out-of-Vocabulary Handling\", \n",
    "        \"Morphological Awareness\",\n",
    "        \"Multilingual Support\",\n",
    "        \"New Word Adaptation\",\n",
    "        \"Computational Efficiency\"\n",
    "    ],\n",
    "    \"Word-Level (Word2Vec Era)\": [\n",
    "        \"Limited (~1M words max)\",\n",
    "        \"❌ Unknown words ignored\",\n",
    "        \"❌ No subword understanding\", \n",
    "        \"⚠️  Language-specific models\",\n",
    "        \"❌ Requires retraining\",\n",
    "        \"✅ Simple and fast\"\n",
    "    ],\n",
    "    \"BPE (Modern Era)\": [\n",
    "        \"Unlimited (subword vocabulary)\",\n",
    "        \"✅ 100% text coverage\",\n",
    "        \"✅ Understands word parts\",\n",
    "        \"✅ Universal tokenization\", \n",
    "        \"✅ Handles new terms automatically\",\n",
    "        \"✅ Efficient with compression\"\n",
    "    ]\n",
    "}\n",
    "\n",
    "df_comparison = pd.DataFrame(comparison_data)\n",
    "print(df_comparison.to_string(index=False))\n",
    "\n",
    "print(\"\\n🚀 Real-World Impact at Yale:\")\n",
    "print(\"   • Word2Vec approach: ~85% vocabulary coverage on library catalog\")\n",
    "print(\"   • OpenAI BPE approach: 100% coverage, handles all terminology\")\n",
    "print(\"   • Cost: $35 to embed entire 17.6M record catalog\")\n",
    "print(\"   • Performance: 99.55% precision in entity resolution\")\n",
    "\n",
    "print(\"\\n🎯 Why This Evolution Matters:\")\n",
    "print(\"   • BPE tokenization enables robust language understanding\")\n",
    "print(\"   • No vocabulary limitations mean broader applicability\") \n",
    "print(\"   • Subword awareness captures morphological relationships\")\n",
    "print(\"   • Universal approach works across domains and languages\")\n",
    "print(\"   • Foundation for transformer models and modern embeddings\")\n",
    "\n",
    "print(\"\\n🔮 Looking Forward:\")\n",
    "print(\"   • Tokenization continues evolving (character-level, learned tokenizers)\")\n",
    "print(\"   • But BPE principles remain central to current state-of-the-art\")\n",
    "print(\"   • Understanding tokenization helps you choose the right tools\")\n",
    "print(\"   • Critical foundation for any text processing pipeline\")"
   ]
  },
  {
   "cell_type": "markdown",
   "metadata": {},
   "source": [
    "## Summary: From Words to Meaning\n",
    "\n",
    "### What We've Learned\n",
    "\n",
    "1. **Vector Representation**: Words become points in high-dimensional space, capturing semantic relationships\n",
    "2. **Analogical Reasoning**: Vector arithmetic reveals learned relationships (king - man + woman = queen)\n",
    "3. **Entity Resolution**: Embeddings distinguish between people with identical names using contextual information\n",
    "4. **Multilingual Capabilities**: Semantic relationships can bridge language barriers\n",
    "5. **Tokenization Challenges**: How we split text affects what models can learn\n",
    "6. **Evolution Path**: From Word2Vec's word-level approach to modern subword tokenization\n",
    "\n",
    "### Next Steps: Building Production Systems\n",
    "\n",
    "Word2Vec provided the conceptual foundation, but modern entity resolution requires:\n",
    "- **Advanced embeddings** (OpenAI text-embedding-3-small)\n",
    "- **Vector databases** (Weaviate) for efficient similarity search\n",
    "- **Feature engineering** combining embeddings with domain knowledge\n",
    "- **Classification pipelines** for automated decision-making\n",
    "\n",
    "---\n",
    "\n",
    "**🎓 Congratulations!** You now understand the foundational concepts that power modern AI systems for text analysis and entity resolution. These same principles scale from library catalogs to web-scale applications, making semantic understanding accessible across diverse domains and languages."
   ]
  }
 ],
 "metadata": {
  "kernelspec": {
   "display_name": "Python 3 (ipykernel)",
   "language": "python",
   "name": "python3"
  },
  "language_info": {
   "codemirror_mode": {
    "name": "ipython",
    "version": 3
   },
   "file_extension": ".py",
   "mimetype": "text/x-python",
   "name": "python",
   "nbconvert_exporter": "python",
   "pygments_lexer": "ipython3",
   "version": "3.13.3"
  }
 },
 "nbformat": 4,
 "nbformat_minor": 4
}
