{
 "cells": [
  {
   "cell_type": "markdown",
   "metadata": {
    "id": "workshop-title"
   },
   "source": [
    "# Text Embeddings and Vector Search with Weaviate\n",
    "\n",
    "## Yale AI Research Techniques Workshop\n",
    "### July 2, 2025\n",
    "\n",
    "In this notebook, we'll explore:\n",
    "- How text embeddings encode semantic meaning\n",
    "- Building a vector database with Weaviate\n",
    "- Applying embeddings to entity resolution in library catalogs\n",
    "- Visualizing semantic relationships in vector space"
   ]
  },
  {
   "cell_type": "markdown",
   "metadata": {
    "id": "setup-section"
   },
   "source": [
    "## 1. Setup and Installation\n",
    "\n",
    "First, let's install the required packages and set up our environment."
   ]
  },
  {
   "cell_type": "code",
   "execution_count": null,
   "metadata": {
    "id": "install-packages"
   },
   "outputs": [],
   "source": [
    "# Install required packages\n",
    "!pip install -q weaviate-client openai numpy pandas matplotlib seaborn scikit-learn plotly"
   ]
  },
  {
   "cell_type": "code",
   "execution_count": 19,
   "metadata": {
    "execution": {
     "iopub.execute_input": "2025-07-01T00:57:58.818273Z",
     "iopub.status.busy": "2025-07-01T00:57:58.816654Z",
     "iopub.status.idle": "2025-07-01T00:57:58.830831Z",
     "shell.execute_reply": "2025-07-01T00:57:58.830182Z",
     "shell.execute_reply.started": "2025-07-01T00:57:58.818213Z"
    },
    "id": "imports"
   },
   "outputs": [],
   "source": [
    "# Import necessary libraries\n",
    "import os\n",
    "import json\n",
    "import hashlib\n",
    "import numpy as np\n",
    "import pandas as pd\n",
    "from typing import List, Dict, Tuple\n",
    "import matplotlib.pyplot as plt\n",
    "import seaborn as sns\n",
    "from sklearn.manifold import TSNE\n",
    "from sklearn.decomposition import PCA\n",
    "import plotly.express as px\n",
    "import plotly.graph_objects as go\n",
    "import warnings\n",
    "warnings.filterwarnings('ignore')\n",
    "\n",
    "# Weaviate and OpenAI imports\n",
    "import weaviate\n",
    "from weaviate.classes.config import Configure, Property, DataType, VectorDistances\n",
    "from weaviate.classes.query import Filter, MetadataQuery\n",
    "from weaviate.util import generate_uuid5\n",
    "from openai import OpenAI\n",
    "\n",
    "# Set visual style\n",
    "plt.style.use('seaborn-v0_8-darkgrid')\n",
    "sns.set_palette(\"husl\")"
   ]
  },
  {
   "cell_type": "code",
   "execution_count": 20,
   "metadata": {
    "execution": {
     "iopub.execute_input": "2025-07-01T00:58:04.440572Z",
     "iopub.status.busy": "2025-07-01T00:58:04.440165Z",
     "iopub.status.idle": "2025-07-01T00:58:04.461934Z",
     "shell.execute_reply": "2025-07-01T00:58:04.460875Z",
     "shell.execute_reply.started": "2025-07-01T00:58:04.440549Z"
    },
    "id": "api-keys"
   },
   "outputs": [],
   "source": [
    "# Set up API keys (you'll need to add your own)\n",
    "#from google.colab import userdata\n",
    "\n",
    "# Get OpenAI API key from Colab secrets\n",
    "#os.environ['OPENAI_API_KEY'] = userdata.get('OPENAI_API_KEY')\n",
    "\n",
    "# Initialize OpenAI client\n",
    "openai_client = OpenAI(api_key=os.environ['OPENAI_API_KEY'])"
   ]
  },
  {
   "cell_type": "markdown",
   "metadata": {
    "id": "embeddings-intro"
   },
   "source": [
    "## 2. Understanding Text Embeddings\n",
    "\n",
    "Text embeddings are numerical representations of text that capture semantic meaning. Words or phrases with similar meanings have similar vector representations."
   ]
  },
  {
   "cell_type": "code",
   "execution_count": 21,
   "metadata": {
    "execution": {
     "iopub.execute_input": "2025-07-01T00:58:07.179738Z",
     "iopub.status.busy": "2025-07-01T00:58:07.179452Z",
     "iopub.status.idle": "2025-07-01T00:58:09.027202Z",
     "shell.execute_reply": "2025-07-01T00:58:09.026103Z",
     "shell.execute_reply.started": "2025-07-01T00:58:07.179717Z"
    },
    "id": "simple-embedding"
   },
   "outputs": [
    {
     "name": "stdout",
     "output_type": "stream",
     "text": [
      "✓ Generated embedding for person: Schubert, Franz, 1797-1828...\n",
      "  Embedding shape: (1536,)\n",
      "  First 5 values: [-0.05884523 -0.06004278  0.00864612  0.00274869  0.02599514]\n",
      "\n",
      "✓ Generated embedding for person: Schubert, Franz August, 1805-1893...\n",
      "  Embedding shape: (1536,)\n",
      "  First 5 values: [-0.04930551 -0.05913316  0.00303193  0.01208591  0.02925293]\n",
      "\n",
      "✓ Generated embedding for person: Mozart, Wolfgang Amadeus, 1756-1791...\n",
      "  Embedding shape: (1536,)\n",
      "  First 5 values: [-0.01378832 -0.01859163  0.01254511  0.03422217  0.00568203]\n",
      "\n",
      "✓ Generated embedding for subjects: Photography in archaeology...\n",
      "  Embedding shape: (1536,)\n",
      "  First 5 values: [ 0.01174796  0.00791082 -0.01537484 -0.00876497 -0.04696554]\n",
      "\n",
      "✓ Generated embedding for subjects: Fotografía en arqueología...\n",
      "  Embedding shape: (1536,)\n",
      "  First 5 values: [ 0.00390061  0.00691184 -0.02545139  0.00825139 -0.05257172]\n",
      "\n",
      "✓ Generated embedding for subjects: Fotografia em arqueologia...\n",
      "  Embedding shape: (1536,)\n",
      "  First 5 values: [-0.00036724  0.00777096 -0.01854713  0.02493883 -0.03577108]\n",
      "\n",
      "✓ Generated embedding for title: Archäologie und Photographie: fünfzig Beispiele zu...\n",
      "  Embedding shape: (1536,)\n",
      "  First 5 values: [ 0.00790879  0.01210884 -0.02284409  0.00358458 -0.03072646]\n",
      "\n"
     ]
    }
   ],
   "source": [
    "# Let's create embeddings for some simple examples\n",
    "def get_embedding(text: str) -> np.ndarray:\n",
    "    \"\"\"Get embedding for a single text using OpenAI's API.\"\"\"\n",
    "    response = openai_client.embeddings.create(\n",
    "        model=\"text-embedding-3-small\",\n",
    "        input=text\n",
    "    )\n",
    "    return np.array(response.data[0].embedding)\n",
    "\n",
    "# Example texts - individual field values\n",
    "field_examples = [\n",
    "    (\"Schubert, Franz, 1797-1828\", \"person\"),\n",
    "    (\"Schubert, Franz August, 1805-1893\", \"person\"),\n",
    "    (\"Mozart, Wolfgang Amadeus, 1756-1791\", \"person\"),\n",
    "    (\"Photography in archaeology\", \"subjects\"),\n",
    "    (\"Fotografía en arqueología\", \"subjects\"),\n",
    "    (\"Fotografia em arqueologia\", \"subjects\"),\n",
    "    (\"Archäologie und Photographie: fünfzig Beispiele zur Geschichte und Methode\", \"title\")\n",
    "]\n",
    "\n",
    "# Generate embeddings\n",
    "embeddings = {}\n",
    "for text, field_type in field_examples:\n",
    "    embeddings[text] = get_embedding(text)\n",
    "    print(f\"✓ Generated embedding for {field_type}: {text[:50]}...\")\n",
    "    print(f\"  Embedding shape: {embeddings[text].shape}\")\n",
    "    print(f\"  First 5 values: {embeddings[text][:5]}\\n\")"
   ]
  },
  {
   "cell_type": "markdown",
   "metadata": {
    "id": "similarity-section"
   },
   "source": [
    "## 3. Measuring Semantic Similarity\n",
    "\n",
    "We use cosine similarity to measure how similar two embeddings are. Values range from -1 (opposite) to 1 (identical)."
   ]
  },
  {
   "cell_type": "code",
   "execution_count": 22,
   "metadata": {
    "execution": {
     "iopub.execute_input": "2025-07-01T00:58:11.712893Z",
     "iopub.status.busy": "2025-07-01T00:58:11.712430Z",
     "iopub.status.idle": "2025-07-01T00:58:11.908423Z",
     "shell.execute_reply": "2025-07-01T00:58:11.908112Z",
     "shell.execute_reply.started": "2025-07-01T00:58:11.712865Z"
    },
    "id": "cosine-similarity"
   },
   "outputs": [
    {
     "name": "stdout",
     "output_type": "stream",
     "text": [
      "Cosine Similarity Matrix:\n",
      "\n"
     ]
    },
    {
     "data": {
      "image/png": "[encoded data removed]",
      "text/plain": [
       "<Figure size 1000x800 with 2 Axes>"
      ]
     },
     "metadata": {},
     "output_type": "display_data"
    }
   ],
   "source": [
    "# Calculate cosine similarity\n",
    "def cosine_similarity(vec1: np.ndarray, vec2: np.ndarray) -> float:\n",
    "    \"\"\"Calculate cosine similarity between two vectors.\"\"\"\n",
    "    dot_product = np.dot(vec1, vec2)\n",
    "    norm1 = np.linalg.norm(vec1)\n",
    "    norm2 = np.linalg.norm(vec2)\n",
    "    return dot_product / (norm1 * norm2)\n",
    "\n",
    "# Compare all pairs\n",
    "print(\"Cosine Similarity Matrix:\\n\")\n",
    "texts = [text for text, _ in field_examples]\n",
    "similarity_matrix = pd.DataFrame(index=texts, columns=texts)\n",
    "\n",
    "for i, text1 in enumerate(texts):\n",
    "    for j, text2 in enumerate(texts):\n",
    "        sim = cosine_similarity(embeddings[text1], embeddings[text2])\n",
    "        similarity_matrix.iloc[i, j] = sim\n",
    "\n",
    "# Display as heatmap\n",
    "plt.figure(figsize=(10, 8))\n",
    "sns.heatmap(similarity_matrix.astype(float), annot=True, fmt='.3f', \n",
    "            cmap='coolwarm', center=0.5, vmin=0, vmax=1)\n",
    "plt.title('Semantic Similarity Between Field Values')\n",
    "plt.tight_layout()\n",
    "plt.show()"
   ]
  },
  {
   "cell_type": "markdown",
   "metadata": {
    "id": "observations"
   },
   "source": [
    "### Key Observations:\n",
    "- The two Franz Schuberts have high similarity despite being different people\n",
    "- Multilingual translations of the same concept have very high similarity\n",
    "- This demonstrates both the power and challenges of embeddings for entity resolution"
   ]
  },
  {
   "cell_type": "markdown",
   "metadata": {
    "id": "weaviate-setup"
   },
   "source": [
    "## 4. Setting Up Weaviate Vector Database\n",
    "\n",
    "Weaviate stores each unique string value as a separate object with its embedding."
   ]
  },
  {
   "cell_type": "code",
   "execution_count": 24,
   "metadata": {
    "execution": {
     "iopub.execute_input": "2025-07-01T00:58:37.350825Z",
     "iopub.status.busy": "2025-07-01T00:58:37.350243Z",
     "iopub.status.idle": "2025-07-01T00:58:37.563693Z",
     "shell.execute_reply": "2025-07-01T00:58:37.562929Z",
     "shell.execute_reply.started": "2025-07-01T00:58:37.350787Z"
    },
    "id": "weaviate-client"
   },
   "outputs": [
    {
     "name": "stdout",
     "output_type": "stream",
     "text": [
      "✓ Connected to Weaviate\n"
     ]
    }
   ],
   "source": [
    "# Set the API key in the format Weaviate expects\n",
    "os.environ['OPENAI_APIKEY'] = os.environ['OPENAI_API_KEY']\n",
    "\n",
    "# Connect to Weaviate local instance\n",
    "weaviate_client = weaviate.connect_to_local(\n",
    "    host=\"localhost\",\n",
    "    port=8080,\n",
    "    grpc_port=50051,\n",
    "    \n",
    ")\n",
    "\n",
    "print(\"✓ Connected to Weaviate\")"
   ]
  },
  {
   "cell_type": "code",
   "execution_count": 40,
   "metadata": {
    "execution": {
     "iopub.execute_input": "2025-07-01T01:11:14.081208Z",
     "iopub.status.busy": "2025-07-01T01:11:14.079813Z",
     "iopub.status.idle": "2025-07-01T01:11:14.320116Z",
     "shell.execute_reply": "2025-07-01T01:11:14.310623Z",
     "shell.execute_reply.started": "2025-07-01T01:11:14.081162Z"
    },
    "id": "create-schema"
   },
   "outputs": [
    {
     "name": "stdout",
     "output_type": "stream",
     "text": [
      "Deleted existing collection\n",
      "✓ Created CatalogString collection\n"
     ]
    }
   ],
   "source": [
    "# Create collection schema - each object is a field value\n",
    "try:\n",
    "    weaviate_client.collections.delete(\"CatalogString\")\n",
    "    print(\"Deleted existing collection\")\n",
    "except:\n",
    "    print(\"No existing collection to delete\")\n",
    "\n",
    "# Create collection WITHOUT auto-vectorization\n",
    "collection = weaviate_client.collections.create(\n",
    "    name=\"CatalogString\",\n",
    "    description=\"Collection for catalog string values with their embeddings\",\n",
    "    vector_index_config=Configure.VectorIndex.hnsw(\n",
    "        ef=128,\n",
    "        max_connections=64,\n",
    "        ef_construction=128,\n",
    "        distance_metric=VectorDistances.COSINE\n",
    "    ),\n",
    "    properties=[\n",
    "        Property(name=\"original_string\", data_type=DataType.TEXT),\n",
    "        Property(name=\"field_type\", data_type=DataType.TEXT),\n",
    "        Property(name=\"hash_value\", data_type=DataType.TEXT),\n",
    "        Property(name=\"frequency\", data_type=DataType.INT)\n",
    "    ]\n",
    ")\n",
    "\n",
    "print(\"✓ Created CatalogString collection\")"
   ]
  },
  {
   "cell_type": "markdown",
   "metadata": {
    "id": "hash-function"
   },
   "source": [
    "## 5. Hash-based Deduplication\n",
    "\n",
    "Like the entity resolution system, we use hashes to identify unique strings."
   ]
  },
  {
   "cell_type": "code",
   "execution_count": 41,
   "metadata": {
    "execution": {
     "iopub.execute_input": "2025-07-01T01:11:17.622411Z",
     "iopub.status.busy": "2025-07-01T01:11:17.621795Z",
     "iopub.status.idle": "2025-07-01T01:11:17.629906Z",
     "shell.execute_reply": "2025-07-01T01:11:17.629155Z",
     "shell.execute_reply.started": "2025-07-01T01:11:17.622373Z"
    },
    "id": "hash-utilities"
   },
   "outputs": [
    {
     "name": "stdout",
     "output_type": "stream",
     "text": [
      "Hash examples:\n",
      "Schubert, Franz, 1797-1828               → 76e9c6bb45f56486\n",
      "Schubert, Franz, 1797-1828               → 76e9c6bb45f56486\n",
      "Schubert, Franz August, 1805-1893        → 282c91090306763d\n"
     ]
    }
   ],
   "source": [
    "# Hash function for string deduplication\n",
    "def get_string_hash(text: str) -> str:\n",
    "    \"\"\"Generate hash for a string value.\"\"\"\n",
    "    return hashlib.md5(text.encode('utf-8')).hexdigest()[:16]\n",
    "\n",
    "# Test hash function\n",
    "test_strings = [\n",
    "    \"Schubert, Franz, 1797-1828\",\n",
    "    \"Schubert, Franz, 1797-1828\",  # Duplicate\n",
    "    \"Schubert, Franz August, 1805-1893\"\n",
    "]\n",
    "\n",
    "print(\"Hash examples:\")\n",
    "for s in test_strings:\n",
    "    print(f\"{s:40} → {get_string_hash(s)}\")"
   ]
  },
  {
   "cell_type": "markdown",
   "metadata": {
    "id": "sample-data"
   },
   "source": [
    "## 6. Preparing Library Catalog Data\n",
    "\n",
    "Let's create sample catalog records and extract unique field values."
   ]
  },
  {
   "cell_type": "code",
   "execution_count": 42,
   "metadata": {
    "execution": {
     "iopub.execute_input": "2025-07-01T01:11:19.915987Z",
     "iopub.status.busy": "2025-07-01T01:11:19.915380Z",
     "iopub.status.idle": "2025-07-01T01:11:19.923772Z",
     "shell.execute_reply": "2025-07-01T01:11:19.923261Z",
     "shell.execute_reply.started": "2025-07-01T01:11:19.915947Z"
    },
    "id": "create-dataset"
   },
   "outputs": [
    {
     "name": "stdout",
     "output_type": "stream",
     "text": [
      "Created 6 catalog records\n"
     ]
    }
   ],
   "source": [
    "# Sample catalog records\n",
    "catalog_records = [\n",
    "    {\n",
    "        \"personId\": \"12345#Agent700-1\",\n",
    "        \"person\": \"Schubert, Franz, 1797-1828\",\n",
    "        \"title\": \"Symphony No. 8 in B minor 'Unfinished'\",\n",
    "        \"subjects\": \"Symphonies; Romantic music\",\n",
    "        \"composite\": \"Contributor: Schubert, Franz, 1797-1828\\nTitle: Symphony No. 8 in B minor 'Unfinished'\\nSubjects: Symphonies; Romantic music\"\n",
    "    },\n",
    "    {\n",
    "        \"personId\": \"53144#Agent700-22\",\n",
    "        \"person\": \"Schubert, Franz August, 1805-1893\",\n",
    "        \"title\": \"Archäologie und Photographie: fünfzig Beispiele zur Geschichte und Methode\",\n",
    "        \"subjects\": \"Photography in archaeology\",\n",
    "        \"composite\": \"Contributor: Schubert, Franz August, 1805-1893\\nTitle: Archäologie und Photographie\\nSubjects: Photography in archaeology\"\n",
    "    },\n",
    "    {\n",
    "        \"personId\": \"67890#Agent700-3\",\n",
    "        \"person\": \"García Lorca, Federico, 1898-1936\",\n",
    "        \"title\": \"Romancero gitano\",\n",
    "        \"subjects\": \"Poesía española; Literatura del siglo XX\",\n",
    "        \"composite\": \"Contributor: García Lorca, Federico, 1898-1936\\nTitle: Romancero gitano\\nSubjects: Poesía española; Literatura del siglo XX\"\n",
    "    },\n",
    "    {\n",
    "        \"personId\": \"78901#Agent700-4\",\n",
    "        \"person\": \"Mello, Margarida, 1950-\",\n",
    "        \"title\": \"Métodos computacionais em arqueologia brasileira\",\n",
    "        \"subjects\": \"Arqueologia computacional; Brasil\",\n",
    "        \"composite\": \"Contributor: Mello, Margarida, 1950-\\nTitle: Métodos computacionais\\nSubjects: Arqueologia computacional\"\n",
    "    },\n",
    "    {\n",
    "        \"personId\": \"89012#Agent700-5\",\n",
    "        \"person\": \"Smith, Jennifer, 1975-\",\n",
    "        \"title\": \"Digital Methods in Archaeological Documentation\",\n",
    "        \"subjects\": \"Digital archaeology; Photography\",\n",
    "        \"composite\": \"Contributor: Smith, Jennifer, 1975-\\nTitle: Digital Methods\\nSubjects: Digital archaeology\"\n",
    "    },\n",
    "    {\n",
    "        \"personId\": \"90123#Agent700-6\",\n",
    "        \"person\": \"Mozart, Wolfgang Amadeus, 1756-1791\",\n",
    "        \"title\": \"Requiem in D minor, K. 626\",\n",
    "        \"subjects\": \"Requiems; Classical music\",\n",
    "        \"composite\": \"Contributor: Mozart, Wolfgang Amadeus, 1756-1791\\nTitle: Requiem in D minor\\nSubjects: Requiems; Classical music\"\n",
    "    }\n",
    "]\n",
    "\n",
    "print(f\"Created {len(catalog_records)} catalog records\")"
   ]
  },
  {
   "cell_type": "code",
   "execution_count": 43,
   "metadata": {
    "execution": {
     "iopub.execute_input": "2025-07-01T01:11:29.332599Z",
     "iopub.status.busy": "2025-07-01T01:11:29.332081Z",
     "iopub.status.idle": "2025-07-01T01:11:29.340867Z",
     "shell.execute_reply": "2025-07-01T01:11:29.340085Z",
     "shell.execute_reply.started": "2025-07-01T01:11:29.332568Z"
    },
    "id": "extract-fields"
   },
   "outputs": [
    {
     "name": "stdout",
     "output_type": "stream",
     "text": [
      "Unique field values to index:\n",
      "  person: 6 unique values\n",
      "  title: 6 unique values\n",
      "  composite: 6 unique values\n",
      "\n",
      "Example field value:\n",
      "  Hash: 76e9c6bb45f56486\n",
      "  Data: {'original_string': 'Schubert, Franz, 1797-1828', 'frequency': 1, 'field_type': 'person'}\n"
     ]
    }
   ],
   "source": [
    "# Extract unique field values with frequency counts\n",
    "field_values = {}\n",
    "fields_to_index = ['person', 'title', 'composite']  # Fields we want to embed\n",
    "\n",
    "for field in fields_to_index:\n",
    "    field_values[field] = {}\n",
    "    \n",
    "    for record in catalog_records:\n",
    "        if field in record and record[field]:\n",
    "            value = record[field]\n",
    "            hash_val = get_string_hash(value)\n",
    "            \n",
    "            if hash_val not in field_values[field]:\n",
    "                field_values[field][hash_val] = {\n",
    "                    'original_string': value,\n",
    "                    'frequency': 0,\n",
    "                    'field_type': field\n",
    "                }\n",
    "            field_values[field][hash_val]['frequency'] += 1\n",
    "\n",
    "# Display statistics\n",
    "print(\"Unique field values to index:\")\n",
    "for field, values in field_values.items():\n",
    "    print(f\"  {field}: {len(values)} unique values\")\n",
    "    \n",
    "# Show example\n",
    "print(\"\\nExample field value:\")\n",
    "example_hash = list(field_values['person'].keys())[0]\n",
    "print(f\"  Hash: {example_hash}\")\n",
    "print(f\"  Data: {field_values['person'][example_hash]}\")"
   ]
  },
  {
   "cell_type": "markdown",
   "metadata": {
    "id": "indexing"
   },
   "source": [
    "## 7. Indexing Field Values in Weaviate\n",
    "\n",
    "Each unique string value becomes an object in Weaviate."
   ]
  },
  {
   "cell_type": "code",
   "execution_count": 44,
   "metadata": {
    "execution": {
     "iopub.execute_input": "2025-07-01T01:12:40.835990Z",
     "iopub.status.busy": "2025-07-01T01:12:40.834559Z",
     "iopub.status.idle": "2025-07-01T01:12:45.839966Z",
     "shell.execute_reply": "2025-07-01T01:12:45.838828Z",
     "shell.execute_reply.started": "2025-07-01T01:12:40.835951Z"
    },
    "id": "index-data"
   },
   "outputs": [
    {
     "name": "stdout",
     "output_type": "stream",
     "text": [
      "Indexing field values...\n",
      "\n",
      "✓ Indexed 18 unique field values\n"
     ]
    }
   ],
   "source": [
    "# Index all unique field values\n",
    "print(\"Indexing field values...\\n\")\n",
    "os.environ['OPENAI_APIKEY'] = os.environ['OPENAI_API_KEY']\n",
    "\n",
    "indexed_count = 0\n",
    "with collection.batch.dynamic() as batch:\n",
    "    for field_type, hash_dict in field_values.items():\n",
    "        for hash_val, data in hash_dict.items():\n",
    "            # Generate UUID from hash and field type for consistency\n",
    "            uuid = generate_uuid5(f\"{hash_val}_{field_type}\")\n",
    "            \n",
    "            # Get embedding for this string\n",
    "            embedding = get_embedding(data['original_string'])\n",
    "            \n",
    "            # Add object with explicit vector\n",
    "            batch.add_object(\n",
    "                properties={\n",
    "                    \"original_string\": data['original_string'],\n",
    "                    \"field_type\": data['field_type'],\n",
    "                    \"hash_value\": hash_val,\n",
    "                    \"frequency\": data['frequency']\n",
    "                },\n",
    "                uuid=uuid,\n",
    "                vector=embedding.tolist()\n",
    "            )\n",
    "            indexed_count += 1\n",
    "            \n",
    "print(f\"✓ Indexed {indexed_count} unique field values\")"
   ]
  },
  {
   "cell_type": "markdown",
   "metadata": {
    "id": "vector-search"
   },
   "source": [
    "## 8. Vector Similarity Search\n",
    "\n",
    "Now let's search for similar field values using vector similarity."
   ]
  },
  {
   "cell_type": "code",
   "execution_count": 45,
   "metadata": {
    "execution": {
     "iopub.execute_input": "2025-07-01T01:12:51.771071Z",
     "iopub.status.busy": "2025-07-01T01:12:51.770586Z",
     "iopub.status.idle": "2025-07-01T01:12:52.085072Z",
     "shell.execute_reply": "2025-07-01T01:12:52.084398Z",
     "shell.execute_reply.started": "2025-07-01T01:12:51.771042Z"
    },
    "id": "search-similar"
   },
   "outputs": [
    {
     "name": "stdout",
     "output_type": "stream",
     "text": [
      "Searching for values similar to: 'Schubert, Franz'\n",
      "\n",
      "Total objects in collection: 18\n",
      "\n",
      "Search Results (person field only):\n",
      "\n",
      "1. Schubert, Franz, 1797-1828\n",
      "   Similarity: 0.9162\n",
      "   Hash: 76e9c6bb45f56486\n",
      "   Frequency: 1\n",
      "\n",
      "2. Schubert, Franz August, 1805-1893\n",
      "   Similarity: 0.8579\n",
      "   Hash: 282c91090306763d\n",
      "   Frequency: 1\n",
      "\n",
      "3. Mozart, Wolfgang Amadeus, 1756-1791\n",
      "   Similarity: 0.4860\n",
      "   Hash: 55d0ab3b2692f051\n",
      "   Frequency: 1\n",
      "\n",
      "4. García Lorca, Federico, 1898-1936\n",
      "   Similarity: 0.2416\n",
      "   Hash: f20bb17505fa930f\n",
      "   Frequency: 1\n",
      "\n",
      "5. Smith, Jennifer, 1975-\n",
      "   Similarity: 0.1956\n",
      "   Hash: 8322a94fa45e13bf\n",
      "   Frequency: 1\n",
      "\n"
     ]
    }
   ],
   "source": [
    "# Search for entities similar to \"Schubert, Franz\"\n",
    "search_text = \"Schubert, Franz\"\n",
    "search_embedding = get_embedding(search_text)\n",
    "\n",
    "print(f\"Searching for values similar to: '{search_text}'\\n\")\n",
    "\n",
    "# First, verify data exists\n",
    "count_result = collection.aggregate.over_all(total_count=True)\n",
    "print(f\"Total objects in collection: {count_result.total_count}\\n\")\n",
    "\n",
    "# Perform near_vector search with filter\n",
    "results = collection.query.near_vector(\n",
    "    near_vector=search_embedding.tolist(),\n",
    "    filters=Filter.by_property(\"field_type\").equal(\"person\"),\n",
    "    limit=5,\n",
    "    return_properties=[\"original_string\", \"field_type\", \"hash_value\", \"frequency\"],\n",
    "    return_metadata=MetadataQuery(distance=True),\n",
    "    include_vector=False\n",
    ")\n",
    "\n",
    "# Display results\n",
    "print(\"Search Results (person field only):\\n\")\n",
    "if not results.objects:\n",
    "    print(\"No results found. Checking all person objects:\")\n",
    "    # Debug: fetch all person objects\n",
    "    all_persons = collection.query.fetch_objects(\n",
    "        filters=Filter.by_property(\"field_type\").equal(\"person\"),\n",
    "        limit=10\n",
    "    )\n",
    "    for obj in all_persons.objects:\n",
    "        print(f\"- {obj.properties['original_string']}\")\n",
    "else:\n",
    "    for i, obj in enumerate(results.objects):\n",
    "        similarity = 1 - obj.metadata.distance  # Convert distance to similarity\n",
    "        print(f\"{i+1}. {obj.properties['original_string']}\")\n",
    "        print(f\"   Similarity: {similarity:.4f}\")\n",
    "        print(f\"   Hash: {obj.properties['hash_value']}\")\n",
    "        print(f\"   Frequency: {obj.properties['frequency']}\")\n",
    "        print()"
   ]
  },
  {
   "cell_type": "markdown",
   "metadata": {
    "id": "entity-resolution"
   },
   "source": [
    "## 9. Entity Resolution with Field Comparisons\n",
    "\n",
    "Let's see how to use multiple fields for entity resolution."
   ]
  },
  {
   "cell_type": "code",
   "execution_count": 46,
   "metadata": {
    "execution": {
     "iopub.execute_input": "2025-07-01T01:13:11.342157Z",
     "iopub.status.busy": "2025-07-01T01:13:11.341368Z",
     "iopub.status.idle": "2025-07-01T01:13:11.349179Z",
     "shell.execute_reply": "2025-07-01T01:13:11.347875Z",
     "shell.execute_reply.started": "2025-07-01T01:13:11.342122Z"
    },
    "id": "build-hash-lookup"
   },
   "outputs": [
    {
     "name": "stdout",
     "output_type": "stream",
     "text": [
      "Built hash lookup for entity resolution\n",
      "\n",
      "Example - Schubert, Franz, 1797-1828:\n",
      "{'person': '76e9c6bb45f56486', 'title': 'fdd9668b00f41076', 'composite': '148610f0a7daceac'}\n"
     ]
    }
   ],
   "source": [
    "# Build hash lookup for our records\n",
    "hash_lookup = {}\n",
    "for record in catalog_records:\n",
    "    person_id = record['personId']\n",
    "    hash_lookup[person_id] = {}\n",
    "    \n",
    "    for field in ['person', 'title', 'composite']:\n",
    "        if field in record and record[field]:\n",
    "            hash_lookup[person_id][field] = get_string_hash(record[field])\n",
    "\n",
    "print(\"Built hash lookup for entity resolution\")\n",
    "print(f\"\\nExample - {catalog_records[0]['person']}:\")\n",
    "print(hash_lookup[catalog_records[0]['personId']])"
   ]
  },
  {
   "cell_type": "code",
   "execution_count": 47,
   "metadata": {
    "execution": {
     "iopub.execute_input": "2025-07-01T01:13:35.049520Z",
     "iopub.status.busy": "2025-07-01T01:13:35.049017Z",
     "iopub.status.idle": "2025-07-01T01:13:35.071646Z",
     "shell.execute_reply": "2025-07-01T01:13:35.071219Z",
     "shell.execute_reply.started": "2025-07-01T01:13:35.049490Z"
    },
    "id": "get-vectors"
   },
   "outputs": [
    {
     "name": "stdout",
     "output_type": "stream",
     "text": [
      "Retrieving vectors for entity resolution...\n",
      "\n",
      "person similarity: 0.8967\n",
      "title similarity: 0.0016\n",
      "composite similarity: 0.4722\n"
     ]
    }
   ],
   "source": [
    "# Retrieve vectors for specific field values\n",
    "def get_vector_by_hash(hash_value: str, field_type: str):\n",
    "    \"\"\"Retrieve vector for a specific hash and field type.\"\"\"\n",
    "    uuid = generate_uuid5(f\"{hash_value}_{field_type}\")\n",
    "    \n",
    "    try:\n",
    "        result = collection.query.fetch_object_by_id(\n",
    "            uuid,\n",
    "            include_vector=True\n",
    "        )\n",
    "        \n",
    "        if result and hasattr(result, 'vector'):\n",
    "            # Handle both dict and direct vector formats\n",
    "            if isinstance(result.vector, dict) and 'default' in result.vector:\n",
    "                return np.array(result.vector['default'])\n",
    "            else:\n",
    "                return np.array(result.vector)\n",
    "    except:\n",
    "        return None\n",
    "    return None\n",
    "\n",
    "# Get vectors for our two Schuberts\n",
    "schubert_composer_id = \"12345#Agent700-1\"\n",
    "schubert_artist_id = \"53144#Agent700-22\"\n",
    "\n",
    "print(\"Retrieving vectors for entity resolution...\\n\")\n",
    "\n",
    "# Get vectors for each field\n",
    "composer_vectors = {}\n",
    "artist_vectors = {}\n",
    "\n",
    "for field in ['person', 'title', 'composite']:\n",
    "    composer_hash = hash_lookup[schubert_composer_id][field]\n",
    "    artist_hash = hash_lookup[schubert_artist_id][field]\n",
    "    \n",
    "    composer_vectors[field] = get_vector_by_hash(composer_hash, field)\n",
    "    artist_vectors[field] = get_vector_by_hash(artist_hash, field)\n",
    "    \n",
    "    if composer_vectors[field] is not None and artist_vectors[field] is not None:\n",
    "        similarity = cosine_similarity(composer_vectors[field], artist_vectors[field])\n",
    "        print(f\"{field} similarity: {similarity:.4f}\")"
   ]
  },
  {
   "cell_type": "markdown",
   "metadata": {
    "id": "visualization"
   },
   "source": [
    "## 10. Visualizing Field Values in Vector Space\n",
    "\n",
    "Let's visualize how different field values cluster in vector space."
   ]
  },
  {
   "cell_type": "code",
   "execution_count": 48,
   "metadata": {
    "execution": {
     "iopub.execute_input": "2025-07-01T01:13:55.904876Z",
     "iopub.status.busy": "2025-07-01T01:13:55.904347Z",
     "iopub.status.idle": "2025-07-01T01:13:55.936038Z",
     "shell.execute_reply": "2025-07-01T01:13:55.935490Z",
     "shell.execute_reply.started": "2025-07-01T01:13:55.904847Z"
    },
    "id": "extract-all-vectors"
   },
   "outputs": [
    {
     "name": "stdout",
     "output_type": "stream",
     "text": [
      "Extracted 18 vectors for visualization\n"
     ]
    }
   ],
   "source": [
    "# Extract all vectors from collection\n",
    "all_results = collection.query.fetch_objects(\n",
    "    limit=100,\n",
    "    include_vector=True,\n",
    "    return_properties=[\"original_string\", \"field_type\", \"hash_value\"]\n",
    ")\n",
    "\n",
    "# Prepare data for visualization\n",
    "vectors = []\n",
    "labels = []\n",
    "field_types = []\n",
    "\n",
    "for obj in all_results.objects:\n",
    "    if hasattr(obj, 'vector') and obj.vector:\n",
    "        # Handle both dict and direct vector formats\n",
    "        if isinstance(obj.vector, dict) and 'default' in obj.vector:\n",
    "            vectors.append(obj.vector['default'])\n",
    "        else:\n",
    "            vectors.append(obj.vector)\n",
    "        \n",
    "        # Create label\n",
    "        text = obj.properties['original_string'][:30] + '...'\n",
    "        labels.append(f\"{obj.properties['field_type']}: {text}\")\n",
    "        field_types.append(obj.properties['field_type'])\n",
    "\n",
    "vectors = np.array(vectors)\n",
    "print(f\"Extracted {len(vectors)} vectors for visualization\")"
   ]
  },
  {
   "cell_type": "code",
   "execution_count": 49,
   "metadata": {
    "execution": {
     "iopub.execute_input": "2025-07-01T01:13:59.268555Z",
     "iopub.status.busy": "2025-07-01T01:13:59.268096Z",
     "iopub.status.idle": "2025-07-01T01:14:02.660336Z",
     "shell.execute_reply": "2025-07-01T01:14:02.660047Z",
     "shell.execute_reply.started": "2025-07-01T01:13:59.268526Z"
    },
    "id": "tsne-vis"
   },
   "outputs": [
    {
     "name": "stdout",
     "output_type": "stream",
     "text": [
      "Creating t-SNE visualization...\n"
     ]
    },
    {
     "data": {
      "application/vnd.plotly.v1+json": {
       "config": {
        "plotlyServerURL": "https://plot.ly"
       },
       "data": [
        {
         "hovertemplate": "<b>%{hovertext}</b><br><br>field_type=person<br>t-SNE 1=%{x}<br>t-SNE 2=%{y}<extra></extra>",
         "hovertext": [
          "person: Mello, Margarida, 1950-...",
          "person: Mozart, Wolfgang Amadeus, 1756...",
          "person: Schubert, Franz, 1797-1828...",
          "person: Smith, Jennifer, 1975-...",
          "person: García Lorca, Federico, 1898-1...",
          "person: Schubert, Franz August, 1805-1..."
         ],
         "legendgroup": "person",
         "marker": {
          "color": "#636efa",
          "size": 10,
          "symbol": "circle"
         },
         "mode": "markers",
         "name": "person",
         "orientation": "v",
         "showlegend": true,
         "type": "scatter",
         "x": {
          "_inputArray": {
           "0": -17.926998138427734,
           "1": 5.029171943664551,
           "2": -5.123263359069824,
           "3": -16.74509620666504,
           "4": 28.23744773864746,
           "5": -5.8733062744140625,
           "bdata": "fmqPwfruoEDG8aPA9fWFwUvm4UEg8rvA",
           "dtype": "f4",
           "shape": "6"
          },
          "bdata": "fmqPwfruoEDG8aPA9fWFwUvm4UEg8rvA",
          "dtype": "f4"
         },
         "xaxis": "x",
         "y": {
          "_inputArray": {
           "0": 36.83140182495117,
           "1": -71.32404327392578,
           "2": -55.517005920410156,
           "3": 3.855167865753174,
           "4": 14.049153327941895,
           "5": -45.48615646362305,
           "bdata": "W1MTQumljsJqEV7CErt2QFXJYEHT8TXC",
           "dtype": "f4",
           "shape": "6"
          },
          "bdata": "W1MTQumljsJqEV7CErt2QFXJYEHT8TXC",
          "dtype": "f4"
         },
         "yaxis": "y"
        },
        {
         "hovertemplate": "<b>%{hovertext}</b><br><br>field_type=title<br>t-SNE 1=%{x}<br>t-SNE 2=%{y}<extra></extra>",
         "hovertext": [
          "title: Symphony No. 8 in B minor 'Unf...",
          "title: Digital Methods in Archaeologi...",
          "title: Métodos computacionais em arqu...",
          "title: Archäologie und Photographie: ...",
          "title: Romancero gitano...",
          "title: Requiem in D minor, K. 626..."
         ],
         "legendgroup": "title",
         "marker": {
          "color": "#EF553B",
          "size": 10,
          "symbol": "circle"
         },
         "mode": "markers",
         "name": "title",
         "orientation": "v",
         "showlegend": true,
         "type": "scatter",
         "x": {
          "_inputArray": {
           "0": 27.732919692993164,
           "1": -41.567901611328125,
           "2": -40.59416198730469,
           "3": -38.81291961669922,
           "4": 39.81022644042969,
           "5": 32.114356994628906,
           "bdata": "Bd3dQYhFJsJsYCLCbkAbwqw9H0IadQBC",
           "dtype": "f4",
           "shape": "6"
          },
          "bdata": "Bd3dQYhFJsJsYCLCbkAbwqw9H0IadQBC",
          "dtype": "f4"
         },
         "xaxis": "x",
         "y": {
          "_inputArray": {
           "0": -46.430152893066406,
           "1": 4.751491069793701,
           "2": 24.61878204345703,
           "3": -20.12405014038086,
           "4": -4.794946670532227,
           "5": -68.96724700927734,
           "bdata": "erg5wjcMmEBE88RBDv6gwTRwmcA774nC",
           "dtype": "f4",
           "shape": "6"
          },
          "bdata": "erg5wjcMmEBE88RBDv6gwTRwmcA774nC",
          "dtype": "f4"
         },
         "yaxis": "y"
        },
        {
         "hovertemplate": "<b>%{hovertext}</b><br><br>field_type=composite<br>t-SNE 1=%{x}<br>t-SNE 2=%{y}<extra></extra>",
         "hovertext": [
          "composite: Contributor: Schubert, Franz, ...",
          "composite: Contributor: Schubert, Franz A...",
          "composite: Contributor: Mello, Margarida,...",
          "composite: Contributor: García Lorca, Fed...",
          "composite: Contributor: Smith, Jennifer, ...",
          "composite: Contributor: Mozart, Wolfgang ..."
         ],
         "legendgroup": "composite",
         "marker": {
          "color": "#00cc96",
          "size": 10,
          "symbol": "circle"
         },
         "mode": "markers",
         "name": "composite",
         "orientation": "v",
         "showlegend": true,
         "type": "scatter",
         "x": {
          "_inputArray": {
           "0": 17.117624282836914,
           "1": -31.403057098388672,
           "2": -30.355180740356445,
           "3": 34.07851791381836,
           "4": -30.074193954467773,
           "5": 21.413328170776367,
           "bdata": "5fCIQXY5+8Fp1/LBZ1AIQvOX8MF/TqtB",
           "dtype": "f4",
           "shape": "6"
          },
          "bdata": "5fCIQXY5+8Fp1/LBZ1AIQvOX8MF/TqtB",
          "dtype": "f4"
         },
         "xaxis": "x",
         "y": {
          "_inputArray": {
           "0": -45.811546325683594,
           "1": -28.825057983398438,
           "2": 29.511491775512695,
           "3": 4.34107780456543,
           "4": 5.481597900390625,
           "5": -71.40814971923828,
           "bdata": "Bj83wriZ5sGJF+xBHOqKQEBpr0D50I7C",
           "dtype": "f4",
           "shape": "6"
          },
          "bdata": "Bj83wriZ5sGJF+xBHOqKQEBpr0D50I7C",
          "dtype": "f4"
         },
         "yaxis": "y"
        }
       ],
       "layout": {
        "height": 600,
        "legend": {
         "title": {
          "text": "field_type"
         },
         "tracegroupgap": 0
        },
        "template": {
         "data": {
          "bar": [
           {
            "error_x": {
             "color": "#2a3f5f"
            },
            "error_y": {
             "color": "#2a3f5f"
            },
            "marker": {
             "line": {
              "color": "#E5ECF6",
              "width": 0.5
             },
             "pattern": {
              "fillmode": "overlay",
              "size": 10,
              "solidity": 0.2
             }
            },
            "type": "bar"
           }
          ],
          "barpolar": [
           {
            "marker": {
             "line": {
              "color": "#E5ECF6",
              "width": 0.5
             },
             "pattern": {
              "fillmode": "overlay",
              "size": 10,
              "solidity": 0.2
             }
            },
            "type": "barpolar"
           }
          ],
          "carpet": [
           {
            "aaxis": {
             "endlinecolor": "#2a3f5f",
             "gridcolor": "white",
             "linecolor": "white",
             "minorgridcolor": "white",
             "startlinecolor": "#2a3f5f"
            },
            "baxis": {
             "endlinecolor": "#2a3f5f",
             "gridcolor": "white",
             "linecolor": "white",
             "minorgridcolor": "white",
             "startlinecolor": "#2a3f5f"
            },
            "type": "carpet"
           }
          ],
          "choropleth": [
           {
            "colorbar": {
             "outlinewidth": 0,
             "ticks": ""
            },
            "type": "choropleth"
           }
          ],
          "contour": [
           {
            "colorbar": {
             "outlinewidth": 0,
             "ticks": ""
            },
            "colorscale": [
             [
              0,
              "#0d0887"
             ],
             [
              0.1111111111111111,
              "#46039f"
             ],
             [
              0.2222222222222222,
              "#7201a8"
             ],
             [
              0.3333333333333333,
              "#9c179e"
             ],
             [
              0.4444444444444444,
              "#bd3786"
             ],
             [
              0.5555555555555556,
              "#d8576b"
             ],
             [
              0.6666666666666666,
              "#ed7953"
             ],
             [
              0.7777777777777778,
              "#fb9f3a"
             ],
             [
              0.8888888888888888,
              "#fdca26"
             ],
             [
              1,
              "#f0f921"
             ]
            ],
            "type": "contour"
           }
          ],
          "contourcarpet": [
           {
            "colorbar": {
             "outlinewidth": 0,
             "ticks": ""
            },
            "type": "contourcarpet"
           }
          ],
          "heatmap": [
           {
            "colorbar": {
             "outlinewidth": 0,
             "ticks": ""
            },
            "colorscale": [
             [
              0,
              "#0d0887"
             ],
             [
              0.1111111111111111,
              "#46039f"
             ],
             [
              0.2222222222222222,
              "#7201a8"
             ],
             [
              0.3333333333333333,
              "#9c179e"
             ],
             [
              0.4444444444444444,
              "#bd3786"
             ],
             [
              0.5555555555555556,
              "#d8576b"
             ],
             [
              0.6666666666666666,
              "#ed7953"
             ],
             [
              0.7777777777777778,
              "#fb9f3a"
             ],
             [
              0.8888888888888888,
              "#fdca26"
             ],
             [
              1,
              "#f0f921"
             ]
            ],
            "type": "heatmap"
           }
          ],
          "histogram": [
           {
            "marker": {
             "pattern": {
              "fillmode": "overlay",
              "size": 10,
              "solidity": 0.2
             }
            },
            "type": "histogram"
           }
          ],
          "histogram2d": [
           {
            "colorbar": {
             "outlinewidth": 0,
             "ticks": ""
            },
            "colorscale": [
             [
              0,
              "#0d0887"
             ],
             [
              0.1111111111111111,
              "#46039f"
             ],
             [
              0.2222222222222222,
              "#7201a8"
             ],
             [
              0.3333333333333333,
              "#9c179e"
             ],
             [
              0.4444444444444444,
              "#bd3786"
             ],
             [
              0.5555555555555556,
              "#d8576b"
             ],
             [
              0.6666666666666666,
              "#ed7953"
             ],
             [
              0.7777777777777778,
              "#fb9f3a"
             ],
             [
              0.8888888888888888,
              "#fdca26"
             ],
             [
              1,
              "#f0f921"
             ]
            ],
            "type": "histogram2d"
           }
          ],
          "histogram2dcontour": [
           {
            "colorbar": {
             "outlinewidth": 0,
             "ticks": ""
            },
            "colorscale": [
             [
              0,
              "#0d0887"
             ],
             [
              0.1111111111111111,
              "#46039f"
             ],
             [
              0.2222222222222222,
              "#7201a8"
             ],
             [
              0.3333333333333333,
              "#9c179e"
             ],
             [
              0.4444444444444444,
              "#bd3786"
             ],
             [
              0.5555555555555556,
              "#d8576b"
             ],
             [
              0.6666666666666666,
              "#ed7953"
             ],
             [
              0.7777777777777778,
              "#fb9f3a"
             ],
             [
              0.8888888888888888,
              "#fdca26"
             ],
             [
              1,
              "#f0f921"
             ]
            ],
            "type": "histogram2dcontour"
           }
          ],
          "mesh3d": [
           {
            "colorbar": {
             "outlinewidth": 0,
             "ticks": ""
            },
            "type": "mesh3d"
           }
          ],
          "parcoords": [
           {
            "line": {
             "colorbar": {
              "outlinewidth": 0,
              "ticks": ""
             }
            },
            "type": "parcoords"
           }
          ],
          "pie": [
           {
            "automargin": true,
            "type": "pie"
           }
          ],
          "scatter": [
           {
            "fillpattern": {
             "fillmode": "overlay",
             "size": 10,
             "solidity": 0.2
            },
            "type": "scatter"
           }
          ],
          "scatter3d": [
           {
            "line": {
             "colorbar": {
              "outlinewidth": 0,
              "ticks": ""
             }
            },
            "marker": {
             "colorbar": {
              "outlinewidth": 0,
              "ticks": ""
             }
            },
            "type": "scatter3d"
           }
          ],
          "scattercarpet": [
           {
            "marker": {
             "colorbar": {
              "outlinewidth": 0,
              "ticks": ""
             }
            },
            "type": "scattercarpet"
           }
          ],
          "scattergeo": [
           {
            "marker": {
             "colorbar": {
              "outlinewidth": 0,
              "ticks": ""
             }
            },
            "type": "scattergeo"
           }
          ],
          "scattergl": [
           {
            "marker": {
             "colorbar": {
              "outlinewidth": 0,
              "ticks": ""
             }
            },
            "type": "scattergl"
           }
          ],
          "scattermap": [
           {
            "marker": {
             "colorbar": {
              "outlinewidth": 0,
              "ticks": ""
             }
            },
            "type": "scattermap"
           }
          ],
          "scattermapbox": [
           {
            "marker": {
             "colorbar": {
              "outlinewidth": 0,
              "ticks": ""
             }
            },
            "type": "scattermapbox"
           }
          ],
          "scatterpolar": [
           {
            "marker": {
             "colorbar": {
              "outlinewidth": 0,
              "ticks": ""
             }
            },
            "type": "scatterpolar"
           }
          ],
          "scatterpolargl": [
           {
            "marker": {
             "colorbar": {
              "outlinewidth": 0,
              "ticks": ""
             }
            },
            "type": "scatterpolargl"
           }
          ],
          "scatterternary": [
           {
            "marker": {
             "colorbar": {
              "outlinewidth": 0,
              "ticks": ""
             }
            },
            "type": "scatterternary"
           }
          ],
          "surface": [
           {
            "colorbar": {
             "outlinewidth": 0,
             "ticks": ""
            },
            "colorscale": [
             [
              0,
              "#0d0887"
             ],
             [
              0.1111111111111111,
              "#46039f"
             ],
             [
              0.2222222222222222,
              "#7201a8"
             ],
             [
              0.3333333333333333,
              "#9c179e"
             ],
             [
              0.4444444444444444,
              "#bd3786"
             ],
             [
              0.5555555555555556,
              "#d8576b"
             ],
             [
              0.6666666666666666,
              "#ed7953"
             ],
             [
              0.7777777777777778,
              "#fb9f3a"
             ],
             [
              0.8888888888888888,
              "#fdca26"
             ],
             [
              1,
              "#f0f921"
             ]
            ],
            "type": "surface"
           }
          ],
          "table": [
           {
            "cells": {
             "fill": {
              "color": "#EBF0F8"
             },
             "line": {
              "color": "white"
             }
            },
            "header": {
             "fill": {
              "color": "#C8D4E3"
             },
             "line": {
              "color": "white"
             }
            },
            "type": "table"
           }
          ]
         },
         "layout": {
          "annotationdefaults": {
           "arrowcolor": "#2a3f5f",
           "arrowhead": 0,
           "arrowwidth": 1
          },
          "autotypenumbers": "strict",
          "coloraxis": {
           "colorbar": {
            "outlinewidth": 0,
            "ticks": ""
           }
          },
          "colorscale": {
           "diverging": [
            [
             0,
             "#8e0152"
            ],
            [
             0.1,
             "#c51b7d"
            ],
            [
             0.2,
             "#de77ae"
            ],
            [
             0.3,
             "#f1b6da"
            ],
            [
             0.4,
             "#fde0ef"
            ],
            [
             0.5,
             "#f7f7f7"
            ],
            [
             0.6,
             "#e6f5d0"
            ],
            [
             0.7,
             "#b8e186"
            ],
            [
             0.8,
             "#7fbc41"
            ],
            [
             0.9,
             "#4d9221"
            ],
            [
             1,
             "#276419"
            ]
           ],
           "sequential": [
            [
             0,
             "#0d0887"
            ],
            [
             0.1111111111111111,
             "#46039f"
            ],
            [
             0.2222222222222222,
             "#7201a8"
            ],
            [
             0.3333333333333333,
             "#9c179e"
            ],
            [
             0.4444444444444444,
             "#bd3786"
            ],
            [
             0.5555555555555556,
             "#d8576b"
            ],
            [
             0.6666666666666666,
             "#ed7953"
            ],
            [
             0.7777777777777778,
             "#fb9f3a"
            ],
            [
             0.8888888888888888,
             "#fdca26"
            ],
            [
             1,
             "#f0f921"
            ]
           ],
           "sequentialminus": [
            [
             0,
             "#0d0887"
            ],
            [
             0.1111111111111111,
             "#46039f"
            ],
            [
             0.2222222222222222,
             "#7201a8"
            ],
            [
             0.3333333333333333,
             "#9c179e"
            ],
            [
             0.4444444444444444,
             "#bd3786"
            ],
            [
             0.5555555555555556,
             "#d8576b"
            ],
            [
             0.6666666666666666,
             "#ed7953"
            ],
            [
             0.7777777777777778,
             "#fb9f3a"
            ],
            [
             0.8888888888888888,
             "#fdca26"
            ],
            [
             1,
             "#f0f921"
            ]
           ]
          },
          "colorway": [
           "#636efa",
           "#EF553B",
           "#00cc96",
           "#ab63fa",
           "#FFA15A",
           "#19d3f3",
           "#FF6692",
           "#B6E880",
           "#FF97FF",
           "#FECB52"
          ],
          "font": {
           "color": "#2a3f5f"
          },
          "geo": {
           "bgcolor": "white",
           "lakecolor": "white",
           "landcolor": "#E5ECF6",
           "showlakes": true,
           "showland": true,
           "subunitcolor": "white"
          },
          "hoverlabel": {
           "align": "left"
          },
          "hovermode": "closest",
          "mapbox": {
           "style": "light"
          },
          "paper_bgcolor": "white",
          "plot_bgcolor": "#E5ECF6",
          "polar": {
           "angularaxis": {
            "gridcolor": "white",
            "linecolor": "white",
            "ticks": ""
           },
           "bgcolor": "#E5ECF6",
           "radialaxis": {
            "gridcolor": "white",
            "linecolor": "white",
            "ticks": ""
           }
          },
          "scene": {
           "xaxis": {
            "backgroundcolor": "#E5ECF6",
            "gridcolor": "white",
            "gridwidth": 2,
            "linecolor": "white",
            "showbackground": true,
            "ticks": "",
            "zerolinecolor": "white"
           },
           "yaxis": {
            "backgroundcolor": "#E5ECF6",
            "gridcolor": "white",
            "gridwidth": 2,
            "linecolor": "white",
            "showbackground": true,
            "ticks": "",
            "zerolinecolor": "white"
           },
           "zaxis": {
            "backgroundcolor": "#E5ECF6",
            "gridcolor": "white",
            "gridwidth": 2,
            "linecolor": "white",
            "showbackground": true,
            "ticks": "",
            "zerolinecolor": "white"
           }
          },
          "shapedefaults": {
           "line": {
            "color": "#2a3f5f"
           }
          },
          "ternary": {
           "aaxis": {
            "gridcolor": "white",
            "linecolor": "white",
            "ticks": ""
           },
           "baxis": {
            "gridcolor": "white",
            "linecolor": "white",
            "ticks": ""
           },
           "bgcolor": "#E5ECF6",
           "caxis": {
            "gridcolor": "white",
            "linecolor": "white",
            "ticks": ""
           }
          },
          "title": {
           "x": 0.05
          },
          "xaxis": {
           "automargin": true,
           "gridcolor": "white",
           "linecolor": "white",
           "ticks": "",
           "title": {
            "standoff": 15
           },
           "zerolinecolor": "white",
           "zerolinewidth": 2
          },
          "yaxis": {
           "automargin": true,
           "gridcolor": "white",
           "linecolor": "white",
           "ticks": "",
           "title": {
            "standoff": 15
           },
           "zerolinecolor": "white",
           "zerolinewidth": 2
          }
         }
        },
        "title": {
         "text": "Field Values in Vector Space (t-SNE)"
        },
        "width": 900,
        "xaxis": {
         "anchor": "y",
         "autorange": true,
         "domain": [
          0,
          1
         ],
         "range": [
          -47.02176757187842,
          45.26409240097998
         ],
         "title": {
          "text": "t-SNE 1"
         },
         "type": "linear"
        },
        "yaxis": {
         "anchor": "x",
         "autorange": true,
         "domain": [
          0,
          1
         ],
         "range": [
          -79.4779931654193,
          44.90124527113219
         ],
         "title": {
          "text": "t-SNE 2"
         },
         "type": "linear"
        }
       }
      },
      "image/png": "[encoded data removed]"
     },
     "metadata": {},
     "output_type": "display_data"
    },
    {
     "data": {
      "image/png": "[encoded data removed]",
      "text/plain": [
       "<Figure size 1000x800 with 1 Axes>"
      ]
     },
     "metadata": {},
     "output_type": "display_data"
    }
   ],
   "source": [
    "# t-SNE visualization colored by field type\n",
    "print(\"Creating t-SNE visualization...\")\n",
    "tsne = TSNE(n_components=2, random_state=42, perplexity=5)\n",
    "vectors_2d = tsne.fit_transform(vectors)\n",
    "\n",
    "# Create DataFrame for plotting\n",
    "plot_df = pd.DataFrame({\n",
    "    'x': vectors_2d[:, 0],\n",
    "    'y': vectors_2d[:, 1],\n",
    "    'label': labels,\n",
    "    'field_type': field_types\n",
    "})\n",
    "\n",
    "# Create interactive plot\n",
    "fig = px.scatter(plot_df, x='x', y='y', color='field_type',\n",
    "                 hover_name='label',\n",
    "                 title='Field Values in Vector Space (t-SNE)',\n",
    "                 labels={'x': 't-SNE 1', 'y': 't-SNE 2'},\n",
    "                 width=900, height=600)\n",
    "\n",
    "fig.update_traces(marker=dict(size=10))\n",
    "fig.show()\n",
    "\n",
    "# Also create static plot\n",
    "plt.figure(figsize=(10, 8))\n",
    "colors = {'person': 'blue', 'title': 'green', 'composite': 'red'}\n",
    "for field_type in colors:\n",
    "    mask = plot_df['field_type'] == field_type\n",
    "    plt.scatter(plot_df[mask]['x'], plot_df[mask]['y'], \n",
    "               c=colors[field_type], label=field_type, s=100, alpha=0.7)\n",
    "\n",
    "plt.legend()\n",
    "plt.title('Field Values Colored by Type')\n",
    "plt.xlabel('t-SNE Dimension 1')\n",
    "plt.ylabel('t-SNE Dimension 2')\n",
    "plt.grid(True, alpha=0.3)\n",
    "plt.show()"
   ]
  },
  {
   "cell_type": "markdown",
   "metadata": {
    "id": "cross-field"
   },
   "source": [
    "## 11. Cross-Field Similarity Analysis\n",
    "\n",
    "Let's analyze how different field types relate to each other."
   ]
  },
  {
   "cell_type": "code",
   "execution_count": 50,
   "metadata": {
    "execution": {
     "iopub.execute_input": "2025-07-01T01:14:47.976468Z",
     "iopub.status.busy": "2025-07-01T01:14:47.975886Z",
     "iopub.status.idle": "2025-07-01T01:14:48.316014Z",
     "shell.execute_reply": "2025-07-01T01:14:48.313503Z",
     "shell.execute_reply.started": "2025-07-01T01:14:47.976434Z"
    },
    "id": "cross-field-search"
   },
   "outputs": [
    {
     "name": "stdout",
     "output_type": "stream",
     "text": [
      "Cross-field search for: 'archaeological photography documentation'\n",
      "\n",
      "\n",
      "PERSON matches:\n",
      "  • Smith, Jennifer, 1975-... (similarity: 0.181)\n",
      "  • Mello, Margarida, 1950-... (similarity: 0.166)\n",
      "  • García Lorca, Federico, 1898-1936... (similarity: 0.130)\n",
      "\n",
      "TITLE matches:\n",
      "  • Digital Methods in Archaeological Documentation... (similarity: 0.674)\n",
      "  • Archäologie und Photographie: fünfzig Beispiele zu... (similarity: 0.608)\n",
      "  • Métodos computacionais em arqueologia brasileira... (similarity: 0.411)\n",
      "\n",
      "COMPOSITE matches:\n",
      "  • Contributor: Schubert, Franz August, 1805-1893\n",
      "Tit... (similarity: 0.561)\n",
      "  • Contributor: Smith, Jennifer, 1975-\n",
      "Title: Digital... (similarity: 0.497)\n",
      "  • Contributor: Mello, Margarida, 1950-\n",
      "Title: Método... (similarity: 0.326)\n"
     ]
    }
   ],
   "source": [
    "# Search across field types\n",
    "archaeology_text = \"archaeological photography documentation\"\n",
    "archaeology_embedding = get_embedding(archaeology_text)\n",
    "\n",
    "print(f\"Cross-field search for: '{archaeology_text}'\\n\")\n",
    "\n",
    "# Search without field type filter\n",
    "results = collection.query.near_vector(\n",
    "    near_vector=archaeology_embedding.tolist(),\n",
    "    limit=10,\n",
    "    return_properties=[\"original_string\", \"field_type\"],\n",
    "    return_metadata=MetadataQuery(distance=True)\n",
    ")\n",
    "\n",
    "# Group by field type\n",
    "by_field = {'person': [], 'title': [], 'composite': []}\n",
    "\n",
    "for obj in results.objects:\n",
    "    field_type = obj.properties['field_type']\n",
    "    similarity = 1 - obj.metadata.distance\n",
    "    by_field[field_type].append((obj.properties['original_string'][:50], similarity))\n",
    "\n",
    "# Display grouped results\n",
    "for field_type, matches in by_field.items():\n",
    "    if matches:\n",
    "        print(f\"\\n{field_type.upper()} matches:\")\n",
    "        for text, sim in matches[:3]:  # Top 3 per type\n",
    "            print(f\"  • {text}... (similarity: {sim:.3f})\")"
   ]
  },
  {
   "cell_type": "markdown",
   "metadata": {
    "id": "practical"
   },
   "source": [
    "## 12. Practical Entity Resolution Strategy\n",
    "\n",
    "Combining multiple field similarities for better entity resolution."
   ]
  },
  {
   "cell_type": "code",
   "execution_count": 51,
   "metadata": {
    "execution": {
     "iopub.execute_input": "2025-07-01T01:15:13.379865Z",
     "iopub.status.busy": "2025-07-01T01:15:13.379224Z",
     "iopub.status.idle": "2025-07-01T01:15:13.493485Z",
     "shell.execute_reply": "2025-07-01T01:15:13.493146Z",
     "shell.execute_reply.started": "2025-07-01T01:15:13.379823Z"
    },
    "id": "entity-resolution-demo"
   },
   "outputs": [
    {
     "name": "stdout",
     "output_type": "stream",
     "text": [
      "Entity Resolution Analysis:\n",
      "\n",
      "No matches found above threshold 0.7\n"
     ]
    }
   ],
   "source": [
    "# Compare all person pairs using multiple fields\n",
    "def calculate_entity_similarity(id1: str, id2: str, weights: Dict[str, float] = None):\n",
    "    \"\"\"Calculate weighted similarity between two entities.\"\"\"\n",
    "    if weights is None:\n",
    "        weights = {'person': 0.5, 'title': 0.2, 'composite': 0.3}\n",
    "    \n",
    "    similarities = {}\n",
    "    total_score = 0\n",
    "    \n",
    "    for field, weight in weights.items():\n",
    "        if field in hash_lookup[id1] and field in hash_lookup[id2]:\n",
    "            hash1 = hash_lookup[id1][field]\n",
    "            hash2 = hash_lookup[id2][field]\n",
    "            \n",
    "            vec1 = get_vector_by_hash(hash1, field)\n",
    "            vec2 = get_vector_by_hash(hash2, field)\n",
    "            \n",
    "            if vec1 is not None and vec2 is not None:\n",
    "                sim = cosine_similarity(vec1, vec2)\n",
    "                similarities[field] = sim\n",
    "                total_score += weight * sim\n",
    "    \n",
    "    return total_score, similarities\n",
    "\n",
    "# Compare all entity pairs\n",
    "print(\"Entity Resolution Analysis:\\n\")\n",
    "entity_ids = [r['personId'] for r in catalog_records]\n",
    "\n",
    "threshold = 0.7\n",
    "potential_matches = []\n",
    "\n",
    "for i in range(len(entity_ids)):\n",
    "    for j in range(i+1, len(entity_ids)):\n",
    "        id1, id2 = entity_ids[i], entity_ids[j]\n",
    "        score, field_sims = calculate_entity_similarity(id1, id2)\n",
    "        \n",
    "        # Get person names for display\n",
    "        person1 = next(r['person'] for r in catalog_records if r['personId'] == id1)\n",
    "        person2 = next(r['person'] for r in catalog_records if r['personId'] == id2)\n",
    "        \n",
    "        if score > threshold:\n",
    "            potential_matches.append((person1, person2, score, field_sims))\n",
    "            print(f\"Potential match found:\")\n",
    "            print(f\"  {person1} ↔ {person2}\")\n",
    "            print(f\"  Overall score: {score:.3f}\")\n",
    "            print(f\"  Field similarities: {field_sims}\")\n",
    "            print()\n",
    "\n",
    "if not potential_matches:\n",
    "    print(f\"No matches found above threshold {threshold}\")"
   ]
  },
  {
   "cell_type": "markdown",
   "metadata": {
    "id": "summary"
   },
   "source": [
    "## 13. Key Takeaways\n",
    "\n",
    "1. **Field-level indexing**: Each unique string value gets its own embedding\n",
    "2. **Hash-based deduplication**: Ensures efficient storage of unique values\n",
    "3. **Multi-field comparison**: Entity resolution benefits from comparing multiple fields\n",
    "4. **Vector similarity challenges**: Name similarity alone can be misleading\n",
    "5. **Weaviate efficiency**: Fast similarity search across thousands of field values\n",
    "\n",
    "### Entity Resolution Best Practices:\n",
    "- Use multiple fields with appropriate weights\n",
    "- Consider field-specific similarity thresholds\n",
    "- Combine vector similarity with other features (dates, roles, etc.)\n",
    "- Monitor for false positives from similar names"
   ]
  },
  {
   "cell_type": "code",
   "execution_count": 52,
   "metadata": {
    "execution": {
     "iopub.execute_input": "2025-07-01T01:15:21.967794Z",
     "iopub.status.busy": "2025-07-01T01:15:21.967207Z",
     "iopub.status.idle": "2025-07-01T01:15:21.975831Z",
     "shell.execute_reply": "2025-07-01T01:15:21.974338Z",
     "shell.execute_reply.started": "2025-07-01T01:15:21.967757Z"
    },
    "id": "cleanup"
   },
   "outputs": [
    {
     "name": "stdout",
     "output_type": "stream",
     "text": [
      "✓ Closed Weaviate connection\n"
     ]
    }
   ],
   "source": [
    "# Clean up\n",
    "weaviate_client.close()\n",
    "print(\"✓ Closed Weaviate connection\")"
   ]
  }
 ],
 "metadata": {
  "colab": {
   "provenance": [],
   "toc_visible": true
  },
  "kernelspec": {
   "display_name": "Python 3 (ipykernel)",
   "language": "python",
   "name": "python3"
  },
  "language_info": {
   "codemirror_mode": {
    "name": "ipython",
    "version": 3
   },
   "file_extension": ".py",
   "mimetype": "text/x-python",
   "name": "python",
   "nbconvert_exporter": "python",
   "pygments_lexer": "ipython3",
   "version": "3.11.4"
  }
 },
 "nbformat": 4,
 "nbformat_minor": 4
}
