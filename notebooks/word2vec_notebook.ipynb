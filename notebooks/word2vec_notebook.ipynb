{
 "cells": [
  {
   "cell_type": "markdown",
   "metadata": {},
   "source": [
    "# Word Embeddings and Tokenization: From Text to Vectors\n",
    "\n",
    "**Yale Graduate Student AI Workshop - Notebook 1**  \n",
    "*Timothy Thompson, Metadata Services Unit, Yale Library*\n",
    "\n",
    "---\n",
    "\n",
    "## Learning Objectives\n",
    "\n",
    "By the end of this notebook, you will understand:\n",
    "\n",
    "1. How tokenization breaks text into processable units\n",
    "2. The core principles behind Word2Vec embeddings  \n",
    "3. How semantic relationships emerge in vector space\n",
    "4. Why vector arithmetic captures meaning relationships\n",
    "5. How to apply these concepts to real library metadata\n",
    "\n",
    "---\n",
    "\n",
    "## The Central Question\n",
    "\n",
    "How can we teach computers to understand that **\"king\"** and **\"queen\"** are related in the same way that **\"man\"** and **\"woman\"** are related?\n",
    "\n",
    "This fundamental question drives everything we'll explore today. The answer lies in transforming words into mathematical vectors that capture semantic meaning."
   ]
  },
  {
   "cell_type": "code",
   "execution_count": 1,
   "metadata": {
    "execution": {
     "iopub.execute_input": "2025-06-30T17:47:44.848177Z",
     "iopub.status.busy": "2025-06-30T17:47:44.847807Z",
     "iopub.status.idle": "2025-06-30T17:47:48.337350Z",
     "shell.execute_reply": "2025-06-30T17:47:48.337008Z",
     "shell.execute_reply.started": "2025-06-30T17:47:44.848149Z"
    }
   },
   "outputs": [
    {
     "name": "stdout",
     "output_type": "stream",
     "text": [
      "Requirement already satisfied: gensim in /Users/tt434/.pyenv/versions/dfrnt/lib/python3.11/site-packages (4.3.3)\n",
      "Requirement already satisfied: matplotlib in /Users/tt434/.pyenv/versions/dfrnt/lib/python3.11/site-packages (3.8.0)\n",
      "Requirement already satisfied: numpy in /Users/tt434/.pyenv/versions/dfrnt/lib/python3.11/site-packages (1.25.2)\n",
      "Requirement already satisfied: pandas in /Users/tt434/.pyenv/versions/dfrnt/lib/python3.11/site-packages (1.5.3)\n",
      "Requirement already satisfied: scikit-learn in /Users/tt434/.pyenv/versions/dfrnt/lib/python3.11/site-packages (1.3.1)\n",
      "Requirement already satisfied: plotly in /Users/tt434/.pyenv/versions/dfrnt/lib/python3.11/site-packages (6.2.0)\n",
      "Requirement already satisfied: wordcloud in /Users/tt434/.pyenv/versions/dfrnt/lib/python3.11/site-packages (1.9.2)\n",
      "Requirement already satisfied: seaborn in /Users/tt434/.pyenv/versions/dfrnt/lib/python3.11/site-packages (0.13.0)\n",
      "Requirement already satisfied: scipy<1.14.0,>=1.7.0 in /Users/tt434/.pyenv/versions/dfrnt/lib/python3.11/site-packages (from gensim) (1.11.1)\n",
      "Requirement already satisfied: smart-open>=1.8.1 in /Users/tt434/.pyenv/versions/dfrnt/lib/python3.11/site-packages (from gensim) (6.4.0)\n",
      "Requirement already satisfied: contourpy>=1.0.1 in /Users/tt434/.pyenv/versions/dfrnt/lib/python3.11/site-packages (from matplotlib) (1.1.1)\n",
      "Requirement already satisfied: cycler>=0.10 in /Users/tt434/.pyenv/versions/dfrnt/lib/python3.11/site-packages (from matplotlib) (0.11.0)\n",
      "Requirement already satisfied: fonttools>=4.22.0 in /Users/tt434/.pyenv/versions/dfrnt/lib/python3.11/site-packages (from matplotlib) (4.42.1)\n",
      "Requirement already satisfied: kiwisolver>=1.0.1 in /Users/tt434/.pyenv/versions/dfrnt/lib/python3.11/site-packages (from matplotlib) (1.4.5)\n",
      "Requirement already satisfied: packaging>=20.0 in /Users/tt434/.pyenv/versions/dfrnt/lib/python3.11/site-packages (from matplotlib) (24.1)\n",
      "Requirement already satisfied: pillow>=6.2.0 in /Users/tt434/.pyenv/versions/dfrnt/lib/python3.11/site-packages (from matplotlib) (10.0.1)\n",
      "Requirement already satisfied: pyparsing>=2.3.1 in /Users/tt434/.pyenv/versions/dfrnt/lib/python3.11/site-packages (from matplotlib) (2.4.6)\n",
      "Requirement already satisfied: python-dateutil>=2.7 in /Users/tt434/.pyenv/versions/dfrnt/lib/python3.11/site-packages (from matplotlib) (2.8.2)\n",
      "Requirement already satisfied: pytz>=2020.1 in /Users/tt434/.pyenv/versions/dfrnt/lib/python3.11/site-packages (from pandas) (2023.3)\n",
      "Requirement already satisfied: joblib>=1.1.1 in /Users/tt434/.pyenv/versions/dfrnt/lib/python3.11/site-packages (from scikit-learn) (1.3.2)\n",
      "Requirement already satisfied: threadpoolctl>=2.0.0 in /Users/tt434/.pyenv/versions/dfrnt/lib/python3.11/site-packages (from scikit-learn) (3.2.0)\n",
      "Requirement already satisfied: narwhals>=1.15.1 in /Users/tt434/.pyenv/versions/dfrnt/lib/python3.11/site-packages (from plotly) (1.44.0)\n",
      "Requirement already satisfied: six>=1.5 in /Users/tt434/.pyenv/versions/dfrnt/lib/python3.11/site-packages (from python-dateutil>=2.7->matplotlib) (1.14.0)\n",
      "\n",
      "\u001b[1m[\u001b[0m\u001b[34;49mnotice\u001b[0m\u001b[1;39;49m]\u001b[0m\u001b[39;49m A new release of pip is available: \u001b[0m\u001b[31;49m24.0\u001b[0m\u001b[39;49m -> \u001b[0m\u001b[32;49m25.1.1\u001b[0m\n",
      "\u001b[1m[\u001b[0m\u001b[34;49mnotice\u001b[0m\u001b[1;39;49m]\u001b[0m\u001b[39;49m To update, run: \u001b[0m\u001b[32;49mpython3 -m pip install --upgrade pip\u001b[0m\n",
      "✅ Installation complete!\n",
      "📚 Ready to explore word embeddings\n"
     ]
    }
   ],
   "source": [
    "# Setup and Installation\n",
    "# Run this cell first to install required packages in Google Colab\n",
    "\n",
    "!pip install gensim matplotlib numpy pandas scikit-learn plotly wordcloud seaborn\n",
    "\n",
    "print(\"✅ Installation complete!\")\n",
    "print(\"📚 Ready to explore word embeddings\")"
   ]
  },
  {
   "cell_type": "code",
   "execution_count": 2,
   "metadata": {
    "execution": {
     "iopub.execute_input": "2025-06-30T17:47:53.011339Z",
     "iopub.status.busy": "2025-06-30T17:47:53.010970Z",
     "iopub.status.idle": "2025-06-30T17:47:54.722219Z",
     "shell.execute_reply": "2025-06-30T17:47:54.721856Z",
     "shell.execute_reply.started": "2025-06-30T17:47:53.011310Z"
    }
   },
   "outputs": [
    {
     "name": "stdout",
     "output_type": "stream",
     "text": [
      "✅ Libraries imported successfully!\n",
      "🎯 Ready to dive into tokenization and embeddings\n"
     ]
    }
   ],
   "source": [
    "# Import all the libraries we'll need throughout this notebook\n",
    "import numpy as np\n",
    "import pandas as pd\n",
    "import matplotlib.pyplot as plt\n",
    "import seaborn as sns\n",
    "from sklearn.decomposition import PCA\n",
    "from sklearn.manifold import TSNE\n",
    "from sklearn.metrics.pairwise import cosine_similarity\n",
    "import plotly.graph_objects as go\n",
    "import plotly.express as px\n",
    "from plotly.subplots import make_subplots\n",
    "import re\n",
    "from collections import Counter, defaultdict\n",
    "import warnings\n",
    "warnings.filterwarnings('ignore')\n",
    "\n",
    "# Configure plotting for better visualizations\n",
    "plt.style.use('seaborn-v0_8')\n",
    "sns.set_palette(\"husl\")\n",
    "plt.rcParams['figure.figsize'] = (12, 8)\n",
    "\n",
    "print(\"✅ Libraries imported successfully!\")\n",
    "print(\"🎯 Ready to dive into tokenization and embeddings\")"
   ]
  },
  {
   "cell_type": "markdown",
   "metadata": {},
   "source": [
    "---\n",
    "\n",
    "# Part 1: Understanding Tokenization\n",
    "\n",
    "Before we can create embeddings, we need to understand how computers break down human language into processable pieces. This process is called **tokenization**.\n",
    "\n",
    "Think of tokenization as teaching a computer to read by showing it how to break sentences into words, much like how we put spaces between words when we write.\n",
    "\n",
    "## Why Tokenization Matters\n",
    "\n",
    "Computers don't naturally understand text the way humans do. They need structured, discrete units to work with. Tokenization transforms continuous text into these discrete units (tokens) that can be mathematically processed."
   ]
  },
  {
   "cell_type": "code",
   "execution_count": 3,
   "metadata": {
    "execution": {
     "iopub.execute_input": "2025-06-30T17:48:18.007850Z",
     "iopub.status.busy": "2025-06-30T17:48:18.006811Z",
     "iopub.status.idle": "2025-06-30T17:48:18.014947Z",
     "shell.execute_reply": "2025-06-30T17:48:18.014524Z",
     "shell.execute_reply.started": "2025-06-30T17:48:18.007797Z"
    }
   },
   "outputs": [
    {
     "name": "stdout",
     "output_type": "stream",
     "text": [
      "📖 Sample Library Catalog Records:\n",
      "==================================================\n",
      "1. Schubert, Franz, 1797-1828. Winterreise: song cycle for voice and piano\n",
      "2. Bach, Johann Sebastian, 1685-1750. The Well-Tempered Clavier: preludes and fugues\n",
      "3. Mozart, Wolfgang Amadeus, 1756-1791. Don Giovanni: opera in two acts\n",
      "4. Beethoven, Ludwig van, 1770-1827. Symphony No. 9 in D minor\n",
      "5. Chopin, Frédéric, 1810-1849. Nocturnes for piano solo\n",
      "6. Darwin, Charles, 1809-1882. On the Origin of Species by Natural Selection\n",
      "7. Einstein, Albert, 1879-1955. Relativity: The Special and General Theory\n",
      "8. Curie, Marie, 1867-1934. Radioactive Substances and Their Radiations\n",
      "\n",
      "✅ We have 8 sample records to work with\n"
     ]
    }
   ],
   "source": [
    "# Let's start with sample library catalog records similar to Yale's entity resolution data\n",
    "# These represent the kind of real-world text we work with in digital humanities\n",
    "\n",
    "sample_records = [\n",
    "    \"Schubert, Franz, 1797-1828. Winterreise: song cycle for voice and piano\",\n",
    "    \"Bach, Johann Sebastian, 1685-1750. The Well-Tempered Clavier: preludes and fugues\",\n",
    "    \"Mozart, Wolfgang Amadeus, 1756-1791. Don Giovanni: opera in two acts\",\n",
    "    \"Beethoven, Ludwig van, 1770-1827. Symphony No. 9 in D minor\",\n",
    "    \"Chopin, Frédéric, 1810-1849. Nocturnes for piano solo\",\n",
    "    \"Darwin, Charles, 1809-1882. On the Origin of Species by Natural Selection\",\n",
    "    \"Einstein, Albert, 1879-1955. Relativity: The Special and General Theory\",\n",
    "    \"Curie, Marie, 1867-1934. Radioactive Substances and Their Radiations\"\n",
    "]\n",
    "\n",
    "print(\"📖 Sample Library Catalog Records:\")\n",
    "print(\"=\" * 50)\n",
    "for i, record in enumerate(sample_records, 1):\n",
    "    print(f\"{i}. {record}\")\n",
    "    \n",
    "print(f\"\\n✅ We have {len(sample_records)} sample records to work with\")"
   ]
  },
  {
   "cell_type": "code",
   "execution_count": 4,
   "metadata": {
    "execution": {
     "iopub.execute_input": "2025-06-30T17:48:29.962204Z",
     "iopub.status.busy": "2025-06-30T17:48:29.961913Z",
     "iopub.status.idle": "2025-06-30T17:48:29.968103Z",
     "shell.execute_reply": "2025-06-30T17:48:29.967343Z",
     "shell.execute_reply.started": "2025-06-30T17:48:29.962181Z"
    }
   },
   "outputs": [
    {
     "name": "stdout",
     "output_type": "stream",
     "text": [
      "🔍 Tokenization Example:\n",
      "========================================\n",
      "Original text: Schubert, Franz, 1797-1828. Winterreise: song cycle for voice and piano\n",
      "\n",
      "Tokens: ['schubert', 'franz', '1797', '1828', 'winterreise', 'song', 'cycle', 'for', 'voice', 'and', 'piano']\n",
      "\n",
      "Number of tokens: 11\n",
      "\n",
      "📋 Token-by-token breakdown:\n",
      " 1. 'schubert'\n",
      " 2. 'franz'\n",
      " 3. '1797'\n",
      " 4. '1828'\n",
      " 5. 'winterreise'\n",
      " 6. 'song'\n",
      " 7. 'cycle'\n",
      " 8. 'for'\n",
      " 9. 'voice'\n",
      "10. 'and'\n",
      "11. 'piano'\n"
     ]
    }
   ],
   "source": [
    "# Simple tokenization: splitting text into words\n",
    "# This is the most basic form of tokenization\n",
    "\n",
    "def simple_tokenize(text):\n",
    "    \"\"\"Basic tokenization by splitting on whitespace and removing punctuation.\"\"\"\n",
    "    # Convert to lowercase for consistency\n",
    "    text = text.lower()\n",
    "    # Remove punctuation and split on whitespace\n",
    "    tokens = re.findall(r'\\b\\w+\\b', text)\n",
    "    return tokens\n",
    "\n",
    "# Let's see how this works on our first record\n",
    "first_record = sample_records[0]\n",
    "tokens = simple_tokenize(first_record)\n",
    "\n",
    "print(\"🔍 Tokenization Example:\")\n",
    "print(\"=\" * 40)\n",
    "print(f\"Original text: {first_record}\")\n",
    "print(f\"\\nTokens: {tokens}\")\n",
    "print(f\"\\nNumber of tokens: {len(tokens)}\")\n",
    "\n",
    "# Show the transformation visually\n",
    "print(\"\\n📋 Token-by-token breakdown:\")\n",
    "for i, token in enumerate(tokens, 1):\n",
    "    print(f\"{i:2d}. '{token}'\")"
   ]
  },
  {
   "cell_type": "code",
   "execution_count": 5,
   "metadata": {
    "execution": {
     "iopub.execute_input": "2025-06-30T17:48:42.304098Z",
     "iopub.status.busy": "2025-06-30T17:48:42.303747Z",
     "iopub.status.idle": "2025-06-30T17:48:42.310900Z",
     "shell.execute_reply": "2025-06-30T17:48:42.310421Z",
     "shell.execute_reply.started": "2025-06-30T17:48:42.304071Z"
    }
   },
   "outputs": [
    {
     "name": "stdout",
     "output_type": "stream",
     "text": [
      "📚 Vocabulary Analysis:\n",
      "==============================\n",
      "Total unique words (vocabulary size): 76\n",
      "Total tokens across all records: 84\n",
      "\n",
      "🔢 Most common words:\n",
      "  'and': 4 times\n",
      "  'the': 3 times\n",
      "  'for': 2 times\n",
      "  'piano': 2 times\n",
      "  'in': 2 times\n",
      "  'schubert': 1 times\n",
      "  'franz': 1 times\n",
      "  '1797': 1 times\n",
      "  '1828': 1 times\n",
      "  'winterreise': 1 times\n",
      "\n",
      "🎯 Complete vocabulary:\n",
      "['1685', '1750', '1756', '1770', '1791', '1797', '1809', '1810', '1827', '1828', '1849', '1867', '1879', '1882', '1934', '1955', '9', 'acts', 'albert', 'amadeus', 'and', 'bach', 'beethoven', 'by', 'charles', 'chopin', 'clavier', 'curie', 'cycle', 'd', 'darwin', 'don', 'einstein', 'for', 'franz', 'frédéric', 'fugues', 'general', 'giovanni', 'in', 'johann', 'ludwig', 'marie', 'minor', 'mozart', 'natural', 'no', 'nocturnes', 'of', 'on', 'opera', 'origin', 'piano', 'preludes', 'radiations', 'radioactive', 'relativity', 'schubert', 'sebastian', 'selection', 'solo', 'song', 'special', 'species', 'substances', 'symphony', 'tempered', 'the', 'their', 'theory', 'two', 'van', 'voice', 'well', 'winterreise', 'wolfgang']\n"
     ]
    }
   ],
   "source": [
    "# Now let's tokenize all our records and build a vocabulary\n",
    "# This creates the foundation for our word embeddings\n",
    "\n",
    "def build_vocabulary(texts):\n",
    "    \"\"\"Build a vocabulary from a collection of texts.\"\"\"\n",
    "    all_tokens = []\n",
    "    tokenized_texts = []\n",
    "    \n",
    "    # Tokenize each text and collect all tokens\n",
    "    for text in texts:\n",
    "        tokens = simple_tokenize(text)\n",
    "        tokenized_texts.append(tokens)\n",
    "        all_tokens.extend(tokens)\n",
    "    \n",
    "    # Count token frequencies\n",
    "    token_counts = Counter(all_tokens)\n",
    "    \n",
    "    # Create vocabulary (unique tokens)\n",
    "    vocabulary = list(token_counts.keys())\n",
    "    \n",
    "    return tokenized_texts, vocabulary, token_counts\n",
    "\n",
    "# Build our vocabulary from the sample records\n",
    "tokenized_records, vocabulary, token_counts = build_vocabulary(sample_records)\n",
    "\n",
    "print(\"📚 Vocabulary Analysis:\")\n",
    "print(\"=\" * 30)\n",
    "print(f\"Total unique words (vocabulary size): {len(vocabulary)}\")\n",
    "print(f\"Total tokens across all records: {sum(token_counts.values())}\")\n",
    "\n",
    "print(\"\\n🔢 Most common words:\")\n",
    "for word, count in token_counts.most_common(10):\n",
    "    print(f\"  '{word}': {count} times\")\n",
    "\n",
    "print(\"\\n🎯 Complete vocabulary:\")\n",
    "print(sorted(vocabulary))"
   ]
  },
  {
   "cell_type": "markdown",
   "metadata": {},
   "source": [
    "## Key Insight: From Discrete Tokens to Vector Space\n",
    "\n",
    "Notice that we now have a **finite vocabulary** of unique words. This is crucial because it means we can represent any word in our corpus as a specific position in a mathematical space.\n",
    "\n",
    "But here's the big question: **How do we capture the meaning relationships between these words?**\n",
    "\n",
    "That's where Word2Vec comes in."
   ]
  },
  {
   "cell_type": "markdown",
   "metadata": {},
   "source": [
    "---\n",
    "\n",
    "# Part 2: Word2Vec Fundamentals\n",
    "\n",
    "Word2Vec revolutionized natural language processing by discovering that **words that appear in similar contexts tend to have similar meanings**.\n",
    "\n",
    "## The Core Intuition\n",
    "\n",
    "Consider these sentences:\n",
    "- \"The **king** ruled the kingdom with wisdom\"\n",
    "- \"The **queen** ruled the kingdom with wisdom\"\n",
    "- \"The **monarch** ruled the kingdom with wisdom\"\n",
    "\n",
    "Because \"king,\" \"queen,\" and \"monarch\" appear in similar contexts, Word2Vec learns that they should have similar vector representations.\n",
    "\n",
    "## Two Training Approaches\n",
    "\n",
    "1. **Skip-gram**: Given a word, predict its surrounding context words\n",
    "2. **CBOW (Continuous Bag of Words)**: Given context words, predict the center word\n",
    "\n",
    "We'll demonstrate with a simple implementation to build understanding."
   ]
  },
  {
   "cell_type": "code",
   "execution_count": 6,
   "metadata": {
    "execution": {
     "iopub.execute_input": "2025-06-30T17:49:37.169657Z",
     "iopub.status.busy": "2025-06-30T17:49:37.168852Z",
     "iopub.status.idle": "2025-06-30T17:49:37.176168Z",
     "shell.execute_reply": "2025-06-30T17:49:37.175576Z",
     "shell.execute_reply.started": "2025-06-30T17:49:37.169624Z"
    }
   },
   "outputs": [
    {
     "name": "stdout",
     "output_type": "stream",
     "text": [
      "📖 Extended Training Corpus:\n",
      "========================================\n",
      " 1. the king ruled the kingdom with great wisdom and power\n",
      " 2. the queen governed the realm with intelligence and grace\n",
      " 3. a man walked through the forest in the morning\n",
      " 4. a woman traveled across the mountains at sunrise\n",
      " 5. the king and queen lived in a magnificent palace\n",
      " 6. the man and woman worked together on the project\n",
      " 7. schubert composed beautiful songs for voice and piano\n",
      " 8. bach wrote complex fugues and preludes for keyboard\n",
      " 9. mozart created operas and symphonies for orchestra\n",
      "10. beethoven composed powerful symphonies and sonatas\n",
      "11. darwin studied evolution and natural selection\n",
      "12. einstein developed theories of relativity and physics\n",
      "13. curie researched radioactivity and chemical elements\n",
      "14. paris is the capital of france in europe\n",
      "15. rome is the capital of italy in europe\n",
      "16. london is the capital of england in europe\n",
      "17. berlin is the capital of germany in europe\n",
      "18. yesterday was before today and tomorrow comes after\n",
      "19. morning comes before afternoon and evening follows\n",
      "20. spring precedes summer and autumn follows winter\n",
      "\n",
      "✅ Training corpus contains 20 sentences\n"
     ]
    }
   ],
   "source": [
    "# Let's create a larger, more diverse corpus for training Word2Vec\n",
    "# This includes the relationships we want to capture: king/queen, man/woman\n",
    "\n",
    "extended_corpus = [\n",
    "    # Royal and gender relationships\n",
    "    \"the king ruled the kingdom with great wisdom and power\",\n",
    "    \"the queen governed the realm with intelligence and grace\",\n",
    "    \"a man walked through the forest in the morning\",\n",
    "    \"a woman traveled across the mountains at sunrise\",\n",
    "    \"the king and queen lived in a magnificent palace\",\n",
    "    \"the man and woman worked together on the project\",\n",
    "    \n",
    "    # Musical compositions (from our library records)\n",
    "    \"schubert composed beautiful songs for voice and piano\",\n",
    "    \"bach wrote complex fugues and preludes for keyboard\",\n",
    "    \"mozart created operas and symphonies for orchestra\",\n",
    "    \"beethoven composed powerful symphonies and sonatas\",\n",
    "    \n",
    "    # Scientific works\n",
    "    \"darwin studied evolution and natural selection\",\n",
    "    \"einstein developed theories of relativity and physics\",\n",
    "    \"curie researched radioactivity and chemical elements\",\n",
    "    \n",
    "    # Geographic and directional relationships\n",
    "    \"paris is the capital of france in europe\",\n",
    "    \"rome is the capital of italy in europe\",\n",
    "    \"london is the capital of england in europe\",\n",
    "    \"berlin is the capital of germany in europe\",\n",
    "    \n",
    "    # Temporal relationships\n",
    "    \"yesterday was before today and tomorrow comes after\",\n",
    "    \"morning comes before afternoon and evening follows\",\n",
    "    \"spring precedes summer and autumn follows winter\",\n",
    "]\n",
    "\n",
    "print(\"📖 Extended Training Corpus:\")\n",
    "print(\"=\" * 40)\n",
    "for i, sentence in enumerate(extended_corpus, 1):\n",
    "    print(f\"{i:2d}. {sentence}\")\n",
    "    \n",
    "print(f\"\\n✅ Training corpus contains {len(extended_corpus)} sentences\")"
   ]
  },
  {
   "cell_type": "code",
   "execution_count": 7,
   "metadata": {
    "execution": {
     "iopub.execute_input": "2025-06-30T17:49:43.634961Z",
     "iopub.status.busy": "2025-06-30T17:49:43.634471Z",
     "iopub.status.idle": "2025-06-30T17:49:43.642013Z",
     "shell.execute_reply": "2025-06-30T17:49:43.641207Z",
     "shell.execute_reply.started": "2025-06-30T17:49:43.634924Z"
    }
   },
   "outputs": [
    {
     "name": "stdout",
     "output_type": "stream",
     "text": [
      "🔧 Tokenized Training Corpus:\n",
      "===================================\n",
      "1. ['the', 'king', 'ruled', 'the', 'kingdom', 'with', 'great', 'wisdom', 'and', 'power']\n",
      "2. ['the', 'queen', 'governed', 'the', 'realm', 'with', 'intelligence', 'and', 'grace']\n",
      "3. ['a', 'man', 'walked', 'through', 'the', 'forest', 'in', 'the', 'morning']\n",
      "4. ['a', 'woman', 'traveled', 'across', 'the', 'mountains', 'at', 'sunrise']\n",
      "5. ['the', 'king', 'and', 'queen', 'lived', 'in', 'a', 'magnificent', 'palace']\n",
      "\n",
      "... and 15 more sentences\n",
      "\n",
      "📊 Corpus Statistics:\n",
      "Total sentences: 20\n",
      "Total tokens: 156\n",
      "Unique words: 97\n",
      "Average sentence length: 7.8 tokens\n"
     ]
    }
   ],
   "source": [
    "# Prepare the corpus for Word2Vec training\n",
    "# We need to tokenize each sentence\n",
    "\n",
    "def prepare_corpus_for_word2vec(sentences):\n",
    "    \"\"\"Tokenize sentences for Word2Vec training.\"\"\"\n",
    "    tokenized_corpus = []\n",
    "    for sentence in sentences:\n",
    "        tokens = simple_tokenize(sentence)\n",
    "        tokenized_corpus.append(tokens)\n",
    "    return tokenized_corpus\n",
    "\n",
    "# Prepare our corpus\n",
    "training_corpus = prepare_corpus_for_word2vec(extended_corpus)\n",
    "\n",
    "print(\"🔧 Tokenized Training Corpus:\")\n",
    "print(\"=\" * 35)\n",
    "for i, tokens in enumerate(training_corpus[:5], 1):  # Show first 5 examples\n",
    "    print(f\"{i}. {tokens}\")\n",
    "\n",
    "print(f\"\\n... and {len(training_corpus)-5} more sentences\")\n",
    "\n",
    "# Calculate corpus statistics\n",
    "all_tokens = [token for sentence in training_corpus for token in sentence]\n",
    "corpus_vocab = set(all_tokens)\n",
    "\n",
    "print(f\"\\n📊 Corpus Statistics:\")\n",
    "print(f\"Total sentences: {len(training_corpus)}\")\n",
    "print(f\"Total tokens: {len(all_tokens)}\")\n",
    "print(f\"Unique words: {len(corpus_vocab)}\")\n",
    "print(f\"Average sentence length: {len(all_tokens)/len(training_corpus):.1f} tokens\")"
   ]
  },
  {
   "cell_type": "code",
   "execution_count": 8,
   "metadata": {
    "execution": {
     "iopub.execute_input": "2025-06-30T17:50:05.192241Z",
     "iopub.status.busy": "2025-06-30T17:50:05.191657Z",
     "iopub.status.idle": "2025-06-30T17:50:05.392470Z",
     "shell.execute_reply": "2025-06-30T17:50:05.392174Z",
     "shell.execute_reply.started": "2025-06-30T17:50:05.192215Z"
    }
   },
   "outputs": [
    {
     "name": "stdout",
     "output_type": "stream",
     "text": [
      "🚀 Training Word2Vec Model...\n",
      "===================================\n",
      "✅ Model training complete!\n",
      "📚 Vocabulary size: 97\n",
      "📐 Vector dimensions: 100\n",
      "\n",
      "🔤 Sample vocabulary: ['the', 'and', 'in', 'of', 'is', 'capital', 'europe', 'for', 'a', 'comes', 'man', 'woman', 'follows', 'with', 'king']\n"
     ]
    }
   ],
   "source": [
    "# Now let's train a Word2Vec model using Gensim\n",
    "# Gensim provides an efficient, well-tested implementation\n",
    "\n",
    "from gensim.models import Word2Vec\n",
    "\n",
    "print(\"🚀 Training Word2Vec Model...\")\n",
    "print(\"=\" * 35)\n",
    "\n",
    "# Train the Word2Vec model\n",
    "# Parameters explained:\n",
    "# - sentences: our tokenized corpus\n",
    "# - vector_size: dimensionality of word vectors (100 is good for small corpus)\n",
    "# - window: maximum distance between current and predicted word\n",
    "# - min_count: ignore words that appear fewer than this many times\n",
    "# - sg: 1 for skip-gram, 0 for CBOW\n",
    "# - epochs: number of training iterations\n",
    "\n",
    "model = Word2Vec(\n",
    "    sentences=training_corpus,\n",
    "    vector_size=100,        # 100-dimensional vectors\n",
    "    window=5,               # Context window of 5 words\n",
    "    min_count=1,            # Include all words (small corpus)\n",
    "    sg=1,                   # Use skip-gram\n",
    "    epochs=100,             # Train for 100 epochs\n",
    "    seed=42                 # For reproducible results\n",
    ")\n",
    "\n",
    "print(\"✅ Model training complete!\")\n",
    "print(f\"📚 Vocabulary size: {len(model.wv.key_to_index)}\")\n",
    "print(f\"📐 Vector dimensions: {model.wv.vector_size}\")\n",
    "\n",
    "# Show some words in our trained vocabulary\n",
    "print(f\"\\n🔤 Sample vocabulary: {list(model.wv.key_to_index.keys())[:15]}\")"
   ]
  },
  {
   "cell_type": "markdown",
   "metadata": {},
   "source": [
    "---\n",
    "\n",
    "# Part 3: The Magic of Vector Arithmetic\n",
    "\n",
    "Now comes the exciting part: demonstrating that our Word2Vec model has learned semantic relationships that we can manipulate mathematically.\n",
    "\n",
    "## The Famous Example: King - Man + Woman = Queen\n",
    "\n",
    "This isn't just a mathematical trick—it represents a profound insight about how meaning relationships can be captured in vector space."
   ]
  },
  {
   "cell_type": "code",
   "execution_count": 9,
   "metadata": {
    "execution": {
     "iopub.execute_input": "2025-06-30T17:50:12.503621Z",
     "iopub.status.busy": "2025-06-30T17:50:12.503264Z",
     "iopub.status.idle": "2025-06-30T17:50:12.559546Z",
     "shell.execute_reply": "2025-06-30T17:50:12.558076Z",
     "shell.execute_reply.started": "2025-06-30T17:50:12.503598Z"
    }
   },
   "outputs": [
    {
     "name": "stdout",
     "output_type": "stream",
     "text": [
      "👑 Testing the Famous Vector Arithmetic!\n",
      "=============================================\n",
      "🧮 Computing: king - man + woman = ?\n",
      "\n",
      "🎯 Results (word, similarity_score):\n",
      "1. the: 0.943\n",
      "2. comes: 0.940\n",
      "3. and: 0.938\n",
      "4. piano: 0.935\n",
      "5. for: 0.934\n",
      "\n",
      "🤔 Top result is 'the', not 'queen' as expected\n",
      "This might be due to our small training corpus\n"
     ]
    }
   ],
   "source": [
    "# Let's test the famous vector arithmetic: king - man + woman ≈ queen\n",
    "\n",
    "def test_vector_arithmetic(model, word1, word2, word3, top_n=5):\n",
    "    \"\"\"\n",
    "    Test vector arithmetic: word1 - word2 + word3 = ?\n",
    "    Returns the most similar words to the result.\n",
    "    \"\"\"\n",
    "    try:\n",
    "        # Perform the vector arithmetic\n",
    "        result = model.wv.most_similar(\n",
    "            positive=[word1, word3],  # Add these vectors\n",
    "            negative=[word2],         # Subtract this vector\n",
    "            topn=top_n\n",
    "        )\n",
    "        return result\n",
    "    except KeyError as e:\n",
    "        return f\"Word not in vocabulary: {e}\"\n",
    "\n",
    "print(\"👑 Testing the Famous Vector Arithmetic!\")\n",
    "print(\"=\" * 45)\n",
    "\n",
    "# Test: king - man + woman = ?\n",
    "print(\"🧮 Computing: king - man + woman = ?\")\n",
    "result = test_vector_arithmetic(model, 'king', 'man', 'woman')\n",
    "\n",
    "if isinstance(result, list):\n",
    "    print(\"\\n🎯 Results (word, similarity_score):\")\n",
    "    for i, (word, score) in enumerate(result, 1):\n",
    "        print(f\"{i}. {word}: {score:.3f}\")\n",
    "        \n",
    "    # Check if 'queen' is the top result\n",
    "    if result[0][0] == 'queen':\n",
    "        print(\"\\n🎉 SUCCESS! The model learned king - man + woman = queen!\")\n",
    "    else:\n",
    "        print(f\"\\n🤔 Top result is '{result[0][0]}', not 'queen' as expected\")\n",
    "        print(\"This might be due to our small training corpus\")\n",
    "else:\n",
    "    print(f\"\\n❌ Error: {result}\")"
   ]
  },
  {
   "cell_type": "code",
   "execution_count": 10,
   "metadata": {
    "execution": {
     "iopub.execute_input": "2025-06-30T17:50:21.046941Z",
     "iopub.status.busy": "2025-06-30T17:50:21.046609Z",
     "iopub.status.idle": "2025-06-30T17:50:21.111294Z",
     "shell.execute_reply": "2025-06-30T17:50:21.072888Z",
     "shell.execute_reply.started": "2025-06-30T17:50:21.046918Z"
    }
   },
   "outputs": [
    {
     "name": "stdout",
     "output_type": "stream",
     "text": [
      "🔍 Testing Other Semantic Relationships:\n",
      "==========================================\n",
      "\n",
      "🧮 Computing: paris - france + italy = ?\n",
      "   Results:\n",
      "     • woman: 0.796\n",
      "     • of: 0.792\n",
      "     • wrote: 0.791\n",
      "\n",
      "🧮 Computing: morning - day + night = ?\n",
      "   ❌ Word not in vocabulary: \"Key 'night' not present in vocabulary\"\n",
      "\n",
      "🧮 Computing: schubert - songs + symphonies = ?\n",
      "   Results:\n",
      "     • and: 0.951\n",
      "     • the: 0.948\n",
      "     • a: 0.947\n"
     ]
    }
   ],
   "source": [
    "# Let's try some other semantic relationships from our corpus\n",
    "\n",
    "print(\"🔍 Testing Other Semantic Relationships:\")\n",
    "print(\"=\" * 42)\n",
    "\n",
    "# Test various analogies we expect our model to have learned\n",
    "test_cases = [\n",
    "    ('paris', 'france', 'italy'),     # paris - france + italy = rome?\n",
    "    ('morning', 'day', 'night'),      # morning - day + night = evening?\n",
    "    ('schubert', 'songs', 'symphonies'),  # schubert - songs + symphonies = ?\n",
    "]\n",
    "\n",
    "for word1, word2, word3 in test_cases:\n",
    "    print(f\"\\n🧮 Computing: {word1} - {word2} + {word3} = ?\")\n",
    "    result = test_vector_arithmetic(model, word1, word2, word3, top_n=3)\n",
    "    \n",
    "    if isinstance(result, list):\n",
    "        print(\"   Results:\")\n",
    "        for word, score in result:\n",
    "            print(f\"     • {word}: {score:.3f}\")\n",
    "    else:\n",
    "        print(f\"   ❌ {result}\")"
   ]
  },
  {
   "cell_type": "markdown",
   "metadata": {},
   "source": [
    "## Understanding Why This Works\n",
    "\n",
    "The vector arithmetic works because Word2Vec learns to encode **semantic relationships** as **geometric relationships** in vector space.\n",
    "\n",
    "When we compute `king - man + woman`, we're essentially asking:\n",
    "1. What is the \"royal\" concept vector? (king - man removes the \"male\" component)\n",
    "2. What happens when we add the \"female\" component? (+ woman)\n",
    "3. The result should be the \"female royal\" concept = queen\n",
    "\n",
    "This demonstrates that Word2Vec has learned to organize concepts in a structured, meaningful way."
   ]
  },
  {
   "cell_type": "code",
   "execution_count": 11,
   "metadata": {
    "execution": {
     "iopub.execute_input": "2025-06-30T17:50:37.415134Z",
     "iopub.status.busy": "2025-06-30T17:50:37.414540Z",
     "iopub.status.idle": "2025-06-30T17:50:37.422440Z",
     "shell.execute_reply": "2025-06-30T17:50:37.421778Z",
     "shell.execute_reply.started": "2025-06-30T17:50:37.415103Z"
    }
   },
   "outputs": [
    {
     "name": "stdout",
     "output_type": "stream",
     "text": [
      "📐 Word Vector Analysis:\n",
      "==============================\n",
      "\n",
      "🔤 Word: 'king'\n",
      "   Vector shape: (100,)\n",
      "   First 10 dimensions: [ 0.04  -0.007 -0.007  0.007 -0.023  0.011 -0.008  0.042 -0.069  0.002]\n",
      "   Vector magnitude: 0.328\n",
      "\n",
      "🔤 Word: 'queen'\n",
      "   Vector shape: (100,)\n",
      "   First 10 dimensions: [ 0.023 -0.002 -0.005  0.005 -0.024  0.009 -0.015  0.034 -0.068  0.016]\n",
      "   Vector magnitude: 0.322\n",
      "\n",
      "🔤 Word: 'man'\n",
      "   Vector shape: (100,)\n",
      "   First 10 dimensions: [ 0.039  0.004 -0.001  0.017 -0.025  0.026  0.003  0.034 -0.053  0.005]\n",
      "   Vector magnitude: 0.318\n",
      "\n",
      "🔤 Word: 'woman'\n",
      "   Vector shape: (100,)\n",
      "   First 10 dimensions: [ 0.031 -0.002  0.007  0.003 -0.02   0.011 -0.009  0.04  -0.047 -0.004]\n",
      "   Vector magnitude: 0.287\n"
     ]
    }
   ],
   "source": [
    "# Let's examine the actual vectors to understand what's happening mathematically\n",
    "\n",
    "def examine_word_vectors(model, words):\n",
    "    \"\"\"Display information about word vectors.\"\"\"\n",
    "    print(\"📐 Word Vector Analysis:\")\n",
    "    print(\"=\" * 30)\n",
    "    \n",
    "    for word in words:\n",
    "        if word in model.wv:\n",
    "            vector = model.wv[word]\n",
    "            print(f\"\\n🔤 Word: '{word}'\")\n",
    "            print(f\"   Vector shape: {vector.shape}\")\n",
    "            print(f\"   First 10 dimensions: {vector[:10].round(3)}\")\n",
    "            print(f\"   Vector magnitude: {np.linalg.norm(vector):.3f}\")\n",
    "        else:\n",
    "            print(f\"\\n❌ '{word}' not found in vocabulary\")\n",
    "\n",
    "# Examine the key words from our arithmetic\n",
    "key_words = ['king', 'queen', 'man', 'woman']\n",
    "examine_word_vectors(model, key_words)"
   ]
  },
  {
   "cell_type": "code",
   "execution_count": 12,
   "metadata": {
    "execution": {
     "iopub.execute_input": "2025-06-30T17:50:47.588319Z",
     "iopub.status.busy": "2025-06-30T17:50:47.588139Z",
     "iopub.status.idle": "2025-06-30T17:50:47.611175Z",
     "shell.execute_reply": "2025-06-30T17:50:47.610620Z",
     "shell.execute_reply.started": "2025-06-30T17:50:47.588301Z"
    }
   },
   "outputs": [
    {
     "name": "stdout",
     "output_type": "stream",
     "text": [
      "🧮 Step-by-step: king - man + woman\n",
      "==================================================\n",
      "1️⃣ Get vector for 'king': shape (100,)\n",
      "2️⃣ Get vector for 'man': shape (100,)\n",
      "3️⃣ Get vector for 'woman': shape (100,)\n",
      "\n",
      "4️⃣ Compute: king - man + woman\n",
      "   Result vector shape: (100,)\n",
      "   Result vector magnitude: 0.312\n",
      "\n",
      "5️⃣ Find words most similar to result vector:\n",
      "   Top 5 most similar words:\n",
      "     1. the: 0.938\n",
      "     2. comes: 0.936\n",
      "     3. and: 0.933\n",
      "     4. piano: 0.931\n",
      "     5. on: 0.930\n"
     ]
    }
   ],
   "source": [
    "# Let's compute and visualize the vector arithmetic step by step\n",
    "\n",
    "def step_by_step_arithmetic(model, word1, word2, word3):\n",
    "    \"\"\"Show the vector arithmetic step by step.\"\"\"\n",
    "    print(f\"🧮 Step-by-step: {word1} - {word2} + {word3}\")\n",
    "    print(\"=\" * 50)\n",
    "    \n",
    "    # Get the vectors\n",
    "    try:\n",
    "        vec1 = model.wv[word1]  # king\n",
    "        vec2 = model.wv[word2]  # man  \n",
    "        vec3 = model.wv[word3]  # woman\n",
    "        \n",
    "        print(f\"1️⃣ Get vector for '{word1}': shape {vec1.shape}\")\n",
    "        print(f\"2️⃣ Get vector for '{word2}': shape {vec2.shape}\")\n",
    "        print(f\"3️⃣ Get vector for '{word3}': shape {vec3.shape}\")\n",
    "        \n",
    "        # Perform the arithmetic\n",
    "        result_vector = vec1 - vec2 + vec3\n",
    "        print(f\"\\n4️⃣ Compute: {word1} - {word2} + {word3}\")\n",
    "        print(f\"   Result vector shape: {result_vector.shape}\")\n",
    "        print(f\"   Result vector magnitude: {np.linalg.norm(result_vector):.3f}\")\n",
    "        \n",
    "        # Find similar words to the result\n",
    "        print(f\"\\n5️⃣ Find words most similar to result vector:\")\n",
    "        \n",
    "        # Calculate cosine similarity with all words\n",
    "        similarities = []\n",
    "        for word in model.wv.key_to_index:\n",
    "            if word not in [word1, word2, word3]:  # Exclude input words\n",
    "                sim = cosine_similarity(\n",
    "                    result_vector.reshape(1, -1), \n",
    "                    model.wv[word].reshape(1, -1)\n",
    "                )[0][0]\n",
    "                similarities.append((word, sim))\n",
    "        \n",
    "        # Sort by similarity and show top 5\n",
    "        similarities.sort(key=lambda x: x[1], reverse=True)\n",
    "        \n",
    "        print(\"   Top 5 most similar words:\")\n",
    "        for i, (word, sim) in enumerate(similarities[:5], 1):\n",
    "            print(f\"     {i}. {word}: {sim:.3f}\")\n",
    "            \n",
    "        return result_vector, similarities\n",
    "        \n",
    "    except KeyError as e:\n",
    "        print(f\"❌ Error: Word '{e}' not in vocabulary\")\n",
    "        return None, None\n",
    "\n",
    "# Perform the step-by-step analysis\n",
    "result_vector, similarities = step_by_step_arithmetic(model, 'king', 'man', 'woman')"
   ]
  },
  {
   "cell_type": "markdown",
   "metadata": {},
   "source": [
    "---\n",
    "\n",
    "# Part 4: Visualizing the Vector Space\n",
    "\n",
    "To truly understand how Word2Vec works, we need to visualize the high-dimensional vector space. Since we can't directly visualize 100 dimensions, we'll use dimensionality reduction techniques to project the vectors into 2D space.\n",
    "\n",
    "This will help us see the geometric relationships that make vector arithmetic possible."
   ]
  },
  {
   "cell_type": "code",
   "execution_count": 13,
   "metadata": {
    "execution": {
     "iopub.execute_input": "2025-06-30T17:51:09.399330Z",
     "iopub.status.busy": "2025-06-30T17:51:09.398505Z",
     "iopub.status.idle": "2025-06-30T17:51:09.406962Z",
     "shell.execute_reply": "2025-06-30T17:51:09.406245Z",
     "shell.execute_reply.started": "2025-06-30T17:51:09.399305Z"
    }
   },
   "outputs": [
    {
     "name": "stdout",
     "output_type": "stream",
     "text": [
      "⚠️ Warning: 'opera' not in vocabulary\n",
      "📊 Extracted 23 word vectors for visualization\n",
      "🏷️ Words: ['king', 'queen', 'man', 'woman', 'paris', 'france', 'rome', 'italy', 'london', 'england', 'schubert', 'bach', 'mozart', 'beethoven', 'songs', 'symphonies', 'piano', 'morning', 'afternoon', 'evening', 'yesterday', 'today', 'tomorrow']\n"
     ]
    }
   ],
   "source": [
    "# Extract word vectors for visualization\n",
    "# We'll focus on key relationship words to make the plot interpretable\n",
    "\n",
    "def get_vectors_for_visualization(model, words_of_interest):\n",
    "    \"\"\"Extract vectors for specific words of interest.\"\"\"\n",
    "    vectors = []\n",
    "    labels = []\n",
    "    \n",
    "    for word in words_of_interest:\n",
    "        if word in model.wv:\n",
    "            vectors.append(model.wv[word])\n",
    "            labels.append(word)\n",
    "        else:\n",
    "            print(f\"⚠️ Warning: '{word}' not in vocabulary\")\n",
    "    \n",
    "    return np.array(vectors), labels\n",
    "\n",
    "# Define words we want to visualize\n",
    "# Focus on the relationships we've been exploring\n",
    "words_of_interest = [\n",
    "    # Gender and royalty\n",
    "    'king', 'queen', 'man', 'woman',\n",
    "    # Geographic relationships\n",
    "    'paris', 'france', 'rome', 'italy', 'london', 'england',\n",
    "    # Composers and music\n",
    "    'schubert', 'bach', 'mozart', 'beethoven',\n",
    "    'songs', 'symphonies', 'opera', 'piano',\n",
    "    # Time relationships\n",
    "    'morning', 'afternoon', 'evening', 'yesterday', 'today', 'tomorrow'\n",
    "]\n",
    "\n",
    "# Extract vectors\n",
    "vectors, labels = get_vectors_for_visualization(model, words_of_interest)\n",
    "\n",
    "print(f\"📊 Extracted {len(vectors)} word vectors for visualization\")\n",
    "print(f\"🏷️ Words: {labels}\")"
   ]
  },
  {
   "cell_type": "code",
   "execution_count": 14,
   "metadata": {
    "execution": {
     "iopub.execute_input": "2025-06-30T17:51:16.357987Z",
     "iopub.status.busy": "2025-06-30T17:51:16.357537Z",
     "iopub.status.idle": "2025-06-30T17:51:16.394397Z",
     "shell.execute_reply": "2025-06-30T17:51:16.393993Z",
     "shell.execute_reply.started": "2025-06-30T17:51:16.357964Z"
    }
   },
   "outputs": [
    {
     "name": "stdout",
     "output_type": "stream",
     "text": [
      "🔬 Applying PCA for dimensionality reduction...\n",
      "✅ Reduced from 100D to 2D\n",
      "📈 Explained variance ratio: [0.6854005  0.02982841]\n",
      "📊 Total variance explained: 71.5%\n",
      "\n",
      "📋 Data prepared for visualization:\n",
      "      word         x         y        category\n",
      "0     king  0.093493 -0.014664  Gender/Royalty\n",
      "1    queen  0.086863  0.017905  Gender/Royalty\n",
      "2      man  0.081053  0.015206  Gender/Royalty\n",
      "3    woman  0.050897  0.021123  Gender/Royalty\n",
      "4    paris -0.119256  0.005986       Geography\n",
      "5   france -0.107690 -0.005538       Geography\n",
      "6     rome -0.083083 -0.001814       Geography\n",
      "7    italy -0.069018  0.024234       Geography\n",
      "8   london -0.107792  0.010813       Geography\n",
      "9  england -0.107342  0.014197       Geography\n"
     ]
    }
   ],
   "source": [
    "# Use PCA to reduce dimensions from 100 to 2 for visualization\n",
    "# PCA finds the directions of maximum variance in the data\n",
    "\n",
    "print(\"🔬 Applying PCA for dimensionality reduction...\")\n",
    "\n",
    "# Apply PCA\n",
    "pca = PCA(n_components=2, random_state=42)\n",
    "vectors_2d = pca.fit_transform(vectors)\n",
    "\n",
    "print(f\"✅ Reduced from {vectors.shape[1]}D to 2D\")\n",
    "print(f\"📈 Explained variance ratio: {pca.explained_variance_ratio_}\")\n",
    "print(f\"📊 Total variance explained: {pca.explained_variance_ratio_.sum():.1%}\")\n",
    "\n",
    "# Create a DataFrame for easier plotting\n",
    "df_viz = pd.DataFrame({\n",
    "    'word': labels,\n",
    "    'x': vectors_2d[:, 0],\n",
    "    'y': vectors_2d[:, 1]\n",
    "})\n",
    "\n",
    "# Add category information for color coding\n",
    "def categorize_word(word):\n",
    "    if word in ['king', 'queen', 'man', 'woman']:\n",
    "        return 'Gender/Royalty'\n",
    "    elif word in ['paris', 'france', 'rome', 'italy', 'london', 'england']:\n",
    "        return 'Geography'\n",
    "    elif word in ['schubert', 'bach', 'mozart', 'beethoven']:\n",
    "        return 'Composers'\n",
    "    elif word in ['songs', 'symphonies', 'opera', 'piano']:\n",
    "        return 'Music Terms'\n",
    "    elif word in ['morning', 'afternoon', 'evening', 'yesterday', 'today', 'tomorrow']:\n",
    "        return 'Time'\n",
    "    else:\n",
    "        return 'Other'\n",
    "\n",
    "df_viz['category'] = df_viz['word'].apply(categorize_word)\n",
    "\n",
    "print(\"\\n📋 Data prepared for visualization:\")\n",
    "print(df_viz.head(10))"
   ]
  },
  {
   "cell_type": "code",
   "execution_count": 15,
   "metadata": {
    "execution": {
     "iopub.execute_input": "2025-06-30T17:51:27.463377Z",
     "iopub.status.busy": "2025-06-30T17:51:27.462827Z",
     "iopub.status.idle": "2025-06-30T17:51:27.827710Z",
     "shell.execute_reply": "2025-06-30T17:51:27.827400Z",
     "shell.execute_reply.started": "2025-06-30T17:51:27.463353Z"
    }
   },
   "outputs": [
    {
     "data": {
      "application/vnd.plotly.v1+json": {
       "config": {
        "plotlyServerURL": "https://plot.ly"
       },
       "data": [
        {
         "hovertemplate": "category=Gender/Royalty<br>x=%{x}<br>y=%{y}<br>word=%{text}<extra></extra>",
         "legendgroup": "Gender/Royalty",
         "marker": {
          "color": "#636efa",
          "line": {
           "color": "DarkSlateGrey",
           "width": 2
          },
          "size": 12,
          "symbol": "circle"
         },
         "mode": "markers+text",
         "name": "Gender/Royalty",
         "orientation": "v",
         "showlegend": true,
         "text": [
          "king",
          "queen",
          "man",
          "woman"
         ],
         "textfont": {
          "size": 12
         },
         "textposition": "middle right",
         "type": "scatter",
         "x": {
          "_inputArray": {
           "0": 0.09349285811185837,
           "1": 0.08686316758394241,
           "2": 0.08105316758155823,
           "3": 0.05089718475937843,
           "bdata": "L3m/PVHlsT00/6U9kXlQPQ==",
           "dtype": "f4",
           "shape": "4"
          },
          "bdata": "L3m/PVHlsT00/6U9kXlQPQ==",
          "dtype": "f4"
         },
         "xaxis": "x",
         "y": {
          "_inputArray": {
           "0": -0.014664326794445515,
           "1": 0.017904942855238914,
           "2": 0.015205791220068932,
           "3": 0.021122919395565987,
           "bdata": "pUJwvGOtkjy2IXk8+QmtPA==",
           "dtype": "f4",
           "shape": "4"
          },
          "bdata": "pUJwvGOtkjy2IXk8+QmtPA==",
          "dtype": "f4"
         },
         "yaxis": "y"
        },
        {
         "hovertemplate": "category=Geography<br>x=%{x}<br>y=%{y}<br>word=%{text}<extra></extra>",
         "legendgroup": "Geography",
         "marker": {
          "color": "#EF553B",
          "line": {
           "color": "DarkSlateGrey",
           "width": 2
          },
          "size": 12,
          "symbol": "circle"
         },
         "mode": "markers+text",
         "name": "Geography",
         "orientation": "v",
         "showlegend": true,
         "text": [
          "paris",
          "france",
          "rome",
          "italy",
          "london",
          "england"
         ],
         "textfont": {
          "size": 12
         },
         "textposition": "middle right",
         "type": "scatter",
         "x": {
          "_inputArray": {
           "0": -0.11925553530454636,
           "1": -0.10769031941890717,
           "2": -0.0830831304192543,
           "3": -0.06901786476373672,
           "4": -0.10779175907373428,
           "5": -0.10734214633703232,
           "bdata": "Pzz0vb6M3L19J6q9PVmNve3B3L0z1tu9",
           "dtype": "f4",
           "shape": "6"
          },
          "bdata": "Pzz0vb6M3L19J6q9PVmNve3B3L0z1tu9",
          "dtype": "f4"
         },
         "xaxis": "x",
         "y": {
          "_inputArray": {
           "0": 0.005986426491290331,
           "1": -0.005537689197808504,
           "2": -0.0018136120634153485,
           "3": 0.024234171956777573,
           "4": 0.010813301429152489,
           "5": 0.014196639880537987,
           "bdata": "ySnEO4F1tbu5tu26vobGPEYqMTwGmWg8",
           "dtype": "f4",
           "shape": "6"
          },
          "bdata": "ySnEO4F1tbu5tu26vobGPEYqMTwGmWg8",
          "dtype": "f4"
         },
         "yaxis": "y"
        },
        {
         "hovertemplate": "category=Composers<br>x=%{x}<br>y=%{y}<br>word=%{text}<extra></extra>",
         "legendgroup": "Composers",
         "marker": {
          "color": "#00cc96",
          "line": {
           "color": "DarkSlateGrey",
           "width": 2
          },
          "size": 12,
          "symbol": "circle"
         },
         "mode": "markers+text",
         "name": "Composers",
         "orientation": "v",
         "showlegend": true,
         "text": [
          "schubert",
          "bach",
          "mozart",
          "beethoven"
         ],
         "textfont": {
          "size": 12
         },
         "textposition": "middle right",
         "type": "scatter",
         "x": {
          "_inputArray": {
           "0": 0.02689162828028202,
           "1": 0.025890417397022247,
           "2": -0.058714039623737335,
           "3": -0.10096213966608047,
           "bdata": "1UvcPCQY1DwifnC9PcXOvQ==",
           "dtype": "f4",
           "shape": "4"
          },
          "bdata": "1UvcPCQY1DwifnC9PcXOvQ==",
          "dtype": "f4"
         },
         "xaxis": "x",
         "y": {
          "_inputArray": {
           "0": -0.026939693838357925,
           "1": 0.01721780002117157,
           "2": -0.02898246794939041,
           "3": 0.0009678447968326509,
           "bdata": "orDcvFgMjTykbO2897Z9Og==",
           "dtype": "f4",
           "shape": "4"
          },
          "bdata": "orDcvFgMjTykbO2897Z9Og==",
          "dtype": "f4"
         },
         "yaxis": "y"
        },
        {
         "hovertemplate": "category=Music Terms<br>x=%{x}<br>y=%{y}<br>word=%{text}<extra></extra>",
         "legendgroup": "Music Terms",
         "marker": {
          "color": "#ab63fa",
          "line": {
           "color": "DarkSlateGrey",
           "width": 2
          },
          "size": 12,
          "symbol": "circle"
         },
         "mode": "markers+text",
         "name": "Music Terms",
         "orientation": "v",
         "showlegend": true,
         "text": [
          "songs",
          "symphonies",
          "piano"
         ],
         "textfont": {
          "size": 12
         },
         "textposition": "middle right",
         "type": "scatter",
         "x": {
          "_inputArray": {
           "0": 0.0839606374502182,
           "1": 0.11613034456968307,
           "2": 0.05776370316743851,
           "bdata": "jvOrPb/V7T2imWw9",
           "dtype": "f4",
           "shape": "3"
          },
          "bdata": "jvOrPb/V7T2imWw9",
          "dtype": "f4"
         },
         "xaxis": "x",
         "y": {
          "_inputArray": {
           "0": -0.01130873803049326,
           "1": -0.017564980313181877,
           "2": -0.02831234596669674,
           "bdata": "SUg5vG/kj7xL7+e8",
           "dtype": "f4",
           "shape": "3"
          },
          "bdata": "SUg5vG/kj7xL7+e8",
          "dtype": "f4"
         },
         "yaxis": "y"
        },
        {
         "hovertemplate": "category=Time<br>x=%{x}<br>y=%{y}<br>word=%{text}<extra></extra>",
         "legendgroup": "Time",
         "marker": {
          "color": "#FFA15A",
          "line": {
           "color": "DarkSlateGrey",
           "width": 2
          },
          "size": 12,
          "symbol": "circle"
         },
         "mode": "markers+text",
         "name": "Time",
         "orientation": "v",
         "showlegend": true,
         "text": [
          "morning",
          "afternoon",
          "evening",
          "yesterday",
          "today",
          "tomorrow"
         ],
         "textfont": {
          "size": 12
         },
         "textposition": "middle right",
         "type": "scatter",
         "x": {
          "_inputArray": {
           "0": 0.02903876267373562,
           "1": -0.06372691690921783,
           "2": -0.0907444953918457,
           "3": 0.03484691306948662,
           "4": 0.1488187313079834,
           "5": 0.07268079370260239,
           "bdata": "s+LtPEKDgr1A2Lm9o7sOPfBjGD6r2ZQ9",
           "dtype": "f4",
           "shape": "6"
          },
          "bdata": "s+LtPEKDgr1A2Lm9o7sOPfBjGD6r2ZQ9",
          "dtype": "f4"
         },
         "xaxis": "x",
         "y": {
          "_inputArray": {
           "0": 0.014011322520673275,
           "1": -0.004984797444194555,
           "2": -0.016132120043039322,
           "3": 0.008887473493814468,
           "4": 0.029219619929790497,
           "5": -0.02352757751941681,
           "bdata": "v49lPINXo7uCJ4S8xJwRPPxd7zzovMC8",
           "dtype": "f4",
           "shape": "6"
          },
          "bdata": "v49lPINXo7uCJ4S8xJwRPPxd7zzovMC8",
          "dtype": "f4"
         },
         "yaxis": "y"
        }
       ],
       "layout": {
        "height": 700,
        "legend": {
         "title": {
          "text": "Word Category"
         },
         "tracegroupgap": 0
        },
        "showlegend": true,
        "template": {
         "data": {
          "bar": [
           {
            "error_x": {
             "color": "#2a3f5f"
            },
            "error_y": {
             "color": "#2a3f5f"
            },
            "marker": {
             "line": {
              "color": "#E5ECF6",
              "width": 0.5
             },
             "pattern": {
              "fillmode": "overlay",
              "size": 10,
              "solidity": 0.2
             }
            },
            "type": "bar"
           }
          ],
          "barpolar": [
           {
            "marker": {
             "line": {
              "color": "#E5ECF6",
              "width": 0.5
             },
             "pattern": {
              "fillmode": "overlay",
              "size": 10,
              "solidity": 0.2
             }
            },
            "type": "barpolar"
           }
          ],
          "carpet": [
           {
            "aaxis": {
             "endlinecolor": "#2a3f5f",
             "gridcolor": "white",
             "linecolor": "white",
             "minorgridcolor": "white",
             "startlinecolor": "#2a3f5f"
            },
            "baxis": {
             "endlinecolor": "#2a3f5f",
             "gridcolor": "white",
             "linecolor": "white",
             "minorgridcolor": "white",
             "startlinecolor": "#2a3f5f"
            },
            "type": "carpet"
           }
          ],
          "choropleth": [
           {
            "colorbar": {
             "outlinewidth": 0,
             "ticks": ""
            },
            "type": "choropleth"
           }
          ],
          "contour": [
           {
            "colorbar": {
             "outlinewidth": 0,
             "ticks": ""
            },
            "colorscale": [
             [
              0,
              "#0d0887"
             ],
             [
              0.1111111111111111,
              "#46039f"
             ],
             [
              0.2222222222222222,
              "#7201a8"
             ],
             [
              0.3333333333333333,
              "#9c179e"
             ],
             [
              0.4444444444444444,
              "#bd3786"
             ],
             [
              0.5555555555555556,
              "#d8576b"
             ],
             [
              0.6666666666666666,
              "#ed7953"
             ],
             [
              0.7777777777777778,
              "#fb9f3a"
             ],
             [
              0.8888888888888888,
              "#fdca26"
             ],
             [
              1,
              "#f0f921"
             ]
            ],
            "type": "contour"
           }
          ],
          "contourcarpet": [
           {
            "colorbar": {
             "outlinewidth": 0,
             "ticks": ""
            },
            "type": "contourcarpet"
           }
          ],
          "heatmap": [
           {
            "colorbar": {
             "outlinewidth": 0,
             "ticks": ""
            },
            "colorscale": [
             [
              0,
              "#0d0887"
             ],
             [
              0.1111111111111111,
              "#46039f"
             ],
             [
              0.2222222222222222,
              "#7201a8"
             ],
             [
              0.3333333333333333,
              "#9c179e"
             ],
             [
              0.4444444444444444,
              "#bd3786"
             ],
             [
              0.5555555555555556,
              "#d8576b"
             ],
             [
              0.6666666666666666,
              "#ed7953"
             ],
             [
              0.7777777777777778,
              "#fb9f3a"
             ],
             [
              0.8888888888888888,
              "#fdca26"
             ],
             [
              1,
              "#f0f921"
             ]
            ],
            "type": "heatmap"
           }
          ],
          "histogram": [
           {
            "marker": {
             "pattern": {
              "fillmode": "overlay",
              "size": 10,
              "solidity": 0.2
             }
            },
            "type": "histogram"
           }
          ],
          "histogram2d": [
           {
            "colorbar": {
             "outlinewidth": 0,
             "ticks": ""
            },
            "colorscale": [
             [
              0,
              "#0d0887"
             ],
             [
              0.1111111111111111,
              "#46039f"
             ],
             [
              0.2222222222222222,
              "#7201a8"
             ],
             [
              0.3333333333333333,
              "#9c179e"
             ],
             [
              0.4444444444444444,
              "#bd3786"
             ],
             [
              0.5555555555555556,
              "#d8576b"
             ],
             [
              0.6666666666666666,
              "#ed7953"
             ],
             [
              0.7777777777777778,
              "#fb9f3a"
             ],
             [
              0.8888888888888888,
              "#fdca26"
             ],
             [
              1,
              "#f0f921"
             ]
            ],
            "type": "histogram2d"
           }
          ],
          "histogram2dcontour": [
           {
            "colorbar": {
             "outlinewidth": 0,
             "ticks": ""
            },
            "colorscale": [
             [
              0,
              "#0d0887"
             ],
             [
              0.1111111111111111,
              "#46039f"
             ],
             [
              0.2222222222222222,
              "#7201a8"
             ],
             [
              0.3333333333333333,
              "#9c179e"
             ],
             [
              0.4444444444444444,
              "#bd3786"
             ],
             [
              0.5555555555555556,
              "#d8576b"
             ],
             [
              0.6666666666666666,
              "#ed7953"
             ],
             [
              0.7777777777777778,
              "#fb9f3a"
             ],
             [
              0.8888888888888888,
              "#fdca26"
             ],
             [
              1,
              "#f0f921"
             ]
            ],
            "type": "histogram2dcontour"
           }
          ],
          "mesh3d": [
           {
            "colorbar": {
             "outlinewidth": 0,
             "ticks": ""
            },
            "type": "mesh3d"
           }
          ],
          "parcoords": [
           {
            "line": {
             "colorbar": {
              "outlinewidth": 0,
              "ticks": ""
             }
            },
            "type": "parcoords"
           }
          ],
          "pie": [
           {
            "automargin": true,
            "type": "pie"
           }
          ],
          "scatter": [
           {
            "fillpattern": {
             "fillmode": "overlay",
             "size": 10,
             "solidity": 0.2
            },
            "type": "scatter"
           }
          ],
          "scatter3d": [
           {
            "line": {
             "colorbar": {
              "outlinewidth": 0,
              "ticks": ""
             }
            },
            "marker": {
             "colorbar": {
              "outlinewidth": 0,
              "ticks": ""
             }
            },
            "type": "scatter3d"
           }
          ],
          "scattercarpet": [
           {
            "marker": {
             "colorbar": {
              "outlinewidth": 0,
              "ticks": ""
             }
            },
            "type": "scattercarpet"
           }
          ],
          "scattergeo": [
           {
            "marker": {
             "colorbar": {
              "outlinewidth": 0,
              "ticks": ""
             }
            },
            "type": "scattergeo"
           }
          ],
          "scattergl": [
           {
            "marker": {
             "colorbar": {
              "outlinewidth": 0,
              "ticks": ""
             }
            },
            "type": "scattergl"
           }
          ],
          "scattermap": [
           {
            "marker": {
             "colorbar": {
              "outlinewidth": 0,
              "ticks": ""
             }
            },
            "type": "scattermap"
           }
          ],
          "scattermapbox": [
           {
            "marker": {
             "colorbar": {
              "outlinewidth": 0,
              "ticks": ""
             }
            },
            "type": "scattermapbox"
           }
          ],
          "scatterpolar": [
           {
            "marker": {
             "colorbar": {
              "outlinewidth": 0,
              "ticks": ""
             }
            },
            "type": "scatterpolar"
           }
          ],
          "scatterpolargl": [
           {
            "marker": {
             "colorbar": {
              "outlinewidth": 0,
              "ticks": ""
             }
            },
            "type": "scatterpolargl"
           }
          ],
          "scatterternary": [
           {
            "marker": {
             "colorbar": {
              "outlinewidth": 0,
              "ticks": ""
             }
            },
            "type": "scatterternary"
           }
          ],
          "surface": [
           {
            "colorbar": {
             "outlinewidth": 0,
             "ticks": ""
            },
            "colorscale": [
             [
              0,
              "#0d0887"
             ],
             [
              0.1111111111111111,
              "#46039f"
             ],
             [
              0.2222222222222222,
              "#7201a8"
             ],
             [
              0.3333333333333333,
              "#9c179e"
             ],
             [
              0.4444444444444444,
              "#bd3786"
             ],
             [
              0.5555555555555556,
              "#d8576b"
             ],
             [
              0.6666666666666666,
              "#ed7953"
             ],
             [
              0.7777777777777778,
              "#fb9f3a"
             ],
             [
              0.8888888888888888,
              "#fdca26"
             ],
             [
              1,
              "#f0f921"
             ]
            ],
            "type": "surface"
           }
          ],
          "table": [
           {
            "cells": {
             "fill": {
              "color": "#EBF0F8"
             },
             "line": {
              "color": "white"
             }
            },
            "header": {
             "fill": {
              "color": "#C8D4E3"
             },
             "line": {
              "color": "white"
             }
            },
            "type": "table"
           }
          ]
         },
         "layout": {
          "annotationdefaults": {
           "arrowcolor": "#2a3f5f",
           "arrowhead": 0,
           "arrowwidth": 1
          },
          "autotypenumbers": "strict",
          "coloraxis": {
           "colorbar": {
            "outlinewidth": 0,
            "ticks": ""
           }
          },
          "colorscale": {
           "diverging": [
            [
             0,
             "#8e0152"
            ],
            [
             0.1,
             "#c51b7d"
            ],
            [
             0.2,
             "#de77ae"
            ],
            [
             0.3,
             "#f1b6da"
            ],
            [
             0.4,
             "#fde0ef"
            ],
            [
             0.5,
             "#f7f7f7"
            ],
            [
             0.6,
             "#e6f5d0"
            ],
            [
             0.7,
             "#b8e186"
            ],
            [
             0.8,
             "#7fbc41"
            ],
            [
             0.9,
             "#4d9221"
            ],
            [
             1,
             "#276419"
            ]
           ],
           "sequential": [
            [
             0,
             "#0d0887"
            ],
            [
             0.1111111111111111,
             "#46039f"
            ],
            [
             0.2222222222222222,
             "#7201a8"
            ],
            [
             0.3333333333333333,
             "#9c179e"
            ],
            [
             0.4444444444444444,
             "#bd3786"
            ],
            [
             0.5555555555555556,
             "#d8576b"
            ],
            [
             0.6666666666666666,
             "#ed7953"
            ],
            [
             0.7777777777777778,
             "#fb9f3a"
            ],
            [
             0.8888888888888888,
             "#fdca26"
            ],
            [
             1,
             "#f0f921"
            ]
           ],
           "sequentialminus": [
            [
             0,
             "#0d0887"
            ],
            [
             0.1111111111111111,
             "#46039f"
            ],
            [
             0.2222222222222222,
             "#7201a8"
            ],
            [
             0.3333333333333333,
             "#9c179e"
            ],
            [
             0.4444444444444444,
             "#bd3786"
            ],
            [
             0.5555555555555556,
             "#d8576b"
            ],
            [
             0.6666666666666666,
             "#ed7953"
            ],
            [
             0.7777777777777778,
             "#fb9f3a"
            ],
            [
             0.8888888888888888,
             "#fdca26"
            ],
            [
             1,
             "#f0f921"
            ]
           ]
          },
          "colorway": [
           "#636efa",
           "#EF553B",
           "#00cc96",
           "#ab63fa",
           "#FFA15A",
           "#19d3f3",
           "#FF6692",
           "#B6E880",
           "#FF97FF",
           "#FECB52"
          ],
          "font": {
           "color": "#2a3f5f"
          },
          "geo": {
           "bgcolor": "white",
           "lakecolor": "white",
           "landcolor": "#E5ECF6",
           "showlakes": true,
           "showland": true,
           "subunitcolor": "white"
          },
          "hoverlabel": {
           "align": "left"
          },
          "hovermode": "closest",
          "mapbox": {
           "style": "light"
          },
          "paper_bgcolor": "white",
          "plot_bgcolor": "#E5ECF6",
          "polar": {
           "angularaxis": {
            "gridcolor": "white",
            "linecolor": "white",
            "ticks": ""
           },
           "bgcolor": "#E5ECF6",
           "radialaxis": {
            "gridcolor": "white",
            "linecolor": "white",
            "ticks": ""
           }
          },
          "scene": {
           "xaxis": {
            "backgroundcolor": "#E5ECF6",
            "gridcolor": "white",
            "gridwidth": 2,
            "linecolor": "white",
            "showbackground": true,
            "ticks": "",
            "zerolinecolor": "white"
           },
           "yaxis": {
            "backgroundcolor": "#E5ECF6",
            "gridcolor": "white",
            "gridwidth": 2,
            "linecolor": "white",
            "showbackground": true,
            "ticks": "",
            "zerolinecolor": "white"
           },
           "zaxis": {
            "backgroundcolor": "#E5ECF6",
            "gridcolor": "white",
            "gridwidth": 2,
            "linecolor": "white",
            "showbackground": true,
            "ticks": "",
            "zerolinecolor": "white"
           }
          },
          "shapedefaults": {
           "line": {
            "color": "#2a3f5f"
           }
          },
          "ternary": {
           "aaxis": {
            "gridcolor": "white",
            "linecolor": "white",
            "ticks": ""
           },
           "baxis": {
            "gridcolor": "white",
            "linecolor": "white",
            "ticks": ""
           },
           "bgcolor": "#E5ECF6",
           "caxis": {
            "gridcolor": "white",
            "linecolor": "white",
            "ticks": ""
           }
          },
          "title": {
           "x": 0.05
          },
          "xaxis": {
           "automargin": true,
           "gridcolor": "white",
           "linecolor": "white",
           "ticks": "",
           "title": {
            "standoff": 15
           },
           "zerolinecolor": "white",
           "zerolinewidth": 2
          },
          "yaxis": {
           "automargin": true,
           "gridcolor": "white",
           "linecolor": "white",
           "ticks": "",
           "title": {
            "standoff": 15
           },
           "zerolinecolor": "white",
           "zerolinewidth": 2
          }
         }
        },
        "title": {
         "font": {
          "size": 16
         },
         "text": "Word2Vec Embeddings Visualization (PCA Projection)"
        },
        "width": 900,
        "xaxis": {
         "anchor": "y",
         "autorange": true,
         "domain": [
          0,
          1
         ],
         "range": [
          -0.1380309835917986,
          0.16759417959523565
         ],
         "title": {
          "text": "First Principal Component"
         },
         "type": "linear"
        },
        "yaxis": {
         "anchor": "x",
         "autorange": true,
         "domain": [
          0,
          1
         ],
         "range": [
          -0.033286595860985466,
          0.03352374784138555
         ],
         "title": {
          "text": "Second Principal Component"
         },
         "type": "linear"
        }
       }
      },
      "image/png": "[encoded data removed]"
     },
     "metadata": {},
     "output_type": "display_data"
    },
    {
     "name": "stdout",
     "output_type": "stream",
     "text": [
      "🎨 Interactive visualization created!\n",
      "💡 Look for clusters of related words - they should be close together in the vector space\n"
     ]
    }
   ],
   "source": [
    "# Create an interactive visualization of the word embeddings\n",
    "\n",
    "# Create the scatter plot\n",
    "fig = px.scatter(\n",
    "    df_viz, \n",
    "    x='x', \n",
    "    y='y', \n",
    "    color='category',\n",
    "    text='word',\n",
    "    title='Word2Vec Embeddings Visualization (PCA Projection)',\n",
    "    width=900,\n",
    "    height=700\n",
    ")\n",
    "\n",
    "# Customize the appearance\n",
    "fig.update_traces(\n",
    "    textposition=\"middle right\",\n",
    "    textfont_size=12,\n",
    "    marker=dict(size=12, line=dict(width=2, color='DarkSlateGrey'))\n",
    ")\n",
    "\n",
    "fig.update_layout(\n",
    "    title_font_size=16,\n",
    "    xaxis_title=\"First Principal Component\",\n",
    "    yaxis_title=\"Second Principal Component\",\n",
    "    legend_title=\"Word Category\",\n",
    "    showlegend=True\n",
    ")\n",
    "\n",
    "# Show the plot\n",
    "fig.show()\n",
    "\n",
    "print(\"🎨 Interactive visualization created!\")\n",
    "print(\"💡 Look for clusters of related words - they should be close together in the vector space\")"
   ]
  },
  {
   "cell_type": "code",
   "execution_count": 16,
   "metadata": {
    "execution": {
     "iopub.execute_input": "2025-06-30T17:51:47.208373Z",
     "iopub.status.busy": "2025-06-30T17:51:47.207833Z",
     "iopub.status.idle": "2025-06-30T17:51:47.420692Z",
     "shell.execute_reply": "2025-06-30T17:51:47.420043Z",
     "shell.execute_reply.started": "2025-06-30T17:51:47.208327Z"
    }
   },
   "outputs": [
    {
     "data": {
      "image/png": "[encoded data removed]",
      "text/plain": [
       "<Figure size 1200x800 with 1 Axes>"
      ]
     },
     "metadata": {},
     "output_type": "display_data"
    },
    {
     "name": "stdout",
     "output_type": "stream",
     "text": [
      "\n",
      "🎯 Key Insight: Notice how the arithmetic result (green star) should be close to 'queen'!\n",
      "This demonstrates that Word2Vec has learned to encode semantic relationships geometrically.\n"
     ]
    }
   ],
   "source": [
    "# Let's also create a static matplotlib version that shows vector arithmetic visually\n",
    "\n",
    "def plot_vector_arithmetic():\n",
    "    \"\"\"Create a visualization showing the king - man + woman = queen arithmetic.\"\"\"\n",
    "    \n",
    "    # Get the specific words we need\n",
    "    key_words = ['king', 'queen', 'man', 'woman']\n",
    "    key_vectors = []\n",
    "    \n",
    "    for word in key_words:\n",
    "        if word in model.wv:\n",
    "            key_vectors.append(model.wv[word])\n",
    "        else:\n",
    "            print(f\"❌ '{word}' not found\")\n",
    "            return\n",
    "    \n",
    "    # Apply PCA to just these four words\n",
    "    key_vectors = np.array(key_vectors)\n",
    "    pca_key = PCA(n_components=2, random_state=42)\n",
    "    key_2d = pca_key.fit_transform(key_vectors)\n",
    "    \n",
    "    # Calculate the arithmetic result\n",
    "    arithmetic_result = key_vectors[0] - key_vectors[2] + key_vectors[3]  # king - man + woman\n",
    "    result_2d = pca_key.transform(arithmetic_result.reshape(1, -1))[0]\n",
    "    \n",
    "    # Create the plot\n",
    "    plt.figure(figsize=(12, 8))\n",
    "    \n",
    "    # Plot the original words\n",
    "    colors = ['red', 'red', 'blue', 'blue']  # king/queen in red, man/woman in blue\n",
    "    \n",
    "    for i, word in enumerate(key_words):\n",
    "        plt.scatter(key_2d[i, 0], key_2d[i, 1], c=colors[i], s=200, alpha=0.7)\n",
    "        plt.annotate(word, (key_2d[i, 0], key_2d[i, 1]), \n",
    "                    xytext=(5, 5), textcoords='offset points', fontsize=14, fontweight='bold')\n",
    "    \n",
    "    # Plot the arithmetic result\n",
    "    plt.scatter(result_2d[0], result_2d[1], c='green', s=300, marker='*', alpha=0.8)\n",
    "    plt.annotate('king - man + woman', (result_2d[0], result_2d[1]), \n",
    "                xytext=(5, 5), textcoords='offset points', fontsize=12, \n",
    "                bbox=dict(boxstyle=\"round,pad=0.3\", facecolor=\"lightgreen\"))\n",
    "    \n",
    "    # Draw arrows to show the arithmetic\n",
    "    # king - man\n",
    "    plt.arrow(key_2d[0, 0], key_2d[0, 1], \n",
    "              -0.3*(key_2d[2, 0] - key_2d[0, 0]), -0.3*(key_2d[2, 1] - key_2d[0, 1]),\n",
    "              head_width=0.02, head_length=0.02, fc='orange', ec='orange', alpha=0.7)\n",
    "    \n",
    "    # + woman\n",
    "    plt.arrow(key_2d[0, 0] - 0.3*(key_2d[2, 0] - key_2d[0, 0]), \n",
    "              key_2d[0, 1] - 0.3*(key_2d[2, 1] - key_2d[0, 1]),\n",
    "              0.3*(key_2d[3, 0] - key_2d[0, 0]), 0.3*(key_2d[3, 1] - key_2d[0, 1]),\n",
    "              head_width=0.02, head_length=0.02, fc='purple', ec='purple', alpha=0.7)\n",
    "    \n",
    "    plt.title('Vector Arithmetic: king - man + woman ≈ queen', fontsize=16, fontweight='bold')\n",
    "    plt.xlabel('First Principal Component', fontsize=12)\n",
    "    plt.ylabel('Second Principal Component', fontsize=12)\n",
    "    plt.grid(True, alpha=0.3)\n",
    "    \n",
    "    # Add legend\n",
    "    plt.scatter([], [], c='red', label='Royalty (king/queen)', s=100)\n",
    "    plt.scatter([], [], c='blue', label='Gender (man/woman)', s=100)\n",
    "    plt.scatter([], [], c='green', marker='*', label='Arithmetic Result', s=150)\n",
    "    plt.legend()\n",
    "    \n",
    "    plt.tight_layout()\n",
    "    plt.show()\n",
    "\n",
    "# Create the visualization\n",
    "plot_vector_arithmetic()\n",
    "\n",
    "print(\"\\n🎯 Key Insight: Notice how the arithmetic result (green star) should be close to 'queen'!\")\n",
    "print(\"This demonstrates that Word2Vec has learned to encode semantic relationships geometrically.\")"
   ]
  },
  {
   "cell_type": "markdown",
   "metadata": {},
   "source": [
    "---\n",
    "\n",
    "# Part 5: Applications to Library Metadata and Entity Resolution\n",
    "\n",
    "Now let's connect what we've learned to real-world applications in digital humanities and library science. We'll use Word2Vec principles to solve entity resolution problems similar to those we face at Yale Library.\n",
    "\n",
    "## The Entity Resolution Challenge\n",
    "\n",
    "In library catalogs, the same person might appear with variations in their name:\n",
    "- \"Schubert, Franz, 1797-1828\"\n",
    "- \"Franz Schubert\"\n",
    "- \"F. Schubert (composer)\"\n",
    "\n",
    "Traditional string matching often fails, but embeddings can capture semantic similarity."
   ]
  },
  {
   "cell_type": "code",
   "execution_count": 17,
   "metadata": {
    "execution": {
     "iopub.execute_input": "2025-06-30T17:52:05.931536Z",
     "iopub.status.busy": "2025-06-30T17:52:05.931190Z",
     "iopub.status.idle": "2025-06-30T17:52:05.936882Z",
     "shell.execute_reply": "2025-06-30T17:52:05.936287Z",
     "shell.execute_reply.started": "2025-06-30T17:52:05.931513Z"
    }
   },
   "outputs": [
    {
     "name": "stdout",
     "output_type": "stream",
     "text": [
      "📚 Sample Library Records for Entity Resolution:\n",
      "=======================================================\n",
      " 1. Schubert, Franz, 1797-1828. Winterreise: song cycle for voice and piano\n",
      " 2. Franz Schubert. Ave Maria: sacred song for soprano and piano\n",
      " 3. F. Schubert (composer). Symphony No. 8 in B minor (Unfinished)\n",
      " 4. Schubert, F. (Austrian composer). Die schöne Müllerin: song cycle\n",
      " 5. Schubert, Franz August, 1806-1893. Archaeological photography methods\n",
      " 6. F. A. Schubert (German artist). Landscape paintings of the Rhine Valley\n",
      " 7. Bach, Johann Sebastian, 1685-1750. The Well-Tempered Clavier\n",
      " 8. Mozart, Wolfgang Amadeus, 1756-1791. Requiem in D minor\n",
      " 9. Beethoven, Ludwig van, 1770-1827. Symphony No. 9 in D minor\n",
      "\n",
      "🎯 Challenge: Which records refer to the same person?\n",
      "Note: Franz Schubert (composer) ≠ Franz August Schubert (painter)!\n"
     ]
    }
   ],
   "source": [
    "# Create sample library records that demonstrate entity resolution challenges\n",
    "\n",
    "library_records = [\n",
    "    # Franz Schubert (Austrian composer, 1797-1828)\n",
    "    \"Schubert, Franz, 1797-1828. Winterreise: song cycle for voice and piano\",\n",
    "    \"Franz Schubert. Ave Maria: sacred song for soprano and piano\",\n",
    "    \"F. Schubert (composer). Symphony No. 8 in B minor (Unfinished)\",\n",
    "    \"Schubert, F. (Austrian composer). Die schöne Müllerin: song cycle\",\n",
    "    \n",
    "    # Franz August Schubert (German painter, 1806-1893) - Different person!\n",
    "    \"Schubert, Franz August, 1806-1893. Archaeological photography methods\",\n",
    "    \"F. A. Schubert (German artist). Landscape paintings of the Rhine Valley\",\n",
    "    \n",
    "    # Other composers for context\n",
    "    \"Bach, Johann Sebastian, 1685-1750. The Well-Tempered Clavier\",\n",
    "    \"Mozart, Wolfgang Amadeus, 1756-1791. Requiem in D minor\",\n",
    "    \"Beethoven, Ludwig van, 1770-1827. Symphony No. 9 in D minor\"\n",
    "]\n",
    "\n",
    "print(\"📚 Sample Library Records for Entity Resolution:\")\n",
    "print(\"=\" * 55)\n",
    "for i, record in enumerate(library_records, 1):\n",
    "    print(f\"{i:2d}. {record}\")\n",
    "\n",
    "print(\"\\n🎯 Challenge: Which records refer to the same person?\")\n",
    "print(\"Note: Franz Schubert (composer) ≠ Franz August Schubert (painter)!\")"
   ]
  },
  {
   "cell_type": "code",
   "execution_count": 18,
   "metadata": {
    "execution": {
     "iopub.execute_input": "2025-06-30T17:52:21.294188Z",
     "iopub.status.busy": "2025-06-30T17:52:21.293801Z",
     "iopub.status.idle": "2025-06-30T17:52:21.300356Z",
     "shell.execute_reply": "2025-06-30T17:52:21.299735Z",
     "shell.execute_reply.started": "2025-06-30T17:52:21.294159Z"
    }
   },
   "outputs": [
    {
     "name": "stdout",
     "output_type": "stream",
     "text": [
      "👥 Extracted Person Names:\n",
      "==============================\n",
      " 1. Person: 'Schubert, Franz, 1797-1828'\n",
      "    Work: 'Winterreise: song cycle for voice and piano'\n",
      "\n",
      " 2. Person: 'Franz Schubert'\n",
      "    Work: 'Ave Maria: sacred song for soprano and piano'\n",
      "\n",
      " 3. Person: 'F'\n",
      "    Work: 'Schubert (composer). Symphony No. 8 in B minor (Unfinished)'\n",
      "\n",
      " 4. Person: 'Schubert, F'\n",
      "    Work: '(Austrian composer). Die schöne Müllerin: song cycle'\n",
      "\n",
      " 5. Person: 'Schubert, Franz August, 1806-1893'\n",
      "    Work: 'Archaeological photography methods'\n",
      "\n",
      " 6. Person: 'F'\n",
      "    Work: 'A. Schubert (German artist). Landscape paintings of the Rhine Valley'\n",
      "\n",
      " 7. Person: 'Bach, Johann Sebastian, 1685-1750'\n",
      "    Work: 'The Well-Tempered Clavier'\n",
      "\n",
      " 8. Person: 'Mozart, Wolfgang Amadeus, 1756-1791'\n",
      "    Work: 'Requiem in D minor'\n",
      "\n",
      " 9. Person: 'Beethoven, Ludwig van, 1770-1827'\n",
      "    Work: 'Symphony No. 9 in D minor'\n",
      "\n"
     ]
    }
   ],
   "source": [
    "# Extract person names and create embeddings for similarity comparison\n",
    "\n",
    "def extract_person_name(record):\n",
    "    \"\"\"Extract the person name from a library record.\"\"\"\n",
    "    # Simple extraction - take everything before the first period\n",
    "    person_part = record.split('.')[0]\n",
    "    return person_part.strip()\n",
    "\n",
    "def get_work_description(record):\n",
    "    \"\"\"Extract the work description from a library record.\"\"\"\n",
    "    # Take everything after the first period\n",
    "    parts = record.split('.', 1)\n",
    "    if len(parts) > 1:\n",
    "        return parts[1].strip()\n",
    "    return \"\"\n",
    "\n",
    "# Extract information from our records\n",
    "person_names = [extract_person_name(record) for record in library_records]\n",
    "work_descriptions = [get_work_description(record) for record in library_records]\n",
    "\n",
    "print(\"👥 Extracted Person Names:\")\n",
    "print(\"=\" * 30)\n",
    "for i, (name, work) in enumerate(zip(person_names, work_descriptions), 1):\n",
    "    print(f\"{i:2d}. Person: '{name}'\")\n",
    "    print(f\"    Work: '{work}'\")    \n",
    "    print()"
   ]
  },
  {
   "cell_type": "code",
   "execution_count": 19,
   "metadata": {
    "execution": {
     "iopub.execute_input": "2025-06-30T17:52:31.795744Z",
     "iopub.status.busy": "2025-06-30T17:52:31.795239Z",
     "iopub.status.idle": "2025-06-30T17:52:31.892164Z",
     "shell.execute_reply": "2025-06-30T17:52:31.891747Z",
     "shell.execute_reply.started": "2025-06-30T17:52:31.795718Z"
    }
   },
   "outputs": [
    {
     "name": "stdout",
     "output_type": "stream",
     "text": [
      "🚀 Training Library-Specific Word2Vec Model...\n",
      "=============================================\n",
      "✅ Enhanced model training complete!\n",
      "📚 Vocabulary size: 153\n",
      "📐 Vector dimensions: 100\n"
     ]
    }
   ],
   "source": [
    "# Train a new Word2Vec model on our library-specific corpus\n",
    "# This will better capture the relationships in bibliographic data\n",
    "\n",
    "# Combine our original corpus with library-specific terms\n",
    "library_corpus = extended_corpus + [\n",
    "    # Add library-specific sentences\n",
    "    \"franz schubert composed winterreise and ave maria for voice and piano\",\n",
    "    \"schubert wrote unfinished symphony and die schöne müllerin song cycle\",\n",
    "    \"johann sebastian bach created well tempered clavier for keyboard\",\n",
    "    \"wolfgang amadeus mozart composed requiem in d minor for choir and orchestra\",\n",
    "    \"ludwig van beethoven wrote symphony number nine in d minor\",\n",
    "    \"composers write symphonies sonatas and songs for musical performance\",\n",
    "    \"painters create landscape paintings and archaeological photography\",\n",
    "    \"artists work with visual media while composers work with musical media\",\n",
    "    \"austrian composer schubert lived from seventeen ninety seven to eighteen twenty eight\",\n",
    "    \"german painter schubert lived from eighteen oh six to eighteen ninety three\"\n",
    "]\n",
    "\n",
    "# Prepare the enhanced corpus\n",
    "library_training_corpus = prepare_corpus_for_word2vec(library_corpus)\n",
    "\n",
    "print(\"🚀 Training Library-Specific Word2Vec Model...\")\n",
    "print(\"=\" * 45)\n",
    "\n",
    "# Train the enhanced model\n",
    "library_model = Word2Vec(\n",
    "    sentences=library_training_corpus,\n",
    "    vector_size=100,\n",
    "    window=5,\n",
    "    min_count=1,\n",
    "    sg=1,\n",
    "    epochs=150,  # More epochs for better learning\n",
    "    seed=42\n",
    ")\n",
    "\n",
    "print(\"✅ Enhanced model training complete!\")\n",
    "print(f\"📚 Vocabulary size: {len(library_model.wv.key_to_index)}\")\n",
    "print(f\"📐 Vector dimensions: {library_model.wv.vector_size}\")"
   ]
  },
  {
   "cell_type": "code",
   "execution_count": 20,
   "metadata": {
    "execution": {
     "iopub.execute_input": "2025-06-30T17:52:37.701612Z",
     "iopub.status.busy": "2025-06-30T17:52:37.700938Z",
     "iopub.status.idle": "2025-06-30T17:52:37.712270Z",
     "shell.execute_reply": "2025-06-30T17:52:37.711821Z",
     "shell.execute_reply.started": "2025-06-30T17:52:37.701583Z"
    }
   },
   "outputs": [
    {
     "name": "stdout",
     "output_type": "stream",
     "text": [
      "🔍 Entity Resolution: Name Similarity Analysis\n",
      "==================================================\n",
      "Similarity scores (higher = more similar):\n",
      "\n",
      "📊 1.000 | 'Schubert, Franz, 1797-1828' vs 'Franz Schubert'\n",
      "📊 0.992 | 'Franz Schubert' vs 'F. Schubert (composer)'\n",
      "📊 0.992 | 'Schubert, Franz, 1797-1828' vs 'Schubert, F. (Austrian composer)'\n",
      "📊 1.000 | 'Schubert, Franz, 1797-1828' vs 'Schubert, Franz August, 1806-1893'\n",
      "📊 0.995 | 'Franz Schubert' vs 'F. A. Schubert (German artist)'\n",
      "📊 0.968 | 'Schubert, Franz, 1797-1828' vs 'Bach, Johann Sebastian, 1685-1750'\n",
      "📊 0.970 | 'Franz Schubert' vs 'Mozart, Wolfgang Amadeus, 1756-1791'\n",
      "\n",
      "💡 Interpretation:\n",
      "   • High scores (>0.7): Likely the same person\n",
      "   • Medium scores (0.4-0.7): Possibly related, need investigation\n",
      "   • Low scores (<0.4): Likely different people\n"
     ]
    }
   ],
   "source": [
    "# Now let's compute similarity scores between different name variations\n",
    "# This demonstrates how embeddings can solve entity resolution problems\n",
    "\n",
    "def compute_name_similarity(model, name1, name2):\n",
    "    \"\"\"Compute similarity between two person names using word embeddings.\"\"\"\n",
    "    # Tokenize both names\n",
    "    tokens1 = simple_tokenize(name1)\n",
    "    tokens2 = simple_tokenize(name2)\n",
    "    \n",
    "    # Get vectors for tokens that exist in our vocabulary\n",
    "    vectors1 = [model.wv[token] for token in tokens1 if token in model.wv]\n",
    "    vectors2 = [model.wv[token] for token in tokens2 if token in model.wv]\n",
    "    \n",
    "    if not vectors1 or not vectors2:\n",
    "        return 0.0  # No matching tokens\n",
    "    \n",
    "    # Average the vectors for each name\n",
    "    avg_vector1 = np.mean(vectors1, axis=0)\n",
    "    avg_vector2 = np.mean(vectors2, axis=0)\n",
    "    \n",
    "    # Compute cosine similarity\n",
    "    similarity = cosine_similarity(\n",
    "        avg_vector1.reshape(1, -1), \n",
    "        avg_vector2.reshape(1, -1)\n",
    "    )[0][0]\n",
    "    \n",
    "    return similarity\n",
    "\n",
    "print(\"🔍 Entity Resolution: Name Similarity Analysis\")\n",
    "print(\"=\" * 50)\n",
    "\n",
    "# Test similarity between different name variations\n",
    "test_pairs = [\n",
    "    # Same person (Franz Schubert the composer)\n",
    "    (\"Schubert, Franz, 1797-1828\", \"Franz Schubert\"),\n",
    "    (\"Franz Schubert\", \"F. Schubert (composer)\"),\n",
    "    (\"Schubert, Franz, 1797-1828\", \"Schubert, F. (Austrian composer)\"),\n",
    "    \n",
    "    # Different person (Franz August Schubert the painter)\n",
    "    (\"Schubert, Franz, 1797-1828\", \"Schubert, Franz August, 1806-1893\"),\n",
    "    (\"Franz Schubert\", \"F. A. Schubert (German artist)\"),\n",
    "    \n",
    "    # Different composers\n",
    "    (\"Schubert, Franz, 1797-1828\", \"Bach, Johann Sebastian, 1685-1750\"),\n",
    "    (\"Franz Schubert\", \"Mozart, Wolfgang Amadeus, 1756-1791\")\n",
    "]\n",
    "\n",
    "print(\"Similarity scores (higher = more similar):\")\n",
    "print()\n",
    "for name1, name2 in test_pairs:\n",
    "    similarity = compute_name_similarity(library_model, name1, name2)\n",
    "    print(f\"📊 {similarity:.3f} | '{name1}' vs '{name2}'\")\n",
    "\n",
    "print(\"\\n💡 Interpretation:\")\n",
    "print(\"   • High scores (>0.7): Likely the same person\")\n",
    "print(\"   • Medium scores (0.4-0.7): Possibly related, need investigation\")\n",
    "print(\"   • Low scores (<0.4): Likely different people\")"
   ]
  },
  {
   "cell_type": "markdown",
   "metadata": {},
   "source": [
    "---\n",
    "\n",
    "# Part 6: Key Insights and Next Steps\n",
    "\n",
    "## What We've Learned\n",
    "\n",
    "1. **Tokenization** breaks text into processable units\n",
    "2. **Word2Vec** learns semantic relationships through context\n",
    "3. **Vector arithmetic** reveals learned relationships (king - man + woman = queen)\n",
    "4. **Cosine similarity** measures semantic closeness\n",
    "5. **Entity resolution** can be improved using embeddings instead of just string matching\n",
    "\n",
    "## From Word2Vec to Modern Embeddings\n",
    "\n",
    "Word2Vec was groundbreaking, but modern approaches offer significant improvements:\n",
    "\n",
    "- **Sentence-BERT**: Creates embeddings for entire sentences\n",
    "- **OpenAI text-embedding-3-small**: High-quality, general-purpose embeddings\n",
    "- **Transformer models**: Context-aware representations\n",
    "\n",
    "## Real-World Impact at Yale Library\n",
    "\n",
    "Using modern embeddings, we've built an entity resolution pipeline that:\n",
    "- Processes 17.6 million catalog records\n",
    "- Achieves 99.55% precision in entity matching\n",
    "- Costs only ~$35 to embed the entire catalog\n",
    "- Automates work that would take thousands of hours manually"
   ]
  },
  {
   "cell_type": "code",
   "execution_count": 21,
   "metadata": {
    "execution": {
     "iopub.execute_input": "2025-06-30T17:52:55.964124Z",
     "iopub.status.busy": "2025-06-30T17:52:55.963796Z",
     "iopub.status.idle": "2025-06-30T17:52:56.048491Z",
     "shell.execute_reply": "2025-06-30T17:52:56.047802Z",
     "shell.execute_reply.started": "2025-06-30T17:52:55.964104Z"
    }
   },
   "outputs": [
    {
     "name": "stdout",
     "output_type": "stream",
     "text": [
      "🔍 Word Similarity Clusters from Our Model:\n",
      "=============================================\n",
      "\n",
      "🎯 Words similar to 'schubert':\n",
      "   • composer: 0.993\n",
      "   • austrian: 0.993\n",
      "   • german: 0.993\n",
      "   • eight: 0.992\n",
      "   • three: 0.991\n",
      "\n",
      "🎯 Words similar to 'composer':\n",
      "   • eight: 0.998\n",
      "   • austrian: 0.997\n",
      "   • twenty: 0.997\n",
      "   • three: 0.996\n",
      "   • seven: 0.996\n",
      "\n",
      "🎯 Words similar to 'symphony':\n",
      "   • wrote: 0.997\n",
      "   • number: 0.996\n",
      "   • unfinished: 0.995\n",
      "   • van: 0.994\n",
      "   • nine: 0.994\n",
      "\n",
      "🎯 Words similar to 'king':\n",
      "   • queen: 0.995\n",
      "   • palace: 0.994\n",
      "   • ruled: 0.994\n",
      "   • power: 0.994\n",
      "   • wisdom: 0.993\n",
      "\n",
      "🎯 Words similar to 'woman':\n",
      "   • across: 0.995\n",
      "   • at: 0.995\n",
      "   • traveled: 0.995\n",
      "   • sunrise: 0.994\n",
      "   • mountains: 0.994\n",
      "\n",
      "✨ These clusters show that our model has learned meaningful relationships!\n",
      "In the next notebook, we'll see how modern transformers improve on these foundations.\n"
     ]
    }
   ],
   "source": [
    "# Final demonstration: Show how word similarities cluster\n",
    "# This prepares us for understanding modern embedding applications\n",
    "\n",
    "def find_most_similar_words(model, target_word, top_n=10):\n",
    "    \"\"\"Find the most similar words to a target word.\"\"\"\n",
    "    if target_word not in model.wv:\n",
    "        return []\n",
    "    \n",
    "    similar_words = model.wv.most_similar(target_word, topn=top_n)\n",
    "    return similar_words\n",
    "\n",
    "print(\"🔍 Word Similarity Clusters from Our Model:\")\n",
    "print(\"=\" * 45)\n",
    "\n",
    "# Test key words from our domain\n",
    "test_words = ['schubert', 'composer', 'symphony', 'king', 'woman']\n",
    "\n",
    "for word in test_words:\n",
    "    if word in library_model.wv:\n",
    "        similar = find_most_similar_words(library_model, word, top_n=5)\n",
    "        print(f\"\\n🎯 Words similar to '{word}':\")\n",
    "        for similar_word, score in similar:\n",
    "            print(f\"   • {similar_word}: {score:.3f}\")\n",
    "    else:\n",
    "        print(f\"\\n❌ '{word}' not in vocabulary\")\n",
    "\n",
    "print(\"\\n✨ These clusters show that our model has learned meaningful relationships!\")\n",
    "print(\"In the next notebook, we'll see how modern transformers improve on these foundations.\")"
   ]
  },
  {
   "cell_type": "markdown",
   "metadata": {},
   "source": [
    "---\n",
    "\n",
    "# Summary and Reflection\n",
    "\n",
    "## What We've Accomplished\n",
    "\n",
    "1. **Built intuition** for how computers can understand semantic relationships\n",
    "2. **Demonstrated the famous** king - man + woman = queen example\n",
    "3. **Applied embeddings** to real library metadata challenges\n",
    "4. **Visualized high-dimensional** vector spaces in 2D\n",
    "5. **Connected theory** to practical entity resolution problems\n",
    "\n",
    "## Key Takeaways\n",
    "\n",
    "- **Context matters**: Words are understood by the company they keep\n",
    "- **Geometry encodes meaning**: Semantic relationships become spatial relationships\n",
    "- **Small models work**: Even with limited data, we can learn useful representations\n",
    "- **Applications are everywhere**: From search to classification to entity resolution\n",
    "\n",
    "## Next Steps\n",
    "\n",
    "In the following notebooks, we'll explore:\n",
    "- Modern text embeddings (Sentence-BERT, OpenAI)\n",
    "- Vector hot-deck imputation for missing metadata\n",
    "- Classification with minimal labeled data\n",
    "- Vector databases and similarity search\n",
    "\n",
    "The foundation you've built here will make these advanced topics much more accessible!\n",
    "\n",
    "---\n",
    "\n",
    "**Questions for Discussion:**\n",
    "- How might word embeddings transform research in your field?\n",
    "- What entity resolution challenges do you face in your work?\n",
    "- How do you balance computational approaches with human expertise?"
   ]
  }
 ],
 "metadata": {
  "kernelspec": {
   "display_name": "Python 3 (ipykernel)",
   "language": "python",
   "name": "python3"
  },
  "language_info": {
   "codemirror_mode": {
    "name": "ipython",
    "version": 3
   },
   "file_extension": ".py",
   "mimetype": "text/x-python",
   "name": "python",
   "nbconvert_exporter": "python",
   "pygments_lexer": "ipython3",
   "version": "3.11.4"
  }
 },
 "nbformat": 4,
 "nbformat_minor": 4
}
