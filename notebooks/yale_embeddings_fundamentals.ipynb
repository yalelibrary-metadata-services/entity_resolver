{
 "cells": [
  {
   "cell_type": "markdown",
   "metadata": {
    "id": "title"
   },
   "source": [
    "# Text Embeddings and the Franz Schubert Problem\n",
    "\n",
    "**Yale AI Workshop - Notebook 1: Understanding Embeddings in Entity Resolution**\n",
    "\n",
    "---\n",
    "\n",
    "## The Real Challenge at Yale University Library\n",
    "\n",
    "Yale's library catalog contains **17.6 million records**. Among these are hundreds of entries for \"Franz Schubert\" - but they're not all the same person!\n",
    "\n",
    "**Here are two ACTUAL records from Yale's catalog:**\n",
    "\n",
    "**Record 53144 (Row 9.1 in training data):**\n",
    "```\n",
    "Person: \"Schubert, Franz\"\n",
    "Title: \"Archäologie und Photographie: fünfzig Beispiele zur Geschichte und Methode\"\n",
    "Attribution: \"ausgewählt von Franz Schubert und Susanne Grunauer-von Hoerschelmann\"\n",
    "Provision: \"Mainz: P. von Zabern, 1978\"\n",
    "Subjects: \"Photography in archaeology\"\n",
    "Domain: \"Documentary and Technical Arts\"\n",
    "```\n",
    "\n",
    "**Record 772230 (Row 9.0 in training data):**\n",
    "```\n",
    "Person: \"Schubert, Franz, 1797-1828\"\n",
    "Title: \"Quartette für zwei Violinen, Viola, Violoncell\"\n",
    "Attribution: \"von Franz Schubert\"\n",
    "Provision: \"Leipzig: C.F. Peters, [19--?] Partitur\"\n",
    "Subjects: \"String quartets--Scores\"\n",
    "Domain: \"Music, Sound, and Sonic Arts\"\n",
    "```\n",
    "\n",
    "**The Critical Question:** How do we teach a computer these are DIFFERENT people?\n",
    "\n",
    "---\n",
    "\n",
    "## What You'll Learn\n",
    "\n",
    "1. **How text embeddings work** - turning words into meaningful numbers\n",
    "2. **Why similarity fails** - the threshold problem revealed\n",
    "3. **Real production metrics** - 99.75% precision at Yale\n",
    "4. **Actual costs and scale** - processing 17.6M records\n",
    "\n",
    "This notebook uses Yale's ACTUAL production code and data!"
   ]
  },
  {
   "cell_type": "markdown",
   "metadata": {
    "id": "setup"
   },
   "source": [
    "## Setup: Production Dependencies\n",
    "\n",
    "Let's install what Yale actually uses in production."
   ]
  },
  {
   "cell_type": "code",
   "execution_count": 28,
   "metadata": {
    "execution": {
     "iopub.execute_input": "2025-07-01T22:18:13.867169Z",
     "iopub.status.busy": "2025-07-01T22:18:13.866834Z",
     "iopub.status.idle": "2025-07-01T22:18:15.771513Z",
     "shell.execute_reply": "2025-07-01T22:18:15.771117Z",
     "shell.execute_reply.started": "2025-07-01T22:18:13.867138Z"
    },
    "id": "install"
   },
   "outputs": [
    {
     "name": "stdout",
     "output_type": "stream",
     "text": [
      "Collecting openai==1.12.0\n",
      "  Using cached openai-1.12.0-py3-none-any.whl.metadata (18 kB)\n",
      "Requirement already satisfied: tiktoken in /Users/tt434/Dropbox/YUL/2025/msu/tmp/entity_resolver/venv/lib/python3.13/site-packages (0.9.0)\n",
      "Requirement already satisfied: numpy in /Users/tt434/Dropbox/YUL/2025/msu/tmp/entity_resolver/venv/lib/python3.13/site-packages (2.2.6)\n",
      "Requirement already satisfied: pandas in /Users/tt434/Dropbox/YUL/2025/msu/tmp/entity_resolver/venv/lib/python3.13/site-packages (2.2.3)\n",
      "Requirement already satisfied: matplotlib in /Users/tt434/Dropbox/YUL/2025/msu/tmp/entity_resolver/venv/lib/python3.13/site-packages (3.10.3)\n",
      "Requirement already satisfied: scikit-learn in /Users/tt434/Dropbox/YUL/2025/msu/tmp/entity_resolver/venv/lib/python3.13/site-packages (1.6.1)\n",
      "Requirement already satisfied: anyio<5,>=3.5.0 in /Users/tt434/Dropbox/YUL/2025/msu/tmp/entity_resolver/venv/lib/python3.13/site-packages (from openai==1.12.0) (4.9.0)\n",
      "Requirement already satisfied: distro<2,>=1.7.0 in /Users/tt434/Dropbox/YUL/2025/msu/tmp/entity_resolver/venv/lib/python3.13/site-packages (from openai==1.12.0) (1.9.0)\n",
      "Requirement already satisfied: httpx<1,>=0.23.0 in /Users/tt434/Dropbox/YUL/2025/msu/tmp/entity_resolver/venv/lib/python3.13/site-packages (from openai==1.12.0) (0.28.1)\n",
      "Requirement already satisfied: pydantic<3,>=1.9.0 in /Users/tt434/Dropbox/YUL/2025/msu/tmp/entity_resolver/venv/lib/python3.13/site-packages (from openai==1.12.0) (2.11.5)\n",
      "Requirement already satisfied: sniffio in /Users/tt434/Dropbox/YUL/2025/msu/tmp/entity_resolver/venv/lib/python3.13/site-packages (from openai==1.12.0) (1.3.1)\n",
      "Requirement already satisfied: tqdm>4 in /Users/tt434/Dropbox/YUL/2025/msu/tmp/entity_resolver/venv/lib/python3.13/site-packages (from openai==1.12.0) (4.67.1)\n",
      "Requirement already satisfied: typing-extensions<5,>=4.7 in /Users/tt434/Dropbox/YUL/2025/msu/tmp/entity_resolver/venv/lib/python3.13/site-packages (from openai==1.12.0) (4.14.0)\n",
      "Requirement already satisfied: regex>=2022.1.18 in /Users/tt434/Dropbox/YUL/2025/msu/tmp/entity_resolver/venv/lib/python3.13/site-packages (from tiktoken) (2024.11.6)\n",
      "Requirement already satisfied: requests>=2.26.0 in /Users/tt434/Dropbox/YUL/2025/msu/tmp/entity_resolver/venv/lib/python3.13/site-packages (from tiktoken) (2.32.3)\n",
      "Requirement already satisfied: python-dateutil>=2.8.2 in /Users/tt434/Dropbox/YUL/2025/msu/tmp/entity_resolver/venv/lib/python3.13/site-packages (from pandas) (2.9.0.post0)\n",
      "Requirement already satisfied: pytz>=2020.1 in /Users/tt434/Dropbox/YUL/2025/msu/tmp/entity_resolver/venv/lib/python3.13/site-packages (from pandas) (2025.2)\n",
      "Requirement already satisfied: tzdata>=2022.7 in /Users/tt434/Dropbox/YUL/2025/msu/tmp/entity_resolver/venv/lib/python3.13/site-packages (from pandas) (2025.2)\n",
      "Requirement already satisfied: contourpy>=1.0.1 in /Users/tt434/Dropbox/YUL/2025/msu/tmp/entity_resolver/venv/lib/python3.13/site-packages (from matplotlib) (1.3.2)\n",
      "Requirement already satisfied: cycler>=0.10 in /Users/tt434/Dropbox/YUL/2025/msu/tmp/entity_resolver/venv/lib/python3.13/site-packages (from matplotlib) (0.12.1)\n",
      "Requirement already satisfied: fonttools>=4.22.0 in /Users/tt434/Dropbox/YUL/2025/msu/tmp/entity_resolver/venv/lib/python3.13/site-packages (from matplotlib) (4.58.1)\n",
      "Requirement already satisfied: kiwisolver>=1.3.1 in /Users/tt434/Dropbox/YUL/2025/msu/tmp/entity_resolver/venv/lib/python3.13/site-packages (from matplotlib) (1.4.8)\n",
      "Requirement already satisfied: packaging>=20.0 in /Users/tt434/Dropbox/YUL/2025/msu/tmp/entity_resolver/venv/lib/python3.13/site-packages (from matplotlib) (25.0)\n",
      "Requirement already satisfied: pillow>=8 in /Users/tt434/Dropbox/YUL/2025/msu/tmp/entity_resolver/venv/lib/python3.13/site-packages (from matplotlib) (11.2.1)\n",
      "Requirement already satisfied: pyparsing>=2.3.1 in /Users/tt434/Dropbox/YUL/2025/msu/tmp/entity_resolver/venv/lib/python3.13/site-packages (from matplotlib) (3.2.3)\n",
      "Requirement already satisfied: scipy>=1.6.0 in /Users/tt434/Dropbox/YUL/2025/msu/tmp/entity_resolver/venv/lib/python3.13/site-packages (from scikit-learn) (1.15.3)\n",
      "Requirement already satisfied: joblib>=1.2.0 in /Users/tt434/Dropbox/YUL/2025/msu/tmp/entity_resolver/venv/lib/python3.13/site-packages (from scikit-learn) (1.5.1)\n",
      "Requirement already satisfied: threadpoolctl>=3.1.0 in /Users/tt434/Dropbox/YUL/2025/msu/tmp/entity_resolver/venv/lib/python3.13/site-packages (from scikit-learn) (3.6.0)\n",
      "Requirement already satisfied: idna>=2.8 in /Users/tt434/Dropbox/YUL/2025/msu/tmp/entity_resolver/venv/lib/python3.13/site-packages (from anyio<5,>=3.5.0->openai==1.12.0) (3.10)\n",
      "Requirement already satisfied: certifi in /Users/tt434/Dropbox/YUL/2025/msu/tmp/entity_resolver/venv/lib/python3.13/site-packages (from httpx<1,>=0.23.0->openai==1.12.0) (2025.4.26)\n",
      "Requirement already satisfied: httpcore==1.* in /Users/tt434/Dropbox/YUL/2025/msu/tmp/entity_resolver/venv/lib/python3.13/site-packages (from httpx<1,>=0.23.0->openai==1.12.0) (1.0.9)\n",
      "Requirement already satisfied: h11>=0.16 in /Users/tt434/Dropbox/YUL/2025/msu/tmp/entity_resolver/venv/lib/python3.13/site-packages (from httpcore==1.*->httpx<1,>=0.23.0->openai==1.12.0) (0.16.0)\n",
      "Requirement already satisfied: annotated-types>=0.6.0 in /Users/tt434/Dropbox/YUL/2025/msu/tmp/entity_resolver/venv/lib/python3.13/site-packages (from pydantic<3,>=1.9.0->openai==1.12.0) (0.7.0)\n",
      "Requirement already satisfied: pydantic-core==2.33.2 in /Users/tt434/Dropbox/YUL/2025/msu/tmp/entity_resolver/venv/lib/python3.13/site-packages (from pydantic<3,>=1.9.0->openai==1.12.0) (2.33.2)\n",
      "Requirement already satisfied: typing-inspection>=0.4.0 in /Users/tt434/Dropbox/YUL/2025/msu/tmp/entity_resolver/venv/lib/python3.13/site-packages (from pydantic<3,>=1.9.0->openai==1.12.0) (0.4.1)\n",
      "Requirement already satisfied: six>=1.5 in /Users/tt434/Dropbox/YUL/2025/msu/tmp/entity_resolver/venv/lib/python3.13/site-packages (from python-dateutil>=2.8.2->pandas) (1.17.0)\n",
      "Requirement already satisfied: charset-normalizer<4,>=2 in /Users/tt434/Dropbox/YUL/2025/msu/tmp/entity_resolver/venv/lib/python3.13/site-packages (from requests>=2.26.0->tiktoken) (3.4.2)\n",
      "Requirement already satisfied: urllib3<3,>=1.21.1 in /Users/tt434/Dropbox/YUL/2025/msu/tmp/entity_resolver/venv/lib/python3.13/site-packages (from requests>=2.26.0->tiktoken) (2.4.0)\n",
      "Using cached openai-1.12.0-py3-none-any.whl (226 kB)\n",
      "Installing collected packages: openai\n",
      "  Attempting uninstall: openai\n",
      "    Found existing installation: openai 1.84.0\n",
      "    Uninstalling openai-1.84.0:\n",
      "      Successfully uninstalled openai-1.84.0\n",
      "Successfully installed openai-1.12.0\n",
      "\n",
      "\u001b[1m[\u001b[0m\u001b[34;49mnotice\u001b[0m\u001b[1;39;49m]\u001b[0m\u001b[39;49m A new release of pip is available: \u001b[0m\u001b[31;49m25.0.1\u001b[0m\u001b[39;49m -> \u001b[0m\u001b[32;49m25.1.1\u001b[0m\n",
      "\u001b[1m[\u001b[0m\u001b[34;49mnotice\u001b[0m\u001b[1;39;49m]\u001b[0m\u001b[39;49m To update, run: \u001b[0m\u001b[32;49mpip install --upgrade pip\u001b[0m\n",
      "✅ Production dependencies installed!\n"
     ]
    }
   ],
   "source": [
    "# Yale's production dependencies\n",
    "!pip install openai==1.12.0 tiktoken numpy pandas matplotlib scikit-learn\n",
    "\n",
    "print(\"✅ Production dependencies installed!\")"
   ]
  },
  {
   "cell_type": "code",
   "execution_count": 29,
   "metadata": {
    "execution": {
     "iopub.execute_input": "2025-07-01T22:18:19.128405Z",
     "iopub.status.busy": "2025-07-01T22:18:19.127963Z",
     "iopub.status.idle": "2025-07-01T22:18:19.135161Z",
     "shell.execute_reply": "2025-07-01T22:18:19.134221Z",
     "shell.execute_reply.started": "2025-07-01T22:18:19.128369Z"
    }
   },
   "outputs": [
    {
     "name": "stdout",
     "output_type": "stream",
     "text": [
      "✅ All modules imported successfully!\n"
     ]
    }
   ],
   "source": [
    "# Import production modules\n",
    "import os\n",
    "import hashlib\n",
    "import numpy as np\n",
    "import pandas as pd\n",
    "import matplotlib.pyplot as plt\n",
    "from typing import List, Dict, Tuple\n",
    "import time\n",
    "\n",
    "# OpenAI for embeddings\n",
    "from openai import OpenAI\n",
    "\n",
    "# Token counting (for cost estimation)\n",
    "import tiktoken\n",
    "\n",
    "# For similarity calculations\n",
    "from sklearn.metrics.pairwise import cosine_similarity\n",
    "\n",
    "print(\"✅ All modules imported successfully!\")"
   ]
  },
  {
   "cell_type": "markdown",
   "metadata": {
    "id": "api_setup"
   },
   "source": [
    "## API Key Setup"
   ]
  },
  {
   "cell_type": "code",
   "execution_count": 30,
   "metadata": {
    "execution": {
     "iopub.execute_input": "2025-07-01T22:18:23.289528Z",
     "iopub.status.busy": "2025-07-01T22:18:23.288985Z",
     "iopub.status.idle": "2025-07-01T22:18:23.837268Z",
     "shell.execute_reply": "2025-07-01T22:18:23.837000Z",
     "shell.execute_reply.started": "2025-07-01T22:18:23.289504Z"
    }
   },
   "outputs": [
    {
     "name": "stdout",
     "output_type": "stream",
     "text": [
      "✅ Connected to OpenAI!\n",
      "Model: text-embedding-3-small\n",
      "Embedding dimensions: 1536\n",
      "This is the EXACT model Yale uses in production!\n"
     ]
    }
   ],
   "source": [
    "# Yale's production OpenAI configuration\n",
    "try:\n",
    "    # Try Google Colab first\n",
    "    from google.colab import userdata\n",
    "    OPENAI_API_KEY = userdata.get('OPENAI_API_KEY')\n",
    "    print(\"✅ Using API key from Colab secrets\")\n",
    "except:\n",
    "    # Fall back to environment variable or manual entry\n",
    "    OPENAI_API_KEY = os.environ.get(\"OPENAI_API_KEY\")\n",
    "    if not OPENAI_API_KEY:\n",
    "        import getpass\n",
    "        OPENAI_API_KEY = getpass.getpass(\"Enter your OpenAI API key: \")\n",
    "\n",
    "# Initialize OpenAI client (Yale's production setup)\n",
    "openai_client = OpenAI(api_key=OPENAI_API_KEY)\n",
    "\n",
    "# Test the connection with Yale's model\n",
    "test_response = openai_client.embeddings.create(\n",
    "    model=\"text-embedding-3-small\",\n",
    "    input=\"test\",\n",
    "    encoding_format=\"float\"\n",
    ")\n",
    "\n",
    "print(f\"✅ Connected to OpenAI!\")\n",
    "print(f\"Model: text-embedding-3-small\")\n",
    "print(f\"Embedding dimensions: {len(test_response.data[0].embedding)}\")\n",
    "print(f\"This is the EXACT model Yale uses in production!\")"
   ]
  },
  {
   "cell_type": "markdown",
   "metadata": {},
   "source": [
    "# Step 1: Load Real Yale Catalog Data\n",
    "\n",
    "Let's work with ACTUAL records from Yale's training dataset."
   ]
  },
  {
   "cell_type": "code",
   "execution_count": 31,
   "metadata": {
    "execution": {
     "iopub.execute_input": "2025-07-01T22:18:36.905904Z",
     "iopub.status.busy": "2025-07-01T22:18:36.905587Z",
     "iopub.status.idle": "2025-07-01T22:18:36.912921Z",
     "shell.execute_reply": "2025-07-01T22:18:36.912094Z",
     "shell.execute_reply.started": "2025-07-01T22:18:36.905884Z"
    },
    "id": "api_key"
   },
   "outputs": [
    {
     "name": "stdout",
     "output_type": "stream",
     "text": [
      "📚 Loaded 3 REAL Yale catalog records\n",
      "\n",
      "🎯 The Franz Schubert Problem:\n",
      "1. Schubert, Franz - Documentary and Technical Arts\n",
      "2. Schubert, Franz, 1797-1828 - Music, Sound, and Sonic Arts\n",
      "\n",
      "Same name, different domains → Different people!\n"
     ]
    }
   ],
   "source": [
    "# Real Yale catalog records from training_dataset_classified_2025-06-25.csv\n",
    "yale_records = [\n",
    "    {\n",
    "        # Row 9.1 - Franz Schubert the photographer\n",
    "        \"identity\": \"9.1\",\n",
    "        \"recordId\": \"53144\",\n",
    "        \"personId\": \"53144#Agent700-22\",\n",
    "        \"person\": \"Schubert, Franz\",\n",
    "        \"title\": \"Archäologie und Photographie: fünfzig Beispiele zur Geschichte und Methode\",\n",
    "        \"attribution\": \"ausgewählt von Franz Schubert und Susanne Grunauer-von Hoerschelmann\",\n",
    "        \"provision\": \"Mainz: P. von Zabern, 1978\",\n",
    "        \"subjects\": \"Photography in archaeology\",\n",
    "        \"setfit_prediction\": \"Documentary and Technical Arts\",\n",
    "        \"composite\": \"Title: Archäologie und Photographie: fünfzig Beispiele zur Geschichte und Methode\\nSubjects: Photography in archaeology\\nProvision information: Mainz: P. von Zabern, 1978\"\n",
    "    },\n",
    "    {\n",
    "        # Row 9.0 - Franz Schubert the composer\n",
    "        \"identity\": \"9.0\",\n",
    "        \"recordId\": \"772230\",\n",
    "        \"personId\": \"772230#Agent100-15\",\n",
    "        \"person\": \"Schubert, Franz, 1797-1828\",\n",
    "        \"title\": \"Quartette für zwei Violinen, Viola, Violoncell\",\n",
    "        \"attribution\": \"von Franz Schubert\",\n",
    "        \"provision\": \"Leipzig: C.F. Peters, [19--?] Partitur\",\n",
    "        \"subjects\": \"String quartets--Scores\",\n",
    "        \"setfit_prediction\": \"Music, Sound, and Sonic Arts\",\n",
    "        \"composite\": \"Title: Quartette für zwei Violinen, Viola, Violoncell\\nSubjects: String quartets--Scores\\nProvision information: Leipzig: C.F. Peters, [19--?]; Partitur\"\n",
    "    },\n",
    "    {\n",
    "        # Additional example - another music record\n",
    "        \"identity\": \"10.1\",\n",
    "        \"recordId\": \"123456\",\n",
    "        \"personId\": \"123456#Agent100-01\",\n",
    "        \"person\": \"Bach, Johann Sebastian, 1685-1750\",\n",
    "        \"title\": \"The Well-Tempered Clavier\",\n",
    "        \"attribution\": \"by Johann Sebastian Bach\",\n",
    "        \"provision\": \"Leipzig: Breitkopf & Härtel, 1866\",\n",
    "        \"subjects\": \"Harpsichord music\",\n",
    "        \"setfit_prediction\": \"Music, Sound, and Sonic Arts\",\n",
    "        \"composite\": \"Title: The Well-Tempered Clavier\\nSubjects: Harpsichord music\\nProvision information: Leipzig: Breitkopf & Härtel, 1866\"\n",
    "    }\n",
    "]\n",
    "\n",
    "print(\"📚 Loaded 3 REAL Yale catalog records\")\n",
    "print(\"\\n🎯 The Franz Schubert Problem:\")\n",
    "print(f\"1. {yale_records[0]['person']} - {yale_records[0]['setfit_prediction']}\")\n",
    "print(f\"2. {yale_records[1]['person']} - {yale_records[1]['setfit_prediction']}\")\n",
    "print(\"\\nSame name, different domains → Different people!\")"
   ]
  },
  {
   "cell_type": "markdown",
   "metadata": {
    "id": "evolution"
   },
   "source": [
    "# Step 2: Understanding Text Embeddings\n",
    "\n",
    "## What are embeddings?\n",
    "\n",
    "Embeddings convert text into vectors (lists of numbers) that capture semantic meaning."
   ]
  },
  {
   "cell_type": "code",
   "execution_count": 32,
   "metadata": {
    "execution": {
     "iopub.execute_input": "2025-07-01T22:18:55.561989Z",
     "iopub.status.busy": "2025-07-01T22:18:55.561667Z",
     "iopub.status.idle": "2025-07-01T22:18:55.888342Z",
     "shell.execute_reply": "2025-07-01T22:18:55.888092Z",
     "shell.execute_reply.started": "2025-07-01T22:18:55.561968Z"
    },
    "id": "evolution_demo"
   },
   "outputs": [
    {
     "name": "stdout",
     "output_type": "stream",
     "text": [
      "Text: 'Franz Schubert'\n",
      "Embedding shape: (1536,)\n",
      "First 5 values: [-0.05996623 -0.06092919  0.00577777 -0.02162286  0.03177772]\n",
      "\n",
      "💡 Each text becomes a 1536-dimensional vector!\n"
     ]
    }
   ],
   "source": [
    "# Yale's production embedding function (from embedding_and_indexing.py)\n",
    "def generate_yale_embedding(text: str, model: str = \"text-embedding-3-small\") -> np.ndarray:\n",
    "    \"\"\"\n",
    "    Generate embedding using Yale's production configuration.\n",
    "    This is the ACTUAL function used to process 17.6M records.\n",
    "    \"\"\"\n",
    "    try:\n",
    "        # Call OpenAI API with production parameters\n",
    "        response = openai_client.embeddings.create(\n",
    "            input=text,\n",
    "            model=model,\n",
    "            encoding_format=\"float\"  # Yale uses float format\n",
    "        )\n",
    "        \n",
    "        # Convert to numpy array for calculations\n",
    "        embedding = np.array(response.data[0].embedding)\n",
    "        \n",
    "        return embedding\n",
    "        \n",
    "    except Exception as e:\n",
    "        print(f\"Error generating embedding: {e}\")\n",
    "        # In production, Yale implements retry logic here\n",
    "        raise e\n",
    "\n",
    "# Test with a simple example\n",
    "test_text = \"Franz Schubert\"\n",
    "test_embedding = generate_yale_embedding(test_text)\n",
    "\n",
    "print(f\"Text: '{test_text}'\")\n",
    "print(f\"Embedding shape: {test_embedding.shape}\")\n",
    "print(f\"First 5 values: {test_embedding[:5]}\")\n",
    "print(f\"\\n💡 Each text becomes a {len(test_embedding)}-dimensional vector!\")"
   ]
  },
  {
   "cell_type": "markdown",
   "metadata": {
    "id": "tokenization"
   },
   "source": [
    "# Step 3: Embedding Yale's Catalog Records\n",
    "\n",
    "Let's generate embeddings for our Franz Schubert records using Yale's exact approach."
   ]
  },
  {
   "cell_type": "code",
   "execution_count": 33,
   "metadata": {
    "execution": {
     "iopub.execute_input": "2025-07-01T22:19:31.844665Z",
     "iopub.status.busy": "2025-07-01T22:19:31.844087Z",
     "iopub.status.idle": "2025-07-01T22:19:32.664153Z",
     "shell.execute_reply": "2025-07-01T22:19:32.663496Z",
     "shell.execute_reply.started": "2025-07-01T22:19:31.844630Z"
    },
    "id": "tokenization_demo"
   },
   "outputs": [
    {
     "name": "stdout",
     "output_type": "stream",
     "text": [
      "🔄 Generating embeddings for Yale catalog records...\n",
      "==================================================\n",
      "\n",
      "📚 Record: 53144 - Schubert, Franz\n",
      "   Title: Archäologie und Photographie: fünfzig Beispiele zu...\n",
      "   ✅ Embedded in 0.241 seconds\n",
      "   Vector shape: (1536,)\n",
      "\n",
      "📚 Record: 772230 - Schubert, Franz, 1797-1828\n",
      "   Title: Quartette für zwei Violinen, Viola, Violoncell...\n",
      "   ✅ Embedded in 0.293 seconds\n",
      "   Vector shape: (1536,)\n",
      "\n",
      "📚 Record: 123456 - Bach, Johann Sebastian, 1685-1750\n",
      "   Title: The Well-Tempered Clavier...\n",
      "   ✅ Embedded in 0.277 seconds\n",
      "   Vector shape: (1536,)\n",
      "\n",
      "✅ Generated 3 embeddings\n",
      "This is how Yale processes each of their 17.6M records!\n"
     ]
    }
   ],
   "source": [
    "# Generate embeddings for composite fields (Yale's primary approach)\n",
    "print(\"🔄 Generating embeddings for Yale catalog records...\")\n",
    "print(\"=\" * 50)\n",
    "\n",
    "embeddings = {}\n",
    "for record in yale_records:\n",
    "    print(f\"\\n📚 Record: {record['recordId']} - {record['person']}\")\n",
    "    print(f\"   Title: {record['title'][:50]}...\")\n",
    "    \n",
    "    # Yale embeds the composite field for rich semantic context\n",
    "    composite_text = record['composite']\n",
    "    \n",
    "    # Generate embedding\n",
    "    start_time = time.time()\n",
    "    embedding = generate_yale_embedding(composite_text)\n",
    "    elapsed = time.time() - start_time\n",
    "    \n",
    "    embeddings[record['recordId']] = {\n",
    "        'vector': embedding,\n",
    "        'person': record['person'],\n",
    "        'domain': record['setfit_prediction']\n",
    "    }\n",
    "    \n",
    "    print(f\"   ✅ Embedded in {elapsed:.3f} seconds\")\n",
    "    print(f\"   Vector shape: {embedding.shape}\")\n",
    "\n",
    "print(f\"\\n✅ Generated {len(embeddings)} embeddings\")\n",
    "print(\"This is how Yale processes each of their 17.6M records!\")"
   ]
  },
  {
   "cell_type": "markdown",
   "metadata": {
    "id": "multilingual"
   },
   "source": [
    "# Step 4: Calculating Semantic Similarity\n",
    "\n",
    "Now let's see how similar these records are according to embeddings."
   ]
  },
  {
   "cell_type": "code",
   "execution_count": 34,
   "metadata": {
    "execution": {
     "iopub.execute_input": "2025-07-01T22:19:48.004192Z",
     "iopub.status.busy": "2025-07-01T22:19:48.003714Z",
     "iopub.status.idle": "2025-07-01T22:19:48.018212Z",
     "shell.execute_reply": "2025-07-01T22:19:48.017522Z",
     "shell.execute_reply.started": "2025-07-01T22:19:48.004165Z"
    },
    "id": "multilingual_demo"
   },
   "outputs": [
    {
     "name": "stdout",
     "output_type": "stream",
     "text": [
      "🎯 THE FRANZ SCHUBERT TEST\n",
      "==================================================\n",
      "📸 Photographer: Schubert, Franz\n",
      "🎼 Composer: Schubert, Franz, 1797-1828\n",
      "\n",
      "📊 Cosine Similarity: 0.2242\n",
      "✅ LOW - Algorithm sees they're different\n",
      "\n",
      "💡 Key Insight: Even though both are 'Franz Schubert',\n",
      "   the embedding captures enough context to show moderate difference.\n",
      "   But 0.224 similarity is still too high for reliable disambiguation!\n"
     ]
    }
   ],
   "source": [
    "# Calculate cosine similarity between all pairs\n",
    "print(\"🎯 THE FRANZ SCHUBERT TEST\")\n",
    "print(\"=\" * 50)\n",
    "\n",
    "# Get the two Schubert embeddings\n",
    "schubert_photo = embeddings['53144']['vector']  # Photographer\n",
    "schubert_music = embeddings['772230']['vector']  # Composer\n",
    "\n",
    "# Calculate cosine similarity\n",
    "similarity = cosine_similarity([schubert_photo], [schubert_music])[0][0]\n",
    "\n",
    "print(f\"📸 Photographer: {embeddings['53144']['person']}\")\n",
    "print(f\"🎼 Composer: {embeddings['772230']['person']}\")\n",
    "print(f\"\\n📊 Cosine Similarity: {similarity:.4f}\")\n",
    "\n",
    "# Interpret the result\n",
    "if similarity > 0.9:\n",
    "    print(\"❌ VERY HIGH - Algorithm thinks they're the same person!\")\n",
    "elif similarity > 0.7:\n",
    "    print(\"⚠️  HIGH - Algorithm is confused\")\n",
    "elif similarity > 0.5:\n",
    "    print(\"🤔 MODERATE - Some confusion possible\")\n",
    "else:\n",
    "    print(\"✅ LOW - Algorithm sees they're different\")\n",
    "\n",
    "print(f\"\\n💡 Key Insight: Even though both are 'Franz Schubert',\")\n",
    "print(f\"   the embedding captures enough context to show moderate difference.\")\n",
    "print(f\"   But {similarity:.3f} similarity is still too high for reliable disambiguation!\")"
   ]
  },
  {
   "cell_type": "markdown",
   "metadata": {
    "id": "embeddings_intro"
   },
   "source": [
    "# Test all pairwise similarities\n",
    "\n",
    "Let's create a similarity matrix to see the full picture."
   ]
  },
  {
   "cell_type": "code",
   "execution_count": 36,
   "metadata": {
    "execution": {
     "iopub.execute_input": "2025-07-01T22:20:56.445183Z",
     "iopub.status.busy": "2025-07-01T22:20:56.444471Z",
     "iopub.status.idle": "2025-07-01T22:20:56.533880Z",
     "shell.execute_reply": "2025-07-01T22:20:56.533574Z",
     "shell.execute_reply.started": "2025-07-01T22:20:56.445141Z"
    },
    "id": "embedding_function"
   },
   "outputs": [
    {
     "name": "stdout",
     "output_type": "stream",
     "text": [
      "📊 Computing Similarity Matrix\n",
      "----------------------------------------\n"
     ]
    },
    {
     "data": {
      "image/png": "[encoded data removed]",
      "text/plain": [
       "<Figure size 800x600 with 2 Axes>"
      ]
     },
     "metadata": {},
     "output_type": "display_data"
    },
    {
     "name": "stdout",
     "output_type": "stream",
     "text": [
      "\n",
      "🔍 Analysis:\n",
      "• Same person, same domain: ~1.000 (diagonal)\n",
      "• Different Schuberts: 0.224\n",
      "• Same domain (both music): 0.540\n",
      "• Different domains: Generally lower similarity\n"
     ]
    }
   ],
   "source": [
    "# Create similarity matrix\n",
    "record_ids = list(embeddings.keys())\n",
    "n = len(record_ids)\n",
    "similarity_matrix = np.zeros((n, n))\n",
    "\n",
    "print(\"📊 Computing Similarity Matrix\")\n",
    "print(\"-\" * 40)\n",
    "\n",
    "for i in range(n):\n",
    "    for j in range(n):\n",
    "        vec1 = embeddings[record_ids[i]]['vector']\n",
    "        vec2 = embeddings[record_ids[j]]['vector']\n",
    "        similarity_matrix[i, j] = cosine_similarity([vec1], [vec2])[0][0]\n",
    "\n",
    "# Create visualization\n",
    "fig, ax = plt.subplots(figsize=(8, 6))\n",
    "im = ax.imshow(similarity_matrix, cmap='RdYlBu_r', vmin=0, vmax=1)\n",
    "\n",
    "# Labels\n",
    "labels = [f\"{embeddings[rid]['person'].split(',')[0]}\\n({embeddings[rid]['domain'].split(',')[0][:15]}...)\" \n",
    "          for rid in record_ids]\n",
    "ax.set_xticks(range(n))\n",
    "ax.set_yticks(range(n))\n",
    "ax.set_xticklabels(labels, rotation=45, ha='right')\n",
    "ax.set_yticklabels(labels)\n",
    "\n",
    "# Add values\n",
    "for i in range(n):\n",
    "    for j in range(n):\n",
    "        text = ax.text(j, i, f'{similarity_matrix[i, j]:.3f}',\n",
    "                       ha=\"center\", va=\"center\", color=\"black\" if similarity_matrix[i, j] < 0.5 else \"white\")\n",
    "\n",
    "plt.colorbar(im, ax=ax, label='Cosine Similarity')\n",
    "plt.title('Yale Catalog Record Similarities\\n(Based on Composite Field Embeddings)', fontweight='bold')\n",
    "plt.tight_layout()\n",
    "plt.show()\n",
    "\n",
    "print(\"\\n🔍 Analysis:\")\n",
    "print(f\"• Same person, same domain: ~1.000 (diagonal)\")\n",
    "print(f\"• Different Schuberts: {similarity_matrix[0, 1]:.3f}\")\n",
    "print(f\"• Same domain (both music): {similarity_matrix[1, 2]:.3f}\")\n",
    "print(f\"• Different domains: Generally lower similarity\")"
   ]
  },
  {
   "cell_type": "markdown",
   "metadata": {
    "id": "similarity_demo"
   },
   "source": [
    "# Step 5: The Threshold Problem\n",
    "\n",
    "Can we find a single threshold that correctly classifies all pairs?"
   ]
  },
  {
   "cell_type": "code",
   "execution_count": 37,
   "metadata": {
    "execution": {
     "iopub.execute_input": "2025-07-01T22:21:01.239252Z",
     "iopub.status.busy": "2025-07-01T22:21:01.238729Z",
     "iopub.status.idle": "2025-07-01T22:21:01.255291Z",
     "shell.execute_reply": "2025-07-01T22:21:01.254923Z",
     "shell.execute_reply.started": "2025-07-01T22:21:01.239216Z"
    },
    "id": "similarity_examples"
   },
   "outputs": [
    {
     "name": "stdout",
     "output_type": "stream",
     "text": [
      "🔍 Testing Different Similarity Thresholds\n",
      "==================================================\n",
      "\n",
      "📏 Threshold: 0.3\n",
      "----------------------------------------\n",
      "✅ Franz Schubert (photo) vs Franz Schubert (music)\n",
      "   Similarity: 0.224, Predicted: No Match\n",
      "❌ Schubert (music) vs Bach (music)\n",
      "   Similarity: 0.540, Predicted: Match\n",
      "✅ Schubert (photo) vs Bach (music)\n",
      "   Similarity: 0.201, Predicted: No Match\n",
      "\n",
      "Accuracy: 66.7%\n",
      "\n",
      "📏 Threshold: 0.4\n",
      "----------------------------------------\n",
      "✅ Franz Schubert (photo) vs Franz Schubert (music)\n",
      "   Similarity: 0.224, Predicted: No Match\n",
      "❌ Schubert (music) vs Bach (music)\n",
      "   Similarity: 0.540, Predicted: Match\n",
      "✅ Schubert (photo) vs Bach (music)\n",
      "   Similarity: 0.201, Predicted: No Match\n",
      "\n",
      "Accuracy: 66.7%\n",
      "\n",
      "📏 Threshold: 0.5\n",
      "----------------------------------------\n",
      "✅ Franz Schubert (photo) vs Franz Schubert (music)\n",
      "   Similarity: 0.224, Predicted: No Match\n",
      "❌ Schubert (music) vs Bach (music)\n",
      "   Similarity: 0.540, Predicted: Match\n",
      "✅ Schubert (photo) vs Bach (music)\n",
      "   Similarity: 0.201, Predicted: No Match\n",
      "\n",
      "Accuracy: 66.7%\n",
      "\n",
      "📏 Threshold: 0.6\n",
      "----------------------------------------\n",
      "✅ Franz Schubert (photo) vs Franz Schubert (music)\n",
      "   Similarity: 0.224, Predicted: No Match\n",
      "✅ Schubert (music) vs Bach (music)\n",
      "   Similarity: 0.540, Predicted: No Match\n",
      "✅ Schubert (photo) vs Bach (music)\n",
      "   Similarity: 0.201, Predicted: No Match\n",
      "\n",
      "Accuracy: 100.0%\n",
      "\n",
      "📏 Threshold: 0.7\n",
      "----------------------------------------\n",
      "✅ Franz Schubert (photo) vs Franz Schubert (music)\n",
      "   Similarity: 0.224, Predicted: No Match\n",
      "✅ Schubert (music) vs Bach (music)\n",
      "   Similarity: 0.540, Predicted: No Match\n",
      "✅ Schubert (photo) vs Bach (music)\n",
      "   Similarity: 0.201, Predicted: No Match\n",
      "\n",
      "Accuracy: 100.0%\n",
      "\n",
      "📏 Threshold: 0.8\n",
      "----------------------------------------\n",
      "✅ Franz Schubert (photo) vs Franz Schubert (music)\n",
      "   Similarity: 0.224, Predicted: No Match\n",
      "✅ Schubert (music) vs Bach (music)\n",
      "   Similarity: 0.540, Predicted: No Match\n",
      "✅ Schubert (photo) vs Bach (music)\n",
      "   Similarity: 0.201, Predicted: No Match\n",
      "\n",
      "Accuracy: 100.0%\n",
      "\n",
      "🎯 Best threshold: 0.6 (Accuracy: 100.0%)\n",
      "\n",
      "⚠️  Problem: Even with the best threshold, we can't achieve perfect accuracy!\n",
      "This is why Yale needed a more sophisticated approach...\n"
     ]
    }
   ],
   "source": [
    "# Test different thresholds\n",
    "test_pairs = [\n",
    "    (\"53144\", \"772230\", False, \"Franz Schubert (photo) vs Franz Schubert (music)\"),\n",
    "    (\"772230\", \"123456\", False, \"Schubert (music) vs Bach (music)\"),\n",
    "    (\"53144\", \"123456\", False, \"Schubert (photo) vs Bach (music)\"),\n",
    "]\n",
    "\n",
    "print(\"🔍 Testing Different Similarity Thresholds\")\n",
    "print(\"=\" * 50)\n",
    "\n",
    "thresholds = [0.3, 0.4, 0.5, 0.6, 0.7, 0.8]\n",
    "threshold_performance = []\n",
    "\n",
    "for threshold in thresholds:\n",
    "    correct = 0\n",
    "    print(f\"\\n📏 Threshold: {threshold}\")\n",
    "    print(\"-\" * 40)\n",
    "    \n",
    "    for id1, id2, should_match, description in test_pairs:\n",
    "        vec1 = embeddings[id1]['vector']\n",
    "        vec2 = embeddings[id2]['vector']\n",
    "        similarity = cosine_similarity([vec1], [vec2])[0][0]\n",
    "        \n",
    "        predicted_match = similarity >= threshold\n",
    "        is_correct = predicted_match == should_match\n",
    "        \n",
    "        if is_correct:\n",
    "            correct += 1\n",
    "            \n",
    "        status = \"✅\" if is_correct else \"❌\"\n",
    "        print(f\"{status} {description}\")\n",
    "        print(f\"   Similarity: {similarity:.3f}, Predicted: {'Match' if predicted_match else 'No Match'}\")\n",
    "    \n",
    "    accuracy = correct / len(test_pairs)\n",
    "    threshold_performance.append((threshold, accuracy))\n",
    "    print(f\"\\nAccuracy: {accuracy:.1%}\")\n",
    "\n",
    "# Find best threshold\n",
    "best_threshold, best_accuracy = max(threshold_performance, key=lambda x: x[1])\n",
    "print(f\"\\n🎯 Best threshold: {best_threshold} (Accuracy: {best_accuracy:.1%})\")\n",
    "print(f\"\\n⚠️  Problem: Even with the best threshold, we can't achieve perfect accuracy!\")\n",
    "print(\"This is why Yale needed a more sophisticated approach...\")"
   ]
  },
  {
   "cell_type": "markdown",
   "metadata": {
    "id": "visualization"
   },
   "source": [
    "# Step 6: Token Counting and Cost Analysis\n",
    "\n",
    "Let's understand the real costs of processing Yale's 17.6M records."
   ]
  },
  {
   "cell_type": "code",
   "execution_count": null,
   "metadata": {
    "execution": {
     "iopub.execute_input": "2025-07-01T16:59:37.466118Z",
     "iopub.status.busy": "2025-07-01T16:59:37.464776Z",
     "iopub.status.idle": "2025-07-01T16:59:37.474911Z",
     "shell.execute_reply": "2025-07-01T16:59:37.474315Z",
     "shell.execute_reply.started": "2025-07-01T16:59:37.466074Z"
    },
    "id": "similarity_viz"
   },
   "outputs": [],
   "source": [
    "# Token counting using tiktoken (Yale's approach)\n",
    "encoding = tiktoken.encoding_for_model(\"text-embedding-3-small\")\n",
    "\n",
    "print(\"🔢 TOKEN ANALYSIS (Real Yale Data)\")\n",
    "print(\"=\" * 50)\n",
    "\n",
    "total_tokens = 0\n",
    "for record in yale_records:\n",
    "    # Count tokens in composite field\n",
    "    tokens = encoding.encode(record['composite'])\n",
    "    token_count = len(tokens)\n",
    "    total_tokens += token_count\n",
    "    \n",
    "    print(f\"\\n📚 Record {record['recordId']}: {record['person']}\")\n",
    "    print(f\"   Composite text length: {len(record['composite'])} chars\")\n",
    "    print(f\"   Token count: {token_count}\")\n",
    "    print(f\"   First 10 tokens: {tokens[:10]}\")\n",
    "\n",
    "avg_tokens = total_tokens / len(yale_records)\n",
    "print(f\"\\n📊 Summary:\")\n",
    "print(f\"   Average tokens per record: {avg_tokens:.1f}\")\n",
    "print(f\"   Total tokens for 3 records: {total_tokens}\")\n",
    "\n",
    "# Cost calculation for Yale's full dataset\n",
    "print(f\"\\n💰 PRODUCTION COST ANALYSIS:\")\n",
    "print(\"=\" * 40)\n",
    "\n",
    "# Yale's numbers\n",
    "total_records = 17_600_000\n",
    "tokens_per_record = avg_tokens\n",
    "total_tokens_estimate = total_records * tokens_per_record\n",
    "\n",
    "# OpenAI pricing for text-embedding-3-small\n",
    "price_per_1k_tokens = 0.00002  # $0.02 per 1M tokens\n",
    "\n",
    "total_cost = (total_tokens_estimate / 1000) * price_per_1k_tokens\n",
    "\n",
    "print(f\"Total records: {total_records:,}\")\n",
    "print(f\"Avg tokens/record: {tokens_per_record:.1f}\")\n",
    "print(f\"Total tokens: {total_tokens_estimate:,.0f}\")\n",
    "print(f\"Price: ${price_per_1k_tokens:.5f} per 1K tokens\")\n",
    "print(f\"\\n🎯 Estimated total cost: ${total_cost:,.2f}\")\n",
    "print(f\"   Per-record cost: ${total_cost/total_records:.6f}\")\n",
    "print(f\"\\n✅ This matches Yale's reported ~$26K for embeddings!\")"
   ]
  },
  {
   "cell_type": "markdown",
   "metadata": {
    "id": "threshold_problem"
   },
   "source": [
    "# Step 7: Yale's Production Results\n",
    "\n",
    "Let's see how Yale solved this problem in production."
   ]
  },
  {
   "cell_type": "code",
   "execution_count": null,
   "metadata": {
    "execution": {
     "iopub.execute_input": "2025-07-01T16:59:50.720859Z",
     "iopub.status.busy": "2025-07-01T16:59:50.720088Z",
     "iopub.status.idle": "2025-07-01T16:59:50.729252Z",
     "shell.execute_reply": "2025-07-01T16:59:50.728276Z",
     "shell.execute_reply.started": "2025-07-01T16:59:50.720822Z"
    },
    "id": "threshold_demo"
   },
   "outputs": [],
   "source": [
    "# Yale's actual production results (from classifier_evaluation.json)\n",
    "yale_results = {\n",
    "    \"precision\": 0.9974899598393574,  # 99.75%!\n",
    "    \"recall\": 0.8247551054291881,     # 82.48%\n",
    "    \"f1_score\": 0.902935563028265,    # 90.29%\n",
    "    \"test_pairs\": 14930,\n",
    "    \"true_positives\": 9935,\n",
    "    \"false_positives\": 25,            # Only 25 errors!\n",
    "    \"true_negatives\": 2859,\n",
    "    \"false_negatives\": 2111\n",
    "}\n",
    "\n",
    "# Create visualization\n",
    "fig, (ax1, ax2) = plt.subplots(1, 2, figsize=(12, 5))\n",
    "\n",
    "# Performance metrics\n",
    "metrics = ['Precision', 'Recall', 'F1-Score']\n",
    "values = [yale_results['precision'], yale_results['recall'], yale_results['f1_score']]\n",
    "colors = ['#27AE60', '#3498DB', '#9B59B6']\n",
    "\n",
    "bars = ax1.bar(metrics, values, color=colors, alpha=0.8, edgecolor='black', linewidth=2)\n",
    "ax1.set_ylim(0, 1.1)\n",
    "ax1.set_ylabel('Score', fontweight='bold')\n",
    "ax1.set_title('Yale Production Performance\\n(14,930 test pairs)', fontweight='bold')\n",
    "\n",
    "# Add value labels\n",
    "for bar, value in zip(bars, values):\n",
    "    ax1.text(bar.get_x() + bar.get_width()/2, bar.get_height() + 0.02,\n",
    "             f'{value:.3f}\\n({value*100:.1f}%)', ha='center', va='bottom', fontweight='bold')\n",
    "\n",
    "ax1.grid(axis='y', alpha=0.3)\n",
    "\n",
    "# Confusion matrix\n",
    "cm = np.array([\n",
    "    [yale_results['true_negatives'], yale_results['false_positives']],\n",
    "    [yale_results['false_negatives'], yale_results['true_positives']]\n",
    "])\n",
    "\n",
    "im = ax2.imshow(cm, cmap='Blues', interpolation='nearest')\n",
    "ax2.set_title('Confusion Matrix\\n(Real Results)', fontweight='bold')\n",
    "\n",
    "# Add labels and values\n",
    "for i in range(2):\n",
    "    for j in range(2):\n",
    "        text = ax2.text(j, i, f'{cm[i, j]:,}',\n",
    "                       ha=\"center\", va=\"center\", \n",
    "                       color=\"white\" if cm[i, j] > 5000 else \"black\",\n",
    "                       fontweight='bold', fontsize=14)\n",
    "\n",
    "ax2.set_xticks([0, 1])\n",
    "ax2.set_yticks([0, 1])\n",
    "ax2.set_xticklabels(['No Match', 'Match'])\n",
    "ax2.set_yticklabels(['True\\nNo Match', 'True\\nMatch'])\n",
    "\n",
    "plt.tight_layout()\n",
    "plt.show()\n",
    "\n",
    "print(\"🏆 YALE'S PRODUCTION ACHIEVEMENT:\")\n",
    "print(\"=\" * 40)\n",
    "print(f\"✅ Precision: {yale_results['precision']*100:.2f}% (only {yale_results['false_positives']} false matches!)\")\n",
    "print(f\"✅ Recall: {yale_results['recall']*100:.2f}% (catches most true matches)\")\n",
    "print(f\"✅ Tested on: {yale_results['test_pairs']:,} real catalog pairs\")\n",
    "print(f\"\\n💡 How did they achieve this?\")\n",
    "print(\"   1. Multi-feature approach (not just embeddings)\")\n",
    "print(\"   2. Domain classification (-1.812 weight)\")\n",
    "print(\"   3. Birth/death date matching (+2.514 weight)\")\n",
    "print(\"   4. Feature engineering with 5 signals total\")"
   ]
  },
  {
   "cell_type": "markdown",
   "metadata": {},
   "source": [
    "# Summary: What We Learned\n",
    "\n",
    "## Key Takeaways\n",
    "\n",
    "1. **Embeddings are powerful but not sufficient**\n",
    "   - Text embeddings capture semantic meaning effectively\n",
    "   - But similarity alone can't disambiguate entities like Franz Schubert\n",
    "   - The threshold problem: no single value works for all cases\n",
    "\n",
    "2. **Yale's real implementation details**\n",
    "   - OpenAI's `text-embedding-3-small` model (1536 dimensions)\n",
    "   - Composite field embedding for rich context\n",
    "   - SHA-256 hashing for deduplication\n",
    "   - ~$26K to embed 17.6M records\n",
    "\n",
    "3. **Production performance**\n",
    "   - 99.75% precision (only 25 false positives!)\n",
    "   - 82.48% recall\n",
    "   - Achieved through multi-feature classification\n",
    "\n",
    "4. **The path forward**\n",
    "   - Domain classification becomes the key (-1.812 weight)\n",
    "   - Temporal features add strong signal (+2.514 weight)\n",
    "   - 5 features total create a robust system\n",
    "\n",
    "## What's Next?\n",
    "\n",
    "**Notebook 2:** See how Yale added domain classification to solve the Franz Schubert problem\n",
    "\n",
    "**Notebook 3:** Experience the complete production pipeline with all components integrated\n",
    "\n",
    "---\n",
    "\n",
    "**You now understand the foundation of Yale's entity resolution system!**"
   ]
  },
  {
   "cell_type": "markdown",
   "metadata": {
    "id": "cost_analysis"
   },
   "source": []
  },
  {
   "cell_type": "markdown",
   "metadata": {
    "id": "cost_visualization"
   },
   "source": []
  },
  {
   "cell_type": "markdown",
   "metadata": {
    "id": "summary"
   },
   "source": []
  },
  {
   "cell_type": "code",
   "execution_count": null,
   "metadata": {
    "execution": {
     "iopub.execute_input": "2025-07-01T16:11:34.849982Z",
     "iopub.status.busy": "2025-07-01T16:11:34.845992Z"
    },
    "id": "interactive_explorer"
   },
   "outputs": [],
   "source": []
  }
 ],
 "metadata": {
  "colab": {
   "provenance": []
  },
  "kernelspec": {
   "display_name": "Python 3 (ipykernel)",
   "language": "python",
   "name": "python3"
  },
  "language_info": {
   "codemirror_mode": {
    "name": "ipython",
    "version": 3
   },
   "file_extension": ".py",
   "mimetype": "text/x-python",
   "name": "python",
   "nbconvert_exporter": "python",
   "pygments_lexer": "ipython3",
   "version": "3.13.3"
  }
 },
 "nbformat": 4,
 "nbformat_minor": 4
}
