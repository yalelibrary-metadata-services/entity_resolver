{
 "cells": [
  {
   "cell_type": "markdown",
   "metadata": {},
   "source": [
    "# Multilingual Embeddings and Vector Search\n",
    "\n",
    "This notebook demonstrates how to:\n",
    "1. Create semantic embeddings from text in multiple languages\n",
    "2. Calculate similarity between different texts\n",
    "3. Set up a Weaviate vector database for semantic search\n",
    "4. Index documents with their embeddings\n",
    "5. Perform cross-language semantic queries\n",
    "\n",
    "We'll use `paraphrase-multilingual-MiniLM-L12-v2` to understand meaning across languages."
   ]
  },
  {
   "cell_type": "markdown",
   "metadata": {},
   "source": [
    "## Step 1: Install Required Libraries\n",
    "\n",
    "We need:\n",
    "- `sentence-transformers`: For creating multilingual embeddings\n",
    "- `weaviate-client`: For vector database operations\n",
    "- `matplotlib`: For visualizing similarity"
   ]
  },
  {
   "cell_type": "code",
   "execution_count": null,
   "metadata": {},
   "outputs": [],
   "source": [
    "!pip install sentence-transformers weaviate-client matplotlib numpy pandas"
   ]
  },
  {
   "cell_type": "markdown",
   "metadata": {},
   "source": [
    "## Step 2: Import Core Libraries\n",
    "\n",
    "Setting up the main components for embeddings and vector operations."
   ]
  },
  {
   "cell_type": "code",
   "execution_count": 1,
   "metadata": {
    "execution": {
     "iopub.execute_input": "2025-06-29T23:59:06.004566Z",
     "iopub.status.busy": "2025-06-29T23:59:06.003959Z",
     "iopub.status.idle": "2025-06-29T23:59:09.490652Z",
     "shell.execute_reply": "2025-06-29T23:59:09.490370Z",
     "shell.execute_reply.started": "2025-06-29T23:59:06.004527Z"
    }
   },
   "outputs": [
    {
     "name": "stdout",
     "output_type": "stream",
     "text": [
      "✅ Libraries imported successfully!\n"
     ]
    }
   ],
   "source": [
    "import numpy as np\n",
    "import matplotlib.pyplot as plt\n",
    "from sentence_transformers import SentenceTransformer\n",
    "from sklearn.metrics.pairwise import cosine_similarity\n",
    "import pandas as pd\n",
    "\n",
    "print(\"✅ Libraries imported successfully!\")"
   ]
  },
  {
   "cell_type": "markdown",
   "metadata": {},
   "source": [
    "## Step 3: Load the Multilingual Model\n",
    "\n",
    "Loading a sentence transformer that understands 50+ languages and creates 384-dimensional embeddings."
   ]
  },
  {
   "cell_type": "code",
   "execution_count": 2,
   "metadata": {
    "execution": {
     "iopub.execute_input": "2025-06-29T23:59:15.203512Z",
     "iopub.status.busy": "2025-06-29T23:59:15.202422Z",
     "iopub.status.idle": "2025-06-29T23:59:18.873618Z",
     "shell.execute_reply": "2025-06-29T23:59:18.873263Z",
     "shell.execute_reply.started": "2025-06-29T23:59:15.203470Z"
    }
   },
   "outputs": [
    {
     "name": "stdout",
     "output_type": "stream",
     "text": [
      "✅ Model loaded!\n",
      "📏 Embedding dimensions: 384\n",
      "🔤 Max sequence length: 128 tokens\n"
     ]
    }
   ],
   "source": [
    "# Load the multilingual sentence transformer\n",
    "model = SentenceTransformer('paraphrase-multilingual-MiniLM-L12-v2')\n",
    "\n",
    "print(f\"✅ Model loaded!\")\n",
    "print(f\"📏 Embedding dimensions: {model.get_sentence_embedding_dimension()}\")\n",
    "print(f\"🔤 Max sequence length: {model.max_seq_length} tokens\")"
   ]
  },
  {
   "cell_type": "markdown",
   "metadata": {},
   "source": [
    "## Step 4: Create Example Documents\n",
    "\n",
    "Setting up some multilingual examples to demonstrate cross-language understanding."
   ]
  },
  {
   "cell_type": "code",
   "execution_count": 14,
   "metadata": {
    "execution": {
     "iopub.execute_input": "2025-06-30T00:31:20.465345Z",
     "iopub.status.busy": "2025-06-30T00:31:20.464459Z",
     "iopub.status.idle": "2025-06-30T00:31:20.476019Z",
     "shell.execute_reply": "2025-06-30T00:31:20.475395Z",
     "shell.execute_reply.started": "2025-06-30T00:31:20.465301Z"
    }
   },
   "outputs": [
    {
     "name": "stdout",
     "output_type": "stream",
     "text": [
      "📚 Created 6 example documents\n",
      "   1. Schubert, Franz. Symphony No. 8 in B minor\n",
      "   2. Schubert, Franz. Symphonie n° 8 en si mineur\n",
      "   3. Schubert, Franz. Sinfonie Nr. 8 in h-Moll\n",
      "   4. Shakespeare, William. Romeo and Juliet\n",
      "   5. Digital libraries and AI technology\n",
      "   6. Bibliotecas digitales y tecnología\n"
     ]
    }
   ],
   "source": [
    "# Example documents in different languages\n",
    "documents = [\n",
    "    \"Schubert, Franz. Symphony No. 8 in B minor\",  # English\n",
    "    \"Schubert, Franz. Symphonie n° 8 en si mineur\",  # French\n",
    "    \"Schubert, Franz. Sinfonie Nr. 8 in h-Moll\",  # German\n",
    "    \"Shakespeare, William. Romeo and Juliet\",  # English literature\n",
    "    \"Digital libraries and AI technology\",  # Technology\n",
    "    \"Bibliotecas digitales y tecnología\",  # Spanish technology\n",
    "]\n",
    "\n",
    "print(f\"📚 Created {len(documents)} example documents\")\n",
    "for i, doc in enumerate(documents, 1):\n",
    "    print(f\"   {i}. {doc}\")"
   ]
  },
  {
   "cell_type": "markdown",
   "metadata": {},
   "source": [
    "## Step 5: Generate Embeddings\n",
    "\n",
    "Converting each document into a 384-dimensional vector that captures its meaning."
   ]
  },
  {
   "cell_type": "code",
   "execution_count": 15,
   "metadata": {
    "execution": {
     "iopub.execute_input": "2025-06-30T00:31:28.305584Z",
     "iopub.status.busy": "2025-06-30T00:31:28.304784Z",
     "iopub.status.idle": "2025-06-30T00:31:28.810169Z",
     "shell.execute_reply": "2025-06-30T00:31:28.809873Z",
     "shell.execute_reply.started": "2025-06-30T00:31:28.305531Z"
    }
   },
   "outputs": [
    {
     "name": "stdout",
     "output_type": "stream",
     "text": [
      "✅ Generated embeddings for 6 documents\n",
      "📊 Embedding shape: (6, 384)\n",
      "🔍 First embedding (first 5 values): [-0.00544422  0.48203778  0.01613121  0.22530073 -0.42488506]\n"
     ]
    }
   ],
   "source": [
    "# Generate embeddings for all documents\n",
    "embeddings = model.encode(documents)\n",
    "\n",
    "print(f\"✅ Generated embeddings for {len(documents)} documents\")\n",
    "print(f\"📊 Embedding shape: {embeddings.shape}\")\n",
    "print(f\"🔍 First embedding (first 5 values): {embeddings[0][:5]}\")"
   ]
  },
  {
   "cell_type": "markdown",
   "metadata": {},
   "source": [
    "## Step 6: Calculate Similarity Scores\n",
    "\n",
    "Computing how similar each document is to every other document using cosine similarity."
   ]
  },
  {
   "cell_type": "code",
   "execution_count": 17,
   "metadata": {
    "execution": {
     "iopub.execute_input": "2025-06-30T00:32:05.106986Z",
     "iopub.status.busy": "2025-06-30T00:32:05.106543Z",
     "iopub.status.idle": "2025-06-30T00:32:05.117051Z",
     "shell.execute_reply": "2025-06-30T00:32:05.116704Z",
     "shell.execute_reply.started": "2025-06-30T00:32:05.106950Z"
    }
   },
   "outputs": [
    {
     "name": "stdout",
     "output_type": "stream",
     "text": [
      "🎯 Similarity Matrix:\n",
      "                   Schubert (en)  Schubert (fr)  Schubert (de)  \\\n",
      "Schubert (en)              1.000          0.943          0.903   \n",
      "Schubert (fr)              0.943          1.000          0.933   \n",
      "Schubert (de)              0.903          0.933          1.000   \n",
      "Shakespeare (de)           0.220          0.268          0.294   \n",
      "Digital libs (en)          0.006          0.031          0.019   \n",
      "Digital libs (es)          0.072          0.090          0.065   \n",
      "\n",
      "                   Shakespeare (de)  Digital libs (en)  Digital libs (es)  \n",
      "Schubert (en)                 0.220              0.006              0.072  \n",
      "Schubert (fr)                 0.268              0.031              0.090  \n",
      "Schubert (de)                 0.294              0.019              0.065  \n",
      "Shakespeare (de)              1.000              0.012              0.096  \n",
      "Digital libs (en)             0.012              1.000              0.781  \n",
      "Digital libs (es)             0.096              0.781              1.000  \n"
     ]
    }
   ],
   "source": [
    "# Calculate similarity matrix\n",
    "similarity_matrix = cosine_similarity(embeddings)\n",
    "\n",
    "# Create labels for better display\n",
    "labels = [\n",
    "    \"Schubert (en)\",\n",
    "    \"Schubert (fr)\", \n",
    "    \"Schubert (de)\",\n",
    "    \"Shakespeare (de)\",\n",
    "    \"Digital libs (en)\",\n",
    "    \"Digital libs (es)\"\n",
    "]\n",
    "\n",
    "# Display as DataFrame\n",
    "similarity_df = pd.DataFrame(similarity_matrix, index=labels, columns=labels)\n",
    "print(\"🎯 Similarity Matrix:\")\n",
    "print(similarity_df.round(3))"
   ]
  },
  {
   "cell_type": "markdown",
   "metadata": {},
   "source": [
    "## Step 7: Visualize Cross-Language Similarity\n",
    "\n",
    "Creating a heatmap to see how well the model understands meaning across languages."
   ]
  },
  {
   "cell_type": "code",
   "execution_count": 19,
   "metadata": {
    "execution": {
     "iopub.execute_input": "2025-06-30T00:32:40.193407Z",
     "iopub.status.busy": "2025-06-30T00:32:40.192862Z",
     "iopub.status.idle": "2025-06-30T00:32:40.363569Z",
     "shell.execute_reply": "2025-06-30T00:32:40.363245Z",
     "shell.execute_reply.started": "2025-06-30T00:32:40.193377Z"
    }
   },
   "outputs": [
    {
     "data": {
      "image/png": "[encoded data removed]",
      "text/plain": [
       "<Figure size 1000x800 with 2 Axes>"
      ]
     },
     "metadata": {},
     "output_type": "display_data"
    },
    {
     "name": "stdout",
     "output_type": "stream",
     "text": [
      "🔍 Key insights:\n",
      "   Same work, different languages: 0.943 (en→fr)\n",
      "   Different topics: 0.220 (Schubert→Shakespeare)\n"
     ]
    }
   ],
   "source": [
    "# Create heatmap\n",
    "plt.figure(figsize=(10, 8))\n",
    "plt.imshow(similarity_matrix, cmap='coolwarm', vmin=0, vmax=1)\n",
    "plt.colorbar(label='Cosine Similarity')\n",
    "plt.xticks(range(len(labels)), labels, rotation=45, ha='right')\n",
    "plt.yticks(range(len(labels)), labels)\n",
    "plt.title('Cross-Language Semantic Similarity')\n",
    "\n",
    "# Add similarity values as text\n",
    "for i in range(len(labels)):\n",
    "    for j in range(len(labels)):\n",
    "        plt.text(j, i, f'{similarity_matrix[i, j]:.2f}', \n",
    "                ha='center', va='center', color='black')\n",
    "\n",
    "plt.tight_layout()\n",
    "plt.show()\n",
    "\n",
    "print(\"🔍 Key insights:\")\n",
    "print(f\"   Same work, different languages: {similarity_matrix[0, 1]:.3f} (en→fr)\")\n",
    "print(f\"   Different topics: {similarity_matrix[0, 3]:.3f} (Schubert→Shakespeare)\")"
   ]
  },
  {
   "cell_type": "markdown",
   "metadata": {},
   "source": [
    "## Step 8: Set Up Weaviate Connection\n",
    "\n",
    "Connecting to a Weaviate vector database for storing and searching embeddings."
   ]
  },
  {
   "cell_type": "code",
   "execution_count": 21,
   "metadata": {
    "execution": {
     "iopub.execute_input": "2025-06-30T00:38:45.887829Z",
     "iopub.status.busy": "2025-06-30T00:38:45.887396Z",
     "iopub.status.idle": "2025-06-30T00:38:46.141343Z",
     "shell.execute_reply": "2025-06-30T00:38:46.140999Z",
     "shell.execute_reply.started": "2025-06-30T00:38:45.887784Z"
    }
   },
   "outputs": [
    {
     "name": "stdout",
     "output_type": "stream",
     "text": [
      "✅ Connected to Weaviate!\n",
      "🟢 Server ready: True\n"
     ]
    },
    {
     "name": "stderr",
     "output_type": "stream",
     "text": [
      "/Users/tt434/.pyenv/versions/dfrnt/lib/python3.11/site-packages/weaviate/warnings.py:133: DeprecationWarning: Dep005: You are using weaviate-client version 4.8.0. The latest version is 4.15.4.\n",
      "            Consider upgrading to the latest version. See https://weaviate.io/developers/weaviate/client-libraries/python for details.\n",
      "  warnings.warn(\n"
     ]
    }
   ],
   "source": [
    "import weaviate\n",
    "from weaviate.connect import ConnectionParams\n",
    "\n",
    "# Connect to local Weaviate instance\n",
    "try:\n",
    "    connection_params = ConnectionParams.from_params(\n",
    "        http_host=\"localhost\",\n",
    "        http_port=8080,\n",
    "        http_secure=False,\n",
    "        grpc_host=\"localhost\",\n",
    "        grpc_port=50051,\n",
    "        grpc_secure=False\n",
    "    )\n",
    "    \n",
    "    client = weaviate.WeaviateClient(connection_params=connection_params)\n",
    "    client.connect()\n",
    "    \n",
    "    print(\"✅ Connected to Weaviate!\")\n",
    "    print(f\"🟢 Server ready: {client.is_ready()}\")\n",
    "    \n",
    "except Exception as e:\n",
    "    print(f\"❌ Connection failed: {e}\")\n",
    "    print(\"💡 Start Weaviate with: docker run -p 8080:8080 cr.weaviate.io/semitechnologies/weaviate:1.25.1\")\n",
    "    client = None"
   ]
  },
  {
   "cell_type": "markdown",
   "metadata": {},
   "source": [
    "## Step 9: Create Document Collection\n",
    "\n",
    "Setting up a Weaviate collection to store documents with their embeddings and metadata."
   ]
  },
  {
   "cell_type": "code",
   "execution_count": 22,
   "metadata": {
    "execution": {
     "iopub.execute_input": "2025-06-30T00:38:48.814024Z",
     "iopub.status.busy": "2025-06-30T00:38:48.813514Z",
     "iopub.status.idle": "2025-06-30T00:38:49.025913Z",
     "shell.execute_reply": "2025-06-30T00:38:49.025046Z",
     "shell.execute_reply.started": "2025-06-30T00:38:48.813994Z"
    }
   },
   "outputs": [
    {
     "name": "stdout",
     "output_type": "stream",
     "text": [
      "🧹 Cleaned up existing collection\n",
      "✅ Created Document collection\n"
     ]
    }
   ],
   "source": [
    "from weaviate.classes.config import Configure, Property, DataType, VectorDistances\n",
    "\n",
    "if client is not None:\n",
    "    try:\n",
    "        # Delete existing collection if it exists\n",
    "        try:\n",
    "            client.collections.delete(\"Document\")\n",
    "            print(\"🧹 Cleaned up existing collection\")\n",
    "        except:\n",
    "            pass\n",
    "        \n",
    "        # Create new collection\n",
    "        collection = client.collections.create(\n",
    "            name=\"Document\",\n",
    "            description=\"Multilingual documents with semantic embeddings\",\n",
    "            vector_index_config=Configure.VectorIndex.hnsw(\n",
    "                distance_metric=VectorDistances.COSINE\n",
    "            ),\n",
    "            properties=[\n",
    "                Property(name=\"text\", data_type=DataType.TEXT),\n",
    "                Property(name=\"language\", data_type=DataType.TEXT),\n",
    "                Property(name=\"topic\", data_type=DataType.TEXT)\n",
    "            ]\n",
    "        )\n",
    "        \n",
    "        print(\"✅ Created Document collection\")\n",
    "        \n",
    "    except Exception as e:\n",
    "        print(f\"❌ Error creating collection: {e}\")\n",
    "        collection = None\n",
    "else:\n",
    "    print(\"⚠️ Skipping collection creation (no Weaviate connection)\")\n",
    "    collection = None"
   ]
  },
  {
   "cell_type": "markdown",
   "metadata": {},
   "source": [
    "## Step 10: Index Documents with Metadata\n",
    "\n",
    "Adding our documents to Weaviate with their embeddings and useful metadata."
   ]
  },
  {
   "cell_type": "code",
   "execution_count": 23,
   "metadata": {
    "execution": {
     "iopub.execute_input": "2025-06-30T00:38:53.493800Z",
     "iopub.status.busy": "2025-06-30T00:38:53.493280Z",
     "iopub.status.idle": "2025-06-30T00:38:53.546340Z",
     "shell.execute_reply": "2025-06-30T00:38:53.546055Z",
     "shell.execute_reply.started": "2025-06-30T00:38:53.493767Z"
    }
   },
   "outputs": [
    {
     "name": "stdout",
     "output_type": "stream",
     "text": [
      "   📄 Indexed: Schubert, Franz. Symphony No. 8 in B min... (en)\n",
      "   📄 Indexed: Schubert, Franz. Symphonie n° 8 en si mi... (fr)\n",
      "   📄 Indexed: Schubert, Franz. Sinfonie Nr. 8 in h-Mol... (de)\n",
      "   📄 Indexed: Shakespeare, William. Romeo and Juliet... (en)\n",
      "   📄 Indexed: Digital libraries and AI technology... (en)\n",
      "   📄 Indexed: Bibliotecas digitales y tecnología... (es)\n",
      "\n",
      "✅ All documents indexed successfully!\n"
     ]
    }
   ],
   "source": [
    "from weaviate.util import generate_uuid5\n",
    "\n",
    "# Document metadata\n",
    "document_data = [\n",
    "    {\"text\": documents[0], \"language\": \"en\", \"topic\": \"music\"},\n",
    "    {\"text\": documents[1], \"language\": \"fr\", \"topic\": \"music\"},\n",
    "    {\"text\": documents[2], \"language\": \"de\", \"topic\": \"music\"},\n",
    "    {\"text\": documents[3], \"language\": \"en\", \"topic\": \"literature\"},\n",
    "    {\"text\": documents[4], \"language\": \"en\", \"topic\": \"technology\"},\n",
    "    {\"text\": documents[5], \"language\": \"es\", \"topic\": \"technology\"},\n",
    "]\n",
    "\n",
    "if client is not None and collection is not None:\n",
    "    try:\n",
    "        # Index documents with batch operations\n",
    "        with collection.batch.fixed_size(batch_size=100) as batch:\n",
    "            for i, (doc_data, embedding) in enumerate(zip(document_data, embeddings)):\n",
    "                uuid = generate_uuid5(doc_data[\"text\"])\n",
    "                vector_data = embedding.tolist()\n",
    "                \n",
    "                batch.add_object(\n",
    "                    properties=doc_data,\n",
    "                    uuid=uuid,\n",
    "                    vector=vector_data\n",
    "                )\n",
    "                \n",
    "                print(f\"   📄 Indexed: {doc_data['text'][:40]}... ({doc_data['language']})\")\n",
    "        \n",
    "        print(\"\\n✅ All documents indexed successfully!\")\n",
    "        \n",
    "    except Exception as e:\n",
    "        print(f\"❌ Error indexing documents: {e}\")\n",
    "else:\n",
    "    print(\"⚠️ Skipping indexing (no Weaviate connection)\")"
   ]
  },
  {
   "cell_type": "markdown",
   "metadata": {},
   "source": [
    "## Step 11: Test Semantic Search\n",
    "\n",
    "Performing cross-language searches to find semantically similar documents."
   ]
  },
  {
   "cell_type": "code",
   "execution_count": 25,
   "metadata": {
    "execution": {
     "iopub.execute_input": "2025-06-30T00:39:21.335216Z",
     "iopub.status.busy": "2025-06-30T00:39:21.334483Z",
     "iopub.status.idle": "2025-06-30T00:39:21.659040Z",
     "shell.execute_reply": "2025-06-30T00:39:21.658735Z",
     "shell.execute_reply.started": "2025-06-30T00:39:21.335174Z"
    }
   },
   "outputs": [
    {
     "name": "stdout",
     "output_type": "stream",
     "text": [
      "🔍 Search results for: 'classical music'\n",
      "==================================================\n",
      "   1. Schubert, Franz. Sinfonie Nr. 8 in h-Moll\n",
      "      🌍 de | 📚 music | 🎯 0.699\n",
      "\n",
      "   2. Schubert, Franz. Symphonie n° 8 en si mineur\n",
      "      🌍 fr | 📚 music | 🎯 0.691\n",
      "\n",
      "   3. Schubert, Franz. Symphony No. 8 in B minor\n",
      "      🌍 en | 📚 music | 🎯 0.683\n",
      "\n",
      "\n",
      "============================================================\n",
      "\n",
      "🔍 Search results for: 'música clásica'\n",
      "==================================================\n",
      "   1. Schubert, Franz. Symphonie n° 8 en si mineur\n",
      "      🌍 fr | 📚 music | 🎯 0.722\n",
      "\n",
      "   2. Schubert, Franz. Sinfonie Nr. 8 in h-Moll\n",
      "      🌍 de | 📚 music | 🎯 0.720\n",
      "\n",
      "   3. Schubert, Franz. Symphony No. 8 in B minor\n",
      "      🌍 en | 📚 music | 🎯 0.703\n",
      "\n",
      "\n",
      "============================================================\n",
      "\n",
      "🔍 Search results for: 'digital technology'\n",
      "==================================================\n",
      "   1. Bibliotecas digitales y tecnología\n",
      "      🌍 es | 📚 technology | 🎯 0.751\n",
      "\n",
      "   2. Digital libraries and AI technology\n",
      "      🌍 en | 📚 technology | 🎯 0.702\n",
      "\n",
      "   3. Shakespeare, William. Romeo and Juliet\n",
      "      🌍 en | 📚 literature | 🎯 0.010\n",
      "\n",
      "\n",
      "============================================================\n",
      "\n"
     ]
    }
   ],
   "source": [
    "def search_documents(query_text, limit=3):\n",
    "    \"\"\"Search for documents similar to the query text.\"\"\"\n",
    "    if client is None or collection is None:\n",
    "        print(\"⚠️ No Weaviate connection available\")\n",
    "        return\n",
    "    \n",
    "    # Generate embedding for query\n",
    "    query_embedding = model.encode([query_text])[0]\n",
    "    \n",
    "    # Search in Weaviate\n",
    "    try:\n",
    "        response = collection.query.near_vector(\n",
    "            near_vector=query_embedding.tolist(),\n",
    "            limit=limit,\n",
    "            return_metadata=['distance']\n",
    "        )\n",
    "        \n",
    "        print(f\"🔍 Search results for: '{query_text}'\")\n",
    "        print(\"=\" * 50)\n",
    "        \n",
    "        for i, obj in enumerate(response.objects, 1):\n",
    "            similarity = 1 - obj.metadata.distance\n",
    "            props = obj.properties\n",
    "            \n",
    "            print(f\"   {i}. {props['text']}\")\n",
    "            print(f\"      🌍 {props['language']} | 📚 {props['topic']} | 🎯 {similarity:.3f}\")\n",
    "            print()\n",
    "            \n",
    "    except Exception as e:\n",
    "        print(f\"❌ Search error: {e}\")\n",
    "\n",
    "# Test different queries\n",
    "test_queries = [\n",
    "    \"classical music\",  # Should find Schubert works\n",
    "    \"música clásica\",  # Spanish query for classical music\n",
    "    \"digital technology\",  # Should find tech documents\n",
    "]\n",
    "\n",
    "for query in test_queries:\n",
    "    search_documents(query)\n",
    "    print(\"\\n\" + \"=\"*60 + \"\\n\")"
   ]
  },
  {
   "cell_type": "markdown",
   "metadata": {},
   "source": [
    "## Step 12: Search with Filters\n",
    "\n",
    "Combining semantic similarity with metadata filters for more precise results."
   ]
  },
  {
   "cell_type": "code",
   "execution_count": 27,
   "metadata": {
    "execution": {
     "iopub.execute_input": "2025-06-30T00:42:41.199315Z",
     "iopub.status.busy": "2025-06-30T00:42:41.198964Z",
     "iopub.status.idle": "2025-06-30T00:42:41.601058Z",
     "shell.execute_reply": "2025-06-30T00:42:41.600687Z",
     "shell.execute_reply.started": "2025-06-30T00:42:41.199290Z"
    }
   },
   "outputs": [
    {
     "name": "stdout",
     "output_type": "stream",
     "text": [
      "Testing filtered searches:\n",
      "🔍 Filtered search: 'classical music' (language=fr)\n",
      "==================================================\n",
      "   1. Schubert, Franz. Symphonie n° 8 en si mineur\n",
      "      🎯 Similarity: 0.691\n",
      "\n",
      "\n",
      "========================================\n",
      "\n",
      "🔍 Filtered search: 'technology' (topic=technology)\n",
      "==================================================\n",
      "   1. Bibliotecas digitales y tecnología\n",
      "      🎯 Similarity: 0.601\n",
      "\n",
      "   2. Digital libraries and AI technology\n",
      "      🎯 Similarity: 0.559\n",
      "\n"
     ]
    }
   ],
   "source": [
    "def search_with_filter(query_text, language=None, topic=None, limit=3):\n",
    "    \"\"\"Search with optional language or topic filters.\"\"\"\n",
    "    if client is None or collection is None:\n",
    "        print(\"⚠️ No Weaviate connection available\")\n",
    "        return\n",
    "    \n",
    "    from weaviate.classes.query import Filter\n",
    "    \n",
    "    query_embedding = model.encode([query_text])[0]\n",
    "    \n",
    "    # Build filters\n",
    "    filters = None\n",
    "    if language or topic:\n",
    "        filter_list = []\n",
    "        if language:\n",
    "            filter_list.append(Filter.by_property(\"language\").equal(language))\n",
    "        if topic:\n",
    "            filter_list.append(Filter.by_property(\"topic\").equal(topic))\n",
    "        \n",
    "        if len(filter_list) == 1:\n",
    "            filters = filter_list[0]\n",
    "        else:\n",
    "            filters = filter_list[0]\n",
    "            for f in filter_list[1:]:\n",
    "                filters = filters & f\n",
    "    \n",
    "    try:\n",
    "        response = collection.query.near_vector(\n",
    "            near_vector=query_embedding.tolist(),\n",
    "            limit=limit,\n",
    "            filters=filters,\n",
    "            return_metadata=['distance']\n",
    "        )\n",
    "        \n",
    "        filter_desc = []\n",
    "        if language: filter_desc.append(f\"language={language}\")\n",
    "        if topic: filter_desc.append(f\"topic={topic}\")\n",
    "        filter_str = \", \".join(filter_desc) if filter_desc else \"no filters\"\n",
    "        \n",
    "        print(f\"🔍 Filtered search: '{query_text}' ({filter_str})\")\n",
    "        print(\"=\" * 50)\n",
    "        \n",
    "        for i, obj in enumerate(response.objects, 1):\n",
    "            similarity = 1 - obj.metadata.distance\n",
    "            props = obj.properties\n",
    "            \n",
    "            print(f\"   {i}. {props['text']}\")\n",
    "            print(f\"      🎯 Similarity: {similarity:.3f}\")\n",
    "            print()\n",
    "            \n",
    "    except Exception as e:\n",
    "        print(f\"❌ Search error: {e}\")\n",
    "\n",
    "# Test filtered searches\n",
    "print(\"Testing filtered searches:\")\n",
    "search_with_filter(\"classical music\", language=\"fr\")  # French music only\n",
    "print(\"\\n\" + \"=\"*40 + \"\\n\")\n",
    "search_with_filter(\"technology\", topic=\"technology\")  # Technology topic only"
   ]
  },
  {
   "cell_type": "markdown",
   "metadata": {},
   "source": [
    "## Step 13: Test Cross-Language Understanding\n",
    "\n",
    "Demonstrating how queries in one language can find relevant content in other languages."
   ]
  },
  {
   "cell_type": "code",
   "execution_count": 12,
   "metadata": {
    "execution": {
     "iopub.execute_input": "2025-06-30T00:05:44.159276Z",
     "iopub.status.busy": "2025-06-30T00:05:44.158621Z",
     "iopub.status.idle": "2025-06-30T00:05:46.891177Z",
     "shell.execute_reply": "2025-06-30T00:05:46.890852Z",
     "shell.execute_reply.started": "2025-06-30T00:05:44.159216Z"
    }
   },
   "outputs": [
    {
     "name": "stdout",
     "output_type": "stream",
     "text": [
      "🌍 Cross-Language Understanding Test\n",
      "========================================\n",
      "\n",
      "📝 English query for music\n",
      "🔍 Search results for: 'symphony music'\n",
      "==================================================\n",
      "   1. Franz Schubert: Symphony No. 8 in B minor\n",
      "      🌍 en | 📚 music | 🎯 0.759\n",
      "\n",
      "   2. Franz Schubert: Symphonie n° 8 en si mineur\n",
      "      🌍 fr | 📚 music | 🎯 0.750\n",
      "\n",
      "------------------------------\n",
      "\n",
      "📝 French query for symphonic music\n",
      "🔍 Search results for: 'musique symphonique'\n",
      "==================================================\n",
      "   1. Franz Schubert: Symphonie n° 8 en si mineur\n",
      "      🌍 fr | 📚 music | 🎯 0.762\n",
      "\n",
      "   2. Franz Schubert: Sinfonie Nr. 8 in h-Moll\n",
      "      🌍 de | 📚 music | 🎯 0.757\n",
      "\n",
      "------------------------------\n",
      "\n",
      "📝 Spanish query for symphony\n",
      "🔍 Search results for: 'sinfonía'\n",
      "==================================================\n",
      "   1. Franz Schubert: Symphony No. 8 in B minor\n",
      "      🌍 en | 📚 music | 🎯 0.740\n",
      "\n",
      "   2. Franz Schubert: Symphonie n° 8 en si mineur\n",
      "      🌍 fr | 📚 music | 🎯 0.724\n",
      "\n",
      "------------------------------\n",
      "\n",
      "📝 Spanish query for digital library\n",
      "🔍 Search results for: 'biblioteca digital'\n",
      "==================================================\n",
      "   1. Bibliotecas digitales y tecnología\n",
      "      🌍 es | 📚 technology | 🎯 0.914\n",
      "\n",
      "   2. Digital libraries and AI technology\n",
      "      🌍 en | 📚 technology | 🎯 0.767\n",
      "\n",
      "------------------------------\n"
     ]
    }
   ],
   "source": [
    "# Cross-language test cases\n",
    "cross_language_tests = [\n",
    "    {\"query\": \"symphony music\", \"description\": \"English query for music\"},\n",
    "    {\"query\": \"musique symphonique\", \"description\": \"French query for symphonic music\"},\n",
    "    {\"query\": \"sinfonía\", \"description\": \"Spanish query for symphony\"},\n",
    "    {\"query\": \"biblioteca digital\", \"description\": \"Spanish query for digital library\"},\n",
    "]\n",
    "\n",
    "print(\"🌍 Cross-Language Understanding Test\")\n",
    "print(\"=\" * 40)\n",
    "\n",
    "for test in cross_language_tests:\n",
    "    print(f\"\\n📝 {test['description']}\")\n",
    "    search_documents(test[\"query\"], limit=2)\n",
    "    print(\"-\" * 30)"
   ]
  },
  {
   "cell_type": "markdown",
   "metadata": {},
   "source": [
    "## Step 14: Clean Up\n",
    "\n",
    "Properly closing the Weaviate connection."
   ]
  },
  {
   "cell_type": "code",
   "execution_count": 13,
   "metadata": {
    "execution": {
     "iopub.execute_input": "2025-06-30T00:06:58.653738Z",
     "iopub.status.busy": "2025-06-30T00:06:58.653212Z",
     "iopub.status.idle": "2025-06-30T00:06:58.668435Z",
     "shell.execute_reply": "2025-06-30T00:06:58.668003Z",
     "shell.execute_reply.started": "2025-06-30T00:06:58.653706Z"
    }
   },
   "outputs": [
    {
     "name": "stdout",
     "output_type": "stream",
     "text": [
      "✅ Weaviate connection closed\n",
      "\n",
      "🎉 Tutorial completed successfully!\n",
      "📚 You've learned how to:\n",
      "   • Generate multilingual embeddings\n",
      "   • Calculate semantic similarity\n",
      "   • Index documents in Weaviate\n",
      "   • Perform cross-language search\n",
      "   • Use filters with vector search\n"
     ]
    }
   ],
   "source": [
    "# Clean up connection\n",
    "if client is not None:\n",
    "    try:\n",
    "        client.close()\n",
    "        print(\"✅ Weaviate connection closed\")\n",
    "    except:\n",
    "        print(\"ℹ️ Connection cleanup completed\")\n",
    "\n",
    "print(\"\\n🎉 Tutorial completed successfully!\")\n",
    "print(\"📚 You've learned how to:\")\n",
    "print(\"   • Generate multilingual embeddings\")\n",
    "print(\"   • Calculate semantic similarity\")\n",
    "print(\"   • Index documents in Weaviate\")\n",
    "print(\"   • Perform cross-language search\")\n",
    "print(\"   • Use filters with vector search\")"
   ]
  },
  {
   "cell_type": "code",
   "execution_count": null,
   "metadata": {},
   "outputs": [],
   "source": []
  }
 ],
 "metadata": {
  "kernelspec": {
   "display_name": "Python 3 (ipykernel)",
   "language": "python",
   "name": "python3"
  },
  "language_info": {
   "codemirror_mode": {
    "name": "ipython",
    "version": 3
   },
   "file_extension": ".py",
   "mimetype": "text/x-python",
   "name": "python",
   "nbconvert_exporter": "python",
   "pygments_lexer": "ipython3",
   "version": "3.11.4"
  }
 },
 "nbformat": 4,
 "nbformat_minor": 4
}
