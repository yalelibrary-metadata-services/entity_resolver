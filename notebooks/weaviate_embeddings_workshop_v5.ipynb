{
 "cells": [
  {
   "cell_type": "markdown",
   "metadata": {
    "id": "workshop-title"
   },
   "source": [
    "# Text Embeddings and Vector Search with Weaviate\n",
    "\n",
    "## Yale AI Research Techniques Workshop\n",
    "### July 2, 2025\n",
    "\n",
    "In this notebook, we'll explore:\n",
    "- How text embeddings encode semantic meaning\n",
    "- Building a vector database with Weaviate\n",
    "- Applying embeddings to entity resolution in library catalogs\n",
    "- Visualizing semantic relationships in vector space"
   ]
  },
  {
   "cell_type": "markdown",
   "metadata": {
    "id": "setup-section"
   },
   "source": [
    "## 1. Setup and Installation\n",
    "\n",
    "First, let's install the required packages and set up our environment."
   ]
  },
  {
   "cell_type": "code",
   "execution_count": 1,
   "metadata": {
    "execution": {
     "iopub.execute_input": "2025-07-01T00:36:18.852784Z",
     "iopub.status.busy": "2025-07-01T00:36:18.852096Z",
     "iopub.status.idle": "2025-07-01T00:36:22.505172Z",
     "shell.execute_reply": "2025-07-01T00:36:22.504552Z",
     "shell.execute_reply.started": "2025-07-01T00:36:18.852745Z"
    },
    "id": "install-packages"
   },
   "outputs": [
    {
     "name": "stdout",
     "output_type": "stream",
     "text": [
      "\n",
      "\u001b[1m[\u001b[0m\u001b[34;49mnotice\u001b[0m\u001b[1;39;49m]\u001b[0m\u001b[39;49m A new release of pip is available: \u001b[0m\u001b[31;49m24.0\u001b[0m\u001b[39;49m -> \u001b[0m\u001b[32;49m25.1.1\u001b[0m\n",
      "\u001b[1m[\u001b[0m\u001b[34;49mnotice\u001b[0m\u001b[1;39;49m]\u001b[0m\u001b[39;49m To update, run: \u001b[0m\u001b[32;49mpython3 -m pip install --upgrade pip\u001b[0m\n"
     ]
    }
   ],
   "source": [
    "# Install required packages\n",
    "!pip install -q weaviate-client openai numpy pandas matplotlib seaborn scikit-learn plotly"
   ]
  },
  {
   "cell_type": "code",
   "execution_count": 4,
   "metadata": {
    "execution": {
     "iopub.execute_input": "2025-07-01T00:37:02.517939Z",
     "iopub.status.busy": "2025-07-01T00:37:02.517183Z",
     "iopub.status.idle": "2025-07-01T00:37:02.526117Z",
     "shell.execute_reply": "2025-07-01T00:37:02.525252Z",
     "shell.execute_reply.started": "2025-07-01T00:37:02.517902Z"
    },
    "id": "imports"
   },
   "outputs": [],
   "source": [
    "# Import necessary libraries\n",
    "import os\n",
    "import json\n",
    "import numpy as np\n",
    "import pandas as pd\n",
    "from typing import List, Dict, Tuple\n",
    "import matplotlib.pyplot as plt\n",
    "import seaborn as sns\n",
    "from sklearn.manifold import TSNE\n",
    "from sklearn.decomposition import PCA\n",
    "import plotly.express as px\n",
    "import plotly.graph_objects as go\n",
    "import warnings\n",
    "\n",
    "# Weaviate and OpenAI imports\n",
    "import weaviate\n",
    "from weaviate.classes.config import Configure, Property, DataType, VectorDistances\n",
    "from weaviate.classes.query import Filter\n",
    "from openai import OpenAI\n",
    "warnings.filterwarnings('ignore')\n",
    "\n",
    "# Set visual style\n",
    "plt.style.use('seaborn-v0_8-darkgrid')\n",
    "sns.set_palette(\"husl\")"
   ]
  },
  {
   "cell_type": "code",
   "execution_count": 6,
   "metadata": {
    "execution": {
     "iopub.execute_input": "2025-07-01T00:37:26.514546Z",
     "iopub.status.busy": "2025-07-01T00:37:26.514021Z",
     "iopub.status.idle": "2025-07-01T00:37:26.539341Z",
     "shell.execute_reply": "2025-07-01T00:37:26.538816Z",
     "shell.execute_reply.started": "2025-07-01T00:37:26.514515Z"
    },
    "id": "api-keys"
   },
   "outputs": [],
   "source": [
    "# Set up API keys (you'll need to add your own)\n",
    "#from google.colab import userdata\n",
    "\n",
    "# Get OpenAI API key from Colab secrets\n",
    "#os.environ['OPENAI_API_KEY'] = userdata.get('OPENAI_API_KEY')\n",
    "\n",
    "# Initialize OpenAI client\n",
    "openai_client = OpenAI(api_key=os.environ['OPENAI_API_KEY'])"
   ]
  },
  {
   "cell_type": "markdown",
   "metadata": {
    "id": "embeddings-intro"
   },
   "source": [
    "## 2. Understanding Text Embeddings\n",
    "\n",
    "Text embeddings are numerical representations of text that capture semantic meaning. Words or phrases with similar meanings have similar vector representations."
   ]
  },
  {
   "cell_type": "code",
   "execution_count": 7,
   "metadata": {
    "execution": {
     "iopub.execute_input": "2025-07-01T00:37:30.319049Z",
     "iopub.status.busy": "2025-07-01T00:37:30.318254Z",
     "iopub.status.idle": "2025-07-01T00:37:31.981081Z",
     "shell.execute_reply": "2025-07-01T00:37:31.980343Z",
     "shell.execute_reply.started": "2025-07-01T00:37:30.319016Z"
    },
    "id": "simple-embedding"
   },
   "outputs": [
    {
     "name": "stdout",
     "output_type": "stream",
     "text": [
      "✓ Generated embedding for: Schubert, Franz, 1797-1828\n",
      "  Embedding shape: (1536,)\n",
      "  First 5 values: [-0.05880579 -0.06004467  0.00862058  0.00271522  0.0260166 ]\n",
      "\n",
      "✓ Generated embedding for: Schubert, Franz August, 1805-1893\n",
      "  Embedding shape: (1536,)\n",
      "  First 5 values: [-0.04930551 -0.05913316  0.00303193  0.01208591  0.02925293]\n",
      "\n",
      "✓ Generated embedding for: Mozart, Wolfgang Amadeus, 1756-1791\n",
      "  Embedding shape: (1536,)\n",
      "  First 5 values: [-0.01378516 -0.01857607  0.01263263  0.03425952  0.00567508]\n",
      "\n",
      "✓ Generated embedding for: Photography in archaeology\n",
      "  Embedding shape: (1536,)\n",
      "  First 5 values: [ 0.0117437   0.00789923 -0.01537787 -0.00877327 -0.04700109]\n",
      "\n",
      "✓ Generated embedding for: Fotografía en arqueología\n",
      "  Embedding shape: (1536,)\n",
      "  First 5 values: [ 0.00390061  0.00691184 -0.02545139  0.00825139 -0.05257172]\n",
      "\n",
      "✓ Generated embedding for: Fotografia em arqueologia\n",
      "  Embedding shape: (1536,)\n",
      "  First 5 values: [-0.00036724  0.00777096 -0.01854713  0.02493883 -0.03577108]\n",
      "\n"
     ]
    }
   ],
   "source": [
    "# Let's create embeddings for some simple examples\n",
    "def get_embedding(text: str) -> np.ndarray:\n",
    "    \"\"\"Get embedding for a single text using OpenAI's API.\"\"\"\n",
    "    response = openai_client.embeddings.create(\n",
    "        model=\"text-embedding-3-small\",\n",
    "        input=text\n",
    "    )\n",
    "    return np.array(response.data[0].embedding)\n",
    "\n",
    "# Example texts\n",
    "texts = [\n",
    "    \"Schubert, Franz, 1797-1828\",  # The composer\n",
    "    \"Schubert, Franz August, 1805-1893\",  # The artist\n",
    "    \"Mozart, Wolfgang Amadeus, 1756-1791\",  # Another composer\n",
    "    \"Photography in archaeology\",  # Subject\n",
    "    \"Fotografía en arqueología\",  # Same subject in Spanish\n",
    "    \"Fotografia em arqueologia\"  # Same subject in Portuguese\n",
    "]\n",
    "\n",
    "# Generate embeddings\n",
    "embeddings = {}\n",
    "for text in texts:\n",
    "    embeddings[text] = get_embedding(text)\n",
    "    print(f\"✓ Generated embedding for: {text}\")\n",
    "    print(f\"  Embedding shape: {embeddings[text].shape}\")\n",
    "    print(f\"  First 5 values: {embeddings[text][:5]}\\n\")"
   ]
  },
  {
   "cell_type": "markdown",
   "metadata": {
    "id": "similarity-section"
   },
   "source": [
    "## 3. Measuring Semantic Similarity\n",
    "\n",
    "We use cosine similarity to measure how similar two embeddings are. Values range from -1 (opposite) to 1 (identical)."
   ]
  },
  {
   "cell_type": "code",
   "execution_count": 8,
   "metadata": {
    "execution": {
     "iopub.execute_input": "2025-07-01T00:37:42.086348Z",
     "iopub.status.busy": "2025-07-01T00:37:42.085532Z",
     "iopub.status.idle": "2025-07-01T00:37:42.356924Z",
     "shell.execute_reply": "2025-07-01T00:37:42.333905Z",
     "shell.execute_reply.started": "2025-07-01T00:37:42.086324Z"
    },
    "id": "cosine-similarity"
   },
   "outputs": [
    {
     "name": "stdout",
     "output_type": "stream",
     "text": [
      "Cosine Similarity Matrix:\n",
      "\n"
     ]
    },
    {
     "data": {
      "image/png": "[encoded data removed]",
      "text/plain": [
       "<Figure size 1000x800 with 2 Axes>"
      ]
     },
     "metadata": {},
     "output_type": "display_data"
    }
   ],
   "source": [
    "# Calculate cosine similarity\n",
    "def cosine_similarity(vec1: np.ndarray, vec2: np.ndarray) -> float:\n",
    "    \"\"\"Calculate cosine similarity between two vectors.\"\"\"\n",
    "    dot_product = np.dot(vec1, vec2)\n",
    "    norm1 = np.linalg.norm(vec1)\n",
    "    norm2 = np.linalg.norm(vec2)\n",
    "    return dot_product / (norm1 * norm2)\n",
    "\n",
    "# Compare all pairs\n",
    "print(\"Cosine Similarity Matrix:\\n\")\n",
    "similarity_matrix = pd.DataFrame(index=texts, columns=texts)\n",
    "\n",
    "for i, text1 in enumerate(texts):\n",
    "    for j, text2 in enumerate(texts):\n",
    "        sim = cosine_similarity(embeddings[text1], embeddings[text2])\n",
    "        similarity_matrix.iloc[i, j] = sim\n",
    "\n",
    "# Display as heatmap\n",
    "plt.figure(figsize=(10, 8))\n",
    "sns.heatmap(similarity_matrix.astype(float), annot=True, fmt='.3f', \n",
    "            cmap='coolwarm', center=0.5, vmin=0, vmax=1)\n",
    "plt.title('Semantic Similarity Between Texts')\n",
    "plt.tight_layout()\n",
    "plt.show()"
   ]
  },
  {
   "cell_type": "markdown",
   "metadata": {
    "id": "observations"
   },
   "source": [
    "### Key Observations:\n",
    "- The two Franz Schuberts have high similarity despite being different people\n",
    "- Multilingual translations of the same concept have very high similarity\n",
    "- This demonstrates both the power and challenges of embeddings for entity resolution"
   ]
  },
  {
   "cell_type": "markdown",
   "metadata": {
    "id": "weaviate-setup"
   },
   "source": [
    "## 4. Setting Up Weaviate Vector Database\n",
    "\n",
    "Weaviate is a vector database that allows us to store and search embeddings efficiently."
   ]
  },
  {
   "cell_type": "code",
   "execution_count": 9,
   "metadata": {
    "execution": {
     "iopub.execute_input": "2025-07-01T00:38:11.292848Z",
     "iopub.status.busy": "2025-07-01T00:38:11.292342Z",
     "iopub.status.idle": "2025-07-01T00:38:14.525046Z",
     "shell.execute_reply": "2025-07-01T00:38:14.524518Z",
     "shell.execute_reply.started": "2025-07-01T00:38:11.292818Z"
    },
    "id": "weaviate-client"
   },
   "outputs": [
    {
     "name": "stderr",
     "output_type": "stream",
     "text": [
      "{\"action\":\"startup\",\"default_vectorizer_module\":\"none\",\"level\":\"info\",\"msg\":\"the default vectorizer modules is set to \\\"none\\\", as a result all new schema classes without an explicit vectorizer setting, will use this vectorizer\",\"time\":\"2025-06-30T20:38:14-04:00\"}\n",
      "{\"action\":\"startup\",\"auto_schema_enabled\":true,\"level\":\"info\",\"msg\":\"auto schema enabled setting is set to \\\"true\\\"\",\"time\":\"2025-06-30T20:38:14-04:00\"}\n",
      "{\"level\":\"info\",\"msg\":\"No resource limits set, weaviate will use all available memory and CPU. To limit resources, set LIMIT_RESOURCES=true\",\"time\":\"2025-06-30T20:38:14-04:00\"}\n",
      "{\"level\":\"warning\",\"msg\":\"Multiple vector spaces are present, GraphQL Explore and REST API list objects endpoint module include params has been disabled as a result.\",\"time\":\"2025-06-30T20:38:14-04:00\"}\n",
      "{\"action\":\"grpc_startup\",\"level\":\"info\",\"msg\":\"grpc server listening at [::]:50050\",\"time\":\"2025-06-30T20:38:14-04:00\"}\n",
      "{\"action\":\"restapi_management\",\"level\":\"info\",\"msg\":\"Serving weaviate at http://127.0.0.1:8079\",\"time\":\"2025-06-30T20:38:14-04:00\"}\n"
     ]
    },
    {
     "name": "stdout",
     "output_type": "stream",
     "text": [
      "✓ Connected to Weaviate\n"
     ]
    },
    {
     "name": "stderr",
     "output_type": "stream",
     "text": [
      "{\"action\":\"telemetry_push\",\"level\":\"info\",\"msg\":\"telemetry started\",\"payload\":\"\\u0026{MachineID:c48014f9-80bc-4fe9-a558-748a1f9c463e Type:INIT Version:1.24.1 Modules:generative-openai,qna-openai,ref2vec-centroid,reranker-cohere,text2vec-cohere,text2vec-huggingface,text2vec-openai NumObjects:0 OS:darwin Arch:arm64}\",\"time\":\"2025-06-30T20:38:14-04:00\"}\n",
      "{\"action\":\"read_disk_use\",\"level\":\"warning\",\"msg\":\"disk usage currently at 84.43%, threshold set to 80.00%\",\"path\":\"/Users/tt434/.local/share/weaviate\",\"time\":\"2025-06-30T20:38:14-04:00\"}\n"
     ]
    }
   ],
   "source": [
    "# Connect to Weaviate (using embedded instance for simplicity)\n",
    "# In production, you would connect to a hosted instance\n",
    "weaviate_client = weaviate.connect_to_embedded(\n",
    "    version=\"1.24.1\",\n",
    "    environment_variables={\n",
    "        \"OPENAI_APIKEY\": os.environ['OPENAI_API_KEY']\n",
    "    }\n",
    ")\n",
    "\n",
    "print(\"✓ Connected to Weaviate\")"
   ]
  },
  {
   "cell_type": "code",
   "execution_count": 10,
   "metadata": {
    "execution": {
     "iopub.execute_input": "2025-07-01T00:38:36.223431Z",
     "iopub.status.busy": "2025-07-01T00:38:36.222983Z",
     "iopub.status.idle": "2025-07-01T00:38:36.278866Z",
     "shell.execute_reply": "2025-07-01T00:38:36.278501Z",
     "shell.execute_reply.started": "2025-07-01T00:38:36.223403Z"
    },
    "id": "create-schema"
   },
   "outputs": [
    {
     "name": "stdout",
     "output_type": "stream",
     "text": [
      "Deleted existing collection\n",
      "✓ Created CatalogString collection\n"
     ]
    },
    {
     "name": "stderr",
     "output_type": "stream",
     "text": [
      "{\"level\":\"info\",\"msg\":\"Created shard catalogstring_ylMrLe6NVGj9 in 2.682458ms\",\"time\":\"2025-06-30T20:38:36-04:00\"}\n",
      "{\"action\":\"hnsw_vector_cache_prefill\",\"count\":1000,\"index_id\":\"main\",\"level\":\"info\",\"limit\":1000000000000,\"msg\":\"prefilled vector cache\",\"time\":\"2025-06-30T20:38:36-04:00\",\"took\":44542}\n",
      "{\"action\":\"read_disk_use\",\"level\":\"warning\",\"msg\":\"disk usage currently at 84.43%, threshold set to 80.00%\",\"path\":\"/Users/tt434/.local/share/weaviate\",\"time\":\"2025-06-30T20:38:45-04:00\"}\n"
     ]
    }
   ],
   "source": [
    "# Create collection schema\n",
    "# First, delete if exists (for clean reruns)\n",
    "try:\n",
    "    weaviate_client.collections.delete(\"CatalogString\")\n",
    "    print(\"Deleted existing collection\")\n",
    "except:\n",
    "    print(\"No existing collection to delete\")\n",
    "\n",
    "# Create new collection with OpenAI vectorizer\n",
    "collection = weaviate_client.collections.create(\n",
    "    name=\"CatalogString\",\n",
    "    description=\"Collection for catalog string values with their embeddings\",\n",
    "    vectorizer_config=Configure.Vectorizer.text2vec_openai(\n",
    "        model=\"text-embedding-3-small\",\n",
    "        dimensions=1536\n",
    "    ),\n",
    "    vector_index_config=Configure.VectorIndex.hnsw(\n",
    "        ef=128,\n",
    "        max_connections=64,\n",
    "        ef_construction=128,\n",
    "        distance_metric=VectorDistances.COSINE\n",
    "    ),\n",
    "    properties=[\n",
    "        Property(name=\"original_string\", data_type=DataType.TEXT),\n",
    "        Property(name=\"field_type\", data_type=DataType.TEXT),\n",
    "        Property(name=\"person_id\", data_type=DataType.TEXT),\n",
    "        Property(name=\"title\", data_type=DataType.TEXT),\n",
    "        Property(name=\"subjects\", data_type=DataType.TEXT),\n",
    "        Property(name=\"composite\", data_type=DataType.TEXT)\n",
    "    ]\n",
    ")\n",
    "\n",
    "print(\"✓ Created CatalogString collection\")"
   ]
  },
  {
   "cell_type": "markdown",
   "metadata": {
    "id": "sample-data"
   },
   "source": [
    "## 5. Indexing Library Catalog Data\n",
    "\n",
    "Let's create a diverse sample dataset of library catalog records."
   ]
  },
  {
   "cell_type": "code",
   "execution_count": 11,
   "metadata": {
    "execution": {
     "iopub.execute_input": "2025-07-01T00:38:47.333148Z",
     "iopub.status.busy": "2025-07-01T00:38:47.332882Z",
     "iopub.status.idle": "2025-07-01T00:38:47.339730Z",
     "shell.execute_reply": "2025-07-01T00:38:47.338943Z",
     "shell.execute_reply.started": "2025-07-01T00:38:47.333131Z"
    },
    "id": "create-dataset"
   },
   "outputs": [
    {
     "name": "stdout",
     "output_type": "stream",
     "text": [
      "Created 6 catalog records\n",
      "  • Schubert, Franz, 1797-1828 - Symphony No. 8 in B minor 'Unfinished'...\n",
      "  • Schubert, Franz August, 1805-1893 - Archäologie und Photographie: fünfzig Beispiele zu...\n",
      "  • García Lorca, Federico, 1898-1936 - Romancero gitano...\n",
      "  • Mello, Margarida, 1950- - Métodos computacionais em arqueologia brasileira...\n",
      "  • Smith, Jennifer, 1975- - Digital Methods in Archaeological Documentation...\n",
      "  • Mozart, Wolfgang Amadeus, 1756-1791 - Requiem in D minor, K. 626...\n"
     ]
    }
   ],
   "source": [
    "# Create sample library catalog data\n",
    "catalog_data = [\n",
    "    # Franz Schubert - the composer\n",
    "    {\n",
    "        \"person\": \"Schubert, Franz, 1797-1828\",\n",
    "        \"title\": \"Symphony No. 8 in B minor 'Unfinished'\",\n",
    "        \"subjects\": \"Symphonies; Romantic music\",\n",
    "        \"composite\": \"Contributor: Schubert, Franz, 1797-1828\\nTitle: Symphony No. 8 in B minor 'Unfinished'\\nSubjects: Symphonies; Romantic music\",\n",
    "        \"person_id\": \"12345#Agent700-1\",\n",
    "        \"field_type\": \"person\"\n",
    "    },\n",
    "    # Franz August Schubert - the artist  \n",
    "    {\n",
    "        \"person\": \"Schubert, Franz August, 1805-1893\",\n",
    "        \"title\": \"Archäologie und Photographie: fünfzig Beispiele zur Geschichte und Methode\",\n",
    "        \"subjects\": \"Photography in archaeology\",\n",
    "        \"composite\": \"Contributor: Schubert, Franz August, 1805-1893\\nTitle: Archäologie und Photographie\\nSubjects: Photography in archaeology\",\n",
    "        \"person_id\": \"53144#Agent700-22\",\n",
    "        \"field_type\": \"person\"\n",
    "    },\n",
    "    # Spanish example - female author\n",
    "    {\n",
    "        \"person\": \"García Lorca, Federico, 1898-1936\",\n",
    "        \"title\": \"Romancero gitano\",\n",
    "        \"subjects\": \"Poesía española; Literatura del siglo XX\",\n",
    "        \"composite\": \"Contributor: García Lorca, Federico, 1898-1936\\nTitle: Romancero gitano\\nSubjects: Poesía española; Literatura del siglo XX\",\n",
    "        \"person_id\": \"67890#Agent700-3\",\n",
    "        \"field_type\": \"person\"\n",
    "    },\n",
    "    # Portuguese example - female scientist\n",
    "    {\n",
    "        \"person\": \"Mello, Margarida, 1950-\",\n",
    "        \"title\": \"Métodos computacionais em arqueologia brasileira\",\n",
    "        \"subjects\": \"Arqueologia computacional; Brasil\",\n",
    "        \"composite\": \"Contributor: Mello, Margarida, 1950-\\nTitle: Métodos computacionais em arqueologia brasileira\\nSubjects: Arqueologia computacional; Brasil\",\n",
    "        \"person_id\": \"78901#Agent700-4\",\n",
    "        \"field_type\": \"person\"\n",
    "    },\n",
    "    # Another archaeology work for comparison\n",
    "    {\n",
    "        \"person\": \"Smith, Jennifer, 1975-\",\n",
    "        \"title\": \"Digital Methods in Archaeological Documentation\",\n",
    "        \"subjects\": \"Digital archaeology; Photography\",\n",
    "        \"composite\": \"Contributor: Smith, Jennifer, 1975-\\nTitle: Digital Methods in Archaeological Documentation\\nSubjects: Digital archaeology; Photography\",\n",
    "        \"person_id\": \"89012#Agent700-5\",\n",
    "        \"field_type\": \"person\"\n",
    "    },\n",
    "    # Classical music for similarity\n",
    "    {\n",
    "        \"person\": \"Mozart, Wolfgang Amadeus, 1756-1791\",\n",
    "        \"title\": \"Requiem in D minor, K. 626\",\n",
    "        \"subjects\": \"Requiems; Classical music\",\n",
    "        \"composite\": \"Contributor: Mozart, Wolfgang Amadeus, 1756-1791\\nTitle: Requiem in D minor, K. 626\\nSubjects: Requiems; Classical music\",\n",
    "        \"person_id\": \"90123#Agent700-6\",\n",
    "        \"field_type\": \"person\"\n",
    "    }\n",
    "]\n",
    "\n",
    "print(f\"Created {len(catalog_data)} catalog records\")\n",
    "for record in catalog_data:\n",
    "    print(f\"  • {record['person']} - {record['title'][:50]}...\")"
   ]
  },
  {
   "cell_type": "code",
   "execution_count": 12,
   "metadata": {
    "execution": {
     "iopub.execute_input": "2025-07-01T00:38:52.214229Z",
     "iopub.status.busy": "2025-07-01T00:38:52.213420Z",
     "iopub.status.idle": "2025-07-01T00:38:53.856325Z",
     "shell.execute_reply": "2025-07-01T00:38:53.855694Z",
     "shell.execute_reply.started": "2025-07-01T00:38:52.214182Z"
    },
    "id": "index-data"
   },
   "outputs": [
    {
     "name": "stdout",
     "output_type": "stream",
     "text": [
      "Indexing catalog records...\n",
      "\n",
      "✓ Indexed: Schubert, Franz, 1797-1828\n",
      "✓ Indexed: Schubert, Franz August, 1805-1893\n",
      "✓ Indexed: García Lorca, Federico, 1898-1936\n",
      "✓ Indexed: Mello, Margarida, 1950-\n",
      "✓ Indexed: Smith, Jennifer, 1975-\n",
      "✓ Indexed: Mozart, Wolfgang Amadeus, 1756-1791\n",
      "\n",
      "✓ Successfully indexed 6 records\n"
     ]
    }
   ],
   "source": [
    "# Index data into Weaviate\n",
    "print(\"Indexing catalog records...\\n\")\n",
    "\n",
    "with collection.batch.dynamic() as batch:\n",
    "    for record in catalog_data:\n",
    "        # Add the record - Weaviate will automatically generate embeddings\n",
    "        batch.add_object(\n",
    "            properties={\n",
    "                \"original_string\": record[\"person\"],\n",
    "                \"field_type\": record[\"field_type\"],\n",
    "                \"person_id\": record[\"person_id\"],\n",
    "                \"title\": record[\"title\"],\n",
    "                \"subjects\": record[\"subjects\"],\n",
    "                \"composite\": record[\"composite\"]\n",
    "            }\n",
    "        )\n",
    "        print(f\"✓ Indexed: {record['person']}\")\n",
    "\n",
    "print(f\"\\n✓ Successfully indexed {len(catalog_data)} records\")"
   ]
  },
  {
   "cell_type": "markdown",
   "metadata": {
    "id": "vector-search"
   },
   "source": [
    "## 6. Vector Similarity Search\n",
    "\n",
    "Now let's search for similar entities using vector similarity."
   ]
  },
  {
   "cell_type": "code",
   "execution_count": 13,
   "metadata": {
    "execution": {
     "iopub.execute_input": "2025-07-01T00:39:02.003241Z",
     "iopub.status.busy": "2025-07-01T00:39:02.002840Z",
     "iopub.status.idle": "2025-07-01T00:39:02.297671Z",
     "shell.execute_reply": "2025-07-01T00:39:02.297010Z",
     "shell.execute_reply.started": "2025-07-01T00:39:02.003220Z"
    },
    "id": "search-similar"
   },
   "outputs": [
    {
     "name": "stdout",
     "output_type": "stream",
     "text": [
      "Searching for entities similar to: 'Schubert, Franz'\n",
      "\n",
      "Search Results (ordered by similarity):\n",
      "\n",
      "1. Schubert, Franz, 1797-1828\n",
      "   Similarity: 0.5845\n",
      "   Title: Symphony No. 8 in B minor 'Unfinished'\n",
      "   Subjects: Symphonies; Romantic music\n",
      "   ID: 12345#Agent700-1\n",
      "\n",
      "2. Schubert, Franz August, 1805-1893\n",
      "   Similarity: 0.5095\n",
      "   Title: Archäologie und Photographie: fünfzig Beispiele zur Geschichte und Methode\n",
      "   Subjects: Photography in archaeology\n",
      "   ID: 53144#Agent700-22\n",
      "\n",
      "3. Mozart, Wolfgang Amadeus, 1756-1791\n",
      "   Similarity: 0.3993\n",
      "   Title: Requiem in D minor, K. 626\n",
      "   Subjects: Requiems; Classical music\n",
      "   ID: 90123#Agent700-6\n",
      "\n",
      "4. García Lorca, Federico, 1898-1936\n",
      "   Similarity: 0.2406\n",
      "   Title: Romancero gitano\n",
      "   Subjects: Poesía española; Literatura del siglo XX\n",
      "   ID: 67890#Agent700-3\n",
      "\n",
      "5. Mello, Margarida, 1950-\n",
      "   Similarity: 0.1373\n",
      "   Title: Métodos computacionais em arqueologia brasileira\n",
      "   Subjects: Arqueologia computacional; Brasil\n",
      "   ID: 78901#Agent700-4\n",
      "\n"
     ]
    },
    {
     "name": "stderr",
     "output_type": "stream",
     "text": [
      "{\"action\":\"read_disk_use\",\"level\":\"warning\",\"msg\":\"disk usage currently at 84.43%, threshold set to 80.00%\",\"path\":\"/Users/tt434/.local/share/weaviate\",\"time\":\"2025-06-30T20:40:45-04:00\"}\n"
     ]
    }
   ],
   "source": [
    "# Search for entities similar to \"Schubert, Franz\"\n",
    "search_text = \"Schubert, Franz\"\n",
    "search_embedding = get_embedding(search_text)\n",
    "\n",
    "print(f\"Searching for entities similar to: '{search_text}'\\n\")\n",
    "\n",
    "# Perform near_vector search\n",
    "results = collection.query.near_vector(\n",
    "    near_vector=search_embedding.tolist(),\n",
    "    limit=5,\n",
    "    return_properties=[\"original_string\", \"title\", \"subjects\", \"person_id\"],\n",
    "    return_metadata=[\"distance\"]\n",
    ")\n",
    "\n",
    "# Display results\n",
    "print(\"Search Results (ordered by similarity):\\n\")\n",
    "for i, obj in enumerate(results.objects):\n",
    "    similarity = 1 - obj.metadata.distance  # Convert distance to similarity\n",
    "    print(f\"{i+1}. {obj.properties['original_string']}\")\n",
    "    print(f\"   Similarity: {similarity:.4f}\")\n",
    "    print(f\"   Title: {obj.properties['title']}\")\n",
    "    print(f\"   Subjects: {obj.properties['subjects']}\")\n",
    "    print(f\"   ID: {obj.properties['person_id']}\")\n",
    "    print()"
   ]
  },
  {
   "cell_type": "markdown",
   "metadata": {
    "id": "entity-resolution"
   },
   "source": [
    "## 7. Entity Resolution Challenge\n",
    "\n",
    "Notice how both Franz Schuberts appear as highly similar! This demonstrates the entity resolution challenge in library catalogs."
   ]
  },
  {
   "cell_type": "code",
   "execution_count": null,
   "metadata": {
    "id": "filter-search"
   },
   "outputs": [],
   "source": [
    "# Let's search specifically for archaeology-related works\n",
    "archaeology_embedding = get_embedding(\"archaeology photography digital methods\")\n",
    "\n",
    "print(\"Searching for archaeology-related works:\\n\")\n",
    "\n",
    "# Search with filter\n",
    "results = collection.query.near_vector(\n",
    "    near_vector=archaeology_embedding.tolist(),\n",
    "    limit=5,\n",
    "    return_properties=[\"original_string\", \"title\", \"subjects\"],\n",
    "    return_metadata=[\"distance\"]\n",
    ")\n",
    "\n",
    "for i, obj in enumerate(results.objects):\n",
    "    similarity = 1 - obj.metadata.distance\n",
    "    print(f\"{i+1}. {obj.properties['original_string']}\")\n",
    "    print(f\"   Similarity: {similarity:.4f}\")\n",
    "    print(f\"   Title: {obj.properties['title'][:60]}...\")\n",
    "    print()"
   ]
  },
  {
   "cell_type": "markdown",
   "metadata": {
    "id": "multilingual"
   },
   "source": [
    "## 8. Multilingual Semantic Search\n",
    "\n",
    "Text embeddings can capture meaning across languages."
   ]
  },
  {
   "cell_type": "code",
   "execution_count": null,
   "metadata": {
    "id": "multilingual-search"
   },
   "outputs": [],
   "source": [
    "# Search in English for works that might be in other languages\n",
    "multilingual_searches = [\n",
    "    (\"computational archaeology\", \"English\"),\n",
    "    (\"arqueología computacional\", \"Spanish\"),\n",
    "    (\"arqueologia computacional\", \"Portuguese\")\n",
    "]\n",
    "\n",
    "print(\"Cross-lingual semantic search:\\n\")\n",
    "\n",
    "for search_term, language in multilingual_searches:\n",
    "    print(f\"Searching with '{search_term}' ({language}):\\n\")\n",
    "    \n",
    "    search_embedding = get_embedding(search_term)\n",
    "    results = collection.query.near_vector(\n",
    "        near_vector=search_embedding.tolist(),\n",
    "        limit=3,\n",
    "        return_properties=[\"original_string\", \"title\"],\n",
    "        return_metadata=[\"distance\"]\n",
    "    )\n",
    "    \n",
    "    for obj in results.objects:\n",
    "        similarity = 1 - obj.metadata.distance\n",
    "        print(f\"  • {obj.properties['title'][:60]}... (similarity: {similarity:.3f})\")\n",
    "    print()"
   ]
  },
  {
   "cell_type": "markdown",
   "metadata": {
    "id": "visualization"
   },
   "source": [
    "## 9. Visualizing Vector Space\n",
    "\n",
    "Let's visualize how our catalog entries are distributed in vector space."
   ]
  },
  {
   "cell_type": "code",
   "execution_count": null,
   "metadata": {
    "id": "extract-vectors"
   },
   "outputs": [],
   "source": [
    "# Extract all vectors from our collection\n",
    "all_results = collection.query.fetch_objects(\n",
    "    limit=100,\n",
    "    include_vector=True,\n",
    "    return_properties=[\"original_string\", \"title\", \"subjects\"]\n",
    ")\n",
    "\n",
    "# Prepare data for visualization\n",
    "vectors = []\n",
    "labels = []\n",
    "titles = []\n",
    "subjects = []\n",
    "\n",
    "for obj in all_results.objects:\n",
    "    if hasattr(obj, 'vector') and obj.vector:\n",
    "        # Handle both dict and direct vector formats\n",
    "        if isinstance(obj.vector, dict) and 'default' in obj.vector:\n",
    "            vectors.append(obj.vector['default'])\n",
    "        else:\n",
    "            vectors.append(obj.vector)\n",
    "        \n",
    "        labels.append(obj.properties['original_string'])\n",
    "        titles.append(obj.properties['title'][:40] + '...')\n",
    "        subjects.append(obj.properties['subjects'])\n",
    "\n",
    "vectors = np.array(vectors)\n",
    "print(f\"Extracted {len(vectors)} vectors for visualization\")"
   ]
  },
  {
   "cell_type": "code",
   "execution_count": null,
   "metadata": {
    "id": "tsne-visualization"
   },
   "outputs": [],
   "source": [
    "# Reduce dimensions using t-SNE for 2D visualization\n",
    "print(\"Reducing dimensions with t-SNE...\")\n",
    "tsne = TSNE(n_components=2, random_state=42, perplexity=5)\n",
    "vectors_2d = tsne.fit_transform(vectors)\n",
    "\n",
    "# Create interactive plot with Plotly\n",
    "fig = go.Figure()\n",
    "\n",
    "# Add scatter points\n",
    "fig.add_trace(go.Scatter(\n",
    "    x=vectors_2d[:, 0],\n",
    "    y=vectors_2d[:, 1],\n",
    "    mode='markers+text',\n",
    "    marker=dict(\n",
    "        size=12,\n",
    "        color=list(range(len(labels))),\n",
    "        colorscale='Viridis',\n",
    "        showscale=False\n",
    "    ),\n",
    "    text=labels,\n",
    "    textposition=\"top center\",\n",
    "    hovertemplate='<b>%{text}</b><br>' +\n",
    "                  'Title: %{customdata[0]}<br>' +\n",
    "                  'Subjects: %{customdata[1]}<br>' +\n",
    "                  '<extra></extra>',\n",
    "    customdata=list(zip(titles, subjects))\n",
    "))\n",
    "\n",
    "# Update layout\n",
    "fig.update_layout(\n",
    "    title=\"Library Catalog Entries in Vector Space (t-SNE)\",\n",
    "    xaxis_title=\"t-SNE Dimension 1\",\n",
    "    yaxis_title=\"t-SNE Dimension 2\",\n",
    "    width=900,\n",
    "    height=600,\n",
    "    showlegend=False\n",
    ")\n",
    "\n",
    "fig.show()"
   ]
  },
  {
   "cell_type": "code",
   "execution_count": null,
   "metadata": {
    "id": "pca-visualization"
   },
   "outputs": [],
   "source": [
    "# Alternative visualization with PCA\n",
    "print(\"Creating PCA visualization...\")\n",
    "pca = PCA(n_components=2)\n",
    "vectors_pca = pca.fit_transform(vectors)\n",
    "\n",
    "# Create static matplotlib plot\n",
    "plt.figure(figsize=(12, 8))\n",
    "\n",
    "# Color by subject area\n",
    "subject_colors = {\n",
    "    'music': 'blue',\n",
    "    'archaeology': 'green',\n",
    "    'photography': 'orange',\n",
    "    'literatura': 'red',\n",
    "    'arqueologia': 'green'\n",
    "}\n",
    "\n",
    "colors = []\n",
    "for subj in subjects:\n",
    "    color = 'gray'\n",
    "    for key, col in subject_colors.items():\n",
    "        if key in subj.lower():\n",
    "            color = col\n",
    "            break\n",
    "    colors.append(color)\n",
    "\n",
    "plt.scatter(vectors_pca[:, 0], vectors_pca[:, 1], c=colors, s=100, alpha=0.7)\n",
    "\n",
    "# Add labels\n",
    "for i, label in enumerate(labels):\n",
    "    plt.annotate(label, (vectors_pca[i, 0], vectors_pca[i, 1]), \n",
    "                xytext=(5, 5), textcoords='offset points', fontsize=9)\n",
    "\n",
    "plt.title('Library Catalog Entries in Vector Space (PCA)', fontsize=16)\n",
    "plt.xlabel('First Principal Component')\n",
    "plt.ylabel('Second Principal Component')\n",
    "plt.grid(True, alpha=0.3)\n",
    "\n",
    "# Add legend\n",
    "from matplotlib.patches import Patch\n",
    "legend_elements = [Patch(facecolor=col, label=key.capitalize()) \n",
    "                  for key, col in subject_colors.items()]\n",
    "plt.legend(handles=legend_elements, loc='best')\n",
    "\n",
    "plt.tight_layout()\n",
    "plt.show()\n",
    "\n",
    "print(f\"\\nPCA explained variance ratio: {pca.explained_variance_ratio_}\")\n",
    "print(f\"Total variance explained: {sum(pca.explained_variance_ratio_):.2%}\")"
   ]
  },
  {
   "cell_type": "markdown",
   "metadata": {
    "id": "entity-resolution-demo"
   },
   "source": [
    "## 10. Entity Resolution in Practice\n",
    "\n",
    "Let's demonstrate how vector similarity can help with entity resolution, but also where additional features are needed."
   ]
  },
  {
   "cell_type": "code",
   "execution_count": null,
   "metadata": {
    "id": "entity-pairs"
   },
   "outputs": [],
   "source": [
    "# Get embeddings for our two Schuberts\n",
    "schubert_composer = next(r for r in catalog_data if \"1797-1828\" in r[\"person\"])\n",
    "schubert_artist = next(r for r in catalog_data if \"1805-1893\" in r[\"person\"])\n",
    "\n",
    "# Calculate similarities for different fields\n",
    "fields_to_compare = ['person', 'title', 'subjects', 'composite']\n",
    "\n",
    "print(\"Entity Resolution Analysis: Two Franz Schuberts\\n\")\n",
    "print(\"Composer:\", schubert_composer['person'])\n",
    "print(\"Artist:\", schubert_artist['person'])\n",
    "print(\"\\nField-by-field similarity comparison:\\n\")\n",
    "\n",
    "similarities = {}\n",
    "for field in fields_to_compare:\n",
    "    if field in schubert_composer and field in schubert_artist:\n",
    "        emb1 = get_embedding(schubert_composer[field])\n",
    "        emb2 = get_embedding(schubert_artist[field])\n",
    "        sim = cosine_similarity(emb1, emb2)\n",
    "        similarities[field] = sim\n",
    "        print(f\"{field.capitalize():12} similarity: {sim:.4f}\")\n",
    "\n",
    "# Visualize similarities\n",
    "plt.figure(figsize=(10, 6))\n",
    "fields = list(similarities.keys())\n",
    "values = list(similarities.values())\n",
    "\n",
    "bars = plt.bar(fields, values, color=['red', 'blue', 'green', 'purple'])\n",
    "plt.ylim(0, 1)\n",
    "plt.ylabel('Cosine Similarity')\n",
    "plt.title('Field-wise Similarity: Franz Schubert (Composer) vs Franz August Schubert (Artist)')\n",
    "plt.axhline(y=0.7, color='r', linestyle='--', label='Typical threshold')\n",
    "\n",
    "# Add value labels on bars\n",
    "for bar, value in zip(bars, values):\n",
    "    plt.text(bar.get_x() + bar.get_width()/2, bar.get_height() + 0.01, \n",
    "             f'{value:.3f}', ha='center')\n",
    "\n",
    "plt.legend()\n",
    "plt.tight_layout()\n",
    "plt.show()\n",
    "\n",
    "print(\"\\n💡 Key Insight: High name similarity but very different contexts!\")\n",
    "print(\"   This is why entity resolution needs multiple signals beyond just name matching.\")"
   ]
  },
  {
   "cell_type": "markdown",
   "metadata": {
    "id": "practical-tips"
   },
   "source": [
    "## 11. Practical Tips for Entity Resolution\n",
    "\n",
    "Based on our exploration, here are key strategies for entity resolution with embeddings:"
   ]
  },
  {
   "cell_type": "code",
   "execution_count": null,
   "metadata": {
    "id": "resolution-strategies"
   },
   "outputs": [],
   "source": [
    "# Demonstrate a simple entity resolution strategy\n",
    "def entity_resolution_score(record1, record2, weights=None):\n",
    "    \"\"\"Calculate weighted similarity score for entity resolution.\"\"\"\n",
    "    if weights is None:\n",
    "        weights = {\n",
    "            'person': 0.4,\n",
    "            'title': 0.2,\n",
    "            'subjects': 0.2,\n",
    "            'composite': 0.2\n",
    "        }\n",
    "    \n",
    "    total_score = 0\n",
    "    for field, weight in weights.items():\n",
    "        if field in record1 and field in record2:\n",
    "            emb1 = get_embedding(record1[field])\n",
    "            emb2 = get_embedding(record2[field])\n",
    "            similarity = cosine_similarity(emb1, emb2)\n",
    "            total_score += weight * similarity\n",
    "    \n",
    "    return total_score\n",
    "\n",
    "# Test on all pairs\n",
    "print(\"Entity Resolution Scores (using weighted features):\\n\")\n",
    "\n",
    "threshold = 0.7\n",
    "matches = []\n",
    "\n",
    "for i in range(len(catalog_data)):\n",
    "    for j in range(i+1, len(catalog_data)):\n",
    "        score = entity_resolution_score(catalog_data[i], catalog_data[j])\n",
    "        \n",
    "        if score > threshold:\n",
    "            matches.append((catalog_data[i]['person'], catalog_data[j]['person'], score))\n",
    "            print(f\"Potential match: {catalog_data[i]['person'][:30]:30} ↔ {catalog_data[j]['person'][:30]:30} | Score: {score:.3f}\")\n",
    "\n",
    "if not matches:\n",
    "    print(f\"No matches found above threshold {threshold}\")\n",
    "    print(\"\\nTop similarities:\")\n",
    "    \n",
    "    all_scores = []\n",
    "    for i in range(len(catalog_data)):\n",
    "        for j in range(i+1, len(catalog_data)):\n",
    "            score = entity_resolution_score(catalog_data[i], catalog_data[j])\n",
    "            all_scores.append((catalog_data[i]['person'], catalog_data[j]['person'], score))\n",
    "    \n",
    "    all_scores.sort(key=lambda x: x[2], reverse=True)\n",
    "    for p1, p2, score in all_scores[:3]:\n",
    "        print(f\"  {p1[:30]:30} ↔ {p2[:30]:30} | Score: {score:.3f}\")"
   ]
  },
  {
   "cell_type": "markdown",
   "metadata": {
    "id": "summary"
   },
   "source": [
    "## 12. Key Takeaways\n",
    "\n",
    "1. **Text embeddings capture semantic meaning**: Similar concepts have similar vectors\n",
    "2. **Multilingual understanding**: Modern embeddings work across languages\n",
    "3. **Entity resolution challenges**: Name similarity alone isn't enough\n",
    "4. **Context matters**: Combining multiple fields improves accuracy\n",
    "5. **Vector databases enable fast search**: Weaviate makes similarity search efficient\n",
    "\n",
    "### Next Steps\n",
    "- Experiment with different similarity thresholds\n",
    "- Try the Mistral AI Classifier Factory for classification tasks\n",
    "- Explore hot-deck imputation for missing metadata\n",
    "- Scale to larger datasets with batch processing"
   ]
  },
  {
   "cell_type": "code",
   "execution_count": null,
   "metadata": {
    "id": "cleanup"
   },
   "outputs": [],
   "source": [
    "# Clean up\n",
    "weaviate_client.close()\n",
    "print(\"✓ Closed Weaviate connection\")"
   ]
  }
 ],
 "metadata": {
  "colab": {
   "provenance": [],
   "toc_visible": true
  },
  "kernelspec": {
   "display_name": "Python 3 (ipykernel)",
   "language": "python",
   "name": "python3"
  },
  "language_info": {
   "codemirror_mode": {
    "name": "ipython",
    "version": 3
   },
   "file_extension": ".py",
   "mimetype": "text/x-python",
   "name": "python",
   "nbconvert_exporter": "python",
   "pygments_lexer": "ipython3",
   "version": "3.11.4"
  }
 },
 "nbformat": 4,
 "nbformat_minor": 4
}
