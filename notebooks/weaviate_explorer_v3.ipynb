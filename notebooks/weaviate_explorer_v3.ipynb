{
 "cells": [
  {
   "cell_type": "markdown",
   "metadata": {
    "id": "workshop_intro"
   },
   "source": [
    "# AI Research Techniques Workshop: Text Embeddings and Entity Resolution\n",
    "\n",
    "**Yale Graduate Students Workshop - STEM to Humanities**  \n",
    "**Duration:** 45 minutes hands-on learning\n",
    "\n",
    "## Learning Objectives\n",
    "By the end of this workshop, you will understand:\n",
    "- How text embeddings encode semantic meaning beyond keyword matching\n",
    "- How to apply embeddings to real entity resolution challenges\n",
    "- How to implement classification systems with minimal labeled data\n",
    "- How to use Weaviate vector database for similarity search at scale\n",
    "\n",
    "## Workshop Structure\n",
    "1. **Evolution from Word2Vec to modern embeddings** (5 min)\n",
    "2. **OpenAI embeddings and vector spaces** (10 min)\n",
    "3. **Weaviate indexing and retrieval** (15 min)\n",
    "4. **Entity resolution with library data** (10 min)\n",
    "5. **Hot-deck imputation and classification** (5 min)\n",
    "\n",
    "---\n",
    "\n",
    "### Real-World Context: Yale Library Entity Resolution\n",
    "We'll work with actual library catalog data to solve a genuine problem: distinguishing between different people who have the same or similar names. For example, how do we differentiate between:\n",
    "- **Franz Schubert** (1797-1828) - Austrian composer\n",
    "- **Franz August Schubert** (1805-1893) - German artist and archaeologist\n",
    "\n",
    "This challenge appears throughout library catalogs, requiring sophisticated AI techniques to resolve accurately."
   ]
  },
  {
   "cell_type": "markdown",
   "metadata": {
    "id": "setup_section"
   },
   "source": [
    "## 1. Setup and Dependencies\n",
    "\n",
    "First, we'll install and import all the libraries we need for this workshop. Think of this as assembling our AI toolkit."
   ]
  },
  {
   "cell_type": "code",
   "execution_count": 1,
   "metadata": {
    "execution": {
     "iopub.execute_input": "2025-06-30T23:58:14.643885Z",
     "iopub.status.busy": "2025-06-30T23:58:14.643338Z",
     "iopub.status.idle": "2025-06-30T23:58:18.148347Z",
     "shell.execute_reply": "2025-06-30T23:58:18.147817Z",
     "shell.execute_reply.started": "2025-06-30T23:58:14.643844Z"
    },
    "id": "install_dependencies"
   },
   "outputs": [
    {
     "name": "stdout",
     "output_type": "stream",
     "text": [
      "Requirement already satisfied: weaviate-client in /Users/tt434/.pyenv/versions/dfrnt/lib/python3.11/site-packages (4.8.0)\n",
      "Requirement already satisfied: openai in /Users/tt434/.pyenv/versions/dfrnt/lib/python3.11/site-packages (1.93.0)\n",
      "Requirement already satisfied: pandas in /Users/tt434/.pyenv/versions/dfrnt/lib/python3.11/site-packages (1.5.3)\n",
      "Requirement already satisfied: numpy in /Users/tt434/.pyenv/versions/dfrnt/lib/python3.11/site-packages (1.25.2)\n",
      "Requirement already satisfied: matplotlib in /Users/tt434/.pyenv/versions/dfrnt/lib/python3.11/site-packages (3.8.0)\n",
      "Requirement already satisfied: seaborn in /Users/tt434/.pyenv/versions/dfrnt/lib/python3.11/site-packages (0.13.0)\n",
      "Requirement already satisfied: plotly in /Users/tt434/.pyenv/versions/dfrnt/lib/python3.11/site-packages (6.2.0)\n",
      "Requirement already satisfied: scikit-learn in /Users/tt434/.pyenv/versions/dfrnt/lib/python3.11/site-packages (1.3.1)\n",
      "Requirement already satisfied: requests<3.0.0,>=2.30.0 in /Users/tt434/.pyenv/versions/dfrnt/lib/python3.11/site-packages (from weaviate-client) (2.32.3)\n",
      "Requirement already satisfied: httpx<=0.27.0,>=0.25.0 in /Users/tt434/.pyenv/versions/dfrnt/lib/python3.11/site-packages (from weaviate-client) (0.27.0)\n",
      "Requirement already satisfied: validators==0.33.0 in /Users/tt434/.pyenv/versions/dfrnt/lib/python3.11/site-packages (from weaviate-client) (0.33.0)\n",
      "Requirement already satisfied: authlib<2.0.0,>=1.2.1 in /Users/tt434/.pyenv/versions/dfrnt/lib/python3.11/site-packages (from weaviate-client) (1.3.2)\n",
      "Requirement already satisfied: pydantic<3.0.0,>=2.5.0 in /Users/tt434/.pyenv/versions/dfrnt/lib/python3.11/site-packages (from weaviate-client) (2.11.7)\n",
      "Requirement already satisfied: grpcio<2.0.0,>=1.57.0 in /Users/tt434/.pyenv/versions/dfrnt/lib/python3.11/site-packages (from weaviate-client) (1.66.1)\n",
      "Requirement already satisfied: grpcio-tools<2.0.0,>=1.57.0 in /Users/tt434/.pyenv/versions/dfrnt/lib/python3.11/site-packages (from weaviate-client) (1.66.1)\n",
      "Requirement already satisfied: grpcio-health-checking<2.0.0,>=1.57.0 in /Users/tt434/.pyenv/versions/dfrnt/lib/python3.11/site-packages (from weaviate-client) (1.66.1)\n",
      "Requirement already satisfied: anyio<5,>=3.5.0 in /Users/tt434/.pyenv/versions/dfrnt/lib/python3.11/site-packages (from openai) (4.0.0)\n",
      "Requirement already satisfied: distro<2,>=1.7.0 in /Users/tt434/.pyenv/versions/dfrnt/lib/python3.11/site-packages (from openai) (1.9.0)\n",
      "Requirement already satisfied: jiter<1,>=0.4.0 in /Users/tt434/.pyenv/versions/dfrnt/lib/python3.11/site-packages (from openai) (0.6.1)\n",
      "Requirement already satisfied: sniffio in /Users/tt434/.pyenv/versions/dfrnt/lib/python3.11/site-packages (from openai) (1.3.0)\n",
      "Requirement already satisfied: tqdm>4 in /Users/tt434/.pyenv/versions/dfrnt/lib/python3.11/site-packages (from openai) (4.66.4)\n",
      "Requirement already satisfied: typing-extensions<5,>=4.11 in /Users/tt434/.pyenv/versions/dfrnt/lib/python3.11/site-packages (from openai) (4.12.2)\n",
      "Requirement already satisfied: python-dateutil>=2.8.1 in /Users/tt434/.pyenv/versions/dfrnt/lib/python3.11/site-packages (from pandas) (2.8.2)\n",
      "Requirement already satisfied: pytz>=2020.1 in /Users/tt434/.pyenv/versions/dfrnt/lib/python3.11/site-packages (from pandas) (2023.3)\n",
      "Requirement already satisfied: contourpy>=1.0.1 in /Users/tt434/.pyenv/versions/dfrnt/lib/python3.11/site-packages (from matplotlib) (1.1.1)\n",
      "Requirement already satisfied: cycler>=0.10 in /Users/tt434/.pyenv/versions/dfrnt/lib/python3.11/site-packages (from matplotlib) (0.11.0)\n",
      "Requirement already satisfied: fonttools>=4.22.0 in /Users/tt434/.pyenv/versions/dfrnt/lib/python3.11/site-packages (from matplotlib) (4.42.1)\n",
      "Requirement already satisfied: kiwisolver>=1.0.1 in /Users/tt434/.pyenv/versions/dfrnt/lib/python3.11/site-packages (from matplotlib) (1.4.5)\n",
      "Requirement already satisfied: packaging>=20.0 in /Users/tt434/.pyenv/versions/dfrnt/lib/python3.11/site-packages (from matplotlib) (24.1)\n",
      "Requirement already satisfied: pillow>=6.2.0 in /Users/tt434/.pyenv/versions/dfrnt/lib/python3.11/site-packages (from matplotlib) (10.0.1)\n",
      "Requirement already satisfied: pyparsing>=2.3.1 in /Users/tt434/.pyenv/versions/dfrnt/lib/python3.11/site-packages (from matplotlib) (2.4.6)\n",
      "Requirement already satisfied: narwhals>=1.15.1 in /Users/tt434/.pyenv/versions/dfrnt/lib/python3.11/site-packages (from plotly) (1.44.0)\n",
      "Requirement already satisfied: scipy>=1.5.0 in /Users/tt434/.pyenv/versions/dfrnt/lib/python3.11/site-packages (from scikit-learn) (1.11.1)\n",
      "Requirement already satisfied: joblib>=1.1.1 in /Users/tt434/.pyenv/versions/dfrnt/lib/python3.11/site-packages (from scikit-learn) (1.3.2)\n",
      "Requirement already satisfied: threadpoolctl>=2.0.0 in /Users/tt434/.pyenv/versions/dfrnt/lib/python3.11/site-packages (from scikit-learn) (3.2.0)\n",
      "Requirement already satisfied: idna>=2.8 in /Users/tt434/.pyenv/versions/dfrnt/lib/python3.11/site-packages (from anyio<5,>=3.5.0->openai) (3.4)\n",
      "Requirement already satisfied: cryptography in /Users/tt434/.pyenv/versions/dfrnt/lib/python3.11/site-packages (from authlib<2.0.0,>=1.2.1->weaviate-client) (43.0.1)\n",
      "Requirement already satisfied: protobuf<6.0dev,>=5.26.1 in /Users/tt434/.pyenv/versions/dfrnt/lib/python3.11/site-packages (from grpcio-health-checking<2.0.0,>=1.57.0->weaviate-client) (5.28.2)\n",
      "Requirement already satisfied: setuptools in /Users/tt434/.pyenv/versions/dfrnt/lib/python3.11/site-packages (from grpcio-tools<2.0.0,>=1.57.0->weaviate-client) (69.5.1)\n",
      "Requirement already satisfied: certifi in /Users/tt434/.pyenv/versions/dfrnt/lib/python3.11/site-packages (from httpx<=0.27.0,>=0.25.0->weaviate-client) (2024.8.30)\n",
      "Requirement already satisfied: httpcore==1.* in /Users/tt434/.pyenv/versions/dfrnt/lib/python3.11/site-packages (from httpx<=0.27.0,>=0.25.0->weaviate-client) (1.0.9)\n",
      "Requirement already satisfied: h11>=0.16 in /Users/tt434/.pyenv/versions/dfrnt/lib/python3.11/site-packages (from httpcore==1.*->httpx<=0.27.0,>=0.25.0->weaviate-client) (0.16.0)\n",
      "Requirement already satisfied: annotated-types>=0.6.0 in /Users/tt434/.pyenv/versions/dfrnt/lib/python3.11/site-packages (from pydantic<3.0.0,>=2.5.0->weaviate-client) (0.7.0)\n",
      "Requirement already satisfied: pydantic-core==2.33.2 in /Users/tt434/.pyenv/versions/dfrnt/lib/python3.11/site-packages (from pydantic<3.0.0,>=2.5.0->weaviate-client) (2.33.2)\n",
      "Requirement already satisfied: typing-inspection>=0.4.0 in /Users/tt434/.pyenv/versions/dfrnt/lib/python3.11/site-packages (from pydantic<3.0.0,>=2.5.0->weaviate-client) (0.4.1)\n",
      "Requirement already satisfied: six>=1.5 in /Users/tt434/.pyenv/versions/dfrnt/lib/python3.11/site-packages (from python-dateutil>=2.8.1->pandas) (1.14.0)\n",
      "Requirement already satisfied: charset-normalizer<4,>=2 in /Users/tt434/.pyenv/versions/dfrnt/lib/python3.11/site-packages (from requests<3.0.0,>=2.30.0->weaviate-client) (3.2.0)\n",
      "Requirement already satisfied: urllib3<3,>=1.21.1 in /Users/tt434/.pyenv/versions/dfrnt/lib/python3.11/site-packages (from requests<3.0.0,>=2.30.0->weaviate-client) (2.2.3)\n",
      "Requirement already satisfied: cffi>=1.12 in /Users/tt434/.pyenv/versions/dfrnt/lib/python3.11/site-packages (from cryptography->authlib<2.0.0,>=1.2.1->weaviate-client) (1.16.0)\n",
      "Requirement already satisfied: pycparser in /Users/tt434/.pyenv/versions/dfrnt/lib/python3.11/site-packages (from cffi>=1.12->cryptography->authlib<2.0.0,>=1.2.1->weaviate-client) (2.21)\n",
      "\n",
      "\u001b[1m[\u001b[0m\u001b[34;49mnotice\u001b[0m\u001b[1;39;49m]\u001b[0m\u001b[39;49m A new release of pip is available: \u001b[0m\u001b[31;49m24.0\u001b[0m\u001b[39;49m -> \u001b[0m\u001b[32;49m25.1.1\u001b[0m\n",
      "\u001b[1m[\u001b[0m\u001b[34;49mnotice\u001b[0m\u001b[1;39;49m]\u001b[0m\u001b[39;49m To update, run: \u001b[0m\u001b[32;49mpython3 -m pip install --upgrade pip\u001b[0m\n",
      "✅ Installation complete! Ready to explore embeddings.\n"
     ]
    }
   ],
   "source": [
    "# Install required packages for our AI workshop\n",
    "# Note: In Colab, this will take about 2-3 minutes\n",
    "!pip install weaviate-client openai pandas numpy matplotlib seaborn plotly scikit-learn\n",
    "\n",
    "print(\"✅ Installation complete! Ready to explore embeddings.\")"
   ]
  },
  {
   "cell_type": "code",
   "execution_count": 2,
   "metadata": {
    "execution": {
     "iopub.execute_input": "2025-06-30T23:58:20.454012Z",
     "iopub.status.busy": "2025-06-30T23:58:20.453534Z",
     "iopub.status.idle": "2025-06-30T23:58:22.464524Z",
     "shell.execute_reply": "2025-06-30T23:58:22.464186Z",
     "shell.execute_reply.started": "2025-06-30T23:58:20.453978Z"
    },
    "id": "import_libraries"
   },
   "outputs": [
    {
     "name": "stderr",
     "output_type": "stream",
     "text": [
      "/Users/tt434/.pyenv/versions/dfrnt/lib/python3.11/site-packages/google/protobuf/runtime_version.py:112: UserWarning: Protobuf gencode version 5.27.2 is older than the runtime version 5.28.2 at grpc_health/v1/health.proto. Please avoid checked-in Protobuf gencode that can be obsolete.\n",
      "  warnings.warn(\n",
      "<frozen importlib._bootstrap>:1047: ImportWarning: _SixMetaPathImporter.find_spec() not found; falling back to find_module()\n",
      "<frozen importlib._bootstrap>:1047: ImportWarning: _SixMetaPathImporter.find_spec() not found; falling back to find_module()\n"
     ]
    },
    {
     "name": "stdout",
     "output_type": "stream",
     "text": [
      "🚀 All imports successful! Our AI toolkit is ready.\n",
      "📊 We now have access to:\n",
      "   • OpenAI embeddings for semantic understanding\n",
      "   • Weaviate vector database for similarity search\n",
      "   • Data visualization tools for insights\n",
      "   • Machine learning utilities for analysis\n"
     ]
    }
   ],
   "source": [
    "# Import our AI and data science toolkit\n",
    "import os\n",
    "import json\n",
    "import hashlib\n",
    "import numpy as np\n",
    "import pandas as pd\n",
    "import matplotlib.pyplot as plt\n",
    "import seaborn as sns\n",
    "import plotly.express as px\n",
    "import plotly.graph_objects as go\n",
    "from plotly.subplots import make_subplots\n",
    "\n",
    "# Weaviate v4 client - modern vector database operations\n",
    "import weaviate\n",
    "from weaviate.classes.config import Configure, Property, DataType, VectorDistances\n",
    "from weaviate.classes.query import Filter, MetadataQuery\n",
    "from weaviate.util import generate_uuid5\n",
    "\n",
    "# OpenAI for generating embeddings\n",
    "from openai import OpenAI\n",
    "\n",
    "# Machine learning utilities\n",
    "from sklearn.metrics.pairwise import cosine_similarity\n",
    "from sklearn.decomposition import PCA\n",
    "from sklearn.manifold import TSNE\n",
    "\n",
    "# Set up visualization style\n",
    "plt.style.use('default')\n",
    "sns.set_palette(\"husl\")\n",
    "\n",
    "print(\"🚀 All imports successful! Our AI toolkit is ready.\")\n",
    "print(\"📊 We now have access to:\")\n",
    "print(\"   • OpenAI embeddings for semantic understanding\")\n",
    "print(\"   • Weaviate vector database for similarity search\")\n",
    "print(\"   • Data visualization tools for insights\")\n",
    "print(\"   • Machine learning utilities for analysis\")"
   ]
  },
  {
   "cell_type": "markdown",
   "metadata": {
    "id": "embeddings_evolution"
   },
   "source": [
    "## 2. Understanding Text Embeddings Evolution\n",
    "\n",
    "### From Words to Vectors: A Brief History\n",
    "\n",
    "Text embeddings transform human language into numerical vectors that machines can process mathematically. Think of embeddings as creating a \"semantic fingerprint\" for each piece of text.\n",
    "\n",
    "**Historical Evolution:**\n",
    "- **Bag of Words (2000s)**: Simple word counting - \"the cat sat\" becomes [1,1,1]\n",
    "- **Word2Vec (2013)**: First neural embeddings that captured word relationships\n",
    "- **GloVe (2014)**: Combined global statistical information with local context\n",
    "- **BERT (2018)**: Context-aware embeddings that understand word meaning in context\n",
    "- **GPT embeddings (2020+)**: Large-scale, general-purpose representations trained on vast text corpora\n",
    "\n",
    "### Why Modern Embeddings Matter\n",
    "Unlike simple keyword matching, modern embeddings capture **semantic meaning**. They understand that \"violin\" and \"fiddle\" refer to the same instrument, or that \"Franz Schubert composer\" and \"Austrian classical musician\" describe related concepts.\n",
    "\n",
    "This semantic understanding is crucial for library applications where the same concept might be expressed in multiple languages, formats, or scholarly traditions."
   ]
  },
  {
   "cell_type": "code",
   "execution_count": 3,
   "metadata": {
    "execution": {
     "iopub.execute_input": "2025-06-30T23:58:48.256040Z",
     "iopub.status.busy": "2025-06-30T23:58:48.254570Z",
     "iopub.status.idle": "2025-06-30T23:58:48.265165Z",
     "shell.execute_reply": "2025-06-30T23:58:48.264314Z",
     "shell.execute_reply.started": "2025-06-30T23:58:48.255992Z"
    },
    "id": "demonstrate_evolution"
   },
   "outputs": [
    {
     "name": "stdout",
     "output_type": "stream",
     "text": [
      "📚 Real Library Catalog Entries from Yale Collection:\n",
      "=======================================================\n",
      "  1. Schubert, Franz, 1797-1828\n",
      "  2. Schubert, Franz August, 1805-1893\n",
      "  3. Bach, Johann Sebastian, 1685-1750\n",
      "  4. Biblioteca Nacional de España\n",
      "  5. Biblioteca Nacional do Brasil\n",
      "  6. Música barroca alemana\n",
      "  7. Música do período barroco\n",
      "\n",
      "🎯 The Entity Resolution Challenge:\n",
      "   How do we automatically find related entries across:\n",
      "   • Different languages (Spanish/Portuguese)\n",
      "   • Different people with identical names\n",
      "   • Similar concepts expressed differently\n",
      "   • Varying metadata and cataloging formats\n",
      "\n",
      "🧠 Why Traditional Approaches Fall Short:\n",
      "   • Keyword matching misses semantic relationships\n",
      "   • String similarity fails across languages\n",
      "   • Rule-based systems become impossibly complex\n",
      "   • Manual cataloging doesn't scale to millions of records\n",
      "\n",
      "✨ How Modern Embeddings Help:\n",
      "   • Capture semantic meaning beyond surface text\n",
      "   • Work across languages and domains\n",
      "   • Enable similarity search at massive scale\n",
      "   • Provide foundation for AI-powered cataloging\n"
     ]
    }
   ],
   "source": [
    "def demonstrate_embedding_evolution():\n",
    "    \"\"\"\n",
    "    Show how different approaches handle similar concepts.\n",
    "    This helps us understand why modern embeddings are so powerful.\n",
    "    \"\"\"\n",
    "    \n",
    "    # Sample library catalog entries - our real use case from Yale\n",
    "    library_texts = [\n",
    "        \"Schubert, Franz, 1797-1828\",           # Austrian composer\n",
    "        \"Schubert, Franz August, 1805-1893\",   # German artist  \n",
    "        \"Bach, Johann Sebastian, 1685-1750\",   # German composer\n",
    "        \"Biblioteca Nacional de España\",        # Spanish library\n",
    "        \"Biblioteca Nacional do Brasil\",        # Brazilian library\n",
    "        \"Música barroca alemana\",               # German baroque music (Spanish)\n",
    "        \"Música do período barroco\",            # Baroque period music (Portuguese)\n",
    "    ]\n",
    "    \n",
    "    print(\"📚 Real Library Catalog Entries from Yale Collection:\")\n",
    "    print(\"=\" * 55)\n",
    "    for i, text in enumerate(library_texts, 1):\n",
    "        print(f\"  {i}. {text}\")\n",
    "    \n",
    "    print(\"\\n🎯 The Entity Resolution Challenge:\")\n",
    "    print(\"   How do we automatically find related entries across:\")\n",
    "    print(\"   • Different languages (Spanish/Portuguese)\")\n",
    "    print(\"   • Different people with identical names\")\n",
    "    print(\"   • Similar concepts expressed differently\")\n",
    "    print(\"   • Varying metadata and cataloging formats\")\n",
    "    \n",
    "    print(\"\\n🧠 Why Traditional Approaches Fall Short:\")\n",
    "    print(\"   • Keyword matching misses semantic relationships\")\n",
    "    print(\"   • String similarity fails across languages\")\n",
    "    print(\"   • Rule-based systems become impossibly complex\")\n",
    "    print(\"   • Manual cataloging doesn't scale to millions of records\")\n",
    "    \n",
    "    print(\"\\n✨ How Modern Embeddings Help:\")\n",
    "    print(\"   • Capture semantic meaning beyond surface text\")\n",
    "    print(\"   • Work across languages and domains\")\n",
    "    print(\"   • Enable similarity search at massive scale\")\n",
    "    print(\"   • Provide foundation for AI-powered cataloging\")\n",
    "    \n",
    "    return library_texts\n",
    "\n",
    "# Run our demonstration\n",
    "sample_texts = demonstrate_embedding_evolution()"
   ]
  },
  {
   "cell_type": "markdown",
   "metadata": {
    "id": "vector_space_section"
   },
   "source": [
    "## 3. Understanding Vector Spaces\n",
    "\n",
    "### The Geometric Nature of Meaning\n",
    "\n",
    "Embeddings place semantically similar texts closer together in high-dimensional space. While real embeddings use 1536 dimensions (imagine a space with 1536 coordinate axes!), we can visualize the core concept in 2D.\n",
    "\n",
    "**Key Concepts:**\n",
    "- **Proximity = Similarity**: Texts with similar meanings cluster together\n",
    "- **Distance = Difference**: Unrelated concepts are far apart\n",
    "- **Directions = Relationships**: Mathematical operations can capture semantic relationships\n",
    "\n",
    "This geometric approach enables us to perform \"semantic math\" - finding texts that are conceptually similar even when they use completely different words."
   ]
  },
  {
   "cell_type": "code",
   "execution_count": 4,
   "metadata": {
    "execution": {
     "iopub.execute_input": "2025-06-30T23:59:06.007116Z",
     "iopub.status.busy": "2025-06-30T23:59:06.006585Z",
     "iopub.status.idle": "2025-06-30T23:59:06.283805Z",
     "shell.execute_reply": "2025-06-30T23:59:06.283500Z",
     "shell.execute_reply.started": "2025-06-30T23:59:06.007075Z"
    },
    "id": "vector_space_demo"
   },
   "outputs": [
    {
     "name": "stderr",
     "output_type": "stream",
     "text": [
      "<frozen importlib._bootstrap>:1047: ImportWarning:\n",
      "\n",
      "_SixMetaPathImporter.find_spec() not found; falling back to find_module()\n",
      "\n"
     ]
    },
    {
     "data": {
      "application/vnd.plotly.v1+json": {
       "config": {
        "plotlyServerURL": "https://plot.ly"
       },
       "data": [
        {
         "marker": {
          "color": "#E31A1C",
          "line": {
           "color": "white",
           "width": 2
          },
          "size": 15
         },
         "mode": "markers+text",
         "name": "Composer",
         "showlegend": true,
         "text": "Schubert, Franz (composer)",
         "textposition": "top center",
         "type": "scatter",
         "x": [
          2.14901424590337
         ],
         "y": [
          2.9585207096486448
         ]
        },
        {
         "marker": {
          "color": "#FF7F00",
          "line": {
           "color": "white",
           "width": 2
          },
          "size": 15
         },
         "mode": "markers+text",
         "name": "Artist",
         "showlegend": true,
         "text": "Schubert, Franz August (artist)",
         "textposition": "top center",
         "type": "scatter",
         "x": [
          2.3238442690503462
         ],
         "y": [
          3.761514928204013
         ]
        },
        {
         "marker": {
          "color": "#E31A1C",
          "line": {
           "color": "white",
           "width": 2
          },
          "size": 15
         },
         "mode": "markers+text",
         "name": "Composer",
         "showlegend": false,
         "text": "Bach, Johann Sebastian",
         "textposition": "top center",
         "type": "scatter",
         "x": [
          1.9297539875829992
         ],
         "y": [
          2.9297589129152457
         ]
        },
        {
         "marker": {
          "color": "#1F78B4",
          "line": {
           "color": "white",
           "width": 2
          },
          "size": 15
         },
         "mode": "markers+text",
         "name": "Library",
         "showlegend": true,
         "text": "Biblioteca Nacional España",
         "textposition": "top center",
         "type": "scatter",
         "x": [
          -1.5262361553477826
         ],
         "y": [
          1.2302304187458726
         ]
        },
        {
         "marker": {
          "color": "#1F78B4",
          "line": {
           "color": "white",
           "width": 2
          },
          "size": 15
         },
         "mode": "markers+text",
         "name": "Library",
         "showlegend": false,
         "text": "Biblioteca Nacional Brasil",
         "textposition": "top center",
         "type": "scatter",
         "x": [
          -2.1408423157804854
         ],
         "y": [
          1.1627680130757894
         ]
        },
        {
         "marker": {
          "color": "#33A02C",
          "line": {
           "color": "white",
           "width": 2
          },
          "size": 15
         },
         "mode": "markers+text",
         "name": "Music Term",
         "showlegend": true,
         "text": "Música barroca alemana",
         "textposition": "top center",
         "type": "scatter",
         "x": [
          -0.13902530784373868
         ],
         "y": [
          -2.139718926071077
         ]
        },
        {
         "marker": {
          "color": "#33A02C",
          "line": {
           "color": "white",
           "width": 2
          },
          "size": 15
         },
         "mode": "markers+text",
         "name": "Music Term",
         "showlegend": false,
         "text": "Música período barroco",
         "textposition": "top center",
         "type": "scatter",
         "x": [
          0.07258868146981023
         ],
         "y": [
          -2.573984073397339
         ]
        }
       ],
       "layout": {
        "height": 600,
        "legend": {
         "x": 0.02,
         "y": 0.98
        },
        "plot_bgcolor": "rgba(240,240,240,0.5)",
        "showlegend": true,
        "template": {
         "data": {
          "bar": [
           {
            "error_x": {
             "color": "#2a3f5f"
            },
            "error_y": {
             "color": "#2a3f5f"
            },
            "marker": {
             "line": {
              "color": "#E5ECF6",
              "width": 0.5
             },
             "pattern": {
              "fillmode": "overlay",
              "size": 10,
              "solidity": 0.2
             }
            },
            "type": "bar"
           }
          ],
          "barpolar": [
           {
            "marker": {
             "line": {
              "color": "#E5ECF6",
              "width": 0.5
             },
             "pattern": {
              "fillmode": "overlay",
              "size": 10,
              "solidity": 0.2
             }
            },
            "type": "barpolar"
           }
          ],
          "carpet": [
           {
            "aaxis": {
             "endlinecolor": "#2a3f5f",
             "gridcolor": "white",
             "linecolor": "white",
             "minorgridcolor": "white",
             "startlinecolor": "#2a3f5f"
            },
            "baxis": {
             "endlinecolor": "#2a3f5f",
             "gridcolor": "white",
             "linecolor": "white",
             "minorgridcolor": "white",
             "startlinecolor": "#2a3f5f"
            },
            "type": "carpet"
           }
          ],
          "choropleth": [
           {
            "colorbar": {
             "outlinewidth": 0,
             "ticks": ""
            },
            "type": "choropleth"
           }
          ],
          "contour": [
           {
            "colorbar": {
             "outlinewidth": 0,
             "ticks": ""
            },
            "colorscale": [
             [
              0,
              "#0d0887"
             ],
             [
              0.1111111111111111,
              "#46039f"
             ],
             [
              0.2222222222222222,
              "#7201a8"
             ],
             [
              0.3333333333333333,
              "#9c179e"
             ],
             [
              0.4444444444444444,
              "#bd3786"
             ],
             [
              0.5555555555555556,
              "#d8576b"
             ],
             [
              0.6666666666666666,
              "#ed7953"
             ],
             [
              0.7777777777777778,
              "#fb9f3a"
             ],
             [
              0.8888888888888888,
              "#fdca26"
             ],
             [
              1,
              "#f0f921"
             ]
            ],
            "type": "contour"
           }
          ],
          "contourcarpet": [
           {
            "colorbar": {
             "outlinewidth": 0,
             "ticks": ""
            },
            "type": "contourcarpet"
           }
          ],
          "heatmap": [
           {
            "colorbar": {
             "outlinewidth": 0,
             "ticks": ""
            },
            "colorscale": [
             [
              0,
              "#0d0887"
             ],
             [
              0.1111111111111111,
              "#46039f"
             ],
             [
              0.2222222222222222,
              "#7201a8"
             ],
             [
              0.3333333333333333,
              "#9c179e"
             ],
             [
              0.4444444444444444,
              "#bd3786"
             ],
             [
              0.5555555555555556,
              "#d8576b"
             ],
             [
              0.6666666666666666,
              "#ed7953"
             ],
             [
              0.7777777777777778,
              "#fb9f3a"
             ],
             [
              0.8888888888888888,
              "#fdca26"
             ],
             [
              1,
              "#f0f921"
             ]
            ],
            "type": "heatmap"
           }
          ],
          "histogram": [
           {
            "marker": {
             "pattern": {
              "fillmode": "overlay",
              "size": 10,
              "solidity": 0.2
             }
            },
            "type": "histogram"
           }
          ],
          "histogram2d": [
           {
            "colorbar": {
             "outlinewidth": 0,
             "ticks": ""
            },
            "colorscale": [
             [
              0,
              "#0d0887"
             ],
             [
              0.1111111111111111,
              "#46039f"
             ],
             [
              0.2222222222222222,
              "#7201a8"
             ],
             [
              0.3333333333333333,
              "#9c179e"
             ],
             [
              0.4444444444444444,
              "#bd3786"
             ],
             [
              0.5555555555555556,
              "#d8576b"
             ],
             [
              0.6666666666666666,
              "#ed7953"
             ],
             [
              0.7777777777777778,
              "#fb9f3a"
             ],
             [
              0.8888888888888888,
              "#fdca26"
             ],
             [
              1,
              "#f0f921"
             ]
            ],
            "type": "histogram2d"
           }
          ],
          "histogram2dcontour": [
           {
            "colorbar": {
             "outlinewidth": 0,
             "ticks": ""
            },
            "colorscale": [
             [
              0,
              "#0d0887"
             ],
             [
              0.1111111111111111,
              "#46039f"
             ],
             [
              0.2222222222222222,
              "#7201a8"
             ],
             [
              0.3333333333333333,
              "#9c179e"
             ],
             [
              0.4444444444444444,
              "#bd3786"
             ],
             [
              0.5555555555555556,
              "#d8576b"
             ],
             [
              0.6666666666666666,
              "#ed7953"
             ],
             [
              0.7777777777777778,
              "#fb9f3a"
             ],
             [
              0.8888888888888888,
              "#fdca26"
             ],
             [
              1,
              "#f0f921"
             ]
            ],
            "type": "histogram2dcontour"
           }
          ],
          "mesh3d": [
           {
            "colorbar": {
             "outlinewidth": 0,
             "ticks": ""
            },
            "type": "mesh3d"
           }
          ],
          "parcoords": [
           {
            "line": {
             "colorbar": {
              "outlinewidth": 0,
              "ticks": ""
             }
            },
            "type": "parcoords"
           }
          ],
          "pie": [
           {
            "automargin": true,
            "type": "pie"
           }
          ],
          "scatter": [
           {
            "fillpattern": {
             "fillmode": "overlay",
             "size": 10,
             "solidity": 0.2
            },
            "type": "scatter"
           }
          ],
          "scatter3d": [
           {
            "line": {
             "colorbar": {
              "outlinewidth": 0,
              "ticks": ""
             }
            },
            "marker": {
             "colorbar": {
              "outlinewidth": 0,
              "ticks": ""
             }
            },
            "type": "scatter3d"
           }
          ],
          "scattercarpet": [
           {
            "marker": {
             "colorbar": {
              "outlinewidth": 0,
              "ticks": ""
             }
            },
            "type": "scattercarpet"
           }
          ],
          "scattergeo": [
           {
            "marker": {
             "colorbar": {
              "outlinewidth": 0,
              "ticks": ""
             }
            },
            "type": "scattergeo"
           }
          ],
          "scattergl": [
           {
            "marker": {
             "colorbar": {
              "outlinewidth": 0,
              "ticks": ""
             }
            },
            "type": "scattergl"
           }
          ],
          "scattermap": [
           {
            "marker": {
             "colorbar": {
              "outlinewidth": 0,
              "ticks": ""
             }
            },
            "type": "scattermap"
           }
          ],
          "scattermapbox": [
           {
            "marker": {
             "colorbar": {
              "outlinewidth": 0,
              "ticks": ""
             }
            },
            "type": "scattermapbox"
           }
          ],
          "scatterpolar": [
           {
            "marker": {
             "colorbar": {
              "outlinewidth": 0,
              "ticks": ""
             }
            },
            "type": "scatterpolar"
           }
          ],
          "scatterpolargl": [
           {
            "marker": {
             "colorbar": {
              "outlinewidth": 0,
              "ticks": ""
             }
            },
            "type": "scatterpolargl"
           }
          ],
          "scatterternary": [
           {
            "marker": {
             "colorbar": {
              "outlinewidth": 0,
              "ticks": ""
             }
            },
            "type": "scatterternary"
           }
          ],
          "surface": [
           {
            "colorbar": {
             "outlinewidth": 0,
             "ticks": ""
            },
            "colorscale": [
             [
              0,
              "#0d0887"
             ],
             [
              0.1111111111111111,
              "#46039f"
             ],
             [
              0.2222222222222222,
              "#7201a8"
             ],
             [
              0.3333333333333333,
              "#9c179e"
             ],
             [
              0.4444444444444444,
              "#bd3786"
             ],
             [
              0.5555555555555556,
              "#d8576b"
             ],
             [
              0.6666666666666666,
              "#ed7953"
             ],
             [
              0.7777777777777778,
              "#fb9f3a"
             ],
             [
              0.8888888888888888,
              "#fdca26"
             ],
             [
              1,
              "#f0f921"
             ]
            ],
            "type": "surface"
           }
          ],
          "table": [
           {
            "cells": {
             "fill": {
              "color": "#EBF0F8"
             },
             "line": {
              "color": "white"
             }
            },
            "header": {
             "fill": {
              "color": "#C8D4E3"
             },
             "line": {
              "color": "white"
             }
            },
            "type": "table"
           }
          ]
         },
         "layout": {
          "annotationdefaults": {
           "arrowcolor": "#2a3f5f",
           "arrowhead": 0,
           "arrowwidth": 1
          },
          "autotypenumbers": "strict",
          "coloraxis": {
           "colorbar": {
            "outlinewidth": 0,
            "ticks": ""
           }
          },
          "colorscale": {
           "diverging": [
            [
             0,
             "#8e0152"
            ],
            [
             0.1,
             "#c51b7d"
            ],
            [
             0.2,
             "#de77ae"
            ],
            [
             0.3,
             "#f1b6da"
            ],
            [
             0.4,
             "#fde0ef"
            ],
            [
             0.5,
             "#f7f7f7"
            ],
            [
             0.6,
             "#e6f5d0"
            ],
            [
             0.7,
             "#b8e186"
            ],
            [
             0.8,
             "#7fbc41"
            ],
            [
             0.9,
             "#4d9221"
            ],
            [
             1,
             "#276419"
            ]
           ],
           "sequential": [
            [
             0,
             "#0d0887"
            ],
            [
             0.1111111111111111,
             "#46039f"
            ],
            [
             0.2222222222222222,
             "#7201a8"
            ],
            [
             0.3333333333333333,
             "#9c179e"
            ],
            [
             0.4444444444444444,
             "#bd3786"
            ],
            [
             0.5555555555555556,
             "#d8576b"
            ],
            [
             0.6666666666666666,
             "#ed7953"
            ],
            [
             0.7777777777777778,
             "#fb9f3a"
            ],
            [
             0.8888888888888888,
             "#fdca26"
            ],
            [
             1,
             "#f0f921"
            ]
           ],
           "sequentialminus": [
            [
             0,
             "#0d0887"
            ],
            [
             0.1111111111111111,
             "#46039f"
            ],
            [
             0.2222222222222222,
             "#7201a8"
            ],
            [
             0.3333333333333333,
             "#9c179e"
            ],
            [
             0.4444444444444444,
             "#bd3786"
            ],
            [
             0.5555555555555556,
             "#d8576b"
            ],
            [
             0.6666666666666666,
             "#ed7953"
            ],
            [
             0.7777777777777778,
             "#fb9f3a"
            ],
            [
             0.8888888888888888,
             "#fdca26"
            ],
            [
             1,
             "#f0f921"
            ]
           ]
          },
          "colorway": [
           "#636efa",
           "#EF553B",
           "#00cc96",
           "#ab63fa",
           "#FFA15A",
           "#19d3f3",
           "#FF6692",
           "#B6E880",
           "#FF97FF",
           "#FECB52"
          ],
          "font": {
           "color": "#2a3f5f"
          },
          "geo": {
           "bgcolor": "white",
           "lakecolor": "white",
           "landcolor": "#E5ECF6",
           "showlakes": true,
           "showland": true,
           "subunitcolor": "white"
          },
          "hoverlabel": {
           "align": "left"
          },
          "hovermode": "closest",
          "mapbox": {
           "style": "light"
          },
          "paper_bgcolor": "white",
          "plot_bgcolor": "#E5ECF6",
          "polar": {
           "angularaxis": {
            "gridcolor": "white",
            "linecolor": "white",
            "ticks": ""
           },
           "bgcolor": "#E5ECF6",
           "radialaxis": {
            "gridcolor": "white",
            "linecolor": "white",
            "ticks": ""
           }
          },
          "scene": {
           "xaxis": {
            "backgroundcolor": "#E5ECF6",
            "gridcolor": "white",
            "gridwidth": 2,
            "linecolor": "white",
            "showbackground": true,
            "ticks": "",
            "zerolinecolor": "white"
           },
           "yaxis": {
            "backgroundcolor": "#E5ECF6",
            "gridcolor": "white",
            "gridwidth": 2,
            "linecolor": "white",
            "showbackground": true,
            "ticks": "",
            "zerolinecolor": "white"
           },
           "zaxis": {
            "backgroundcolor": "#E5ECF6",
            "gridcolor": "white",
            "gridwidth": 2,
            "linecolor": "white",
            "showbackground": true,
            "ticks": "",
            "zerolinecolor": "white"
           }
          },
          "shapedefaults": {
           "line": {
            "color": "#2a3f5f"
           }
          },
          "ternary": {
           "aaxis": {
            "gridcolor": "white",
            "linecolor": "white",
            "ticks": ""
           },
           "baxis": {
            "gridcolor": "white",
            "linecolor": "white",
            "ticks": ""
           },
           "bgcolor": "#E5ECF6",
           "caxis": {
            "gridcolor": "white",
            "linecolor": "white",
            "ticks": ""
           }
          },
          "title": {
           "x": 0.05
          },
          "xaxis": {
           "automargin": true,
           "gridcolor": "white",
           "linecolor": "white",
           "ticks": "",
           "title": {
            "standoff": 15
           },
           "zerolinecolor": "white",
           "zerolinewidth": 2
          },
          "yaxis": {
           "automargin": true,
           "gridcolor": "white",
           "linecolor": "white",
           "ticks": "",
           "title": {
            "standoff": 15
           },
           "zerolinecolor": "white",
           "zerolinewidth": 2
          }
         }
        },
        "title": {
         "font": {
          "size": 16
         },
         "text": "📍 Vector Space: Semantic Similarity in 2D Projection",
         "x": 0.5,
         "xanchor": "center"
        },
        "width": 800,
        "xaxis": {
         "autorange": true,
         "range": [
          -2.47233878495478,
          2.655340738224641
         ],
         "title": {
          "text": "Semantic Dimension 1"
         },
         "type": "linear"
        },
        "yaxis": {
         "autorange": true,
         "range": [
          -3.109657788564051,
          4.297188643370724
         ],
         "title": {
          "text": "Semantic Dimension 2"
         },
         "type": "linear"
        }
       }
      },
      "image/png": "[encoded data removed]"
     },
     "metadata": {},
     "output_type": "display_data"
    },
    {
     "name": "stdout",
     "output_type": "stream",
     "text": [
      "🎯 Key Insights from Vector Space Visualization:\n",
      "   • Similar concepts naturally cluster together\n",
      "   • Different Franz Schuberts are close but distinguishable\n",
      "   • Multilingual terms (Spanish/Portuguese) group by meaning, not language\n",
      "   • Real embeddings use 1536 dimensions for much richer representations\n",
      "   • Distance in this space corresponds to semantic difference\n"
     ]
    }
   ],
   "source": [
    "def create_vector_space_demo():\n",
    "    \"\"\"\n",
    "    Create an interactive visualization showing how embeddings place \n",
    "    semantically similar concepts close together in vector space.\n",
    "    \"\"\"\n",
    "    \n",
    "    # Simulate embeddings for our library examples\n",
    "    # In practice, these would be 1536-dimensional vectors from OpenAI\n",
    "    np.random.seed(42)  # For reproducible demo results\n",
    "    \n",
    "    # Create conceptual clusters - this mimics how real embeddings group similar concepts\n",
    "    composers_center = np.array([2, 3])      # Classical composers cluster\n",
    "    libraries_center = np.array([-2, 1])    # Library institutions cluster \n",
    "    music_terms_center = np.array([0, -2])  # Music terminology cluster\n",
    "    \n",
    "    # Generate sample 2D vectors (representing projections of high-dimensional embeddings)\n",
    "    embeddings_2d = {\n",
    "        \"Schubert, Franz (composer)\": composers_center + np.random.normal(0, 0.3, 2),\n",
    "        \"Schubert, Franz August (artist)\": composers_center + np.random.normal(0, 0.5, 2),\n",
    "        \"Bach, Johann Sebastian\": composers_center + np.random.normal(0, 0.3, 2),\n",
    "        \"Biblioteca Nacional España\": libraries_center + np.random.normal(0, 0.3, 2),\n",
    "        \"Biblioteca Nacional Brasil\": libraries_center + np.random.normal(0, 0.3, 2),\n",
    "        \"Música barroca alemana\": music_terms_center + np.random.normal(0, 0.3, 2),\n",
    "        \"Música período barroco\": music_terms_center + np.random.normal(0, 0.3, 2),\n",
    "    }\n",
    "    \n",
    "    # Create interactive visualization\n",
    "    fig = go.Figure()\n",
    "    \n",
    "    # Define colors for different conceptual categories\n",
    "    colors = {\n",
    "        \"composer\": \"#E31A1C\",      # Red for composers\n",
    "        \"artist\": \"#FF7F00\",       # Orange for artists\n",
    "        \"library\": \"#1F78B4\",      # Blue for libraries\n",
    "        \"music_term\": \"#33A02C\"    # Green for music terms\n",
    "    }\n",
    "    \n",
    "    # Categorize our examples\n",
    "    categories = {\n",
    "        \"Schubert, Franz (composer)\": \"composer\",\n",
    "        \"Schubert, Franz August (artist)\": \"artist\", \n",
    "        \"Bach, Johann Sebastian\": \"composer\",\n",
    "        \"Biblioteca Nacional España\": \"library\",\n",
    "        \"Biblioteca Nacional Brasil\": \"library\",\n",
    "        \"Música barroca alemana\": \"music_term\",\n",
    "        \"Música período barroco\": \"music_term\"\n",
    "    }\n",
    "    \n",
    "    # Add points to the plot\n",
    "    for text, coord in embeddings_2d.items():\n",
    "        category = categories[text]\n",
    "        fig.add_trace(go.Scatter(\n",
    "            x=[coord[0]], \n",
    "            y=[coord[1]],\n",
    "            mode='markers+text',\n",
    "            marker=dict(size=15, color=colors[category], line=dict(width=2, color='white')),\n",
    "            text=text,\n",
    "            textposition=\"top center\",\n",
    "            name=category.replace('_', ' ').title(),\n",
    "            showlegend=category not in [trace.name.lower().replace(' ', '_') for trace in fig.data]\n",
    "        ))\n",
    "    \n",
    "    # Customize the plot appearance\n",
    "    fig.update_layout(\n",
    "        title={\n",
    "            'text': \"📍 Vector Space: Semantic Similarity in 2D Projection\",\n",
    "            'x': 0.5,\n",
    "            'xanchor': 'center',\n",
    "            'font': {'size': 16}\n",
    "        },\n",
    "        xaxis_title=\"Semantic Dimension 1\",\n",
    "        yaxis_title=\"Semantic Dimension 2\", \n",
    "        width=800,\n",
    "        height=600,\n",
    "        showlegend=True,\n",
    "        legend=dict(x=0.02, y=0.98),\n",
    "        plot_bgcolor='rgba(240,240,240,0.5)'\n",
    "    )\n",
    "    \n",
    "    fig.show()\n",
    "    \n",
    "    print(\"🎯 Key Insights from Vector Space Visualization:\")\n",
    "    print(\"   • Similar concepts naturally cluster together\")\n",
    "    print(\"   • Different Franz Schuberts are close but distinguishable\")\n",
    "    print(\"   • Multilingual terms (Spanish/Portuguese) group by meaning, not language\")\n",
    "    print(\"   • Real embeddings use 1536 dimensions for much richer representations\")\n",
    "    print(\"   • Distance in this space corresponds to semantic difference\")\n",
    "\n",
    "# Create and display our vector space demonstration\n",
    "create_vector_space_demo()"
   ]
  },
  {
   "cell_type": "markdown",
   "metadata": {
    "id": "openai_setup_section"
   },
   "source": [
    "## 4. OpenAI Embeddings Setup\n",
    "\n",
    "### Working with Production-Grade Embeddings\n",
    "\n",
    "OpenAI's `text-embedding-3-small` model creates 1536-dimensional vectors that capture sophisticated semantic relationships. This model represents the current state-of-the-art for general-purpose text understanding.\n",
    "\n",
    "**Cost Analysis for Yale's Use Case:**\n",
    "- Model: text-embedding-3-small at $0.02 per 1M tokens\n",
    "- Yale's 17.6M catalog records ≈ $35 total embedding cost\n",
    "- Highly cost-effective for institutional-scale applications\n",
    "\n",
    "**Technical Specifications:**\n",
    "- 1536 dimensions per embedding\n",
    "- Context length up to 8,191 tokens\n",
    "- Optimized for similarity search and retrieval tasks"
   ]
  },
  {
   "cell_type": "code",
   "execution_count": 5,
   "metadata": {
    "execution": {
     "iopub.execute_input": "2025-07-01T00:00:30.177829Z",
     "iopub.status.busy": "2025-07-01T00:00:30.176843Z",
     "iopub.status.idle": "2025-07-01T00:00:30.237719Z",
     "shell.execute_reply": "2025-07-01T00:00:30.237317Z",
     "shell.execute_reply.started": "2025-07-01T00:00:30.177780Z"
    },
    "id": "openai_setup"
   },
   "outputs": [
    {
     "name": "stdout",
     "output_type": "stream",
     "text": [
      "✅ Retrieved OpenAI API key from environment\n",
      "✅ OpenAI client initialized successfully\n",
      "🎯 Ready to generate semantic embeddings!\n"
     ]
    }
   ],
   "source": [
    "# Set up OpenAI client for embedding generation\n",
    "# In Google Colab, you can set your API key in the Secrets panel (🔑 icon on the left)\n",
    "# Key name: OPENAI_API_KEY\n",
    "\n",
    "try:\n",
    "    from google.colab import userdata\n",
    "    OPENAI_API_KEY = userdata.get('OPENAI_API_KEY')\n",
    "    print(\"✅ Retrieved OpenAI API key from Colab secrets\")\n",
    "except:\n",
    "    # Fallback for non-Colab environments\n",
    "    OPENAI_API_KEY = os.environ.get('OPENAI_API_KEY', 'your-api-key-here')\n",
    "    if OPENAI_API_KEY == 'your-api-key-here':\n",
    "        print(\"⚠️  Please set your OpenAI API key\")\n",
    "        print(\"   In Colab: Use the 🔑 Secrets panel to add OPENAI_API_KEY\")\n",
    "    else:\n",
    "        print(\"✅ Retrieved OpenAI API key from environment\")\n",
    "\n",
    "# Initialize OpenAI client\n",
    "try:\n",
    "    openai_client = OpenAI(api_key=OPENAI_API_KEY)\n",
    "    print(\"✅ OpenAI client initialized successfully\")\n",
    "    print(\"🎯 Ready to generate semantic embeddings!\")\n",
    "except Exception as e:\n",
    "    print(f\"⚠️  OpenAI client setup issue: {e}\")\n",
    "    print(\"💡 We'll use mock embeddings for demonstration\")\n",
    "    openai_client = None"
   ]
  },
  {
   "cell_type": "code",
   "execution_count": 6,
   "metadata": {
    "execution": {
     "iopub.execute_input": "2025-07-01T00:00:33.389967Z",
     "iopub.status.busy": "2025-07-01T00:00:33.389654Z",
     "iopub.status.idle": "2025-07-01T00:00:34.148653Z",
     "shell.execute_reply": "2025-07-01T00:00:34.147880Z",
     "shell.execute_reply.started": "2025-07-01T00:00:33.389945Z"
    },
    "id": "embedding_functions"
   },
   "outputs": [
    {
     "name": "stdout",
     "output_type": "stream",
     "text": [
      "\n",
      "📊 Embedding Statistics:\n",
      "   Dimensions: 1536\n",
      "   Data type: float32\n",
      "   Range: -0.095 to 0.082\n",
      "   Mean: 0.000\n",
      "   Standard deviation: 0.026\n"
     ]
    }
   ],
   "source": [
    "def get_embedding(text, model=\"text-embedding-3-small\"):\n",
    "    \"\"\"\n",
    "    Generate a semantic embedding for a single text.\n",
    "    \n",
    "    Args:\n",
    "        text: The text to embed\n",
    "        model: OpenAI embedding model to use\n",
    "    \n",
    "    Returns:\n",
    "        numpy array: 1536-dimensional embedding vector\n",
    "    \"\"\"\n",
    "    if openai_client:\n",
    "        try:\n",
    "            response = openai_client.embeddings.create(\n",
    "                model=model,\n",
    "                input=text\n",
    "            )\n",
    "            return np.array(response.data[0].embedding, dtype=np.float32)\n",
    "        except Exception as e:\n",
    "            print(f\"API call failed: {e}. Using mock embedding.\")\n",
    "    \n",
    "    # Generate consistent mock embedding for demo purposes\n",
    "    # In practice, you would always use real OpenAI embeddings\n",
    "    np.random.seed(hash(text) % (2**32))  # Consistent seed based on text\n",
    "    return np.random.normal(0, 1, 1536).astype(np.float32)\n",
    "\n",
    "def get_embeddings_batch(texts, model=\"text-embedding-3-small\"):\n",
    "    \"\"\"\n",
    "    Generate embeddings for multiple texts efficiently.\n",
    "    Batch processing reduces API calls and improves performance.\n",
    "    \n",
    "    Args:\n",
    "        texts: List of texts to embed\n",
    "        model: OpenAI embedding model to use\n",
    "    \n",
    "    Returns:\n",
    "        list: List of embedding vectors\n",
    "    \"\"\"\n",
    "    if openai_client:\n",
    "        try:\n",
    "            response = openai_client.embeddings.create(\n",
    "                model=model,\n",
    "                input=texts\n",
    "            )\n",
    "            embeddings = [np.array(data.embedding, dtype=np.float32) for data in response.data]\n",
    "            print(f\"✅ Generated {len(embeddings)} real embeddings\")\n",
    "            return embeddings\n",
    "        except Exception as e:\n",
    "            print(f\"Batch API call failed: {e}. Using mock embeddings.\")\n",
    "    \n",
    "    # Generate consistent mock embeddings for demo\n",
    "    print(f\"🎭 Generated {len(texts)} mock embeddings for demonstration\")\n",
    "    embeddings = []\n",
    "    for text in texts:\n",
    "        np.random.seed(hash(text) % (2**32))\n",
    "        embeddings.append(np.random.normal(0, 1, 1536).astype(np.float32))\n",
    "    return embeddings\n",
    "\n",
    "# Test our embedding functions\n",
    "test_text = \"Franz Schubert Austrian composer classical music\"\n",
    "test_embedding = get_embedding(test_text)\n",
    "print(f\"\\n📊 Embedding Statistics:\")\n",
    "print(f\"   Dimensions: {len(test_embedding)}\")\n",
    "print(f\"   Data type: {test_embedding.dtype}\")\n",
    "print(f\"   Range: {test_embedding.min():.3f} to {test_embedding.max():.3f}\")\n",
    "print(f\"   Mean: {test_embedding.mean():.3f}\")\n",
    "print(f\"   Standard deviation: {test_embedding.std():.3f}\")"
   ]
  },
  {
   "cell_type": "markdown",
   "metadata": {
    "id": "library_data_section"
   },
   "source": [
    "## 5. Sample Library Data Preparation\n",
    "\n",
    "### Real-World Entity Resolution Challenge\n",
    "\n",
    "We'll work with actual Yale Library catalog data formatted according to their entity resolution pipeline. This demonstrates the genuine challenge of distinguishing between different people with similar names.\n",
    "\n",
    "**The Franz Schubert Problem:**\n",
    "- **Franz Schubert** (1797-1828): Austrian composer famous for \"Winterreise\" and symphonies\n",
    "- **Franz August Schubert** (1805-1893): German artist and archaeologist who worked on photography\n",
    "\n",
    "Both appear in library catalogs, both lived in German-speaking regions during overlapping time periods, and both have similar names. How do we teach AI systems to distinguish them correctly?"
   ]
  },
  {
   "cell_type": "code",
   "execution_count": 7,
   "metadata": {
    "execution": {
     "iopub.execute_input": "2025-07-01T00:00:42.740791Z",
     "iopub.status.busy": "2025-07-01T00:00:42.740164Z",
     "iopub.status.idle": "2025-07-01T00:00:42.776742Z",
     "shell.execute_reply": "2025-07-01T00:00:42.768832Z",
     "shell.execute_reply.started": "2025-07-01T00:00:42.740765Z"
    },
    "id": "library_data_prep"
   },
   "outputs": [
    {
     "name": "stdout",
     "output_type": "stream",
     "text": [
      "📚 Sample Library Catalog Data (Yale Format):\n",
      "=================================================================\n",
      "\n",
      "🏷️  Record 1: Schubert, Franz August, 1805-1893\n",
      "   Title: Archäologie und Photographie: fünfzig Beispiele zu...\n",
      "   Domain: Documentary and Technical Arts\n",
      "   PersonID: 53144#Agent700-22\n",
      "   📸 → German artist/archaeologist (different person!)\n",
      "\n",
      "🏷️  Record 2: Schubert, Franz, 1797-1828\n",
      "   Title: Winterreise, D. 911: für eine Singstimme und Klavi...\n",
      "   Domain: Music and Sound Arts\n",
      "   PersonID: 12856#Agent700-1\n",
      "   🎼 → Austrian composer (the famous Schubert)\n",
      "\n",
      "🏷️  Record 3: García-Morales, Elena\n",
      "   Title: Biblioteca Nacional de España: guía del investigad...\n",
      "   Domain: Information Management and Research\n",
      "   PersonID: 67890#Agent700-15\n",
      "\n",
      "🏷️  Record 4: Silva, Roberto Mendes da\n",
      "   Title: Acervo da Biblioteca Nacional do Brasil...\n",
      "   Domain: Information Management and Research\n",
      "   PersonID: 78901#Agent700-23\n",
      "\n",
      "🏷️  Record 5: Martínez, Carmen\n",
      "   Title: Música barroca alemana: Bach y sus contemporáneos...\n",
      "   Domain: Music and Sound Arts\n",
      "   PersonID: 89012#Agent700-31\n",
      "\n",
      "🎯 The Central Challenge:\n",
      "   How do we distinguish between two Franz Schuberts?\n",
      "   • Austrian composer (1797-1828) vs German artist (1805-1893)\n",
      "   • Similar names, different domains, overlapping time periods\n",
      "   • This problem appears throughout library catalogs worldwide\n",
      "\n",
      "📊 Data Summary:\n",
      "                           person                   setfit_prediction          personId\n",
      "Schubert, Franz August, 1805-1893      Documentary and Technical Arts 53144#Agent700-22\n",
      "       Schubert, Franz, 1797-1828                Music and Sound Arts  12856#Agent700-1\n",
      "            García-Morales, Elena Information Management and Research 67890#Agent700-15\n",
      "         Silva, Roberto Mendes da Information Management and Research 78901#Agent700-23\n",
      "                 Martínez, Carmen                Music and Sound Arts 89012#Agent700-31\n"
     ]
    }
   ],
   "source": [
    "# Create sample data matching Yale's entity resolution dataset format\n",
    "# This represents the structure of real library catalog records\n",
    "library_data = {\n",
    "    'identity': [\n",
    "        '9.1', '9.2', '10.1', '11.1', '12.1'\n",
    "    ],\n",
    "    'composite': [\n",
    "        # Franz August Schubert - German artist/archaeologist (the \"other\" Schubert)\n",
    "        \"\"\"Title: Archäologie und Photographie: fünfzig Beispiele zur Geschichte und Methode\n",
    "Subjects: Photography in archaeology\n",
    "Provision information: Mainz: P. von Zabern, 1978\"\"\",\n",
    "        \n",
    "        # Franz Schubert - Austrian composer (the famous one)\n",
    "        \"\"\"Title: Winterreise, D. 911: für eine Singstimme und Klavier\n",
    "Subjects: Songs (High voice) with piano; Song cycles\n",
    "Provision information: Vienna: Universal Edition, 1895\"\"\",\n",
    "        \n",
    "        # Spanish library example\n",
    "        \"\"\"Title: Biblioteca Nacional de España: guía del investigador\n",
    "Subjects: Libraries--Spain; Research libraries\n",
    "Provision information: Madrid: Biblioteca Nacional, 2019\"\"\",\n",
    "        \n",
    "        # Brazilian library example\n",
    "        \"\"\"Title: Acervo da Biblioteca Nacional do Brasil\n",
    "Subjects: Libraries--Brazil; National libraries  \n",
    "Provision information: Rio de Janeiro: Fundação Biblioteca Nacional, 2020\"\"\",\n",
    "        \n",
    "        # Spanish music scholarship\n",
    "        \"\"\"Title: Música barroca alemana: Bach y sus contemporáneos\n",
    "Subjects: Baroque music--Germany; Music--18th century\n",
    "Provision information: Barcelona: Editorial Crítica, 2018\"\"\"\n",
    "    ],\n",
    "    'person': [\n",
    "        'Schubert, Franz August, 1805-1893',  # German artist/archaeologist\n",
    "        'Schubert, Franz, 1797-1828',        # Austrian composer  \n",
    "        'García-Morales, Elena',\n",
    "        'Silva, Roberto Mendes da',\n",
    "        'Martínez, Carmen'\n",
    "    ],\n",
    "    'roles': [\n",
    "        'Contributor', 'Composer', 'Author', 'Author', 'Author'\n",
    "    ],\n",
    "    'title': [\n",
    "        'Archäologie und Photographie: fünfzig Beispiele zur Geschichte und Methode',\n",
    "        'Winterreise, D. 911: für eine Singstimme und Klavier',\n",
    "        'Biblioteca Nacional de España: guía del investigador', \n",
    "        'Acervo da Biblioteca Nacional do Brasil',\n",
    "        'Música barroca alemana: Bach y sus contemporáneos'\n",
    "    ],\n",
    "    'personId': [\n",
    "        '53144#Agent700-22',   # Franz August Schubert (artist)\n",
    "        '12856#Agent700-1',    # Franz Schubert (composer)\n",
    "        '67890#Agent700-15',   # Elena García-Morales\n",
    "        '78901#Agent700-23',   # Roberto Silva\n",
    "        '89012#Agent700-31'    # Carmen Martínez\n",
    "    ],\n",
    "    'setfit_prediction': [\n",
    "        'Documentary and Technical Arts',        # Archaeology/photography\n",
    "        'Music and Sound Arts',                 # Classical music\n",
    "        'Information Management and Research',   # Library science\n",
    "        'Information Management and Research',   # Library science\n",
    "        'Music and Sound Arts'                  # Music scholarship\n",
    "    ]\n",
    "}\n",
    "\n",
    "# Create DataFrame for easy manipulation\n",
    "library_df = pd.DataFrame(library_data)\n",
    "\n",
    "print(\"📚 Sample Library Catalog Data (Yale Format):\")\n",
    "print(\"=\" * 65)\n",
    "for idx, row in library_df.iterrows():\n",
    "    print(f\"\\n🏷️  Record {idx + 1}: {row['person']}\")\n",
    "    print(f\"   Title: {row['title'][:50]}...\")\n",
    "    print(f\"   Domain: {row['setfit_prediction']}\")\n",
    "    print(f\"   PersonID: {row['personId']}\")\n",
    "    \n",
    "    # Highlight the Schubert challenge\n",
    "    if 'Schubert' in row['person']:\n",
    "        if '1797-1828' in row['person']:\n",
    "            print(f\"   🎼 → Austrian composer (the famous Schubert)\")\n",
    "        elif '1805-1893' in row['person']:\n",
    "            print(f\"   📸 → German artist/archaeologist (different person!)\")\n",
    "\n",
    "print(f\"\\n🎯 The Central Challenge:\")\n",
    "print(f\"   How do we distinguish between two Franz Schuberts?\")\n",
    "print(f\"   • Austrian composer (1797-1828) vs German artist (1805-1893)\")\n",
    "print(f\"   • Similar names, different domains, overlapping time periods\")\n",
    "print(f\"   • This problem appears throughout library catalogs worldwide\")\n",
    "\n",
    "# Display the DataFrame for a cleaner view\n",
    "print(f\"\\n📊 Data Summary:\")\n",
    "print(library_df[['person', 'setfit_prediction', 'personId']].to_string(index=False))"
   ]
  },
  {
   "cell_type": "markdown",
   "metadata": {
    "id": "weaviate_setup_section"
   },
   "source": [
    "## 6. Weaviate Vector Database Setup\n",
    "\n",
    "### Modern Vector Database Operations\n",
    "\n",
    "Weaviate v4 introduces a cleaner, more intuitive API for vector operations. We'll create a schema specifically designed for library catalog embeddings with rich metadata for entity resolution.\n",
    "\n",
    "**Key Weaviate Concepts:**\n",
    "- **Collections**: Structured containers for related objects (like database tables)\n",
    "- **Properties**: Metadata fields that can be filtered and searched\n",
    "- **Vectors**: High-dimensional embeddings that enable similarity search\n",
    "- **HNSW Index**: Hierarchical Navigable Small World algorithm for fast approximate nearest neighbor search\n",
    "\n",
    "**Note:** For this workshop, we'll simulate Weaviate operations. In a production environment, you would run Weaviate using Docker or a cloud service."
   ]
  },
  {
   "cell_type": "code",
   "execution_count": 8,
   "metadata": {
    "execution": {
     "iopub.execute_input": "2025-07-01T00:01:02.243032Z",
     "iopub.status.busy": "2025-07-01T00:01:02.242438Z",
     "iopub.status.idle": "2025-07-01T00:01:02.255259Z",
     "shell.execute_reply": "2025-07-01T00:01:02.254721Z",
     "shell.execute_reply.started": "2025-07-01T00:01:02.242992Z"
    },
    "id": "weaviate_simulation"
   },
   "outputs": [
    {
     "name": "stdout",
     "output_type": "stream",
     "text": [
      "🚀 Setting up Mock Weaviate Vector Database\n",
      "   (In production: docker run -p 8080:8080 weaviate/weaviate:1.25.0)\n",
      "\n",
      "✅ Created LibraryCatalog collection with schema:\n",
      "   • person_name (TEXT) - Full name with dates\n",
      "   • composite_text (TEXT) - Full catalog entry text\n",
      "   • title (TEXT) - Work title\n",
      "   • person_id (TEXT) - Unique identifier\n",
      "   • domain_classification (TEXT) - Subject domain\n",
      "   • birth_year (INT) - Birth year\n",
      "   • death_year (INT) - Death year\n",
      "   • roles (TEXT) - Person's role\n",
      "\n",
      "🔧 Vector Configuration:\n",
      "   • Embedding model: text-embedding-3-small (1536 dimensions)\n",
      "   • Index type: HNSW (Hierarchical Navigable Small World)\n",
      "   • Distance metric: Cosine similarity\n",
      "   • Optimized for: Fast semantic similarity search\n"
     ]
    }
   ],
   "source": [
    "# Simulated Weaviate operations for educational purposes\n",
    "# In production, you would connect to a real Weaviate instance\n",
    "\n",
    "class MockWeaviateCollection:\n",
    "    \"\"\"\n",
    "    Mock Weaviate collection that simulates vector database operations.\n",
    "    This helps us understand the concepts without requiring a full Weaviate setup.\n",
    "    \"\"\"\n",
    "    \n",
    "    def __init__(self, name):\n",
    "        self.name = name\n",
    "        self.objects = []  # Store our indexed objects\n",
    "        self.embeddings = {}  # Store embeddings by UUID\n",
    "        \n",
    "    def insert(self, properties, uuid, vector=None):\n",
    "        \"\"\"Insert an object with its properties and embedding\"\"\"\n",
    "        obj = {\n",
    "            'uuid': uuid,\n",
    "            'properties': properties,\n",
    "            'vector': vector\n",
    "        }\n",
    "        self.objects.append(obj)\n",
    "        if vector is not None:\n",
    "            self.embeddings[uuid] = vector\n",
    "        return uuid\n",
    "    \n",
    "    def search_similar(self, query_vector, limit=5, filters=None):\n",
    "        \"\"\"Find objects with similar vectors using cosine similarity\"\"\"\n",
    "        if not self.embeddings:\n",
    "            return []\n",
    "        \n",
    "        # Calculate similarities\n",
    "        similarities = []\n",
    "        for obj in self.objects:\n",
    "            if obj['uuid'] in self.embeddings:\n",
    "                stored_vector = self.embeddings[obj['uuid']]\n",
    "                # Cosine similarity calculation\n",
    "                similarity = np.dot(query_vector, stored_vector) / (\n",
    "                    np.linalg.norm(query_vector) * np.linalg.norm(stored_vector)\n",
    "                )\n",
    "                \n",
    "                # Apply filters if specified\n",
    "                if filters is None or self._matches_filter(obj['properties'], filters):\n",
    "                    similarities.append((similarity, obj))\n",
    "        \n",
    "        # Sort by similarity and return top results\n",
    "        similarities.sort(key=lambda x: x[0], reverse=True)\n",
    "        return [(sim, obj) for sim, obj in similarities[:limit]]\n",
    "    \n",
    "    def _matches_filter(self, properties, filters):\n",
    "        \"\"\"Simple filter matching for demonstration\"\"\"\n",
    "        for key, value in filters.items():\n",
    "            if properties.get(key) != value:\n",
    "                return False\n",
    "        return True\n",
    "    \n",
    "    def count(self):\n",
    "        \"\"\"Return total number of objects\"\"\"\n",
    "        return len(self.objects)\n",
    "\n",
    "def setup_mock_weaviate():\n",
    "    \"\"\"\n",
    "    Set up our mock Weaviate collection with the schema for library catalog data.\n",
    "    This simulates what would happen with a real Weaviate instance.\n",
    "    \"\"\"\n",
    "    \n",
    "    print(\"🚀 Setting up Mock Weaviate Vector Database\")\n",
    "    print(\"   (In production: docker run -p 8080:8080 weaviate/weaviate:1.25.0)\")\n",
    "    \n",
    "    # Create collection\n",
    "    collection = MockWeaviateCollection(\"LibraryCatalog\")\n",
    "    \n",
    "    print(\"\\n✅ Created LibraryCatalog collection with schema:\")\n",
    "    schema_properties = [\n",
    "        \"person_name (TEXT) - Full name with dates\",\n",
    "        \"composite_text (TEXT) - Full catalog entry text\", \n",
    "        \"title (TEXT) - Work title\",\n",
    "        \"person_id (TEXT) - Unique identifier\",\n",
    "        \"domain_classification (TEXT) - Subject domain\",\n",
    "        \"birth_year (INT) - Birth year\",\n",
    "        \"death_year (INT) - Death year\",\n",
    "        \"roles (TEXT) - Person's role\"\n",
    "    ]\n",
    "    \n",
    "    for prop in schema_properties:\n",
    "        print(f\"   • {prop}\")\n",
    "    \n",
    "    print(\"\\n🔧 Vector Configuration:\")\n",
    "    print(\"   • Embedding model: text-embedding-3-small (1536 dimensions)\")\n",
    "    print(\"   • Index type: HNSW (Hierarchical Navigable Small World)\")\n",
    "    print(\"   • Distance metric: Cosine similarity\")\n",
    "    print(\"   • Optimized for: Fast semantic similarity search\")\n",
    "    \n",
    "    return collection\n",
    "\n",
    "# Initialize our mock Weaviate\n",
    "catalog_collection = setup_mock_weaviate()"
   ]
  },
  {
   "cell_type": "markdown",
   "metadata": {
    "id": "indexing_section"
   },
   "source": [
    "## 7. Data Indexing with Embeddings\n",
    "\n",
    "### Creating a Searchable Knowledge Base\n",
    "\n",
    "Now we'll index our library catalog data with embeddings, creating a searchable knowledge base that understands semantic relationships. This process transforms text into vectors and stores them alongside metadata for powerful search capabilities.\n",
    "\n",
    "**The Indexing Process:**\n",
    "1. **Extract Metadata**: Parse birth/death years and other structured information\n",
    "2. **Generate Embeddings**: Convert text to 1536-dimensional vectors\n",
    "3. **Store Objects**: Index both embeddings and metadata for retrieval\n",
    "4. **Build Index**: Create HNSW graph structure for fast similarity search"
   ]
  },
  {
   "cell_type": "code",
   "execution_count": 9,
   "metadata": {
    "execution": {
     "iopub.execute_input": "2025-07-01T00:01:09.134454Z",
     "iopub.status.busy": "2025-07-01T00:01:09.133986Z",
     "iopub.status.idle": "2025-07-01T00:01:11.455949Z",
     "shell.execute_reply": "2025-07-01T00:01:11.455604Z",
     "shell.execute_reply.started": "2025-07-01T00:01:09.134424Z"
    },
    "id": "indexing_operations"
   },
   "outputs": [
    {
     "name": "stdout",
     "output_type": "stream",
     "text": [
      "📥 Indexing Library Catalog Data with Embeddings\n",
      "=======================================================\n",
      "🔄 Generating embeddings for 5 catalog entries...\n",
      "✅ Generated 5 real embeddings\n",
      "   ✓ Schubert, Franz August, 1805-1893   (1805-1893) → Documentary and Technical Arts\n",
      "   ✓ Schubert, Franz, 1797-1828          (1797-1828) → Music and Sound Arts\n",
      "   ✓ García-Morales, Elena               (dates unknown) → Information Management and Research\n",
      "   ✓ Silva, Roberto Mendes da            (dates unknown) → Information Management and Research\n",
      "   ✓ Martínez, Carmen                    (dates unknown) → Music and Sound Arts\n",
      "\n",
      "✅ Successfully indexed 5 records\n",
      "📊 Collection now contains: 5 objects\n",
      "\n",
      "🎯 Capabilities Enabled:\n",
      "   • Semantic similarity search across all catalog entries\n",
      "   • Multi-field filtering (domain, years, roles)\n",
      "   • Entity resolution using combined text + metadata signals\n",
      "   • Cross-lingual concept matching\n"
     ]
    }
   ],
   "source": [
    "import re\n",
    "\n",
    "def extract_birth_death_years(person_name):\n",
    "    \"\"\"\n",
    "    Extract birth and death years from person name string.\n",
    "    \n",
    "    Examples:\n",
    "    'Schubert, Franz, 1797-1828' → (1797, 1828)\n",
    "    'García-Morales, Elena' → (None, None)\n",
    "    \"\"\"\n",
    "    # Pattern for dates like \"1797-1828\" or \"1805-1893\"\n",
    "    date_pattern = r'(\\d{4})-(\\d{4})'\n",
    "    match = re.search(date_pattern, person_name)\n",
    "    \n",
    "    if match:\n",
    "        return int(match.group(1)), int(match.group(2))\n",
    "    \n",
    "    # Pattern for single year like \"1805-\"\n",
    "    single_pattern = r'(\\d{4})-'\n",
    "    match = re.search(single_pattern, person_name)\n",
    "    \n",
    "    if match:\n",
    "        return int(match.group(1)), None\n",
    "        \n",
    "    return None, None\n",
    "\n",
    "def index_library_data(collection, library_df):\n",
    "    \"\"\"\n",
    "    Index library catalog data with embeddings for semantic search.\n",
    "    This creates the foundation for AI-powered entity resolution.\n",
    "    \"\"\"\n",
    "    \n",
    "    print(\"📥 Indexing Library Catalog Data with Embeddings\")\n",
    "    print(\"=\" * 55)\n",
    "    \n",
    "    # Generate embeddings for all composite texts in batch (more efficient)\n",
    "    composite_texts = library_df['composite'].tolist()\n",
    "    print(f\"🔄 Generating embeddings for {len(composite_texts)} catalog entries...\")\n",
    "    \n",
    "    embeddings = get_embeddings_batch(composite_texts)\n",
    "    \n",
    "    indexed_count = 0\n",
    "    \n",
    "    # Process each record\n",
    "    for idx, row in library_df.iterrows():\n",
    "        try:\n",
    "            # Extract temporal information from person name\n",
    "            birth_year, death_year = extract_birth_death_years(row['person'])\n",
    "            \n",
    "            # Prepare data object with rich metadata\n",
    "            data_object = {\n",
    "                \"person_name\": row['person'],\n",
    "                \"composite_text\": row['composite'],\n",
    "                \"title\": row['title'], \n",
    "                \"person_id\": row['personId'],\n",
    "                \"domain_classification\": row['setfit_prediction'],\n",
    "                \"birth_year\": birth_year,\n",
    "                \"death_year\": death_year,\n",
    "                \"roles\": row['roles']\n",
    "            }\n",
    "            \n",
    "            # Generate consistent UUID from person_id for idempotent indexing\n",
    "            uuid = f\"person_{row['personId'].replace('#', '_')}\"\n",
    "            \n",
    "            # Insert object with embedding\n",
    "            collection.insert(\n",
    "                properties=data_object,\n",
    "                uuid=uuid,\n",
    "                vector=embeddings[idx]\n",
    "            )\n",
    "            \n",
    "            indexed_count += 1\n",
    "            \n",
    "            # Show progress with key information\n",
    "            years_str = f\"({birth_year}-{death_year})\" if birth_year else \"(dates unknown)\"\n",
    "            print(f\"   ✓ {row['person'][:35]:<35} {years_str} → {row['setfit_prediction']}\")\n",
    "            \n",
    "        except Exception as e:\n",
    "            print(f\"   ❌ Failed to index {row['person']}: {e}\")\n",
    "    \n",
    "    print(f\"\\n✅ Successfully indexed {indexed_count} records\")\n",
    "    print(f\"📊 Collection now contains: {collection.count()} objects\")\n",
    "    \n",
    "    # Show what we can now do with this indexed data\n",
    "    print(f\"\\n🎯 Capabilities Enabled:\")\n",
    "    print(f\"   • Semantic similarity search across all catalog entries\")\n",
    "    print(f\"   • Multi-field filtering (domain, years, roles)\")\n",
    "    print(f\"   • Entity resolution using combined text + metadata signals\")\n",
    "    print(f\"   • Cross-lingual concept matching\")\n",
    "    \n",
    "    return indexed_count\n",
    "\n",
    "# Index our sample data\n",
    "indexed_records = index_library_data(catalog_collection, library_df)"
   ]
  },
  {
   "cell_type": "markdown",
   "metadata": {
    "id": "similarity_search_section"
   },
   "source": [
    "## 8. Semantic Similarity Search\n",
    "\n",
    "### Finding Related Entities Through Vector Similarity\n",
    "\n",
    "Now we can search for entities similar to any query using semantic understanding rather than just keyword matching. This demonstrates the power of embeddings for discovery and entity resolution.\n",
    "\n",
    "**Search Capabilities:**\n",
    "- **Semantic Search**: Find conceptually related content regardless of exact word matches\n",
    "- **Filtered Search**: Combine vector similarity with metadata constraints\n",
    "- **Cross-lingual Matching**: Discover related concepts across different languages\n",
    "- **Entity Disambiguation**: Use multiple signals to distinguish between similar entities"
   ]
  },
  {
   "cell_type": "code",
   "execution_count": 10,
   "metadata": {
    "execution": {
     "iopub.execute_input": "2025-07-01T00:01:21.174589Z",
     "iopub.status.busy": "2025-07-01T00:01:21.174136Z",
     "iopub.status.idle": "2025-07-01T00:01:22.615877Z",
     "shell.execute_reply": "2025-07-01T00:01:22.615104Z",
     "shell.execute_reply.started": "2025-07-01T00:01:21.174561Z"
    },
    "id": "similarity_search_demo"
   },
   "outputs": [
    {
     "name": "stdout",
     "output_type": "stream",
     "text": [
      "🎼 Example 1: Search for composer-related content\n",
      "==================================================\n",
      "🔍 Searching for entities similar to: 'Austrian composer classical music piano works'\n",
      "────────────────────────────────────────────────────────────\n",
      "📋 Found 3 similar entities:\n",
      "============================================================\n",
      "\n",
      "1. Schubert, Franz, 1797-1828\n",
      "   Title: Winterreise, D. 911: für eine Singstimme und Klavi...\n",
      "   Domain: Music and Sound Arts\n",
      "   Years: 1797-1828\n",
      "   Similarity: 0.475\n",
      "   Content: Title: Winterreise, D. 911: für eine Singstimme und Klavier Subjects: Songs (Hig...\n",
      "\n",
      "2. Martínez, Carmen\n",
      "   Title: Música barroca alemana: Bach y sus contemporáneos...\n",
      "   Domain: Music and Sound Arts\n",
      "   Years: None-None\n",
      "   Similarity: 0.352\n",
      "   Content: Title: Música barroca alemana: Bach y sus contemporáneos Subjects: Baroque music...\n",
      "\n",
      "3. Schubert, Franz August, 1805-1893\n",
      "   Title: Archäologie und Photographie: fünfzig Beispiele zu...\n",
      "   Domain: Documentary and Technical Arts\n",
      "   Years: 1805-1893\n",
      "   Similarity: 0.103\n",
      "   Content: Title: Archäologie und Photographie: fünfzig Beispiele zur Geschichte und Method...\n",
      "\n",
      "================================================================================\n",
      "🏛️ Example 2: Search for library/archival content\n",
      "==================================================\n",
      "🔍 Searching for entities similar to: 'national library research collections Spain Brazil'\n",
      "────────────────────────────────────────────────────────────\n",
      "📋 Found 3 similar entities:\n",
      "============================================================\n",
      "\n",
      "1. García-Morales, Elena\n",
      "   Title: Biblioteca Nacional de España: guía del investigad...\n",
      "   Domain: Information Management and Research\n",
      "   Years: None-None\n",
      "   Similarity: 0.640\n",
      "   Content: Title: Biblioteca Nacional de España: guía del investigador Subjects: Libraries-...\n",
      "\n",
      "2. Silva, Roberto Mendes da\n",
      "   Title: Acervo da Biblioteca Nacional do Brasil...\n",
      "   Domain: Information Management and Research\n",
      "   Years: None-None\n",
      "   Similarity: 0.614\n",
      "   Content: Title: Acervo da Biblioteca Nacional do Brasil Subjects: Libraries--Brazil; Nati...\n",
      "\n",
      "3. Martínez, Carmen\n",
      "   Title: Música barroca alemana: Bach y sus contemporáneos...\n",
      "   Domain: Music and Sound Arts\n",
      "   Years: None-None\n",
      "   Similarity: 0.321\n",
      "   Content: Title: Música barroca alemana: Bach y sus contemporáneos Subjects: Baroque music...\n",
      "\n",
      "================================================================================\n",
      "🎯 Example 3: Filtered search - Music domain only\n",
      "==================================================\n",
      "🎯 Filtered search for: 'classical compositions baroque'\n",
      "   Filters: domain=Music and Sound Arts\n",
      "\n",
      "📋 Filtered results (2 found):\n",
      "============================================================\n",
      "\n",
      "1. Martínez, Carmen\n",
      "   Domain: Music and Sound Arts\n",
      "   Years: None-None\n",
      "   Similarity: 0.480\n",
      "\n",
      "2. Schubert, Franz, 1797-1828\n",
      "   Domain: Music and Sound Arts\n",
      "   Years: 1797-1828\n",
      "   Similarity: 0.363\n"
     ]
    }
   ],
   "source": [
    "def search_similar_entities(collection, query_text, limit=5):\n",
    "    \"\"\"\n",
    "    Search for entities semantically similar to the query text.\n",
    "    This demonstrates how embeddings enable discovery beyond keyword matching.\n",
    "    \"\"\"\n",
    "    \n",
    "    print(f\"🔍 Searching for entities similar to: '{query_text}'\")\n",
    "    print(\"─\" * 60)\n",
    "    \n",
    "    # Generate embedding for the query\n",
    "    query_embedding = get_embedding(query_text)\n",
    "    \n",
    "    # Search for similar vectors\n",
    "    results = collection.search_similar(query_embedding, limit=limit)\n",
    "    \n",
    "    if not results:\n",
    "        print(\"   No similar entities found.\")\n",
    "        return []\n",
    "    \n",
    "    print(f\"📋 Found {len(results)} similar entities:\")\n",
    "    print(\"=\" * 60)\n",
    "    \n",
    "    search_results = []\n",
    "    for i, (similarity, obj) in enumerate(results, 1):\n",
    "        props = obj['properties']\n",
    "        \n",
    "        print(f\"\\n{i}. {props['person_name']}\")\n",
    "        print(f\"   Title: {props['title'][:50]}...\")\n",
    "        print(f\"   Domain: {props['domain_classification']}\")\n",
    "        print(f\"   Years: {props.get('birth_year', 'N/A')}-{props.get('death_year', 'N/A')}\")\n",
    "        print(f\"   Similarity: {similarity:.3f}\")\n",
    "        \n",
    "        # Extract a meaningful snippet from the composite text\n",
    "        composite_snippet = props['composite_text'][:80].replace('\\n', ' ') + \"...\"\n",
    "        print(f\"   Content: {composite_snippet}\")\n",
    "        \n",
    "        search_results.append({\n",
    "            'person_name': props['person_name'],\n",
    "            'title': props['title'],\n",
    "            'domain': props['domain_classification'],\n",
    "            'birth_year': props.get('birth_year'),\n",
    "            'death_year': props.get('death_year'),\n",
    "            'similarity': similarity\n",
    "        })\n",
    "    \n",
    "    return search_results\n",
    "\n",
    "def search_with_filters(collection, query_text, domain_filter=None, year_range=None):\n",
    "    \"\"\"\n",
    "    Search with additional metadata filters for more precise results.\n",
    "    This shows how to combine semantic similarity with structured constraints.\n",
    "    \"\"\"\n",
    "    \n",
    "    print(f\"🎯 Filtered search for: '{query_text}'\")\n",
    "    \n",
    "    # Build filter dictionary\n",
    "    filters = {}\n",
    "    filter_desc = []\n",
    "    \n",
    "    if domain_filter:\n",
    "        filters['domain_classification'] = domain_filter\n",
    "        filter_desc.append(f\"domain={domain_filter}\")\n",
    "    \n",
    "    if filter_desc:\n",
    "        print(f\"   Filters: {', '.join(filter_desc)}\")\n",
    "    \n",
    "    # Generate query embedding\n",
    "    query_embedding = get_embedding(query_text)\n",
    "    \n",
    "    # Search with filters\n",
    "    results = collection.search_similar(query_embedding, limit=5, filters=filters if filters else None)\n",
    "    \n",
    "    print(f\"\\n📋 Filtered results ({len(results)} found):\")\n",
    "    print(\"=\" * 60)\n",
    "    \n",
    "    if not results:\n",
    "        print(\"   No entities match the filter criteria.\")\n",
    "        return []\n",
    "    \n",
    "    for i, (similarity, obj) in enumerate(results, 1):\n",
    "        props = obj['properties']\n",
    "        print(f\"\\n{i}. {props['person_name']}\")\n",
    "        print(f\"   Domain: {props['domain_classification']}\")\n",
    "        print(f\"   Years: {props.get('birth_year', 'N/A')}-{props.get('death_year', 'N/A')}\")\n",
    "        print(f\"   Similarity: {similarity:.3f}\")\n",
    "    \n",
    "    return results\n",
    "\n",
    "# Example searches to demonstrate different capabilities\n",
    "print(\"🎼 Example 1: Search for composer-related content\")\n",
    "print(\"=\" * 50)\n",
    "composer_results = search_similar_entities(\n",
    "    catalog_collection, \n",
    "    \"Austrian composer classical music piano works\", \n",
    "    limit=3\n",
    ")\n",
    "\n",
    "print(\"\\n\" + \"=\" * 80)\n",
    "print(\"🏛️ Example 2: Search for library/archival content\")\n",
    "print(\"=\" * 50)\n",
    "library_results = search_similar_entities(\n",
    "    catalog_collection,\n",
    "    \"national library research collections Spain Brazil\",\n",
    "    limit=3\n",
    ")\n",
    "\n",
    "print(\"\\n\" + \"=\" * 80)\n",
    "print(\"🎯 Example 3: Filtered search - Music domain only\")\n",
    "print(\"=\" * 50)\n",
    "music_filtered = search_with_filters(\n",
    "    catalog_collection,\n",
    "    \"classical compositions baroque\",\n",
    "    domain_filter=\"Music and Sound Arts\"\n",
    ")"
   ]
  },
  {
   "cell_type": "markdown",
   "metadata": {
    "id": "entity_resolution_section"
   },
   "source": [
    "## 9. Entity Resolution Demonstration\n",
    "\n",
    "### Solving the Franz Schubert Problem\n",
    "\n",
    "This demonstrates the core challenge of entity resolution: distinguishing between different people with similar names. We'll show how combining embeddings with metadata enables accurate disambiguation.\n",
    "\n",
    "**Entity Resolution Signals:**\n",
    "1. **Textual Similarity**: How similar are the associated texts?\n",
    "2. **Domain Classification**: What subject areas are they associated with?\n",
    "3. **Temporal Information**: Do the date ranges make sense?\n",
    "4. **Contextual Clues**: What other entities appear in related records?\n",
    "\n",
    "The key insight is that no single signal is sufficient - we need to combine multiple sources of evidence for reliable entity resolution."
   ]
  },
  {
   "cell_type": "code",
   "execution_count": 11,
   "metadata": {
    "execution": {
     "iopub.execute_input": "2025-07-01T00:01:41.943377Z",
     "iopub.status.busy": "2025-07-01T00:01:41.942769Z",
     "iopub.status.idle": "2025-07-01T00:01:42.438128Z",
     "shell.execute_reply": "2025-07-01T00:01:42.437513Z",
     "shell.execute_reply.started": "2025-07-01T00:01:41.943347Z"
    },
    "id": "entity_resolution_demo"
   },
   "outputs": [
    {
     "name": "stdout",
     "output_type": "stream",
     "text": [
      "🎭 ENTITY RESOLUTION CHALLENGE: Two Franz Schuberts\n",
      "============================================================\n",
      "🔍 Query: 'Franz Schubert musical composer piano'\n",
      "📊 Found 5 potentially related entities\n",
      "\n",
      "🎯 Franz Schubert Entity Analysis:\n",
      "──────────────────────────────────────────────────\n",
      "\n",
      "1. Schubert, Franz, 1797-1828\n",
      "   📅 Lifespan: 1797-1828\n",
      "   🏷️  Domain: Music and Sound Arts\n",
      "   👤 Role: Composer\n",
      "   📊 Query Similarity: 0.457\n",
      "   📚 Work: Winterreise, D. 911: für eine Singstimme und Klavier...\n",
      "   📝 Context: Title: Winterreise, D. 911: für eine Singstimme und Klavier\n",
      "Subjects: Songs (High voice) with piano; Song cycles\n",
      "Provision information: Vienna: Univer...\n",
      "\n",
      "   🧠 Resolution Analysis:\n",
      "   ✅ MATCH: Musical domain + composer role + classical works\n",
      "   → This is likely the famous Austrian composer (1797-1828)\n",
      "\n",
      "2. Schubert, Franz August, 1805-1893\n",
      "   📅 Lifespan: 1805-1893\n",
      "   🏷️  Domain: Documentary and Technical Arts\n",
      "   👤 Role: Contributor\n",
      "   📊 Query Similarity: 0.073\n",
      "   📚 Work: Archäologie und Photographie: fünfzig Beispiele zur Geschich...\n",
      "   📝 Context: Title: Archäologie und Photographie: fünfzig Beispiele zur Geschichte und Methode\n",
      "Subjects: Photography in archaeology\n",
      "Provision information: Mainz: P...\n",
      "\n",
      "   🧠 Resolution Analysis:\n",
      "   ⚠️  DIFFERENT PERSON: Technical domain + archaeological context\n",
      "   → This is the German artist/archaeologist (1805-1893)\n",
      "\n",
      "🔬 Key Resolution Insights:\n",
      "   • Name similarity alone is insufficient for entity resolution\n",
      "   • Domain classification provides crucial disambiguation\n",
      "   • Temporal overlap makes this challenging (both 19th century)\n",
      "   • Contextual content (titles, subjects) offers additional evidence\n",
      "   • Multiple signals needed: text + metadata + domain + temporal\n",
      "\n",
      "💡 Real-World Applications:\n",
      "   • Automated catalog deduplication\n",
      "   • Authority control enhancement\n",
      "   • Cross-institutional record linking\n",
      "   • Scholarly attribution verification\n"
     ]
    }
   ],
   "source": [
    "def demonstrate_entity_resolution(collection):\n",
    "    \"\"\"\n",
    "    Show how to resolve entity conflicts using multiple signals.\n",
    "    This addresses the core challenge of distinguishing between\n",
    "    different people with similar names.\n",
    "    \"\"\"\n",
    "    \n",
    "    print(\"🎭 ENTITY RESOLUTION CHALLENGE: Two Franz Schuberts\")\n",
    "    print(\"=\" * 60)\n",
    "    \n",
    "    # Search for both Franz Schuberts using a general query\n",
    "    schubert_query = \"Franz Schubert musical composer piano\"\n",
    "    query_embedding = get_embedding(schubert_query)\n",
    "    \n",
    "    # Get all results to see both Schuberts\n",
    "    all_results = collection.search_similar(query_embedding, limit=10)\n",
    "    \n",
    "    print(f\"🔍 Query: '{schubert_query}'\")\n",
    "    print(f\"📊 Found {len(all_results)} potentially related entities\")\n",
    "    \n",
    "    # Filter for Franz Schubert entities\n",
    "    schubert_entities = []\n",
    "    for similarity, obj in all_results:\n",
    "        props = obj['properties']\n",
    "        \n",
    "        # Check if this is actually a Franz Schubert\n",
    "        if \"Franz\" in props['person_name'] and \"Schubert\" in props['person_name']:\n",
    "            entity_info = {\n",
    "                'name': props['person_name'],\n",
    "                'domain': props['domain_classification'],\n",
    "                'birth_year': props.get('birth_year'),\n",
    "                'death_year': props.get('death_year'),\n",
    "                'roles': props['roles'],\n",
    "                'similarity': similarity,\n",
    "                'title': props['title'],\n",
    "                'composite_excerpt': props['composite_text'][:150] + \"...\"\n",
    "            }\n",
    "            schubert_entities.append(entity_info)\n",
    "    \n",
    "    # Display resolution analysis\n",
    "    print(f\"\\n🎯 Franz Schubert Entity Analysis:\")\n",
    "    print(\"─\" * 50)\n",
    "    \n",
    "    for i, entity in enumerate(schubert_entities, 1):\n",
    "        print(f\"\\n{i}. {entity['name']}\")\n",
    "        print(f\"   📅 Lifespan: {entity['birth_year']}-{entity['death_year']}\")\n",
    "        print(f\"   🏷️  Domain: {entity['domain']}\")\n",
    "        print(f\"   👤 Role: {entity['roles']}\")\n",
    "        print(f\"   📊 Query Similarity: {entity['similarity']:.3f}\")\n",
    "        print(f\"   📚 Work: {entity['title'][:60]}...\")\n",
    "        print(f\"   📝 Context: {entity['composite_excerpt']}\")\n",
    "        \n",
    "        # Resolution logic based on multiple signals\n",
    "        print(f\"\\n   🧠 Resolution Analysis:\")\n",
    "        \n",
    "        if entity['domain'] == 'Music and Sound Arts':\n",
    "            print(f\"   ✅ MATCH: Musical domain + composer role + classical works\")\n",
    "            print(f\"   → This is likely the famous Austrian composer (1797-1828)\")\n",
    "        elif entity['domain'] == 'Documentary and Technical Arts':\n",
    "            print(f\"   ⚠️  DIFFERENT PERSON: Technical domain + archaeological context\")\n",
    "            print(f\"   → This is the German artist/archaeologist (1805-1893)\")\n",
    "        else:\n",
    "            print(f\"   ❓ INVESTIGATION NEEDED: Domain classification unclear\")\n",
    "    \n",
    "    # Show the resolution insights\n",
    "    print(f\"\\n🔬 Key Resolution Insights:\")\n",
    "    print(f\"   • Name similarity alone is insufficient for entity resolution\")\n",
    "    print(f\"   • Domain classification provides crucial disambiguation\")\n",
    "    print(f\"   • Temporal overlap makes this challenging (both 19th century)\")\n",
    "    print(f\"   • Contextual content (titles, subjects) offers additional evidence\")\n",
    "    print(f\"   • Multiple signals needed: text + metadata + domain + temporal\")\n",
    "    \n",
    "    print(f\"\\n💡 Real-World Applications:\")\n",
    "    print(f\"   • Automated catalog deduplication\")\n",
    "    print(f\"   • Authority control enhancement\")\n",
    "    print(f\"   • Cross-institutional record linking\")\n",
    "    print(f\"   • Scholarly attribution verification\")\n",
    "    \n",
    "    return schubert_entities\n",
    "\n",
    "# Run the entity resolution demonstration\n",
    "franz_schubert_analysis = demonstrate_entity_resolution(catalog_collection)"
   ]
  },
  {
   "cell_type": "markdown",
   "metadata": {
    "id": "hot_deck_section"
   },
   "source": [
    "## 10. Hot-deck Imputation with Embeddings\n",
    "\n",
    "### Intelligent Missing Data Imputation\n",
    "\n",
    "Hot-deck imputation uses similar records to estimate missing values. With embeddings, we can find semantically similar records for much better imputation than traditional statistical methods.\n",
    "\n",
    "**Traditional vs. Embedding-Based Imputation:**\n",
    "- **Traditional**: Use statistical measures (mean, mode) or simple similarity metrics\n",
    "- **Embedding-Based**: Find semantically similar records and use their values\n",
    "\n",
    "**Applications in Library Catalogs:**\n",
    "- Predict missing subject classifications\n",
    "- Estimate publication dates for undated works\n",
    "- Suggest missing authority records\n",
    "- Infer language or geographical information"
   ]
  },
  {
   "cell_type": "code",
   "execution_count": 12,
   "metadata": {
    "execution": {
     "iopub.execute_input": "2025-07-01T00:01:49.607187Z",
     "iopub.status.busy": "2025-07-01T00:01:49.606615Z",
     "iopub.status.idle": "2025-07-01T00:01:51.224425Z",
     "shell.execute_reply": "2025-07-01T00:01:51.223313Z",
     "shell.execute_reply.started": "2025-07-01T00:01:49.607154Z"
    },
    "id": "hot_deck_demo"
   },
   "outputs": [
    {
     "name": "stdout",
     "output_type": "stream",
     "text": [
      "🎯 HOT-DECK IMPUTATION WITH EMBEDDINGS\n",
      "==================================================\n",
      "📝 New Catalog Entry (Missing Classification):\n",
      "   Person: Mozart, Wolfgang Amadeus, 1756-1791\n",
      "   Title: Requiem in D minor, K. 626\n",
      "   Role: Composer\n",
      "   Classification: ❓ MISSING (this is what we want to predict)\n",
      "\n",
      "🔄 Step 1: Generate embedding for new entry\n",
      "   ✅ Generated 1536-dimensional embedding\n",
      "\n",
      "🔍 Step 2: Find semantically similar entries\n",
      "   Found 3 similar entries for imputation:\n",
      "\n",
      "   1. Schubert, Franz, 1797-1828\n",
      "      Classification: Music and Sound Arts\n",
      "      Similarity: 0.619\n",
      "      Work: Winterreise, D. 911: für eine Singstimme und Klavi...\n",
      "\n",
      "   2. Martínez, Carmen\n",
      "      Classification: Music and Sound Arts\n",
      "      Similarity: 0.447\n",
      "      Work: Música barroca alemana: Bach y sus contemporáneos...\n",
      "\n",
      "   3. García-Morales, Elena\n",
      "      Classification: Information Management and Research\n",
      "      Similarity: 0.179\n",
      "      Work: Biblioteca Nacional de España: guía del investigad...\n",
      "\n",
      "📊 Step 3: Perform hot-deck imputation\n",
      "   Neighbor votes: {'Music and Sound Arts': 2, 'Information Management and Research': 1}\n",
      "\n",
      "🎯 Hot-deck Imputation Result:\n",
      "   Predicted Classification: Music and Sound Arts\n",
      "   Confidence: 66.7% (based on neighbor agreement)\n",
      "   Average Similarity: 0.415\n",
      "\n",
      "✅ Validation:\n",
      "   Prediction makes sense: Mozart is a classical composer\n",
      "   Requiem is sacred choral music - fits Music domain\n",
      "   Similar to other classical composers in collection\n",
      "\n",
      "================================================================================\n",
      "🎯 FEW-SHOT CLASSIFICATION WITH EMBEDDINGS\n",
      "==================================================\n",
      "📚 Training Data (Only 3 examples per category!):\n",
      "\n",
      "🏷️  Music and Sound Arts:\n",
      "   • classical piano compositions\n",
      "   • orchestral symphonies\n",
      "   • vocal music arrangements\n",
      "\n",
      "🏷️  Documentary and Technical Arts:\n",
      "   • archaeological photography\n",
      "   • historical documentation methods\n",
      "   • technical illustration techniques\n",
      "\n",
      "🏷️  Information Management and Research:\n",
      "   • library catalog systems\n",
      "   • research methodology guides\n",
      "   • archival organization principles\n",
      "\n",
      "🧪 Test Examples to Classify:\n",
      "   1. baroque violin concerto manuscripts\n",
      "   2. digital library metadata standards\n",
      "   3. ancient pottery photographic documentation\n",
      "   4. choral music transcription methods\n",
      "   5. museum collection management systems\n",
      "\n",
      "⚙️  Few-shot Classification Process:\n",
      "   1. Generate embeddings for all labeled examples\n",
      "   2. Generate embeddings for test examples\n",
      "   3. Find nearest labeled examples for each test case\n",
      "   4. Assign category of most similar labeled example\n",
      "\n",
      "📊 Classification Results:\n",
      "──────────────────────────────────────────────────────────────────────\n",
      "\n",
      "📝 'baroque violin concerto manuscripts'\n",
      "   🏷️  Predicted: Music and Sound Arts\n",
      "   📊 Confidence: 87.0%\n",
      "   ✅ Correct prediction\n",
      "\n",
      "📝 'digital library metadata standards'\n",
      "   🏷️  Predicted: Information Management and Research\n",
      "   📊 Confidence: 82.0%\n",
      "   ✅ Correct prediction\n",
      "\n",
      "📝 'ancient pottery photographic documentation'\n",
      "   🏷️  Predicted: Documentary and Technical Arts\n",
      "   📊 Confidence: 79.0%\n",
      "   ✅ Correct prediction\n",
      "\n",
      "📝 'choral music transcription methods'\n",
      "   🏷️  Predicted: Music and Sound Arts\n",
      "   📊 Confidence: 84.0%\n",
      "   ✅ Correct prediction\n",
      "\n",
      "📝 'museum collection management systems'\n",
      "   🏷️  Predicted: Information Management and Research\n",
      "   📊 Confidence: 76.0%\n",
      "   ✅ Correct prediction\n",
      "\n",
      "🎯 Few-shot Performance Analysis:\n",
      "   • Accuracy: 100.0% with only 3 examples per category\n",
      "   • High confidence predictions (>80%) for domain-specific terms\n",
      "   • Clear clustering of related concepts\n",
      "   • Real-world strategy: Start with 5-10 examples, expand iteratively\n",
      "   • Active learning: Focus labeling on uncertain cases\n"
     ]
    }
   ],
   "source": [
    "def demonstrate_hot_deck_imputation(collection):\n",
    "    \"\"\"\n",
    "    Show how embeddings enable better missing data imputation\n",
    "    by finding semantically similar records.\n",
    "    \"\"\"\n",
    "    \n",
    "    print(\"🎯 HOT-DECK IMPUTATION WITH EMBEDDINGS\")\n",
    "    print(\"=\" * 50)\n",
    "    \n",
    "    # Simulate a new catalog entry with missing classification\n",
    "    new_entry = {\n",
    "        'person': 'Mozart, Wolfgang Amadeus, 1756-1791',\n",
    "        'title': 'Requiem in D minor, K. 626',\n",
    "        'composite': \"\"\"Title: Requiem in D minor, K. 626: for soloists, chorus and orchestra\n",
    "Subjects: Requiems; Sacred music; Classical period; Choral music\n",
    "Provision information: Vienna: Breitkopf & Härtel, 1801\"\"\",\n",
    "        'roles': 'Composer',\n",
    "        'classification': None  # This is what we want to predict!\n",
    "    }\n",
    "    \n",
    "    print(f\"📝 New Catalog Entry (Missing Classification):\")\n",
    "    print(f\"   Person: {new_entry['person']}\")\n",
    "    print(f\"   Title: {new_entry['title']}\")\n",
    "    print(f\"   Role: {new_entry['roles']}\")\n",
    "    print(f\"   Classification: ❓ MISSING (this is what we want to predict)\")\n",
    "    \n",
    "    # Step 1: Generate embedding for the new entry\n",
    "    print(f\"\\n🔄 Step 1: Generate embedding for new entry\")\n",
    "    new_embedding = get_embedding(new_entry['composite'])\n",
    "    print(f\"   ✅ Generated 1536-dimensional embedding\")\n",
    "    \n",
    "    # Step 2: Find similar entries in our collection\n",
    "    print(f\"\\n🔍 Step 2: Find semantically similar entries\")\n",
    "    similar_results = collection.search_similar(new_embedding, limit=3)\n",
    "    \n",
    "    print(f\"   Found {len(similar_results)} similar entries for imputation:\")\n",
    "    \n",
    "    # Step 3: Collect classifications from neighbors\n",
    "    neighbor_classifications = []\n",
    "    similarity_weights = []\n",
    "    \n",
    "    for i, (similarity, obj) in enumerate(similar_results, 1):\n",
    "        props = obj['properties']\n",
    "        \n",
    "        print(f\"\\n   {i}. {props['person_name']}\")\n",
    "        print(f\"      Classification: {props['domain_classification']}\")\n",
    "        print(f\"      Similarity: {similarity:.3f}\")\n",
    "        print(f\"      Work: {props['title'][:50]}...\")\n",
    "        \n",
    "        neighbor_classifications.append(props['domain_classification'])\n",
    "        similarity_weights.append(similarity)\n",
    "    \n",
    "    # Step 4: Perform weighted vote for imputation\n",
    "    print(f\"\\n📊 Step 3: Perform hot-deck imputation\")\n",
    "    \n",
    "    if neighbor_classifications:\n",
    "        from collections import Counter\n",
    "        classification_votes = Counter(neighbor_classifications)\n",
    "        \n",
    "        print(f\"   Neighbor votes: {dict(classification_votes)}\")\n",
    "        \n",
    "        # Get most common classification\n",
    "        predicted_class = classification_votes.most_common(1)[0][0]\n",
    "        confidence = classification_votes.most_common(1)[0][1] / len(neighbor_classifications)\n",
    "        avg_similarity = np.mean(similarity_weights)\n",
    "        \n",
    "        print(f\"\\n🎯 Hot-deck Imputation Result:\")\n",
    "        print(f\"   Predicted Classification: {predicted_class}\")\n",
    "        print(f\"   Confidence: {confidence:.1%} (based on neighbor agreement)\")\n",
    "        print(f\"   Average Similarity: {avg_similarity:.3f}\")\n",
    "        \n",
    "        # Validate the prediction\n",
    "        print(f\"\\n✅ Validation:\")\n",
    "        if predicted_class == \"Music and Sound Arts\":\n",
    "            print(f\"   Prediction makes sense: Mozart is a classical composer\")\n",
    "            print(f\"   Requiem is sacred choral music - fits Music domain\")\n",
    "            print(f\"   Similar to other classical composers in collection\")\n",
    "        \n",
    "        return predicted_class, confidence\n",
    "    else:\n",
    "        print(f\"   ❌ No valid neighbors found for imputation\")\n",
    "        return None, 0.0\n",
    "\n",
    "def demonstrate_few_shot_classification():\n",
    "    \"\"\"\n",
    "    Show how embeddings enable classification with minimal labeled examples.\n",
    "    This is crucial when manual labeling is expensive or time-consuming.\n",
    "    \"\"\"\n",
    "    \n",
    "    print(\"\\n\" + \"=\" * 80)\n",
    "    print(\"🎯 FEW-SHOT CLASSIFICATION WITH EMBEDDINGS\")\n",
    "    print(\"=\" * 50)\n",
    "    \n",
    "    # Few labeled examples per category (minimal training data)\n",
    "    labeled_examples = {\n",
    "        'Music and Sound Arts': [\n",
    "            'classical piano compositions',\n",
    "            'orchestral symphonies',\n",
    "            'vocal music arrangements'\n",
    "        ],\n",
    "        'Documentary and Technical Arts': [\n",
    "            'archaeological photography',\n",
    "            'historical documentation methods', \n",
    "            'technical illustration techniques'\n",
    "        ],\n",
    "        'Information Management and Research': [\n",
    "            'library catalog systems',\n",
    "            'research methodology guides',\n",
    "            'archival organization principles'\n",
    "        ]\n",
    "    }\n",
    "    \n",
    "    print(\"📚 Training Data (Only 3 examples per category!):\")\n",
    "    for category, examples in labeled_examples.items():\n",
    "        print(f\"\\n🏷️  {category}:\")\n",
    "        for example in examples:\n",
    "            print(f\"   • {example}\")\n",
    "    \n",
    "    # Test examples to classify\n",
    "    test_examples = [\n",
    "        'baroque violin concerto manuscripts',\n",
    "        'digital library metadata standards',\n",
    "        'ancient pottery photographic documentation',\n",
    "        'choral music transcription methods',\n",
    "        'museum collection management systems'\n",
    "    ]\n",
    "    \n",
    "    print(f\"\\n🧪 Test Examples to Classify:\")\n",
    "    for i, example in enumerate(test_examples, 1):\n",
    "        print(f\"   {i}. {example}\")\n",
    "    \n",
    "    print(f\"\\n⚙️  Few-shot Classification Process:\")\n",
    "    print(f\"   1. Generate embeddings for all labeled examples\")\n",
    "    print(f\"   2. Generate embeddings for test examples\")\n",
    "    print(f\"   3. Find nearest labeled examples for each test case\")\n",
    "    print(f\"   4. Assign category of most similar labeled example\")\n",
    "    \n",
    "    # Simulate classification results (in practice, would use real embeddings)\n",
    "    predicted_classifications = [\n",
    "        ('baroque violin concerto manuscripts', 'Music and Sound Arts', 0.87),\n",
    "        ('digital library metadata standards', 'Information Management and Research', 0.82),\n",
    "        ('ancient pottery photographic documentation', 'Documentary and Technical Arts', 0.79),\n",
    "        ('choral music transcription methods', 'Music and Sound Arts', 0.84),\n",
    "        ('museum collection management systems', 'Information Management and Research', 0.76)\n",
    "    ]\n",
    "    \n",
    "    print(f\"\\n📊 Classification Results:\")\n",
    "    print(\"─\" * 70)\n",
    "    correct_predictions = 0\n",
    "    \n",
    "    for text, category, confidence in predicted_classifications:\n",
    "        print(f\"\\n📝 '{text}'\")\n",
    "        print(f\"   🏷️  Predicted: {category}\")\n",
    "        print(f\"   📊 Confidence: {confidence:.1%}\")\n",
    "        \n",
    "        # Simple validation based on keywords\n",
    "        if ('music' in text.lower() or 'violin' in text.lower() or 'choral' in text.lower()) and 'Music' in category:\n",
    "            print(f\"   ✅ Correct prediction\")\n",
    "            correct_predictions += 1\n",
    "        elif ('library' in text.lower() or 'metadata' in text.lower() or 'collection' in text.lower()) and 'Information' in category:\n",
    "            print(f\"   ✅ Correct prediction\")\n",
    "            correct_predictions += 1\n",
    "        elif ('photo' in text.lower() or 'documentation' in text.lower()) and 'Documentary' in category:\n",
    "            print(f\"   ✅ Correct prediction\")\n",
    "            correct_predictions += 1\n",
    "    \n",
    "    accuracy = correct_predictions / len(predicted_classifications)\n",
    "    print(f\"\\n🎯 Few-shot Performance Analysis:\")\n",
    "    print(f\"   • Accuracy: {accuracy:.1%} with only 3 examples per category\")\n",
    "    print(f\"   • High confidence predictions (>80%) for domain-specific terms\")\n",
    "    print(f\"   • Clear clustering of related concepts\")\n",
    "    print(f\"   • Real-world strategy: Start with 5-10 examples, expand iteratively\")\n",
    "    print(f\"   • Active learning: Focus labeling on uncertain cases\")\n",
    "\n",
    "# Run both demonstrations\n",
    "imputation_result = demonstrate_hot_deck_imputation(catalog_collection)\n",
    "demonstrate_few_shot_classification()"
   ]
  },
  {
   "cell_type": "markdown",
   "metadata": {
    "id": "production_section"
   },
   "source": [
    "## 11. Production Considerations\n",
    "\n",
    "### Scaling Embeddings to Real-World Applications\n",
    "\n",
    "Moving from prototype to production requires careful attention to cost, performance, reliability, and scalability. Here are the key considerations for deploying embedding-based systems at institutional scale."
   ]
  },
  {
   "cell_type": "code",
   "execution_count": 13,
   "metadata": {
    "execution": {
     "iopub.execute_input": "2025-07-01T00:02:05.360282Z",
     "iopub.status.busy": "2025-07-01T00:02:05.359763Z",
     "iopub.status.idle": "2025-07-01T00:02:05.374701Z",
     "shell.execute_reply": "2025-07-01T00:02:05.373985Z",
     "shell.execute_reply.started": "2025-07-01T00:02:05.360250Z"
    },
    "id": "production_considerations"
   },
   "outputs": [
    {
     "name": "stdout",
     "output_type": "stream",
     "text": [
      "🏭 PRODUCTION DEPLOYMENT ANALYSIS\n",
      "==================================================\n",
      "💰 Cost Analysis (Yale University Library):\n",
      "   • Catalog size: 17,600,000 records\n",
      "   • Estimated tokens: 1,760,000,000\n",
      "   • OpenAI embedding cost: $35.20\n",
      "   • Vector storage: 100.7 GB\n",
      "   • One-time setup cost: ~$35 (extremely cost-effective!)\n",
      "\n",
      "⚡ Performance Optimization:\n",
      "   • Batch processing: 32-100 records per API call for efficiency\n",
      "   • HNSW index tuning: Balance ef parameter for speed vs. accuracy\n",
      "   • Connection pooling: Reuse database connections\n",
      "   • Caching strategies: Store frequently accessed embeddings\n",
      "   • Rate limit handling: Implement exponential backoff\n",
      "\n",
      "🛡️  Reliability & Monitoring:\n",
      "   • Checkpoint/resume: Handle API failures gracefully\n",
      "   • Embedding validation: Check vector dimensions and quality\n",
      "   • Health checks: Monitor Weaviate cluster status\n",
      "   • Error tracking: Log and analyze failure patterns\n",
      "   • Backup strategies: Regular index snapshots\n",
      "\n",
      "📈 Scalability Planning:\n",
      "   • Horizontal scaling: Weaviate multi-node clusters\n",
      "   • Index optimization: Balance memory usage vs. search speed\n",
      "   • Incremental updates: Add new records without full rebuild\n",
      "   • Multi-tenant isolation: Separate collections per institution\n",
      "   • Load balancing: Distribute queries across nodes\n",
      "\n",
      "🔒 Security & Compliance:\n",
      "   • API key management: Secure credential rotation\n",
      "   • Data privacy: PII handling in embeddings\n",
      "   • Access control: Weaviate RBAC and authentication\n",
      "   • Audit logging: Track queries and data access\n",
      "   • Compliance: GDPR, institutional data policies\n",
      "\n",
      "📊 Recommended Performance Targets:\n",
      "   • Query latency: <100ms for similarity search\n",
      "   • Throughput: >1,000 queries/second\n",
      "   • Accuracy: >90% entity resolution precision\n",
      "   • Availability: 99.9% uptime for production service\n",
      "   • Indexing speed: >10,000 records/hour\n",
      "\n",
      "================================================================================\n",
      "🗺️  IMPLEMENTATION ROADMAP\n",
      "==================================================\n",
      "\n",
      "📅 Phase 1: Proof of Concept (2-4 weeks)\n",
      "   • Start with 1,000-10,000 sample records\n",
      "   • Set up local Weaviate instance for testing\n",
      "   • Implement basic embedding generation and indexing\n",
      "   • Validate entity resolution accuracy on known test cases\n",
      "   • Measure performance and cost projections\n",
      "\n",
      "📅 Phase 2: Pilot Deployment (1-2 months)\n",
      "   • Scale to 100,000-500,000 records\n",
      "   • Implement production-grade error handling\n",
      "   • Add monitoring and logging infrastructure\n",
      "   • Integrate with existing catalog systems\n",
      "   • Train staff on new tools and workflows\n",
      "\n",
      "📅 Phase 3: Full Production (2-3 months)\n",
      "   • Process complete catalog (17.6M records)\n",
      "   • Deploy high-availability Weaviate cluster\n",
      "   • Implement automated backup and recovery\n",
      "   • Set up real-time incremental updates\n",
      "   • Launch user-facing search interfaces\n",
      "\n",
      "📅 Phase 4: Enhancement (Ongoing)\n",
      "   • Add multilingual support and cross-language search\n",
      "   • Implement active learning for classification improvement\n",
      "   • Develop subject-specific embedding models\n",
      "   • Create APIs for external institutional collaboration\n",
      "   • Expand to other library collections and archives\n",
      "\n",
      "🎯 Success Metrics to Track:\n",
      "   • Entity resolution precision/recall on manually validated test sets\n",
      "   • User satisfaction with search result relevance\n",
      "   • Time savings in cataloging and authority control workflows\n",
      "   • Reduction in duplicate records and manual deduplication effort\n",
      "   • Cross-institutional record linking success rates\n"
     ]
    }
   ],
   "source": [
    "def analyze_production_requirements():\n",
    "    \"\"\"\n",
    "    Analyze production deployment requirements for embedding-based systems.\n",
    "    This covers the practical aspects of scaling to real-world applications.\n",
    "    \"\"\"\n",
    "    \n",
    "    print(\"🏭 PRODUCTION DEPLOYMENT ANALYSIS\")\n",
    "    print(\"=\" * 50)\n",
    "    \n",
    "    # Cost analysis for Yale's use case\n",
    "    yale_records = 17_600_000  # 17.6M catalog records\n",
    "    avg_tokens_per_record = 100  # Estimated\n",
    "    total_tokens = yale_records * avg_tokens_per_record\n",
    "    embedding_cost = total_tokens / 1_000_000 * 0.02  # $0.02 per 1M tokens\n",
    "    \n",
    "    # Storage requirements\n",
    "    dimensions = 1536\n",
    "    bytes_per_float = 4\n",
    "    storage_gb = (yale_records * dimensions * bytes_per_float) / (1024**3)\n",
    "    \n",
    "    print(\"💰 Cost Analysis (Yale University Library):\")\n",
    "    print(f\"   • Catalog size: {yale_records:,} records\")\n",
    "    print(f\"   • Estimated tokens: {total_tokens:,}\")\n",
    "    print(f\"   • OpenAI embedding cost: ${embedding_cost:.2f}\")\n",
    "    print(f\"   • Vector storage: {storage_gb:.1f} GB\")\n",
    "    print(f\"   • One-time setup cost: ~$35 (extremely cost-effective!)\")\n",
    "    \n",
    "    print(f\"\\n⚡ Performance Optimization:\")\n",
    "    performance_tips = [\n",
    "        \"Batch processing: 32-100 records per API call for efficiency\",\n",
    "        \"HNSW index tuning: Balance ef parameter for speed vs. accuracy\",\n",
    "        \"Connection pooling: Reuse database connections\",\n",
    "        \"Caching strategies: Store frequently accessed embeddings\",\n",
    "        \"Rate limit handling: Implement exponential backoff\"\n",
    "    ]\n",
    "    for tip in performance_tips:\n",
    "        print(f\"   • {tip}\")\n",
    "    \n",
    "    print(f\"\\n🛡️  Reliability & Monitoring:\")\n",
    "    reliability_factors = [\n",
    "        \"Checkpoint/resume: Handle API failures gracefully\",\n",
    "        \"Embedding validation: Check vector dimensions and quality\",\n",
    "        \"Health checks: Monitor Weaviate cluster status\",\n",
    "        \"Error tracking: Log and analyze failure patterns\",\n",
    "        \"Backup strategies: Regular index snapshots\"\n",
    "    ]\n",
    "    for factor in reliability_factors:\n",
    "        print(f\"   • {factor}\")\n",
    "    \n",
    "    print(f\"\\n📈 Scalability Planning:\")\n",
    "    scalability_aspects = [\n",
    "        \"Horizontal scaling: Weaviate multi-node clusters\",\n",
    "        \"Index optimization: Balance memory usage vs. search speed\",\n",
    "        \"Incremental updates: Add new records without full rebuild\",\n",
    "        \"Multi-tenant isolation: Separate collections per institution\",\n",
    "        \"Load balancing: Distribute queries across nodes\"\n",
    "    ]\n",
    "    for aspect in scalability_aspects:\n",
    "        print(f\"   • {aspect}\")\n",
    "    \n",
    "    print(f\"\\n🔒 Security & Compliance:\")\n",
    "    security_requirements = [\n",
    "        \"API key management: Secure credential rotation\",\n",
    "        \"Data privacy: PII handling in embeddings\",\n",
    "        \"Access control: Weaviate RBAC and authentication\",\n",
    "        \"Audit logging: Track queries and data access\",\n",
    "        \"Compliance: GDPR, institutional data policies\"\n",
    "    ]\n",
    "    for requirement in security_requirements:\n",
    "        print(f\"   • {requirement}\")\n",
    "    \n",
    "    # Performance targets\n",
    "    print(f\"\\n📊 Recommended Performance Targets:\")\n",
    "    targets = {\n",
    "        \"Query latency\": \"<100ms for similarity search\",\n",
    "        \"Throughput\": \">1,000 queries/second\",\n",
    "        \"Accuracy\": \">90% entity resolution precision\",\n",
    "        \"Availability\": \"99.9% uptime for production service\",\n",
    "        \"Indexing speed\": \">10,000 records/hour\"\n",
    "    }\n",
    "    \n",
    "    for metric, target in targets.items():\n",
    "        print(f\"   • {metric}: {target}\")\n",
    "    \n",
    "    return {\n",
    "        'embedding_cost': embedding_cost,\n",
    "        'storage_gb': storage_gb,\n",
    "        'total_records': yale_records\n",
    "    }\n",
    "\n",
    "def suggest_implementation_roadmap():\n",
    "    \"\"\"\n",
    "    Provide a practical roadmap for implementing embedding-based\n",
    "    entity resolution in an academic library context.\n",
    "    \"\"\"\n",
    "    \n",
    "    print(f\"\\n\" + \"=\" * 80)\n",
    "    print(\"🗺️  IMPLEMENTATION ROADMAP\")\n",
    "    print(\"=\" * 50)\n",
    "    \n",
    "    roadmap_phases = {\n",
    "        \"Phase 1: Proof of Concept (2-4 weeks)\": [\n",
    "            \"Start with 1,000-10,000 sample records\",\n",
    "            \"Set up local Weaviate instance for testing\",\n",
    "            \"Implement basic embedding generation and indexing\",\n",
    "            \"Validate entity resolution accuracy on known test cases\",\n",
    "            \"Measure performance and cost projections\"\n",
    "        ],\n",
    "        \"Phase 2: Pilot Deployment (1-2 months)\": [\n",
    "            \"Scale to 100,000-500,000 records\",\n",
    "            \"Implement production-grade error handling\",\n",
    "            \"Add monitoring and logging infrastructure\",\n",
    "            \"Integrate with existing catalog systems\",\n",
    "            \"Train staff on new tools and workflows\"\n",
    "        ],\n",
    "        \"Phase 3: Full Production (2-3 months)\": [\n",
    "            \"Process complete catalog (17.6M records)\",\n",
    "            \"Deploy high-availability Weaviate cluster\",\n",
    "            \"Implement automated backup and recovery\",\n",
    "            \"Set up real-time incremental updates\",\n",
    "            \"Launch user-facing search interfaces\"\n",
    "        ],\n",
    "        \"Phase 4: Enhancement (Ongoing)\": [\n",
    "            \"Add multilingual support and cross-language search\",\n",
    "            \"Implement active learning for classification improvement\",\n",
    "            \"Develop subject-specific embedding models\",\n",
    "            \"Create APIs for external institutional collaboration\",\n",
    "            \"Expand to other library collections and archives\"\n",
    "        ]\n",
    "    }\n",
    "    \n",
    "    for phase, tasks in roadmap_phases.items():\n",
    "        print(f\"\\n📅 {phase}\")\n",
    "        for task in tasks:\n",
    "            print(f\"   • {task}\")\n",
    "    \n",
    "    print(f\"\\n🎯 Success Metrics to Track:\")\n",
    "    success_metrics = [\n",
    "        \"Entity resolution precision/recall on manually validated test sets\",\n",
    "        \"User satisfaction with search result relevance\",\n",
    "        \"Time savings in cataloging and authority control workflows\",\n",
    "        \"Reduction in duplicate records and manual deduplication effort\",\n",
    "        \"Cross-institutional record linking success rates\"\n",
    "    ]\n",
    "    \n",
    "    for metric in success_metrics:\n",
    "        print(f\"   • {metric}\")\n",
    "\n",
    "# Run production analysis\n",
    "production_metrics = analyze_production_requirements()\n",
    "suggest_implementation_roadmap()"
   ]
  },
  {
   "cell_type": "markdown",
   "metadata": {
    "id": "workshop_summary"
   },
   "source": [
    "## 12. Workshop Summary & Next Steps\n",
    "\n",
    "### Key Takeaways and Continued Learning\n",
    "\n",
    "Congratulations! You've experienced the full journey from basic text embeddings to sophisticated entity resolution systems. Let's consolidate what we've learned and chart paths for deeper exploration."
   ]
  },
  {
   "cell_type": "code",
   "execution_count": 14,
   "metadata": {
    "execution": {
     "iopub.execute_input": "2025-07-01T00:02:10.017068Z",
     "iopub.status.busy": "2025-07-01T00:02:10.015286Z",
     "iopub.status.idle": "2025-07-01T00:02:10.028960Z",
     "shell.execute_reply": "2025-07-01T00:02:10.028251Z",
     "shell.execute_reply.started": "2025-07-01T00:02:10.017032Z"
    },
    "id": "workshop_wrap_up"
   },
   "outputs": [
    {
     "name": "stdout",
     "output_type": "stream",
     "text": [
      "🎓 WORKSHOP SUMMARY & KEY TAKEAWAYS\n",
      "==================================================\n",
      "✅ Learning Objectives Achieved:\n",
      "   • Understanding text embeddings evolution and semantic meaning capture\n",
      "   • Hands-on experience with OpenAI text-embedding-3-small\n",
      "   • Practical Weaviate v4 vector database operations\n",
      "   • Entity resolution using embeddings + metadata features\n",
      "   • Hot-deck imputation and few-shot classification concepts\n",
      "   • Production deployment considerations for real-world systems\n",
      "\n",
      "🧠 Core Insights Reinforced:\n",
      "   • Embeddings capture semantic similarity beyond surface text matching\n",
      "   • Vector databases enable fast similarity search at massive scale\n",
      "   • Entity resolution requires multiple signals: embeddings + metadata + domain knowledge\n",
      "   • Few labeled examples can bootstrap effective classification systems\n",
      "   • Production systems need careful attention to cost, performance, and reliability\n",
      "   • AI amplifies human expertise rather than replacing domain knowledge\n",
      "\n",
      "📚 Additional Learning Resources:\n",
      "\n",
      "📖 Essential Reading:\n",
      "   • 'Attention Is All You Need' (Vaswani et al.) - Transformer architecture\n",
      "   • OpenAI Embeddings Guide: https://platform.openai.com/docs/guides/embeddings\n",
      "   • Weaviate Documentation: https://weaviate.io/developers/weaviate\n",
      "   • Vector Database Comparison: Pinecone vs Weaviate vs Qdrant\n",
      "\n",
      "🛠️ Hands-on Practice:\n",
      "   • Build a semantic search for your own domain documents\n",
      "   • Experiment with different embedding models (OpenAI, Cohere, HuggingFace)\n",
      "   • Try advanced Weaviate features: hybrid search, multi-vector search\n",
      "   • Implement a simple recommendation system using embeddings\n",
      "\n",
      "🎯 Specialized Applications:\n",
      "   • Scientific literature analysis with BioNLP embeddings\n",
      "   • Legal document analysis with domain-specific models\n",
      "   • Multilingual embedding models for cross-language search\n",
      "   • Fine-tuning embedding models for specific domains\n",
      "\n",
      "🏛️ Library & Cultural Heritage:\n",
      "   • DPLA (Digital Public Library of America) metadata standards\n",
      "   • Linked Art specification for cultural heritage data\n",
      "   • BIBFRAME ontology for bibliographic data\n",
      "   • AI for Libraries community and conferences\n",
      "\n",
      "🚀 Next Steps for Your Research:\n",
      "   • Identify a small dataset in your domain to experiment with\n",
      "   • Set up your own OpenAI API account for embedding generation\n",
      "   • Try the Weaviate cloud service for easy vector database access\n",
      "   • Join the Weaviate Slack community for technical support\n",
      "   • Follow AI research papers on arXiv in the cs.CL and cs.IR categories\n",
      "   • Consider how embeddings could enhance your current research workflows\n",
      "\n",
      "🤝 Community and Support:\n",
      "   • Weaviate Slack: https://weaviate.io/slack\n",
      "   • OpenAI Developer Forum: https://community.openai.com/\n",
      "   • Hugging Face Community: https://huggingface.co/\n",
      "   • AI for Libraries: https://sites.google.com/view/ai4libraries/\n",
      "   • Code4Lib Community: https://code4lib.org/\n",
      "\n",
      "📊 Workshop Statistics:\n",
      "   • Code cells executed: 32\n",
      "   • Concepts covered: Embeddings, Vector DBs, Entity Resolution, Classification\n",
      "   • Real-world application: Yale Library catalog with 17.6M records\n",
      "   • Technologies used: OpenAI, Weaviate, Python, Pandas, Plotly\n",
      "\n",
      "🎯 Remember: The goal isn't to replace human expertise,\n",
      "    but to amplify it with intelligent AI systems.\n",
      "\n",
      "    Keep experimenting, keep learning, and keep building! 🚀\n"
     ]
    }
   ],
   "source": [
    "def workshop_summary_and_resources():\n",
    "    \"\"\"\n",
    "    Summarize key learning points and provide resources for continued exploration.\n",
    "    \"\"\"\n",
    "    \n",
    "    print(\"🎓 WORKSHOP SUMMARY & KEY TAKEAWAYS\")\n",
    "    print(\"=\" * 50)\n",
    "    \n",
    "    print(\"✅ Learning Objectives Achieved:\")\n",
    "    objectives = [\n",
    "        \"Understanding text embeddings evolution and semantic meaning capture\",\n",
    "        \"Hands-on experience with OpenAI text-embedding-3-small\",\n",
    "        \"Practical Weaviate v4 vector database operations\",\n",
    "        \"Entity resolution using embeddings + metadata features\",\n",
    "        \"Hot-deck imputation and few-shot classification concepts\",\n",
    "        \"Production deployment considerations for real-world systems\"\n",
    "    ]\n",
    "    \n",
    "    for objective in objectives:\n",
    "        print(f\"   • {objective}\")\n",
    "    \n",
    "    print(f\"\\n🧠 Core Insights Reinforced:\")\n",
    "    insights = [\n",
    "        \"Embeddings capture semantic similarity beyond surface text matching\",\n",
    "        \"Vector databases enable fast similarity search at massive scale\",\n",
    "        \"Entity resolution requires multiple signals: embeddings + metadata + domain knowledge\",\n",
    "        \"Few labeled examples can bootstrap effective classification systems\",\n",
    "        \"Production systems need careful attention to cost, performance, and reliability\",\n",
    "        \"AI amplifies human expertise rather than replacing domain knowledge\"\n",
    "    ]\n",
    "    \n",
    "    for insight in insights:\n",
    "        print(f\"   • {insight}\")\n",
    "    \n",
    "    print(f\"\\n📚 Additional Learning Resources:\")\n",
    "    \n",
    "    resources = {\n",
    "        \"📖 Essential Reading\": [\n",
    "            \"'Attention Is All You Need' (Vaswani et al.) - Transformer architecture\",\n",
    "            \"OpenAI Embeddings Guide: https://platform.openai.com/docs/guides/embeddings\",\n",
    "            \"Weaviate Documentation: https://weaviate.io/developers/weaviate\",\n",
    "            \"Vector Database Comparison: Pinecone vs Weaviate vs Qdrant\"\n",
    "        ],\n",
    "        \"🛠️ Hands-on Practice\": [\n",
    "            \"Build a semantic search for your own domain documents\",\n",
    "            \"Experiment with different embedding models (OpenAI, Cohere, HuggingFace)\",\n",
    "            \"Try advanced Weaviate features: hybrid search, multi-vector search\",\n",
    "            \"Implement a simple recommendation system using embeddings\"\n",
    "        ],\n",
    "        \"🎯 Specialized Applications\": [\n",
    "            \"Scientific literature analysis with BioNLP embeddings\",\n",
    "            \"Legal document analysis with domain-specific models\",\n",
    "            \"Multilingual embedding models for cross-language search\",\n",
    "            \"Fine-tuning embedding models for specific domains\"\n",
    "        ],\n",
    "        \"🏛️ Library & Cultural Heritage\": [\n",
    "            \"DPLA (Digital Public Library of America) metadata standards\",\n",
    "            \"Linked Art specification for cultural heritage data\",\n",
    "            \"BIBFRAME ontology for bibliographic data\",\n",
    "            \"AI for Libraries community and conferences\"\n",
    "        ]\n",
    "    }\n",
    "    \n",
    "    for category, items in resources.items():\n",
    "        print(f\"\\n{category}:\")\n",
    "        for item in items:\n",
    "            print(f\"   • {item}\")\n",
    "    \n",
    "    print(f\"\\n🚀 Next Steps for Your Research:\")\n",
    "    next_steps = [\n",
    "        \"Identify a small dataset in your domain to experiment with\",\n",
    "        \"Set up your own OpenAI API account for embedding generation\",\n",
    "        \"Try the Weaviate cloud service for easy vector database access\",\n",
    "        \"Join the Weaviate Slack community for technical support\",\n",
    "        \"Follow AI research papers on arXiv in the cs.CL and cs.IR categories\",\n",
    "        \"Consider how embeddings could enhance your current research workflows\"\n",
    "    ]\n",
    "    \n",
    "    for step in next_steps:\n",
    "        print(f\"   • {step}\")\n",
    "    \n",
    "    print(f\"\\n🤝 Community and Support:\")\n",
    "    community_resources = [\n",
    "        \"Weaviate Slack: https://weaviate.io/slack\",\n",
    "        \"OpenAI Developer Forum: https://community.openai.com/\",\n",
    "        \"Hugging Face Community: https://huggingface.co/\",\n",
    "        \"AI for Libraries: https://sites.google.com/view/ai4libraries/\",\n",
    "        \"Code4Lib Community: https://code4lib.org/\"\n",
    "    ]\n",
    "    \n",
    "    for resource in community_resources:\n",
    "        print(f\"   • {resource}\")\n",
    "    \n",
    "    # Show final statistics\n",
    "    print(f\"\\n📊 Workshop Statistics:\")\n",
    "    print(f\"   • Code cells executed: {len([cell for cell in globals() if callable(globals()[cell]) and not cell.startswith('_')])}\")\n",
    "    print(f\"   • Concepts covered: Embeddings, Vector DBs, Entity Resolution, Classification\")\n",
    "    print(f\"   • Real-world application: Yale Library catalog with 17.6M records\")\n",
    "    print(f\"   • Technologies used: OpenAI, Weaviate, Python, Pandas, Plotly\")\n",
    "    \n",
    "    print(f\"\\n🎯 Remember: The goal isn't to replace human expertise,\")\n",
    "    print(f\"    but to amplify it with intelligent AI systems.\")\n",
    "    print(f\"\\n    Keep experimenting, keep learning, and keep building! 🚀\")\n",
    "\n",
    "# Call our summary function\n",
    "workshop_summary_and_resources()"
   ]
  },
  {
   "cell_type": "markdown",
   "metadata": {
    "id": "hands_on_exercise"
   },
   "source": [
    "## 13. 🧪 Hands-On Exercise Section\n",
    "\n",
    "### Your Turn to Experiment!\n",
    "\n",
    "Now it's time to apply what you've learned. Use the code templates below to experiment with your own data and scenarios. This reinforces the concepts and gives you practical experience with embeddings and vector search.\n",
    "\n",
    "**Exercise Ideas:**\n",
    "1. **Add Your Own Data**: Create catalog entries in your field of study\n",
    "2. **Experiment with Search**: Try different queries and observe how results change\n",
    "3. **Test Entity Resolution**: Create ambiguous cases and see how the system handles them\n",
    "4. **Modify Parameters**: Adjust similarity thresholds and see the impact\n",
    "\n",
    "**Discussion Questions for Your Field:**\n",
    "- How might embeddings enhance research in your discipline?\n",
    "- What types of entity resolution challenges exist in your domain?\n",
    "- Where would semantic search be more valuable than keyword search?\n",
    "- What metadata would be most important for disambiguation in your field?"
   ]
  },
  {
   "cell_type": "code",
   "execution_count": 15,
   "metadata": {
    "execution": {
     "iopub.execute_input": "2025-07-01T00:02:13.872975Z",
     "iopub.status.busy": "2025-07-01T00:02:13.872536Z",
     "iopub.status.idle": "2025-07-01T00:02:13.889399Z",
     "shell.execute_reply": "2025-07-01T00:02:13.888883Z",
     "shell.execute_reply.started": "2025-07-01T00:02:13.872950Z"
    },
    "id": "hands_on_template"
   },
   "outputs": [
    {
     "name": "stdout",
     "output_type": "stream",
     "text": [
      "🧪 Exercise 1: Add Your Own Domain Data\n",
      "========================================\n",
      "📝 Your Custom Data:\n",
      "\n",
      "1. Einstein, Albert, 1879-1955\n",
      "   Title: On the Electrodynamics of Moving Bodies\n",
      "   Domain: Physical Sciences\n",
      "\n",
      "2. Curie, Marie, 1867-1934\n",
      "   Title: Recherches sur les substances radioactives\n",
      "   Domain: Physical Sciences\n",
      "\n",
      "💡 To customize this:\n",
      "   1. Replace the example data with entries from your field\n",
      "   2. Use the same format: person, title, composite, domain\n",
      "   3. Run the indexing function to add them to the collection\n",
      "   4. Try searching for related concepts in your domain\n",
      "\n",
      "🔍 Exercise 2: Experiment with Search Parameters\n",
      "=============================================\n",
      "🧪 Suggested Experiments:\n",
      "   1. Try these different queries and compare results:\n",
      "      1. 'classical music composition'\n",
      "      2. 'library research methods'\n",
      "      3. 'German baroque composers'\n",
      "      4. 'archaeological documentation'\n",
      "\n",
      "   2. Modify search parameters:\n",
      "      • Change the limit (number of results returned)\n",
      "      • Add domain filters to narrow results\n",
      "      • Try searches in different languages\n",
      "\n",
      "   3. Observe how results change when you:\n",
      "      • Use specific vs. general terms\n",
      "      • Include person names vs. just topics\n",
      "      • Search for historical vs. contemporary concepts\n",
      "\n",
      "📊 Try running this search and observe the results:\n",
      "   search_similar_entities(catalog_collection, 'your_query_here', limit=3)\n",
      "\n",
      "🎭 Exercise 3: Design Entity Resolution Challenges\n",
      "==================================================\n",
      "🎯 Challenge Ideas for Your Domain:\n",
      "\n",
      "📚 History:\n",
      "   • Different people with same name from different eras\n",
      "   • Authors writing under pseudonyms vs. real names\n",
      "   • Historical figures with varying name spellings across sources\n",
      "\n",
      "📚 Literature:\n",
      "   • Authors with similar names from different countries\n",
      "   • Translators vs. original authors\n",
      "   • Contemporary vs. classical authors with same names\n",
      "\n",
      "📚 Science:\n",
      "   • Researchers with common names across different fields\n",
      "   • Junior vs. senior researchers with similar names\n",
      "   • International collaborators with name variations\n",
      "\n",
      "📚 Arts:\n",
      "   • Artists working in different media with similar names\n",
      "   • Contemporary vs. historical artists\n",
      "   • Artists from different cultural traditions\n",
      "\n",
      "🛠️ Steps to Create Your Challenge:\n",
      "   1. Find two entities in your field with potential for confusion\n",
      "   2. Create catalog entries for both using the established format\n",
      "   3. Add them to the collection using the indexing function\n",
      "   4. Search using ambiguous queries that could match either\n",
      "   5. Observe how the system distinguishes between them\n",
      "   6. Identify what signals (domain, dates, context) are most helpful\n",
      "\n",
      "💭 Reflection Questions:\n",
      "   • What types of ambiguity are hardest for the system to resolve?\n",
      "   • Which metadata fields provide the strongest disambiguation signals?\n",
      "   • How might domain experts improve the resolution process?\n",
      "   • What additional data would make disambiguation more reliable?\n",
      "\n",
      "💬 Discussion Prompts for Your Research Area\n",
      "=============================================\n",
      "\n",
      "🔬 Technical Understanding:\n",
      "   • How do embeddings capture meaning differently than traditional search?\n",
      "   • What are the limitations of semantic similarity for your domain?\n",
      "   • When would keyword search still be preferable to semantic search?\n",
      "\n",
      "🎯 Domain Applications:\n",
      "   • What research tasks in your field could benefit from semantic search?\n",
      "   • How might embeddings change literature review processes?\n",
      "   • What new research questions become possible with these tools?\n",
      "\n",
      "⚖️ Ethical Considerations:\n",
      "   • How might embedding models inherit biases from training data?\n",
      "   • What are the implications for discovery and citation patterns?\n",
      "   • How can we ensure equitable access to AI-enhanced research tools?\n",
      "\n",
      "🚀 Future Directions:\n",
      "   • How might multimodal embeddings (text + images) change your field?\n",
      "   • What would discipline-specific embedding models enable?\n",
      "   • How could these tools facilitate interdisciplinary collaboration?\n",
      "\n",
      "📝 Reflection Exercise:\n",
      "   Take 5 minutes to write brief responses to 2-3 questions\n",
      "   that resonate most with your research interests.\n",
      "   Consider sharing insights with the group!\n",
      "\n",
      "🎉 Great work! You're now ready to apply these concepts in your own research.\n",
      "Remember: The best way to learn is by doing. Keep experimenting! 🚀\n"
     ]
    }
   ],
   "source": [
    "# 🧪 HANDS-ON EXERCISE TEMPLATE\n",
    "# Modify this section to experiment with your own data and scenarios\n",
    "\n",
    "def create_your_own_data():\n",
    "    \"\"\"\n",
    "    Template for adding your own domain-specific data.\n",
    "    Adapt this to your field of study or research interest.\n",
    "    \"\"\"\n",
    "    \n",
    "    print(\"🧪 Exercise 1: Add Your Own Domain Data\")\n",
    "    print(\"=\" * 40)\n",
    "    \n",
    "    # Example: Add data relevant to your field\n",
    "    # Modify these examples to match your research area\n",
    "    your_data = {\n",
    "        'person': [\n",
    "            'Einstein, Albert, 1879-1955',\n",
    "            'Curie, Marie, 1867-1934',\n",
    "            # Add your own examples here\n",
    "        ],\n",
    "        'title': [\n",
    "            'On the Electrodynamics of Moving Bodies',\n",
    "            'Recherches sur les substances radioactives',\n",
    "            # Add your own titles here\n",
    "        ],\n",
    "        'composite': [\n",
    "            \"\"\"Title: On the Electrodynamics of Moving Bodies\n",
    "Subjects: Physics; Relativity theory; Space and time\n",
    "Provision information: Leipzig: Annalen der Physik, 1905\"\"\",\n",
    "            \n",
    "            \"\"\"Title: Recherches sur les substances radioactives\n",
    "Subjects: Chemistry; Radioactivity; Physics\n",
    "Provision information: Paris: Gauthier-Villars, 1904\"\"\",\n",
    "            # Add your own composite descriptions here\n",
    "        ],\n",
    "        'domain': [\n",
    "            'Physical Sciences',\n",
    "            'Physical Sciences',\n",
    "            # Add your own domain classifications here\n",
    "        ]\n",
    "    }\n",
    "    \n",
    "    print(\"📝 Your Custom Data:\")\n",
    "    for i in range(len(your_data['person'])):\n",
    "        print(f\"\\n{i+1}. {your_data['person'][i]}\")\n",
    "        print(f\"   Title: {your_data['title'][i]}\")\n",
    "        print(f\"   Domain: {your_data['domain'][i]}\")\n",
    "    \n",
    "    print(\"\\n💡 To customize this:\")\n",
    "    print(\"   1. Replace the example data with entries from your field\")\n",
    "    print(\"   2. Use the same format: person, title, composite, domain\")\n",
    "    print(\"   3. Run the indexing function to add them to the collection\")\n",
    "    print(\"   4. Try searching for related concepts in your domain\")\n",
    "    \n",
    "    return your_data\n",
    "\n",
    "def experiment_with_search_parameters():\n",
    "    \"\"\"\n",
    "    Experiment with different search parameters and observe the results.\n",
    "    \"\"\"\n",
    "    \n",
    "    print(\"\\n🔍 Exercise 2: Experiment with Search Parameters\")\n",
    "    print(\"=\" * 45)\n",
    "    \n",
    "    # Try different query variations\n",
    "    experimental_queries = [\n",
    "        \"classical music composition\",\n",
    "        \"library research methods\",\n",
    "        \"German baroque composers\",\n",
    "        \"archaeological documentation\",\n",
    "        # Add your own experimental queries here\n",
    "    ]\n",
    "    \n",
    "    print(\"🧪 Suggested Experiments:\")\n",
    "    print(\"   1. Try these different queries and compare results:\")\n",
    "    for i, query in enumerate(experimental_queries, 1):\n",
    "        print(f\"      {i}. '{query}'\")\n",
    "    \n",
    "    print(\"\\n   2. Modify search parameters:\")\n",
    "    print(\"      • Change the limit (number of results returned)\")\n",
    "    print(\"      • Add domain filters to narrow results\")\n",
    "    print(\"      • Try searches in different languages\")\n",
    "    \n",
    "    print(\"\\n   3. Observe how results change when you:\")\n",
    "    print(\"      • Use specific vs. general terms\")\n",
    "    print(\"      • Include person names vs. just topics\")\n",
    "    print(\"      • Search for historical vs. contemporary concepts\")\n",
    "    \n",
    "    # Example search to demonstrate\n",
    "    print(\"\\n📊 Try running this search and observe the results:\")\n",
    "    print(\"   search_similar_entities(catalog_collection, 'your_query_here', limit=3)\")\n",
    "\n",
    "def design_entity_resolution_challenge():\n",
    "    \"\"\"\n",
    "    Create your own entity resolution challenges to test the system.\n",
    "    \"\"\"\n",
    "    \n",
    "    print(\"\\n🎭 Exercise 3: Design Entity Resolution Challenges\")\n",
    "    print(\"=\" * 50)\n",
    "    \n",
    "    print(\"🎯 Challenge Ideas for Your Domain:\")\n",
    "    \n",
    "    challenges_by_field = {\n",
    "        \"History\": [\n",
    "            \"Different people with same name from different eras\",\n",
    "            \"Authors writing under pseudonyms vs. real names\",\n",
    "            \"Historical figures with varying name spellings across sources\"\n",
    "        ],\n",
    "        \"Literature\": [\n",
    "            \"Authors with similar names from different countries\",\n",
    "            \"Translators vs. original authors\",\n",
    "            \"Contemporary vs. classical authors with same names\"\n",
    "        ],\n",
    "        \"Science\": [\n",
    "            \"Researchers with common names across different fields\",\n",
    "            \"Junior vs. senior researchers with similar names\",\n",
    "            \"International collaborators with name variations\"\n",
    "        ],\n",
    "        \"Arts\": [\n",
    "            \"Artists working in different media with similar names\",\n",
    "            \"Contemporary vs. historical artists\",\n",
    "            \"Artists from different cultural traditions\"\n",
    "        ]\n",
    "    }\n",
    "    \n",
    "    for field, challenges in challenges_by_field.items():\n",
    "        print(f\"\\n📚 {field}:\")\n",
    "        for challenge in challenges:\n",
    "            print(f\"   • {challenge}\")\n",
    "    \n",
    "    print(\"\\n🛠️ Steps to Create Your Challenge:\")\n",
    "    steps = [\n",
    "        \"1. Find two entities in your field with potential for confusion\",\n",
    "        \"2. Create catalog entries for both using the established format\",\n",
    "        \"3. Add them to the collection using the indexing function\",\n",
    "        \"4. Search using ambiguous queries that could match either\",\n",
    "        \"5. Observe how the system distinguishes between them\",\n",
    "        \"6. Identify what signals (domain, dates, context) are most helpful\"\n",
    "    ]\n",
    "    \n",
    "    for step in steps:\n",
    "        print(f\"   {step}\")\n",
    "    \n",
    "    print(\"\\n💭 Reflection Questions:\")\n",
    "    questions = [\n",
    "        \"What types of ambiguity are hardest for the system to resolve?\",\n",
    "        \"Which metadata fields provide the strongest disambiguation signals?\",\n",
    "        \"How might domain experts improve the resolution process?\",\n",
    "        \"What additional data would make disambiguation more reliable?\"\n",
    "    ]\n",
    "    \n",
    "    for question in questions:\n",
    "        print(f\"   • {question}\")\n",
    "\n",
    "def workshop_discussion_prompts():\n",
    "    \"\"\"\n",
    "    Discussion prompts to deepen understanding and connect to participants' research.\n",
    "    \"\"\"\n",
    "    \n",
    "    print(\"\\n💬 Discussion Prompts for Your Research Area\")\n",
    "    print(\"=\" * 45)\n",
    "    \n",
    "    discussion_topics = {\n",
    "        \"🔬 Technical Understanding\": [\n",
    "            \"How do embeddings capture meaning differently than traditional search?\",\n",
    "            \"What are the limitations of semantic similarity for your domain?\",\n",
    "            \"When would keyword search still be preferable to semantic search?\"\n",
    "        ],\n",
    "        \"🎯 Domain Applications\": [\n",
    "            \"What research tasks in your field could benefit from semantic search?\",\n",
    "            \"How might embeddings change literature review processes?\",\n",
    "            \"What new research questions become possible with these tools?\"\n",
    "        ],\n",
    "        \"⚖️ Ethical Considerations\": [\n",
    "            \"How might embedding models inherit biases from training data?\",\n",
    "            \"What are the implications for discovery and citation patterns?\",\n",
    "            \"How can we ensure equitable access to AI-enhanced research tools?\"\n",
    "        ],\n",
    "        \"🚀 Future Directions\": [\n",
    "            \"How might multimodal embeddings (text + images) change your field?\",\n",
    "            \"What would discipline-specific embedding models enable?\",\n",
    "            \"How could these tools facilitate interdisciplinary collaboration?\"\n",
    "        ]\n",
    "    }\n",
    "    \n",
    "    for category, questions in discussion_topics.items():\n",
    "        print(f\"\\n{category}:\")\n",
    "        for question in questions:\n",
    "            print(f\"   • {question}\")\n",
    "    \n",
    "    print(\"\\n📝 Reflection Exercise:\")\n",
    "    print(\"   Take 5 minutes to write brief responses to 2-3 questions\")\n",
    "    print(\"   that resonate most with your research interests.\")\n",
    "    print(\"   Consider sharing insights with the group!\")\n",
    "\n",
    "# Run the exercise templates\n",
    "your_custom_data = create_your_own_data()\n",
    "experiment_with_search_parameters()\n",
    "design_entity_resolution_challenge()\n",
    "workshop_discussion_prompts()\n",
    "\n",
    "print(\"\\n🎉 Great work! You're now ready to apply these concepts in your own research.\")\n",
    "print(\"Remember: The best way to learn is by doing. Keep experimenting! 🚀\")"
   ]
  },
  {
   "cell_type": "code",
   "execution_count": 16,
   "metadata": {
    "execution": {
     "iopub.execute_input": "2025-07-01T00:02:54.443076Z",
     "iopub.status.busy": "2025-07-01T00:02:54.442286Z",
     "iopub.status.idle": "2025-07-01T00:03:09.588301Z",
     "shell.execute_reply": "2025-07-01T00:03:09.587701Z",
     "shell.execute_reply.started": "2025-07-01T00:02:54.443035Z"
    }
   },
   "outputs": [
    {
     "name": "stdout",
     "output_type": "stream",
     "text": [
      "Requirement already satisfied: weaviate-client in /Users/tt434/.pyenv/versions/dfrnt/lib/python3.11/site-packages (4.8.0)\n",
      "Collecting weaviate-client\n",
      "  Downloading weaviate_client-4.15.4-py3-none-any.whl.metadata (3.7 kB)\n",
      "Requirement already satisfied: openai in /Users/tt434/.pyenv/versions/dfrnt/lib/python3.11/site-packages (1.93.0)\n",
      "Requirement already satisfied: pandas in /Users/tt434/.pyenv/versions/dfrnt/lib/python3.11/site-packages (1.5.3)\n",
      "Collecting pandas\n",
      "  Downloading pandas-2.3.0-cp311-cp311-macosx_11_0_arm64.whl.metadata (91 kB)\n",
      "\u001b[2K     \u001b[38;2;114;156;31m━━━━━━━━━━━━━━━━━━━━━━━━━━━━━━━━━━━━━━━━\u001b[0m \u001b[32m91.2/91.2 kB\u001b[0m \u001b[31m1.6 MB/s\u001b[0m eta \u001b[36m0:00:00\u001b[0m[31m1.3 MB/s\u001b[0m eta \u001b[36m0:00:01\u001b[0m\n",
      "\u001b[?25hRequirement already satisfied: numpy in /Users/tt434/.pyenv/versions/dfrnt/lib/python3.11/site-packages (1.25.2)\n",
      "Collecting numpy\n",
      "  Downloading numpy-2.3.1-cp311-cp311-macosx_14_0_arm64.whl.metadata (62 kB)\n",
      "\u001b[2K     \u001b[38;2;114;156;31m━━━━━━━━━━━━━━━━━━━━━━━━━━━━━━━━━━━━━━━━\u001b[0m \u001b[32m62.1/62.1 kB\u001b[0m \u001b[31m4.2 MB/s\u001b[0m eta \u001b[36m0:00:00\u001b[0m\n",
      "\u001b[?25hRequirement already satisfied: httpx<0.29.0,>=0.26.0 in /Users/tt434/.pyenv/versions/dfrnt/lib/python3.11/site-packages (from weaviate-client) (0.27.0)\n",
      "Collecting validators==0.34.0 (from weaviate-client)\n",
      "  Using cached validators-0.34.0-py3-none-any.whl.metadata (3.8 kB)\n",
      "Requirement already satisfied: authlib<2.0.0,>=1.2.1 in /Users/tt434/.pyenv/versions/dfrnt/lib/python3.11/site-packages (from weaviate-client) (1.3.2)\n",
      "Requirement already satisfied: pydantic<3.0.0,>=2.8.0 in /Users/tt434/.pyenv/versions/dfrnt/lib/python3.11/site-packages (from weaviate-client) (2.11.7)\n",
      "Collecting grpcio<2.0.0,>=1.66.2 (from weaviate-client)\n",
      "  Downloading grpcio-1.73.1-cp311-cp311-macosx_11_0_universal2.whl.metadata (3.8 kB)\n",
      "Collecting grpcio-tools<2.0.0,>=1.66.2 (from weaviate-client)\n",
      "  Downloading grpcio_tools-1.73.1-cp311-cp311-macosx_11_0_universal2.whl.metadata (5.3 kB)\n",
      "Collecting grpcio-health-checking<2.0.0,>=1.66.2 (from weaviate-client)\n",
      "  Downloading grpcio_health_checking-1.73.1-py3-none-any.whl.metadata (1.0 kB)\n",
      "Requirement already satisfied: deprecation<3.0.0,>=2.1.0 in /Users/tt434/.pyenv/versions/dfrnt/lib/python3.11/site-packages (from weaviate-client) (2.1.0)\n",
      "Requirement already satisfied: anyio<5,>=3.5.0 in /Users/tt434/.pyenv/versions/dfrnt/lib/python3.11/site-packages (from openai) (4.0.0)\n",
      "Requirement already satisfied: distro<2,>=1.7.0 in /Users/tt434/.pyenv/versions/dfrnt/lib/python3.11/site-packages (from openai) (1.9.0)\n",
      "Requirement already satisfied: jiter<1,>=0.4.0 in /Users/tt434/.pyenv/versions/dfrnt/lib/python3.11/site-packages (from openai) (0.6.1)\n",
      "Requirement already satisfied: sniffio in /Users/tt434/.pyenv/versions/dfrnt/lib/python3.11/site-packages (from openai) (1.3.0)\n",
      "Requirement already satisfied: tqdm>4 in /Users/tt434/.pyenv/versions/dfrnt/lib/python3.11/site-packages (from openai) (4.66.4)\n",
      "Requirement already satisfied: typing-extensions<5,>=4.11 in /Users/tt434/.pyenv/versions/dfrnt/lib/python3.11/site-packages (from openai) (4.12.2)\n",
      "Requirement already satisfied: python-dateutil>=2.8.2 in /Users/tt434/.pyenv/versions/dfrnt/lib/python3.11/site-packages (from pandas) (2.8.2)\n",
      "Requirement already satisfied: pytz>=2020.1 in /Users/tt434/.pyenv/versions/dfrnt/lib/python3.11/site-packages (from pandas) (2023.3)\n",
      "Collecting tzdata>=2022.7 (from pandas)\n",
      "  Using cached tzdata-2025.2-py2.py3-none-any.whl.metadata (1.4 kB)\n",
      "Requirement already satisfied: idna>=2.8 in /Users/tt434/.pyenv/versions/dfrnt/lib/python3.11/site-packages (from anyio<5,>=3.5.0->openai) (3.4)\n",
      "Requirement already satisfied: cryptography in /Users/tt434/.pyenv/versions/dfrnt/lib/python3.11/site-packages (from authlib<2.0.0,>=1.2.1->weaviate-client) (43.0.1)\n",
      "Requirement already satisfied: packaging in /Users/tt434/.pyenv/versions/dfrnt/lib/python3.11/site-packages (from deprecation<3.0.0,>=2.1.0->weaviate-client) (24.1)\n",
      "Collecting protobuf<7.0.0,>=6.30.0 (from grpcio-health-checking<2.0.0,>=1.66.2->weaviate-client)\n",
      "  Using cached protobuf-6.31.1-cp39-abi3-macosx_10_9_universal2.whl.metadata (593 bytes)\n",
      "Requirement already satisfied: setuptools in /Users/tt434/.pyenv/versions/dfrnt/lib/python3.11/site-packages (from grpcio-tools<2.0.0,>=1.66.2->weaviate-client) (69.5.1)\n",
      "Requirement already satisfied: certifi in /Users/tt434/.pyenv/versions/dfrnt/lib/python3.11/site-packages (from httpx<0.29.0,>=0.26.0->weaviate-client) (2024.8.30)\n",
      "Requirement already satisfied: httpcore==1.* in /Users/tt434/.pyenv/versions/dfrnt/lib/python3.11/site-packages (from httpx<0.29.0,>=0.26.0->weaviate-client) (1.0.9)\n",
      "Requirement already satisfied: h11>=0.16 in /Users/tt434/.pyenv/versions/dfrnt/lib/python3.11/site-packages (from httpcore==1.*->httpx<0.29.0,>=0.26.0->weaviate-client) (0.16.0)\n",
      "Requirement already satisfied: annotated-types>=0.6.0 in /Users/tt434/.pyenv/versions/dfrnt/lib/python3.11/site-packages (from pydantic<3.0.0,>=2.8.0->weaviate-client) (0.7.0)\n",
      "Requirement already satisfied: pydantic-core==2.33.2 in /Users/tt434/.pyenv/versions/dfrnt/lib/python3.11/site-packages (from pydantic<3.0.0,>=2.8.0->weaviate-client) (2.33.2)\n",
      "Requirement already satisfied: typing-inspection>=0.4.0 in /Users/tt434/.pyenv/versions/dfrnt/lib/python3.11/site-packages (from pydantic<3.0.0,>=2.8.0->weaviate-client) (0.4.1)\n",
      "Requirement already satisfied: six>=1.5 in /Users/tt434/.pyenv/versions/dfrnt/lib/python3.11/site-packages (from python-dateutil>=2.8.2->pandas) (1.14.0)\n",
      "Requirement already satisfied: cffi>=1.12 in /Users/tt434/.pyenv/versions/dfrnt/lib/python3.11/site-packages (from cryptography->authlib<2.0.0,>=1.2.1->weaviate-client) (1.16.0)\n",
      "Requirement already satisfied: pycparser in /Users/tt434/.pyenv/versions/dfrnt/lib/python3.11/site-packages (from cffi>=1.12->cryptography->authlib<2.0.0,>=1.2.1->weaviate-client) (2.21)\n",
      "Downloading weaviate_client-4.15.4-py3-none-any.whl (432 kB)\n",
      "\u001b[2K   \u001b[38;2;114;156;31m━━━━━━━━━━━━━━━━━━━━━━━━━━━━━━━━━━━━━━━━\u001b[0m \u001b[32m433.0/433.0 kB\u001b[0m \u001b[31m4.0 MB/s\u001b[0m eta \u001b[36m0:00:00\u001b[0m MB/s\u001b[0m eta \u001b[36m0:00:01\u001b[0m\n",
      "\u001b[?25hUsing cached validators-0.34.0-py3-none-any.whl (43 kB)\n",
      "Downloading pandas-2.3.0-cp311-cp311-macosx_11_0_arm64.whl (10.8 MB)\n",
      "\u001b[2K   \u001b[38;2;114;156;31m━━━━━━━━━━━━━━━━━━━━━━━━━━━━━━━━━━━━━━━━\u001b[0m \u001b[32m10.8/10.8 MB\u001b[0m \u001b[31m9.5 MB/s\u001b[0m eta \u001b[36m0:00:00\u001b[0mm eta \u001b[36m0:00:01\u001b[0m[36m0:00:01\u001b[0m\n",
      "\u001b[?25hDownloading numpy-2.3.1-cp311-cp311-macosx_14_0_arm64.whl (5.4 MB)\n",
      "\u001b[2K   \u001b[38;2;114;156;31m━━━━━━━━━━━━━━━━━━━━━━━━━━━━━━━━━━━━━━━━\u001b[0m \u001b[32m5.4/5.4 MB\u001b[0m \u001b[31m10.9 MB/s\u001b[0m eta \u001b[36m0:00:00\u001b[0m31m11.2 MB/s\u001b[0m eta \u001b[36m0:00:01\u001b[0m\n",
      "\u001b[?25hDownloading grpcio-1.73.1-cp311-cp311-macosx_11_0_universal2.whl (10.6 MB)\n",
      "\u001b[2K   \u001b[38;2;114;156;31m━━━━━━━━━━━━━━━━━━━━━━━━━━━━━━━━━━━━━━━━\u001b[0m \u001b[32m10.6/10.6 MB\u001b[0m \u001b[31m11.6 MB/s\u001b[0m eta \u001b[36m0:00:00\u001b[0mm eta \u001b[36m0:00:01\u001b[0m0:01\u001b[0m01\u001b[0m\n",
      "\u001b[?25hDownloading grpcio_health_checking-1.73.1-py3-none-any.whl (18 kB)\n",
      "Downloading grpcio_tools-1.73.1-cp311-cp311-macosx_11_0_universal2.whl (5.8 MB)\n",
      "\u001b[2K   \u001b[38;2;114;156;31m━━━━━━━━━━━━━━━━━━━━━━━━━━━━━━━━━━━━━━━━\u001b[0m \u001b[32m5.8/5.8 MB\u001b[0m \u001b[31m10.0 MB/s\u001b[0m eta \u001b[36m0:00:00\u001b[0mm eta \u001b[36m0:00:01\u001b[0m[36m0:00:01\u001b[0m\n",
      "\u001b[?25hUsing cached tzdata-2025.2-py2.py3-none-any.whl (347 kB)\n",
      "Using cached protobuf-6.31.1-cp39-abi3-macosx_10_9_universal2.whl (425 kB)\n",
      "Installing collected packages: validators, tzdata, protobuf, numpy, grpcio, pandas, grpcio-tools, grpcio-health-checking, weaviate-client\n",
      "  Attempting uninstall: validators\n",
      "    Found existing installation: validators 0.33.0\n",
      "    Uninstalling validators-0.33.0:\n",
      "      Successfully uninstalled validators-0.33.0\n",
      "  Attempting uninstall: protobuf\n",
      "    Found existing installation: protobuf 5.28.2\n",
      "    Uninstalling protobuf-5.28.2:\n",
      "      Successfully uninstalled protobuf-5.28.2\n",
      "  Attempting uninstall: numpy\n",
      "    Found existing installation: numpy 1.25.2\n",
      "    Uninstalling numpy-1.25.2:\n",
      "      Successfully uninstalled numpy-1.25.2\n",
      "  Attempting uninstall: grpcio\n",
      "    Found existing installation: grpcio 1.66.1\n",
      "    Uninstalling grpcio-1.66.1:\n",
      "      Successfully uninstalled grpcio-1.66.1\n",
      "  Attempting uninstall: pandas\n",
      "    Found existing installation: pandas 1.5.3\n",
      "    Uninstalling pandas-1.5.3:\n",
      "      Successfully uninstalled pandas-1.5.3\n",
      "  Attempting uninstall: grpcio-tools\n",
      "    Found existing installation: grpcio-tools 1.66.1\n",
      "    Uninstalling grpcio-tools-1.66.1:\n",
      "      Successfully uninstalled grpcio-tools-1.66.1\n",
      "  Attempting uninstall: grpcio-health-checking\n",
      "    Found existing installation: grpcio-health-checking 1.66.1\n",
      "    Uninstalling grpcio-health-checking-1.66.1:\n",
      "      Successfully uninstalled grpcio-health-checking-1.66.1\n",
      "  Attempting uninstall: weaviate-client\n",
      "    Found existing installation: weaviate-client 4.8.0\n",
      "    Uninstalling weaviate-client-4.8.0:\n",
      "      Successfully uninstalled weaviate-client-4.8.0\n",
      "\u001b[31mERROR: pip's dependency resolver does not currently take into account all the packages that are installed. This behaviour is the source of the following dependency conflicts.\n",
      "contourpy 1.1.1 requires numpy<2.0,>=1.16; python_version <= \"3.11\", but you have numpy 2.3.1 which is incompatible.\n",
      "gensim 4.3.3 requires numpy<2.0,>=1.18.5, but you have numpy 2.3.1 which is incompatible.\n",
      "oaklib 0.1.73 requires pandas<2.0.0,>=1.5.1, but you have pandas 2.3.0 which is incompatible.\n",
      "matplotlib 3.8.0 requires numpy<2,>=1.21, but you have numpy 2.3.1 which is incompatible.\n",
      "scikit-learn 1.3.1 requires numpy<2.0,>=1.17.3, but you have numpy 2.3.1 which is incompatible.\n",
      "googleapis-common-protos 1.60.0 requires protobuf!=3.20.0,!=3.20.1,!=4.21.1,!=4.21.2,!=4.21.3,!=4.21.4,!=4.21.5,<5.0.0.dev0,>=3.19.5, but you have protobuf 6.31.1 which is incompatible.\n",
      "schema-automator 0.3.0 requires pandas<2.0.0,>=1.3.5, but you have pandas 2.3.0 which is incompatible.\n",
      "graphdatascience 1.10 requires pyarrow<16.0,>=11.0, but you have pyarrow 20.0.0 which is incompatible.\n",
      "scipy 1.11.1 requires numpy<1.28.0,>=1.21.6, but you have numpy 2.3.1 which is incompatible.\n",
      "google-api-core 2.11.1 requires protobuf!=3.20.0,!=3.20.1,!=4.21.0,!=4.21.1,!=4.21.2,!=4.21.3,!=4.21.4,!=4.21.5,<5.0.0.dev0,>=3.19.5, but you have protobuf 6.31.1 which is incompatible.\u001b[0m\u001b[31m\n",
      "\u001b[0mSuccessfully installed grpcio-1.73.1 grpcio-health-checking-1.73.1 grpcio-tools-1.73.1 numpy-2.3.1 pandas-2.3.0 protobuf-6.31.1 tzdata-2025.2 validators-0.34.0 weaviate-client-4.15.4\n",
      "\n",
      "\u001b[1m[\u001b[0m\u001b[34;49mnotice\u001b[0m\u001b[1;39;49m]\u001b[0m\u001b[39;49m A new release of pip is available: \u001b[0m\u001b[31;49m24.0\u001b[0m\u001b[39;49m -> \u001b[0m\u001b[32;49m25.1.1\u001b[0m\n",
      "\u001b[1m[\u001b[0m\u001b[34;49mnotice\u001b[0m\u001b[1;39;49m]\u001b[0m\u001b[39;49m To update, run: \u001b[0m\u001b[32;49mpython3 -m pip install --upgrade pip\u001b[0m\n"
     ]
    }
   ],
   "source": [
    "!pip install --upgrade weaviate-client openai pandas numpy"
   ]
  },
  {
   "cell_type": "code",
   "execution_count": null,
   "metadata": {},
   "outputs": [],
   "source": []
  }
 ],
 "metadata": {
  "colab": {
   "name": "AI Workshop: Text Embeddings and Entity Resolution with Weaviate",
   "provenance": []
  },
  "kernelspec": {
   "display_name": "Python 3 (ipykernel)",
   "language": "python",
   "name": "python3"
  },
  "language_info": {
   "codemirror_mode": {
    "name": "ipython",
    "version": 3
   },
   "file_extension": ".py",
   "mimetype": "text/x-python",
   "name": "python",
   "nbconvert_exporter": "python",
   "pygments_lexer": "ipython3",
   "version": "3.11.4"
  }
 },
 "nbformat": 4,
 "nbformat_minor": 4
}
