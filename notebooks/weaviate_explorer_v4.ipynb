{
 "cells": [
  {
   "cell_type": "markdown",
   "metadata": {
    "id": "workshop_title"
   },
   "source": [
    "# Text Embeddings and Vector Search Workshop\n",
    "## Yale Graduate Students - AI Research Techniques\n",
    "\n",
    "**Learning Objectives:**\n",
    "- Understand how text embeddings encode semantic meaning\n",
    "- Apply embeddings to entity resolution challenges  \n",
    "- Implement classification with minimal labeled data\n",
    "- Use vector databases (Weaviate) for similarity search\n",
    "\n",
    "**Topics Covered:**\n",
    "- Evolution from Word2Vec to modern text embeddings\n",
    "- OpenAI text-embedding-3-small for large-scale applications\n",
    "- Hot-deck imputation with embeddings\n",
    "- Vector databases and similarity search\n",
    "\n",
    "---\n",
    "### Workshop Context: Yale Library Entity Resolution\n",
    "We'll use real data from Yale University Library's catalog to demonstrate how embeddings solve the **Franz Schubert Problem**:\n",
    "- **Franz Schubert (1797-1828)**: Austrian composer 🎵\n",
    "- **Franz Schubert**: German artist/archaeologist, works on photography 📸\n",
    "\n",
    "How do we automatically distinguish these two people with identical names?"
   ]
  },
  {
   "cell_type": "markdown",
   "metadata": {
    "id": "setup_section"
   },
   "source": [
    "## 1. Setup and Installation\n",
    "\n",
    "First, let's install the required packages and set up our environment."
   ]
  },
  {
   "cell_type": "code",
   "execution_count": 1,
   "metadata": {
    "execution": {
     "iopub.execute_input": "2025-07-01T00:15:34.360277Z",
     "iopub.status.busy": "2025-07-01T00:15:34.359783Z",
     "iopub.status.idle": "2025-07-01T00:15:49.108301Z",
     "shell.execute_reply": "2025-07-01T00:15:49.108035Z",
     "shell.execute_reply.started": "2025-07-01T00:15:34.360254Z"
    },
    "id": "install_packages"
   },
   "outputs": [
    {
     "name": "stdout",
     "output_type": "stream",
     "text": [
      "Requirement already satisfied: weaviate-client in /Users/tt434/.pyenv/versions/dfrnt/lib/python3.11/site-packages (4.15.4)\n",
      "Requirement already satisfied: openai in /Users/tt434/.pyenv/versions/dfrnt/lib/python3.11/site-packages (1.93.0)\n",
      "Requirement already satisfied: python-dotenv in /Users/tt434/.pyenv/versions/dfrnt/lib/python3.11/site-packages (1.0.0)\n",
      "Requirement already satisfied: numpy in /Users/tt434/.pyenv/versions/dfrnt/lib/python3.11/site-packages (2.3.1)\n",
      "Requirement already satisfied: pandas in /Users/tt434/.pyenv/versions/dfrnt/lib/python3.11/site-packages (2.3.0)\n",
      "Requirement already satisfied: matplotlib in /Users/tt434/.pyenv/versions/dfrnt/lib/python3.11/site-packages (3.8.0)\n",
      "Requirement already satisfied: seaborn in /Users/tt434/.pyenv/versions/dfrnt/lib/python3.11/site-packages (0.13.0)\n",
      "Requirement already satisfied: plotly in /Users/tt434/.pyenv/versions/dfrnt/lib/python3.11/site-packages (6.2.0)\n",
      "Requirement already satisfied: scikit-learn in /Users/tt434/.pyenv/versions/dfrnt/lib/python3.11/site-packages (1.3.1)\n",
      "Requirement already satisfied: tqdm in /Users/tt434/.pyenv/versions/dfrnt/lib/python3.11/site-packages (4.66.4)\n",
      "Requirement already satisfied: httpx<0.29.0,>=0.26.0 in /Users/tt434/.pyenv/versions/dfrnt/lib/python3.11/site-packages (from weaviate-client) (0.27.0)\n",
      "Requirement already satisfied: validators==0.34.0 in /Users/tt434/.pyenv/versions/dfrnt/lib/python3.11/site-packages (from weaviate-client) (0.34.0)\n",
      "Requirement already satisfied: authlib<2.0.0,>=1.2.1 in /Users/tt434/.pyenv/versions/dfrnt/lib/python3.11/site-packages (from weaviate-client) (1.3.2)\n",
      "Requirement already satisfied: pydantic<3.0.0,>=2.8.0 in /Users/tt434/.pyenv/versions/dfrnt/lib/python3.11/site-packages (from weaviate-client) (2.11.7)\n",
      "Requirement already satisfied: grpcio<2.0.0,>=1.66.2 in /Users/tt434/.pyenv/versions/dfrnt/lib/python3.11/site-packages (from weaviate-client) (1.73.1)\n",
      "Requirement already satisfied: grpcio-tools<2.0.0,>=1.66.2 in /Users/tt434/.pyenv/versions/dfrnt/lib/python3.11/site-packages (from weaviate-client) (1.73.1)\n",
      "Requirement already satisfied: grpcio-health-checking<2.0.0,>=1.66.2 in /Users/tt434/.pyenv/versions/dfrnt/lib/python3.11/site-packages (from weaviate-client) (1.73.1)\n",
      "Requirement already satisfied: deprecation<3.0.0,>=2.1.0 in /Users/tt434/.pyenv/versions/dfrnt/lib/python3.11/site-packages (from weaviate-client) (2.1.0)\n",
      "Requirement already satisfied: anyio<5,>=3.5.0 in /Users/tt434/.pyenv/versions/dfrnt/lib/python3.11/site-packages (from openai) (4.0.0)\n",
      "Requirement already satisfied: distro<2,>=1.7.0 in /Users/tt434/.pyenv/versions/dfrnt/lib/python3.11/site-packages (from openai) (1.9.0)\n",
      "Requirement already satisfied: jiter<1,>=0.4.0 in /Users/tt434/.pyenv/versions/dfrnt/lib/python3.11/site-packages (from openai) (0.6.1)\n",
      "Requirement already satisfied: sniffio in /Users/tt434/.pyenv/versions/dfrnt/lib/python3.11/site-packages (from openai) (1.3.0)\n",
      "Requirement already satisfied: typing-extensions<5,>=4.11 in /Users/tt434/.pyenv/versions/dfrnt/lib/python3.11/site-packages (from openai) (4.12.2)\n",
      "Requirement already satisfied: python-dateutil>=2.8.2 in /Users/tt434/.pyenv/versions/dfrnt/lib/python3.11/site-packages (from pandas) (2.8.2)\n",
      "Requirement already satisfied: pytz>=2020.1 in /Users/tt434/.pyenv/versions/dfrnt/lib/python3.11/site-packages (from pandas) (2023.3)\n",
      "Requirement already satisfied: tzdata>=2022.7 in /Users/tt434/.pyenv/versions/dfrnt/lib/python3.11/site-packages (from pandas) (2025.2)\n",
      "Requirement already satisfied: contourpy>=1.0.1 in /Users/tt434/.pyenv/versions/dfrnt/lib/python3.11/site-packages (from matplotlib) (1.1.1)\n",
      "Requirement already satisfied: cycler>=0.10 in /Users/tt434/.pyenv/versions/dfrnt/lib/python3.11/site-packages (from matplotlib) (0.11.0)\n",
      "Requirement already satisfied: fonttools>=4.22.0 in /Users/tt434/.pyenv/versions/dfrnt/lib/python3.11/site-packages (from matplotlib) (4.42.1)\n",
      "Requirement already satisfied: kiwisolver>=1.0.1 in /Users/tt434/.pyenv/versions/dfrnt/lib/python3.11/site-packages (from matplotlib) (1.4.5)\n",
      "Collecting numpy\n",
      "  Using cached numpy-1.26.4-cp311-cp311-macosx_11_0_arm64.whl.metadata (114 kB)\n",
      "Requirement already satisfied: packaging>=20.0 in /Users/tt434/.pyenv/versions/dfrnt/lib/python3.11/site-packages (from matplotlib) (24.1)\n",
      "Requirement already satisfied: pillow>=6.2.0 in /Users/tt434/.pyenv/versions/dfrnt/lib/python3.11/site-packages (from matplotlib) (10.0.1)\n",
      "Requirement already satisfied: pyparsing>=2.3.1 in /Users/tt434/.pyenv/versions/dfrnt/lib/python3.11/site-packages (from matplotlib) (2.4.6)\n",
      "Requirement already satisfied: narwhals>=1.15.1 in /Users/tt434/.pyenv/versions/dfrnt/lib/python3.11/site-packages (from plotly) (1.44.0)\n",
      "Requirement already satisfied: scipy>=1.5.0 in /Users/tt434/.pyenv/versions/dfrnt/lib/python3.11/site-packages (from scikit-learn) (1.11.1)\n",
      "Requirement already satisfied: joblib>=1.1.1 in /Users/tt434/.pyenv/versions/dfrnt/lib/python3.11/site-packages (from scikit-learn) (1.3.2)\n",
      "Requirement already satisfied: threadpoolctl>=2.0.0 in /Users/tt434/.pyenv/versions/dfrnt/lib/python3.11/site-packages (from scikit-learn) (3.2.0)\n",
      "Requirement already satisfied: idna>=2.8 in /Users/tt434/.pyenv/versions/dfrnt/lib/python3.11/site-packages (from anyio<5,>=3.5.0->openai) (3.4)\n",
      "Requirement already satisfied: cryptography in /Users/tt434/.pyenv/versions/dfrnt/lib/python3.11/site-packages (from authlib<2.0.0,>=1.2.1->weaviate-client) (43.0.1)\n",
      "Requirement already satisfied: protobuf<7.0.0,>=6.30.0 in /Users/tt434/.pyenv/versions/dfrnt/lib/python3.11/site-packages (from grpcio-health-checking<2.0.0,>=1.66.2->weaviate-client) (6.31.1)\n",
      "Requirement already satisfied: setuptools in /Users/tt434/.pyenv/versions/dfrnt/lib/python3.11/site-packages (from grpcio-tools<2.0.0,>=1.66.2->weaviate-client) (69.5.1)\n",
      "Requirement already satisfied: certifi in /Users/tt434/.pyenv/versions/dfrnt/lib/python3.11/site-packages (from httpx<0.29.0,>=0.26.0->weaviate-client) (2024.8.30)\n",
      "Requirement already satisfied: httpcore==1.* in /Users/tt434/.pyenv/versions/dfrnt/lib/python3.11/site-packages (from httpx<0.29.0,>=0.26.0->weaviate-client) (1.0.9)\n",
      "Requirement already satisfied: h11>=0.16 in /Users/tt434/.pyenv/versions/dfrnt/lib/python3.11/site-packages (from httpcore==1.*->httpx<0.29.0,>=0.26.0->weaviate-client) (0.16.0)\n",
      "Requirement already satisfied: annotated-types>=0.6.0 in /Users/tt434/.pyenv/versions/dfrnt/lib/python3.11/site-packages (from pydantic<3.0.0,>=2.8.0->weaviate-client) (0.7.0)\n",
      "Requirement already satisfied: pydantic-core==2.33.2 in /Users/tt434/.pyenv/versions/dfrnt/lib/python3.11/site-packages (from pydantic<3.0.0,>=2.8.0->weaviate-client) (2.33.2)\n",
      "Requirement already satisfied: typing-inspection>=0.4.0 in /Users/tt434/.pyenv/versions/dfrnt/lib/python3.11/site-packages (from pydantic<3.0.0,>=2.8.0->weaviate-client) (0.4.1)\n",
      "Requirement already satisfied: six>=1.5 in /Users/tt434/.pyenv/versions/dfrnt/lib/python3.11/site-packages (from python-dateutil>=2.8.2->pandas) (1.14.0)\n",
      "Requirement already satisfied: cffi>=1.12 in /Users/tt434/.pyenv/versions/dfrnt/lib/python3.11/site-packages (from cryptography->authlib<2.0.0,>=1.2.1->weaviate-client) (1.16.0)\n",
      "Requirement already satisfied: pycparser in /Users/tt434/.pyenv/versions/dfrnt/lib/python3.11/site-packages (from cffi>=1.12->cryptography->authlib<2.0.0,>=1.2.1->weaviate-client) (2.21)\n",
      "Using cached numpy-1.26.4-cp311-cp311-macosx_11_0_arm64.whl (14.0 MB)\n",
      "Installing collected packages: numpy\n",
      "  Attempting uninstall: numpy\n",
      "    Found existing installation: numpy 2.3.1\n",
      "    Uninstalling numpy-2.3.1:\n",
      "      Successfully uninstalled numpy-2.3.1\n",
      "\u001b[31mERROR: pip's dependency resolver does not currently take into account all the packages that are installed. This behaviour is the source of the following dependency conflicts.\n",
      "schema-automator 0.3.0 requires pandas<2.0.0,>=1.3.5, but you have pandas 2.3.0 which is incompatible.\n",
      "graphdatascience 1.10 requires pyarrow<16.0,>=11.0, but you have pyarrow 20.0.0 which is incompatible.\u001b[0m\u001b[31m\n",
      "\u001b[0mSuccessfully installed numpy-1.26.4\n",
      "\n",
      "\u001b[1m[\u001b[0m\u001b[34;49mnotice\u001b[0m\u001b[1;39;49m]\u001b[0m\u001b[39;49m A new release of pip is available: \u001b[0m\u001b[31;49m24.0\u001b[0m\u001b[39;49m -> \u001b[0m\u001b[32;49m25.1.1\u001b[0m\n",
      "\u001b[1m[\u001b[0m\u001b[34;49mnotice\u001b[0m\u001b[1;39;49m]\u001b[0m\u001b[39;49m To update, run: \u001b[0m\u001b[32;49mpython3 -m pip install --upgrade pip\u001b[0m\n",
      "✅ Packages installed successfully!\n"
     ]
    }
   ],
   "source": [
    "# Install required packages\n",
    "!pip install weaviate-client openai python-dotenv numpy pandas matplotlib seaborn plotly scikit-learn tqdm\n",
    "\n",
    "# Import essential libraries\n",
    "import os\n",
    "import json\n",
    "import time\n",
    "import numpy as np\n",
    "import pandas as pd\n",
    "import matplotlib.pyplot as plt\n",
    "import seaborn as sns\n",
    "import plotly.express as px\n",
    "import plotly.graph_objects as go\n",
    "from plotly.subplots import make_subplots\n",
    "from sklearn.metrics.pairwise import cosine_similarity\n",
    "from sklearn.decomposition import PCA\n",
    "from sklearn.manifold import TSNE\n",
    "from tqdm import tqdm\n",
    "import warnings\n",
    "warnings.filterwarnings('ignore')\n",
    "\n",
    "print(\"✅ Packages installed successfully!\")"
   ]
  },
  {
   "cell_type": "markdown",
   "metadata": {
    "id": "api_setup"
   },
   "source": [
    "## 2. API Configuration\n",
    "\n",
    "Set up your OpenAI API key for embeddings. **Keep your API key secure!**"
   ]
  },
  {
   "cell_type": "code",
   "execution_count": 2,
   "metadata": {
    "execution": {
     "iopub.execute_input": "2025-07-01T00:15:49.109177Z",
     "iopub.status.busy": "2025-07-01T00:15:49.109042Z",
     "iopub.status.idle": "2025-07-01T00:15:52.223380Z",
     "shell.execute_reply": "2025-07-01T00:15:52.222506Z",
     "shell.execute_reply.started": "2025-07-01T00:15:49.109164Z"
    },
    "id": "configure_apis"
   },
   "outputs": [
    {
     "name": "stdin",
     "output_type": "stream",
     "text": [
      "Enter your OpenAI API key:  ········\n"
     ]
    },
    {
     "name": "stdout",
     "output_type": "stream",
     "text": [
      "✅ OpenAI client configured successfully!\n",
      "💰 Cost for this workshop: ~$0.50-1.00 (text-embedding-3-small is very affordable)\n"
     ]
    }
   ],
   "source": [
    "import getpass\n",
    "from openai import OpenAI\n",
    "\n",
    "# Securely input your OpenAI API key\n",
    "# You can get one at: https://platform.openai.com/api-keys\n",
    "openai_api_key = getpass.getpass(\"Enter your OpenAI API key: \")\n",
    "\n",
    "# Initialize OpenAI client\n",
    "openai_client = OpenAI(api_key=openai_api_key)\n",
    "\n",
    "print(\"✅ OpenAI client configured successfully!\")\n",
    "print(f\"💰 Cost for this workshop: ~$0.50-1.00 (text-embedding-3-small is very affordable)\")"
   ]
  },
  {
   "cell_type": "markdown",
   "metadata": {
    "id": "theory_section"
   },
   "source": [
    "## 3. Understanding Text Embeddings\n",
    "\n",
    "### What are embeddings?\n",
    "Text embeddings convert words/sentences into numerical vectors that capture semantic meaning.\n",
    "\n",
    "**Evolution:**\n",
    "- **Word2Vec (2013)**: Each word → vector, but no context\n",
    "- **BERT (2018)**: Context-aware, but computationally expensive  \n",
    "- **Modern embeddings (2023+)**: Efficient, high-quality, large context\n",
    "\n",
    "### Why OpenAI text-embedding-3-small?\n",
    "- **1536 dimensions**: Rich semantic representation\n",
    "- **$0.02 per 1M tokens**: Extremely cost-effective\n",
    "- **8192 token context**: Handles full documents\n",
    "- **Multilingual**: Works across languages"
   ]
  },
  {
   "cell_type": "markdown",
   "metadata": {
    "id": "sample_data"
   },
   "source": [
    "## 4. Sample Data: Yale Library Catalog Records\n",
    "\n",
    "Let's create sample library catalog records that demonstrate the entity resolution challenge."
   ]
  },
  {
   "cell_type": "code",
   "execution_count": 3,
   "metadata": {
    "execution": {
     "iopub.execute_input": "2025-07-01T00:16:01.667866Z",
     "iopub.status.busy": "2025-07-01T00:16:01.667180Z",
     "iopub.status.idle": "2025-07-01T00:16:01.693885Z",
     "shell.execute_reply": "2025-07-01T00:16:01.693209Z",
     "shell.execute_reply.started": "2025-07-01T00:16:01.667817Z"
    },
    "id": "create_sample_data"
   },
   "outputs": [
    {
     "name": "stdout",
     "output_type": "stream",
     "text": [
      "📚 Created 6 sample library catalog records\n",
      "\n",
      "🎯 Entity Resolution Challenge:\n",
      "• 3 records for 'Franz Schubert'\n",
      "• 2 music records\n",
      "• 1 documentary records\n"
     ]
    },
    {
     "data": {
      "text/html": [
       "<div>\n",
       "<style scoped>\n",
       "    .dataframe tbody tr th:only-of-type {\n",
       "        vertical-align: middle;\n",
       "    }\n",
       "\n",
       "    .dataframe tbody tr th {\n",
       "        vertical-align: top;\n",
       "    }\n",
       "\n",
       "    .dataframe thead th {\n",
       "        text-align: right;\n",
       "    }\n",
       "</style>\n",
       "<table border=\"1\" class=\"dataframe\">\n",
       "  <thead>\n",
       "    <tr style=\"text-align: right;\">\n",
       "      <th></th>\n",
       "      <th>person</th>\n",
       "      <th>title</th>\n",
       "      <th>classification</th>\n",
       "    </tr>\n",
       "  </thead>\n",
       "  <tbody>\n",
       "    <tr>\n",
       "      <th>0</th>\n",
       "      <td>Schubert, Franz</td>\n",
       "      <td>Archäologie und Photographie: fünfzig Beispiel...</td>\n",
       "      <td>Documentary and Technical Arts</td>\n",
       "    </tr>\n",
       "    <tr>\n",
       "      <th>1</th>\n",
       "      <td>Schubert, Franz, 1797-1828</td>\n",
       "      <td>Quartette für zwei Violinen, Viola, Violoncell</td>\n",
       "      <td>Music, Sound, and Sonic Arts</td>\n",
       "    </tr>\n",
       "    <tr>\n",
       "      <th>2</th>\n",
       "      <td>García Lorca, Federico, 1898-1936</td>\n",
       "      <td>Romancero gitano</td>\n",
       "      <td>Literature and Narrative Arts</td>\n",
       "    </tr>\n",
       "    <tr>\n",
       "      <th>3</th>\n",
       "      <td>Machado de Assis, Joaquim Maria, 1839-1908</td>\n",
       "      <td>Dom Casmurro</td>\n",
       "      <td>Literature and Narrative Arts</td>\n",
       "    </tr>\n",
       "    <tr>\n",
       "      <th>4</th>\n",
       "      <td>Schubert, Franz, 1797-1828</td>\n",
       "      <td>Die schöne Müllerin</td>\n",
       "      <td>Music, Sound, and Sonic Arts</td>\n",
       "    </tr>\n",
       "  </tbody>\n",
       "</table>\n",
       "</div>"
      ],
      "text/plain": [
       "                                       person  \\\n",
       "0                             Schubert, Franz   \n",
       "1                  Schubert, Franz, 1797-1828   \n",
       "2           García Lorca, Federico, 1898-1936   \n",
       "3  Machado de Assis, Joaquim Maria, 1839-1908   \n",
       "4                  Schubert, Franz, 1797-1828   \n",
       "\n",
       "                                               title  \\\n",
       "0  Archäologie und Photographie: fünfzig Beispiel...   \n",
       "1     Quartette für zwei Violinen, Viola, Violoncell   \n",
       "2                                   Romancero gitano   \n",
       "3                                       Dom Casmurro   \n",
       "4                                Die schöne Müllerin   \n",
       "\n",
       "                   classification  \n",
       "0  Documentary and Technical Arts  \n",
       "1    Music, Sound, and Sonic Arts  \n",
       "2   Literature and Narrative Arts  \n",
       "3   Literature and Narrative Arts  \n",
       "4    Music, Sound, and Sonic Arts  "
      ]
     },
     "metadata": {},
     "output_type": "display_data"
    }
   ],
   "source": [
    "# Yale Library catalog records - based on real MARC data\n",
    "library_records = [\n",
    "    {\n",
    "        \"personId\": \"53144#Agent700-22\",\n",
    "        \"person\": \"Schubert, Franz\",\n",
    "        \"title\": \"Archäologie und Photographie: fünfzig Beispiele zur Geschichte und Methode\",\n",
    "        \"subjects\": \"Photography in archaeology\",\n",
    "        \"provision\": \"Mainz: P. von Zabern, 1978\",\n",
    "        \"composite\": \"Title: Archäologie und Photographie: fünfzig Beispiele zur Geschichte und Methode\\nSubjects: Photography in archaeology\\nProvision information: Mainz: P. von Zabern, 1978\",\n",
    "        \"roles\": \"Contributor\",\n",
    "        \"classification\": \"Documentary and Technical Arts\"\n",
    "    },\n",
    "    {\n",
    "        \"personId\": \"772230#Agent100-15\", \n",
    "        \"person\": \"Schubert, Franz, 1797-1828\",\n",
    "        \"title\": \"Quartette für zwei Violinen, Viola, Violoncell\",\n",
    "        \"subjects\": \"String quartets--Scores\",\n",
    "        \"provision\": \"Leipzig: C.F. Peters, [19--?]\",\n",
    "        \"composite\": \"Title: Quartette für zwei Violinen, Viola, Violoncell\\nSubjects: String quartets--Scores\\nProvision information: Leipzig: C.F. Peters, [19--?]\",\n",
    "        \"roles\": \"Composer\",\n",
    "        \"classification\": \"Music, Sound, and Sonic Arts\"\n",
    "    },\n",
    "    {\n",
    "        \"personId\": \"89445#Agent100-33\",\n",
    "        \"person\": \"García Lorca, Federico, 1898-1936\",\n",
    "        \"title\": \"Romancero gitano\", \n",
    "        \"subjects\": \"Spanish poetry--20th century\",\n",
    "        \"provision\": \"Madrid: Revista de Occidente, 1928\",\n",
    "        \"composite\": \"Title: Romancero gitano\\nSubjects: Spanish poetry--20th century\\nProvision information: Madrid: Revista de Occidente, 1928\",\n",
    "        \"roles\": \"Author\",\n",
    "        \"classification\": \"Literature and Narrative Arts\"\n",
    "    },\n",
    "    {\n",
    "        \"personId\": \"156782#Agent700-44\",\n",
    "        \"person\": \"Machado de Assis, Joaquim Maria, 1839-1908\",\n",
    "        \"title\": \"Dom Casmurro\",\n",
    "        \"subjects\": \"Brazilian fiction--19th century\", \n",
    "        \"provision\": \"Rio de Janeiro: H. Garnier, 1899\",\n",
    "        \"composite\": \"Title: Dom Casmurro\\nSubjects: Brazilian fiction--19th century\\nProvision information: Rio de Janeiro: H. Garnier, 1899\",\n",
    "        \"roles\": \"Author\",\n",
    "        \"classification\": \"Literature and Narrative Arts\"\n",
    "    },\n",
    "    {\n",
    "        \"personId\": \"34567#Agent100-78\",\n",
    "        \"person\": \"Schubert, Franz, 1797-1828\",\n",
    "        \"title\": \"Die schöne Müllerin\",\n",
    "        \"subjects\": \"Songs (High voice) with piano\",\n",
    "        \"provision\": \"Wien: Diabelli, 1824\", \n",
    "        \"composite\": \"Title: Die schöne Müllerin\\nSubjects: Songs (High voice) with piano\\nProvision information: Wien: Diabelli, 1824\",\n",
    "        \"roles\": \"Composer\",\n",
    "        \"classification\": \"Music, Sound, and Sonic Arts\"\n",
    "    },\n",
    "    {\n",
    "        \"personId\": \"98123#Agent700-12\",\n",
    "        \"person\": \"Vargas Llosa, Mario, 1936-\",\n",
    "        \"title\": \"La ciudad y los perros\",\n",
    "        \"subjects\": \"Peruvian fiction--20th century\",\n",
    "        \"provision\": \"Barcelona: Seix Barral, 1963\",\n",
    "        \"composite\": \"Title: La ciudad y los perros\\nSubjects: Peruvian fiction--20th century\\nProvision information: Barcelona: Seix Barral, 1963\",\n",
    "        \"roles\": \"Author\", \n",
    "        \"classification\": \"Literature and Narrative Arts\"\n",
    "    }\n",
    "]\n",
    "\n",
    "# Convert to DataFrame for easier handling\n",
    "df = pd.DataFrame(library_records)\n",
    "print(f\"📚 Created {len(df)} sample library catalog records\")\n",
    "print(\"\\n🎯 Entity Resolution Challenge:\")\n",
    "print(f\"• {len(df[df['person'].str.contains('Schubert, Franz')])} records for 'Franz Schubert'\")\n",
    "print(f\"• {len(df[df['classification'] == 'Music, Sound, and Sonic Arts'])} music records\")\n",
    "print(f\"• {len(df[df['classification'] == 'Documentary and Technical Arts'])} documentary records\")\n",
    "\n",
    "# Display the data\n",
    "display(df[['person', 'title', 'classification']].head())"
   ]
  },
  {
   "cell_type": "markdown",
   "metadata": {
    "id": "generate_embeddings"
   },
   "source": [
    "## 5. Generating Text Embeddings\n",
    "\n",
    "Now let's generate embeddings for our library records using OpenAI's text-embedding-3-small model."
   ]
  },
  {
   "cell_type": "code",
   "execution_count": 4,
   "metadata": {
    "execution": {
     "iopub.execute_input": "2025-07-01T00:16:12.967030Z",
     "iopub.status.busy": "2025-07-01T00:16:12.966541Z",
     "iopub.status.idle": "2025-07-01T00:16:12.977723Z",
     "shell.execute_reply": "2025-07-01T00:16:12.977033Z",
     "shell.execute_reply.started": "2025-07-01T00:16:12.967000Z"
    },
    "id": "embedding_function"
   },
   "outputs": [
    {
     "name": "stdout",
     "output_type": "stream",
     "text": [
      "✅ Embedding functions defined!\n"
     ]
    }
   ],
   "source": [
    "def get_embedding(text, model=\"text-embedding-3-small\"):\n",
    "    \"\"\"Get embedding for a single text using OpenAI API\"\"\"\n",
    "    try:\n",
    "        # Clean the text\n",
    "        text = str(text).replace(\"\\n\", \" \").strip()\n",
    "        if not text:\n",
    "            return None\n",
    "            \n",
    "        response = openai_client.embeddings.create(\n",
    "            model=model,\n",
    "            input=text\n",
    "        )\n",
    "        return response.data[0].embedding\n",
    "    except Exception as e:\n",
    "        print(f\"Error generating embedding: {e}\")\n",
    "        return None\n",
    "\n",
    "def get_embeddings_batch(texts, model=\"text-embedding-3-small\", batch_size=32):\n",
    "    \"\"\"Get embeddings for multiple texts efficiently\"\"\"\n",
    "    all_embeddings = []\n",
    "    total_tokens = 0\n",
    "    \n",
    "    # Process in batches\n",
    "    for i in tqdm(range(0, len(texts), batch_size), desc=\"Generating embeddings\"):\n",
    "        batch = texts[i:i+batch_size]\n",
    "        \n",
    "        # Clean texts\n",
    "        cleaned_batch = [str(text).replace(\"\\n\", \" \").strip() for text in batch]\n",
    "        \n",
    "        try:\n",
    "            response = openai_client.embeddings.create(\n",
    "                model=model,\n",
    "                input=cleaned_batch\n",
    "            )\n",
    "            \n",
    "            # Extract embeddings\n",
    "            batch_embeddings = [item.embedding for item in response.data]\n",
    "            all_embeddings.extend(batch_embeddings)\n",
    "            \n",
    "            # Track token usage\n",
    "            total_tokens += response.usage.total_tokens\n",
    "            \n",
    "        except Exception as e:\n",
    "            print(f\"Error in batch {i//batch_size + 1}: {e}\")\n",
    "            # Add None for failed embeddings\n",
    "            all_embeddings.extend([None] * len(batch))\n",
    "    \n",
    "    cost = total_tokens * 0.00000002  # $0.02 per 1M tokens\n",
    "    print(f\"\\n💰 Cost: ${cost:.4f} ({total_tokens:,} tokens)\")\n",
    "    \n",
    "    return all_embeddings\n",
    "\n",
    "print(\"✅ Embedding functions defined!\")"
   ]
  },
  {
   "cell_type": "code",
   "execution_count": 5,
   "metadata": {
    "execution": {
     "iopub.execute_input": "2025-07-01T00:16:19.981426Z",
     "iopub.status.busy": "2025-07-01T00:16:19.980765Z",
     "iopub.status.idle": "2025-07-01T00:16:21.256154Z",
     "shell.execute_reply": "2025-07-01T00:16:21.255483Z",
     "shell.execute_reply.started": "2025-07-01T00:16:19.981384Z"
    },
    "id": "generate_embeddings_step"
   },
   "outputs": [
    {
     "name": "stdout",
     "output_type": "stream",
     "text": [
      "🔄 Generating embeddings for library records...\n",
      "\n",
      "Generating embeddings for 'person' field...\n"
     ]
    },
    {
     "name": "stderr",
     "output_type": "stream",
     "text": [
      "Generating embeddings: 100%|█████████████████████████████████████████████████████████████████████████████████████████████████████████████████████████████████████| 1/1 [00:00<00:00,  1.56it/s]\n"
     ]
    },
    {
     "name": "stdout",
     "output_type": "stream",
     "text": [
      "\n",
      "💰 Cost: $0.0000 (74 tokens)\n",
      "  ✅ 6/6 embeddings generated\n",
      "  📏 Average embedding length: 1536 dimensions\n",
      "\n",
      "Generating embeddings for 'title' field...\n"
     ]
    },
    {
     "name": "stderr",
     "output_type": "stream",
     "text": [
      "Generating embeddings: 100%|█████████████████████████████████████████████████████████████████████████████████████████████████████████████████████████████████████| 1/1 [00:00<00:00,  3.59it/s]\n"
     ]
    },
    {
     "name": "stdout",
     "output_type": "stream",
     "text": [
      "\n",
      "💰 Cost: $0.0000 (52 tokens)\n",
      "  ✅ 6/6 embeddings generated\n",
      "  📏 Average embedding length: 1536 dimensions\n",
      "\n",
      "Generating embeddings for 'composite' field...\n"
     ]
    },
    {
     "name": "stderr",
     "output_type": "stream",
     "text": [
      "Generating embeddings: 100%|█████████████████████████████████████████████████████████████████████████████████████████████████████████████████████████████████████| 1/1 [00:00<00:00,  3.23it/s]"
     ]
    },
    {
     "name": "stdout",
     "output_type": "stream",
     "text": [
      "\n",
      "💰 Cost: $0.0000 (194 tokens)\n",
      "  ✅ 6/6 embeddings generated\n",
      "  📏 Average embedding length: 1536 dimensions\n",
      "\n",
      "🎉 All embeddings generated! Total fields: 3\n"
     ]
    },
    {
     "name": "stderr",
     "output_type": "stream",
     "text": [
      "\n"
     ]
    }
   ],
   "source": [
    "# Generate embeddings for different fields\n",
    "print(\"🔄 Generating embeddings for library records...\")\n",
    "\n",
    "# Generate embeddings for each field type\n",
    "fields_to_embed = ['person', 'title', 'composite']\n",
    "embeddings = {}\n",
    "\n",
    "for field in fields_to_embed:\n",
    "    print(f\"\\nGenerating embeddings for '{field}' field...\")\n",
    "    texts = df[field].tolist()\n",
    "    field_embeddings = get_embeddings_batch(texts)\n",
    "    embeddings[field] = field_embeddings\n",
    "    \n",
    "    # Add to DataFrame\n",
    "    df[f'{field}_embedding'] = field_embeddings\n",
    "    \n",
    "    # Show statistics\n",
    "    valid_embeddings = sum(1 for emb in field_embeddings if emb is not None)\n",
    "    if valid_embeddings > 0:\n",
    "        avg_length = np.mean([len(emb) for emb in field_embeddings if emb is not None])\n",
    "        print(f\"  ✅ {valid_embeddings}/{len(field_embeddings)} embeddings generated\")\n",
    "        print(f\"  📏 Average embedding length: {avg_length:.0f} dimensions\")\n",
    "\n",
    "print(f\"\\n🎉 All embeddings generated! Total fields: {len(fields_to_embed)}\")"
   ]
  },
  {
   "cell_type": "markdown",
   "metadata": {
    "id": "visualize_embeddings"
   },
   "source": [
    "## 6. Visualizing Embeddings in Vector Space\n",
    "\n",
    "Let's visualize how embeddings cluster semantically similar content together."
   ]
  },
  {
   "cell_type": "code",
   "execution_count": 6,
   "metadata": {
    "execution": {
     "iopub.execute_input": "2025-07-01T00:16:27.623354Z",
     "iopub.status.busy": "2025-07-01T00:16:27.622862Z",
     "iopub.status.idle": "2025-07-01T00:16:28.428357Z",
     "shell.execute_reply": "2025-07-01T00:16:28.428088Z",
     "shell.execute_reply.started": "2025-07-01T00:16:27.623321Z"
    },
    "id": "visualize_person_embeddings"
   },
   "outputs": [
    {
     "name": "stdout",
     "output_type": "stream",
     "text": [
      "📊 Visualizing 6 person embeddings...\n"
     ]
    },
    {
     "data": {
      "application/vnd.plotly.v1+json": {
       "config": {
        "plotlyServerURL": "https://plot.ly"
       },
       "data": [
        {
         "hovertemplate": "<b>%{hovertext}</b><br><br>Classification=Documentary and Technical Arts<br>x=%{x}<br>y=%{y}<extra></extra>",
         "hovertext": [
          "Schubert, Franz"
         ],
         "legendgroup": "Documentary and Technical Arts",
         "marker": {
          "color": "#636efa",
          "line": {
           "color": "white",
           "width": 2
          },
          "size": 12,
          "symbol": "circle"
         },
         "mode": "markers",
         "name": "Documentary and Technical Arts",
         "orientation": "v",
         "showlegend": true,
         "type": "scatter",
         "x": {
          "_inputArray": {
           "0": 1419.7279052734375,
           "bdata": "S3exRA==",
           "dtype": "f4",
           "shape": "1"
          },
          "bdata": "S3exRA==",
          "dtype": "f4"
         },
         "xaxis": "x",
         "y": {
          "_inputArray": {
           "0": 40.021934509277344,
           "bdata": "dhYgQg==",
           "dtype": "f4",
           "shape": "1"
          },
          "bdata": "dhYgQg==",
          "dtype": "f4"
         },
         "yaxis": "y"
        },
        {
         "hovertemplate": "<b>%{hovertext}</b><br><br>Classification=Music, Sound, and Sonic Arts<br>x=%{x}<br>y=%{y}<extra></extra>",
         "hovertext": [
          "Schubert, Franz, 1797-1828",
          "Schubert, Franz, 1797-1828"
         ],
         "legendgroup": "Music, Sound, and Sonic Arts",
         "marker": {
          "color": "#EF553B",
          "line": {
           "color": "white",
           "width": 2
          },
          "size": 12,
          "symbol": "circle"
         },
         "mode": "markers",
         "name": "Music, Sound, and Sonic Arts",
         "orientation": "v",
         "showlegend": true,
         "type": "scatter",
         "x": {
          "_inputArray": {
           "0": 793.1014404296875,
           "1": 793.1014404296875,
           "bdata": "fkZGRH5GRkQ=",
           "dtype": "f4",
           "shape": "2"
          },
          "bdata": "fkZGRH5GRkQ=",
          "dtype": "f4"
         },
         "xaxis": "x",
         "y": {
          "_inputArray": {
           "0": -694.2236328125,
           "1": -694.2236328125,
           "bdata": "UI4txFCOLcQ=",
           "dtype": "f4",
           "shape": "2"
          },
          "bdata": "UI4txFCOLcQ=",
          "dtype": "f4"
         },
         "yaxis": "y"
        },
        {
         "hovertemplate": "<b>%{hovertext}</b><br><br>Classification=Literature and Narrative Arts<br>x=%{x}<br>y=%{y}<extra></extra>",
         "hovertext": [
          "García Lorca, Federico, 1898-1936",
          "Machado de Assis, Joaquim Maria, 1839-1908",
          "Vargas Llosa, Mario, 1936-"
         ],
         "legendgroup": "Literature and Narrative Arts",
         "marker": {
          "color": "#00cc96",
          "line": {
           "color": "white",
           "width": 2
          },
          "size": 12,
          "symbol": "circle"
         },
         "mode": "markers",
         "name": "Literature and Narrative Arts",
         "orientation": "v",
         "showlegend": true,
         "type": "scatter",
         "x": {
          "_inputArray": {
           "0": -275.35992431640625,
           "1": -1179.3055419921875,
           "2": -1058.8050537109375,
           "bdata": "Eq6Jw8dpk8TDWYTE",
           "dtype": "f4",
           "shape": "3"
          },
          "bdata": "Eq6Jw8dpk8TDWYTE",
          "dtype": "f4"
         },
         "xaxis": "x",
         "y": {
          "_inputArray": {
           "0": 790.301513671875,
           "1": -43.54582977294922,
           "2": 886.71337890625,
           "bdata": "TJNFRO4uLsKorV1E",
           "dtype": "f4",
           "shape": "3"
          },
          "bdata": "TJNFRO4uLsKorV1E",
          "dtype": "f4"
         },
         "yaxis": "y"
        }
       ],
       "layout": {
        "height": 600,
        "legend": {
         "title": {
          "text": "Classification"
         },
         "tracegroupgap": 0
        },
        "template": {
         "data": {
          "bar": [
           {
            "error_x": {
             "color": "#2a3f5f"
            },
            "error_y": {
             "color": "#2a3f5f"
            },
            "marker": {
             "line": {
              "color": "#E5ECF6",
              "width": 0.5
             },
             "pattern": {
              "fillmode": "overlay",
              "size": 10,
              "solidity": 0.2
             }
            },
            "type": "bar"
           }
          ],
          "barpolar": [
           {
            "marker": {
             "line": {
              "color": "#E5ECF6",
              "width": 0.5
             },
             "pattern": {
              "fillmode": "overlay",
              "size": 10,
              "solidity": 0.2
             }
            },
            "type": "barpolar"
           }
          ],
          "carpet": [
           {
            "aaxis": {
             "endlinecolor": "#2a3f5f",
             "gridcolor": "white",
             "linecolor": "white",
             "minorgridcolor": "white",
             "startlinecolor": "#2a3f5f"
            },
            "baxis": {
             "endlinecolor": "#2a3f5f",
             "gridcolor": "white",
             "linecolor": "white",
             "minorgridcolor": "white",
             "startlinecolor": "#2a3f5f"
            },
            "type": "carpet"
           }
          ],
          "choropleth": [
           {
            "colorbar": {
             "outlinewidth": 0,
             "ticks": ""
            },
            "type": "choropleth"
           }
          ],
          "contour": [
           {
            "colorbar": {
             "outlinewidth": 0,
             "ticks": ""
            },
            "colorscale": [
             [
              0,
              "#0d0887"
             ],
             [
              0.1111111111111111,
              "#46039f"
             ],
             [
              0.2222222222222222,
              "#7201a8"
             ],
             [
              0.3333333333333333,
              "#9c179e"
             ],
             [
              0.4444444444444444,
              "#bd3786"
             ],
             [
              0.5555555555555556,
              "#d8576b"
             ],
             [
              0.6666666666666666,
              "#ed7953"
             ],
             [
              0.7777777777777778,
              "#fb9f3a"
             ],
             [
              0.8888888888888888,
              "#fdca26"
             ],
             [
              1,
              "#f0f921"
             ]
            ],
            "type": "contour"
           }
          ],
          "contourcarpet": [
           {
            "colorbar": {
             "outlinewidth": 0,
             "ticks": ""
            },
            "type": "contourcarpet"
           }
          ],
          "heatmap": [
           {
            "colorbar": {
             "outlinewidth": 0,
             "ticks": ""
            },
            "colorscale": [
             [
              0,
              "#0d0887"
             ],
             [
              0.1111111111111111,
              "#46039f"
             ],
             [
              0.2222222222222222,
              "#7201a8"
             ],
             [
              0.3333333333333333,
              "#9c179e"
             ],
             [
              0.4444444444444444,
              "#bd3786"
             ],
             [
              0.5555555555555556,
              "#d8576b"
             ],
             [
              0.6666666666666666,
              "#ed7953"
             ],
             [
              0.7777777777777778,
              "#fb9f3a"
             ],
             [
              0.8888888888888888,
              "#fdca26"
             ],
             [
              1,
              "#f0f921"
             ]
            ],
            "type": "heatmap"
           }
          ],
          "histogram": [
           {
            "marker": {
             "pattern": {
              "fillmode": "overlay",
              "size": 10,
              "solidity": 0.2
             }
            },
            "type": "histogram"
           }
          ],
          "histogram2d": [
           {
            "colorbar": {
             "outlinewidth": 0,
             "ticks": ""
            },
            "colorscale": [
             [
              0,
              "#0d0887"
             ],
             [
              0.1111111111111111,
              "#46039f"
             ],
             [
              0.2222222222222222,
              "#7201a8"
             ],
             [
              0.3333333333333333,
              "#9c179e"
             ],
             [
              0.4444444444444444,
              "#bd3786"
             ],
             [
              0.5555555555555556,
              "#d8576b"
             ],
             [
              0.6666666666666666,
              "#ed7953"
             ],
             [
              0.7777777777777778,
              "#fb9f3a"
             ],
             [
              0.8888888888888888,
              "#fdca26"
             ],
             [
              1,
              "#f0f921"
             ]
            ],
            "type": "histogram2d"
           }
          ],
          "histogram2dcontour": [
           {
            "colorbar": {
             "outlinewidth": 0,
             "ticks": ""
            },
            "colorscale": [
             [
              0,
              "#0d0887"
             ],
             [
              0.1111111111111111,
              "#46039f"
             ],
             [
              0.2222222222222222,
              "#7201a8"
             ],
             [
              0.3333333333333333,
              "#9c179e"
             ],
             [
              0.4444444444444444,
              "#bd3786"
             ],
             [
              0.5555555555555556,
              "#d8576b"
             ],
             [
              0.6666666666666666,
              "#ed7953"
             ],
             [
              0.7777777777777778,
              "#fb9f3a"
             ],
             [
              0.8888888888888888,
              "#fdca26"
             ],
             [
              1,
              "#f0f921"
             ]
            ],
            "type": "histogram2dcontour"
           }
          ],
          "mesh3d": [
           {
            "colorbar": {
             "outlinewidth": 0,
             "ticks": ""
            },
            "type": "mesh3d"
           }
          ],
          "parcoords": [
           {
            "line": {
             "colorbar": {
              "outlinewidth": 0,
              "ticks": ""
             }
            },
            "type": "parcoords"
           }
          ],
          "pie": [
           {
            "automargin": true,
            "type": "pie"
           }
          ],
          "scatter": [
           {
            "fillpattern": {
             "fillmode": "overlay",
             "size": 10,
             "solidity": 0.2
            },
            "type": "scatter"
           }
          ],
          "scatter3d": [
           {
            "line": {
             "colorbar": {
              "outlinewidth": 0,
              "ticks": ""
             }
            },
            "marker": {
             "colorbar": {
              "outlinewidth": 0,
              "ticks": ""
             }
            },
            "type": "scatter3d"
           }
          ],
          "scattercarpet": [
           {
            "marker": {
             "colorbar": {
              "outlinewidth": 0,
              "ticks": ""
             }
            },
            "type": "scattercarpet"
           }
          ],
          "scattergeo": [
           {
            "marker": {
             "colorbar": {
              "outlinewidth": 0,
              "ticks": ""
             }
            },
            "type": "scattergeo"
           }
          ],
          "scattergl": [
           {
            "marker": {
             "colorbar": {
              "outlinewidth": 0,
              "ticks": ""
             }
            },
            "type": "scattergl"
           }
          ],
          "scattermap": [
           {
            "marker": {
             "colorbar": {
              "outlinewidth": 0,
              "ticks": ""
             }
            },
            "type": "scattermap"
           }
          ],
          "scattermapbox": [
           {
            "marker": {
             "colorbar": {
              "outlinewidth": 0,
              "ticks": ""
             }
            },
            "type": "scattermapbox"
           }
          ],
          "scatterpolar": [
           {
            "marker": {
             "colorbar": {
              "outlinewidth": 0,
              "ticks": ""
             }
            },
            "type": "scatterpolar"
           }
          ],
          "scatterpolargl": [
           {
            "marker": {
             "colorbar": {
              "outlinewidth": 0,
              "ticks": ""
             }
            },
            "type": "scatterpolargl"
           }
          ],
          "scatterternary": [
           {
            "marker": {
             "colorbar": {
              "outlinewidth": 0,
              "ticks": ""
             }
            },
            "type": "scatterternary"
           }
          ],
          "surface": [
           {
            "colorbar": {
             "outlinewidth": 0,
             "ticks": ""
            },
            "colorscale": [
             [
              0,
              "#0d0887"
             ],
             [
              0.1111111111111111,
              "#46039f"
             ],
             [
              0.2222222222222222,
              "#7201a8"
             ],
             [
              0.3333333333333333,
              "#9c179e"
             ],
             [
              0.4444444444444444,
              "#bd3786"
             ],
             [
              0.5555555555555556,
              "#d8576b"
             ],
             [
              0.6666666666666666,
              "#ed7953"
             ],
             [
              0.7777777777777778,
              "#fb9f3a"
             ],
             [
              0.8888888888888888,
              "#fdca26"
             ],
             [
              1,
              "#f0f921"
             ]
            ],
            "type": "surface"
           }
          ],
          "table": [
           {
            "cells": {
             "fill": {
              "color": "#EBF0F8"
             },
             "line": {
              "color": "white"
             }
            },
            "header": {
             "fill": {
              "color": "#C8D4E3"
             },
             "line": {
              "color": "white"
             }
            },
            "type": "table"
           }
          ]
         },
         "layout": {
          "annotationdefaults": {
           "arrowcolor": "#2a3f5f",
           "arrowhead": 0,
           "arrowwidth": 1
          },
          "autotypenumbers": "strict",
          "coloraxis": {
           "colorbar": {
            "outlinewidth": 0,
            "ticks": ""
           }
          },
          "colorscale": {
           "diverging": [
            [
             0,
             "#8e0152"
            ],
            [
             0.1,
             "#c51b7d"
            ],
            [
             0.2,
             "#de77ae"
            ],
            [
             0.3,
             "#f1b6da"
            ],
            [
             0.4,
             "#fde0ef"
            ],
            [
             0.5,
             "#f7f7f7"
            ],
            [
             0.6,
             "#e6f5d0"
            ],
            [
             0.7,
             "#b8e186"
            ],
            [
             0.8,
             "#7fbc41"
            ],
            [
             0.9,
             "#4d9221"
            ],
            [
             1,
             "#276419"
            ]
           ],
           "sequential": [
            [
             0,
             "#0d0887"
            ],
            [
             0.1111111111111111,
             "#46039f"
            ],
            [
             0.2222222222222222,
             "#7201a8"
            ],
            [
             0.3333333333333333,
             "#9c179e"
            ],
            [
             0.4444444444444444,
             "#bd3786"
            ],
            [
             0.5555555555555556,
             "#d8576b"
            ],
            [
             0.6666666666666666,
             "#ed7953"
            ],
            [
             0.7777777777777778,
             "#fb9f3a"
            ],
            [
             0.8888888888888888,
             "#fdca26"
            ],
            [
             1,
             "#f0f921"
            ]
           ],
           "sequentialminus": [
            [
             0,
             "#0d0887"
            ],
            [
             0.1111111111111111,
             "#46039f"
            ],
            [
             0.2222222222222222,
             "#7201a8"
            ],
            [
             0.3333333333333333,
             "#9c179e"
            ],
            [
             0.4444444444444444,
             "#bd3786"
            ],
            [
             0.5555555555555556,
             "#d8576b"
            ],
            [
             0.6666666666666666,
             "#ed7953"
            ],
            [
             0.7777777777777778,
             "#fb9f3a"
            ],
            [
             0.8888888888888888,
             "#fdca26"
            ],
            [
             1,
             "#f0f921"
            ]
           ]
          },
          "colorway": [
           "#636efa",
           "#EF553B",
           "#00cc96",
           "#ab63fa",
           "#FFA15A",
           "#19d3f3",
           "#FF6692",
           "#B6E880",
           "#FF97FF",
           "#FECB52"
          ],
          "font": {
           "color": "#2a3f5f"
          },
          "geo": {
           "bgcolor": "white",
           "lakecolor": "white",
           "landcolor": "#E5ECF6",
           "showlakes": true,
           "showland": true,
           "subunitcolor": "white"
          },
          "hoverlabel": {
           "align": "left"
          },
          "hovermode": "closest",
          "mapbox": {
           "style": "light"
          },
          "paper_bgcolor": "white",
          "plot_bgcolor": "#E5ECF6",
          "polar": {
           "angularaxis": {
            "gridcolor": "white",
            "linecolor": "white",
            "ticks": ""
           },
           "bgcolor": "#E5ECF6",
           "radialaxis": {
            "gridcolor": "white",
            "linecolor": "white",
            "ticks": ""
           }
          },
          "scene": {
           "xaxis": {
            "backgroundcolor": "#E5ECF6",
            "gridcolor": "white",
            "gridwidth": 2,
            "linecolor": "white",
            "showbackground": true,
            "ticks": "",
            "zerolinecolor": "white"
           },
           "yaxis": {
            "backgroundcolor": "#E5ECF6",
            "gridcolor": "white",
            "gridwidth": 2,
            "linecolor": "white",
            "showbackground": true,
            "ticks": "",
            "zerolinecolor": "white"
           },
           "zaxis": {
            "backgroundcolor": "#E5ECF6",
            "gridcolor": "white",
            "gridwidth": 2,
            "linecolor": "white",
            "showbackground": true,
            "ticks": "",
            "zerolinecolor": "white"
           }
          },
          "shapedefaults": {
           "line": {
            "color": "#2a3f5f"
           }
          },
          "ternary": {
           "aaxis": {
            "gridcolor": "white",
            "linecolor": "white",
            "ticks": ""
           },
           "baxis": {
            "gridcolor": "white",
            "linecolor": "white",
            "ticks": ""
           },
           "bgcolor": "#E5ECF6",
           "caxis": {
            "gridcolor": "white",
            "linecolor": "white",
            "ticks": ""
           }
          },
          "title": {
           "x": 0.05
          },
          "xaxis": {
           "automargin": true,
           "gridcolor": "white",
           "linecolor": "white",
           "ticks": "",
           "title": {
            "standoff": 15
           },
           "zerolinecolor": "white",
           "zerolinewidth": 2
          },
          "yaxis": {
           "automargin": true,
           "gridcolor": "white",
           "linecolor": "white",
           "ticks": "",
           "title": {
            "standoff": 15
           },
           "zerolinecolor": "white",
           "zerolinewidth": 2
          }
         }
        },
        "title": {
         "font": {
          "size": 16
         },
         "text": "Person Name Embeddings in 2D Space (t-SNE)"
        },
        "width": 800,
        "xaxis": {
         "anchor": "y",
         "autorange": true,
         "domain": [
          0,
          1
         ],
         "range": [
          -1378.1012427438536,
          1618.5236060251036
         ],
         "title": {
          "text": "t-SNE Dimension 1"
         },
         "type": "linear"
        },
        "yaxis": {
         "anchor": "x",
         "autorange": true,
         "domain": [
          0,
          1
         ],
         "range": [
          -818.3467866251291,
          1010.8365327188791
         ],
         "title": {
          "text": "t-SNE Dimension 2"
         },
         "type": "linear"
        }
       }
      },
      "image/png": "[encoded data removed]"
     },
     "metadata": {},
     "output_type": "display_data"
    },
    {
     "name": "stdout",
     "output_type": "stream",
     "text": [
      "\n",
      "🎯 Key Observations:\n",
      "• Franz Schubert entries should cluster by domain (music vs. archaeology)\n",
      "• Authors in same language/region may cluster together\n",
      "• Embeddings capture semantic relationships beyond simple string matching\n"
     ]
    }
   ],
   "source": [
    "# Prepare data for visualization\n",
    "def prepare_embedding_data(df, field='person'):\n",
    "    \"\"\"Prepare embedding data for visualization\"\"\"\n",
    "    embeddings_array = np.array([emb for emb in df[f'{field}_embedding'] if emb is not None])\n",
    "    labels = [name for i, name in enumerate(df[field]) if df[f'{field}_embedding'].iloc[i] is not None]\n",
    "    classifications = [cls for i, cls in enumerate(df['classification']) if df[f'{field}_embedding'].iloc[i] is not None]\n",
    "    \n",
    "    return embeddings_array, labels, classifications\n",
    "\n",
    "# Visualize person embeddings using t-SNE\n",
    "embeddings_array, person_labels, classifications = prepare_embedding_data(df, 'person')\n",
    "\n",
    "print(f\"📊 Visualizing {len(embeddings_array)} person embeddings...\")\n",
    "\n",
    "# Reduce dimensionality for visualization\n",
    "tsne = TSNE(n_components=2, random_state=42, perplexity=min(3, len(embeddings_array)-1))\n",
    "embeddings_2d = tsne.fit_transform(embeddings_array)\n",
    "\n",
    "# Create interactive plot\n",
    "fig = px.scatter(\n",
    "    x=embeddings_2d[:, 0], \n",
    "    y=embeddings_2d[:, 1],\n",
    "    color=classifications,\n",
    "    hover_name=person_labels,\n",
    "    title=\"Person Name Embeddings in 2D Space (t-SNE)\",\n",
    "    labels={'color': 'Classification'},\n",
    "    width=800,\n",
    "    height=600\n",
    ")\n",
    "\n",
    "# Enhance the plot\n",
    "fig.update_traces(marker=dict(size=12, line=dict(width=2, color='white')))\n",
    "fig.update_layout(\n",
    "    title_font_size=16,\n",
    "    xaxis_title=\"t-SNE Dimension 1\",\n",
    "    yaxis_title=\"t-SNE Dimension 2\",\n",
    "    legend_title=\"Classification\"\n",
    ")\n",
    "\n",
    "fig.show()\n",
    "\n",
    "print(\"\\n🎯 Key Observations:\")\n",
    "print(\"• Franz Schubert entries should cluster by domain (music vs. archaeology)\")\n",
    "print(\"• Authors in same language/region may cluster together\")\n",
    "print(\"• Embeddings capture semantic relationships beyond simple string matching\")"
   ]
  },
  {
   "cell_type": "markdown",
   "metadata": {
    "id": "similarity_analysis"
   },
   "source": [
    "## 7. Semantic Similarity Analysis\n",
    "\n",
    "Let's calculate similarity scores to understand how embeddings capture meaning."
   ]
  },
  {
   "cell_type": "code",
   "execution_count": 7,
   "metadata": {
    "execution": {
     "iopub.execute_input": "2025-07-01T00:16:43.463472Z",
     "iopub.status.busy": "2025-07-01T00:16:43.462729Z",
     "iopub.status.idle": "2025-07-01T00:16:43.657504Z",
     "shell.execute_reply": "2025-07-01T00:16:43.657179Z",
     "shell.execute_reply.started": "2025-07-01T00:16:43.463426Z"
    },
    "id": "calculate_similarities"
   },
   "outputs": [
    {
     "name": "stdout",
     "output_type": "stream",
     "text": [
      "🔍 Most Similar Person Names (by embedding):\n",
      "============================================================\n",
      "1. Schubert, Franz, 1797-1828\n",
      "   ↔ Schubert, Franz, 1797-1828\n",
      "   📊 Similarity: 1.0000\n",
      "\n",
      "2. Schubert, Franz\n",
      "   ↔ Schubert, Franz, 1797-1828\n",
      "   📊 Similarity: 0.9162\n",
      "\n",
      "3. Schubert, Franz\n",
      "   ↔ Schubert, Franz, 1797-1828\n",
      "   📊 Similarity: 0.9162\n",
      "\n",
      "4. García Lorca, Federico, 1898-1936\n",
      "   ↔ Vargas Llosa, Mario, 1936-\n",
      "   📊 Similarity: 0.4979\n",
      "\n",
      "5. Machado de Assis, Joaquim Maria, 1839-1908\n",
      "   ↔ Vargas Llosa, Mario, 1936-\n",
      "   📊 Similarity: 0.4263\n",
      "\n"
     ]
    },
    {
     "data": {
      "image/png": "[encoded data removed]",
      "text/plain": [
       "<Figure size 1000x800 with 2 Axes>"
      ]
     },
     "metadata": {},
     "output_type": "display_data"
    },
    {
     "name": "stdout",
     "output_type": "stream",
     "text": [
      "\n",
      "🎭 Franz Schubert Disambiguation:\n",
      "   Composer vs. Archaeologist similarity: 0.9162\n",
      "   ⚠️ HIGH similarity - may need additional context\n"
     ]
    }
   ],
   "source": [
    "def calculate_similarity_matrix(embeddings_array, labels):\n",
    "    \"\"\"Calculate cosine similarity matrix for embeddings\"\"\"\n",
    "    similarity_matrix = cosine_similarity(embeddings_array)\n",
    "    return similarity_matrix\n",
    "\n",
    "def find_most_similar_pairs(similarity_matrix, labels, top_k=5):\n",
    "    \"\"\"Find the most similar pairs from similarity matrix\"\"\"\n",
    "    n = len(labels)\n",
    "    pairs = []\n",
    "    \n",
    "    for i in range(n):\n",
    "        for j in range(i+1, n):\n",
    "            similarity = similarity_matrix[i][j]\n",
    "            pairs.append((labels[i], labels[j], similarity))\n",
    "    \n",
    "    # Sort by similarity (descending)\n",
    "    pairs.sort(key=lambda x: x[2], reverse=True)\n",
    "    return pairs[:top_k]\n",
    "\n",
    "# Calculate similarity for person embeddings\n",
    "similarity_matrix = calculate_similarity_matrix(embeddings_array, person_labels)\n",
    "similar_pairs = find_most_similar_pairs(similarity_matrix, person_labels)\n",
    "\n",
    "print(\"🔍 Most Similar Person Names (by embedding):\")\n",
    "print(\"=\" * 60)\n",
    "for i, (person1, person2, similarity) in enumerate(similar_pairs, 1):\n",
    "    print(f\"{i}. {person1}\")\n",
    "    print(f\"   ↔ {person2}\")\n",
    "    print(f\"   📊 Similarity: {similarity:.4f}\")\n",
    "    print()\n",
    "\n",
    "# Create similarity heatmap\n",
    "plt.figure(figsize=(10, 8))\n",
    "sns.heatmap(\n",
    "    similarity_matrix, \n",
    "    xticklabels=person_labels,\n",
    "    yticklabels=person_labels,\n",
    "    annot=True, \n",
    "    fmt='.3f',\n",
    "    cmap='viridis',\n",
    "    cbar_kws={'label': 'Cosine Similarity'}\n",
    ")\n",
    "plt.title('Person Name Embedding Similarity Matrix')\n",
    "plt.xticks(rotation=45, ha='right')\n",
    "plt.yticks(rotation=0)\n",
    "plt.tight_layout()\n",
    "plt.show()\n",
    "\n",
    "# Franz Schubert specific analysis\n",
    "schubert_indices = [i for i, label in enumerate(person_labels) if 'Schubert' in label]\n",
    "if len(schubert_indices) >= 2:\n",
    "    schubert_similarity = similarity_matrix[schubert_indices[0]][schubert_indices[1]]\n",
    "    print(f\"\\n🎭 Franz Schubert Disambiguation:\")\n",
    "    print(f\"   Composer vs. Archaeologist similarity: {schubert_similarity:.4f}\")\n",
    "    if schubert_similarity < 0.8:\n",
    "        print(f\"   ✅ LOW similarity suggests they are different people!\")\n",
    "    else:\n",
    "        print(f\"   ⚠️ HIGH similarity - may need additional context\")"
   ]
  },
  {
   "cell_type": "markdown",
   "metadata": {
    "id": "weaviate_setup"
   },
   "source": [
    "## 8. Setting Up Weaviate Vector Database\n",
    "\n",
    "Now let's set up Weaviate to store and search our embeddings efficiently."
   ]
  },
  {
   "cell_type": "code",
   "execution_count": 8,
   "metadata": {
    "execution": {
     "iopub.execute_input": "2025-07-01T00:17:08.343524Z",
     "iopub.status.busy": "2025-07-01T00:17:08.343098Z",
     "iopub.status.idle": "2025-07-01T00:17:09.163861Z",
     "shell.execute_reply": "2025-07-01T00:17:09.163535Z",
     "shell.execute_reply.started": "2025-07-01T00:17:08.343498Z"
    },
    "id": "install_weaviate"
   },
   "outputs": [
    {
     "name": "stdout",
     "output_type": "stream",
     "text": [
      "✅ Weaviate client library imported successfully!\n",
      "\n",
      "📋 For this workshop, we'll simulate Weaviate operations.\n",
      "   In production, you would connect to a running Weaviate instance.\n"
     ]
    },
    {
     "name": "stderr",
     "output_type": "stream",
     "text": [
      "<frozen importlib._bootstrap>:1047: ImportWarning:\n",
      "\n",
      "_SixMetaPathImporter.find_spec() not found; falling back to find_module()\n",
      "\n"
     ]
    }
   ],
   "source": [
    "# For Google Colab, we'll use Weaviate Cloud Services (WCS) or embedded Weaviate\n",
    "# In production, you'd use Docker: docker run -p 8080:8080 weaviate/weaviate:latest\n",
    "\n",
    "import weaviate\n",
    "from weaviate.classes.config import Configure, Property, DataType\n",
    "from weaviate.classes.config import VectorDistances\n",
    "from weaviate.classes.query import Filter, MetadataQuery\n",
    "from weaviate.util import generate_uuid5\n",
    "\n",
    "print(\"✅ Weaviate client library imported successfully!\")\n",
    "print(\"\\n📋 For this workshop, we'll simulate Weaviate operations.\")\n",
    "print(\"   In production, you would connect to a running Weaviate instance.\")"
   ]
  },
  {
   "cell_type": "code",
   "execution_count": null,
   "metadata": {
    "id": "mock_weaviate_setup"
   },
   "outputs": [],
   "source": [
    "class MockWeaviateClient:\n",
    "    \"\"\"Mock Weaviate client for workshop demonstration\"\"\"\n",
    "    \n",
    "    def __init__(self):\n",
    "        self.data = {}\n",
    "        self.collections = MockCollections(self)\n",
    "        self.connected = True\n",
    "    \n",
    "    def connect(self):\n",
    "        self.connected = True\n",
    "        print(\"✅ Connected to mock Weaviate instance\")\n",
    "    \n",
    "    def close(self):\n",
    "        self.connected = False\n",
    "        print(\"🔌 Disconnected from Weaviate\")\n",
    "\n",
    "class MockCollections:\n",
    "    def __init__(self, client):\n",
    "        self.client = client\n",
    "        self.schemas = {}\n",
    "    \n",
    "    def create(self, name, description=None, vectorizer_config=None, \n",
    "              vector_index_config=None, properties=None):\n",
    "        \"\"\"Create a new collection\"\"\"\n",
    "        self.schemas[name] = {\n",
    "            'description': description,\n",
    "            'vectorizer_config': vectorizer_config,\n",
    "            'vector_index_config': vector_index_config, \n",
    "            'properties': properties\n",
    "        }\n",
    "        self.client.data[name] = []\n",
    "        print(f\"✅ Created collection '{name}'\")\n",
    "        return MockCollection(name, self.client)\n",
    "    \n",
    "    def get(self, name):\n",
    "        \"\"\"Get an existing collection\"\"\"\n",
    "        if name in self.client.data:\n",
    "            return MockCollection(name, self.client)\n",
    "        else:\n",
    "            raise ValueError(f\"Collection '{name}' not found\")\n",
    "    \n",
    "    def delete(self, name):\n",
    "        \"\"\"Delete a collection\"\"\"\n",
    "        if name in self.client.data:\n",
    "            del self.client.data[name]\n",
    "            if name in self.schemas:\n",
    "                del self.schemas[name]\n",
    "            print(f\"🗑️ Deleted collection '{name}'\")\n",
    "\n",
    "class MockCollection:\n",
    "    def __init__(self, name, client):\n",
    "        self.name = name\n",
    "        self.client = client\n",
    "        self.data = client.data[name]\n",
    "        self.batch = MockBatch(self)\n",
    "        self.query = MockQuery(self)\n",
    "        self.aggregate = MockAggregate(self)\n",
    "    \n",
    "    def insert_object(self, properties, uuid=None, vector=None):\n",
    "        \"\"\"Insert a single object\"\"\"\n",
    "        obj = {\n",
    "            'uuid': uuid or generate_uuid5(str(properties)),\n",
    "            'properties': properties,\n",
    "            'vector': vector\n",
    "        }\n",
    "        self.data.append(obj)\n",
    "        return obj['uuid']\n",
    "\n",
    "class MockBatch:\n",
    "    def __init__(self, collection):\n",
    "        self.collection = collection\n",
    "        self.batch_data = []\n",
    "    \n",
    "    def fixed_size(self, batch_size=100):\n",
    "        return MockBatchContext(self.collection)\n",
    "\n",
    "class MockBatchContext:\n",
    "    def __init__(self, collection):\n",
    "        self.collection = collection\n",
    "        self.batch_items = []\n",
    "    \n",
    "    def __enter__(self):\n",
    "        return self\n",
    "    \n",
    "    def __exit__(self, exc_type, exc_val, exc_tb):\n",
    "        # Process all batched items\n",
    "        for item in self.batch_items:\n",
    "            self.collection.data.append(item)\n",
    "        print(f\"✅ Batch inserted {len(self.batch_items)} objects\")\n",
    "    \n",
    "    def add_object(self, properties, uuid=None, vector=None):\n",
    "        obj = {\n",
    "            'uuid': uuid or generate_uuid5(str(properties)),\n",
    "            'properties': properties,\n",
    "            'vector': vector\n",
    "        }\n",
    "        self.batch_items.append(obj)\n",
    "\n",
    "class MockQuery:\n",
    "    def __init__(self, collection):\n",
    "        self.collection = collection\n",
    "    \n",
    "    def near_vector(self, near_vector, filters=None, limit=10, \n",
    "                   return_properties=None, return_metadata=None, include_vector=False):\n",
    "        \"\"\"Simulate vector similarity search\"\"\"\n",
    "        results = []\n",
    "        \n",
    "        for obj in self.collection.data:\n",
    "            if obj['vector'] is not None:\n",
    "                # Calculate cosine similarity\n",
    "                similarity = np.dot(near_vector, obj['vector']) / (\n",
    "                    np.linalg.norm(near_vector) * np.linalg.norm(obj['vector'])\n",
    "                )\n",
    "                distance = 1 - similarity\n",
    "                \n",
    "                # Create mock result object\n",
    "                result_obj = MockResultObject(\n",
    "                    properties=obj['properties'],\n",
    "                    vector=obj['vector'] if include_vector else None,\n",
    "                    distance=distance\n",
    "                )\n",
    "                results.append((result_obj, distance))\n",
    "        \n",
    "        # Sort by distance (most similar first)\n",
    "        results.sort(key=lambda x: x[1])\n",
    "        \n",
    "        # Apply limit\n",
    "        results = results[:limit]\n",
    "        \n",
    "        return MockQueryResult([obj for obj, _ in results])\n",
    "    \n",
    "    def fetch_objects(self, filters=None, include_vector=False, limit=None):\n",
    "        \"\"\"Fetch objects with optional filtering\"\"\"\n",
    "        results = []\n",
    "        \n",
    "        for obj in self.collection.data:\n",
    "            result_obj = MockResultObject(\n",
    "                properties=obj['properties'],\n",
    "                vector=obj['vector'] if include_vector else None\n",
    "            )\n",
    "            results.append(result_obj)\n",
    "            \n",
    "            if limit and len(results) >= limit:\n",
    "                break\n",
    "        \n",
    "        return MockQueryResult(results)\n",
    "\n",
    "class MockAggregate:\n",
    "    def __init__(self, collection):\n",
    "        self.collection = collection\n",
    "    \n",
    "    def over_all(self, total_count=False):\n",
    "        \"\"\"Get aggregate statistics\"\"\"\n",
    "        if total_count:\n",
    "            return MockAggregateResult(total_count=len(self.collection.data))\n",
    "        return MockAggregateResult()\n",
    "\n",
    "class MockQueryResult:\n",
    "    def __init__(self, objects):\n",
    "        self.objects = objects\n",
    "\n",
    "class MockResultObject:\n",
    "    def __init__(self, properties, vector=None, distance=None):\n",
    "        self.properties = properties\n",
    "        self.vector = vector\n",
    "        if distance is not None:\n",
    "            self.metadata = MockMetadata(distance)\n",
    "\n",
    "class MockMetadata:\n",
    "    def __init__(self, distance):\n",
    "        self.distance = distance\n",
    "\n",
    "class MockAggregateResult:\n",
    "    def __init__(self, total_count=0):\n",
    "        self.total_count = total_count\n",
    "\n",
    "# Initialize mock Weaviate client\n",
    "weaviate_client = MockWeaviateClient()\n",
    "weaviate_client.connect()\n",
    "\n",
    "print(\"🎭 Mock Weaviate client ready for demonstration!\")"
   ]
  },
  {
   "cell_type": "markdown",
   "metadata": {
    "id": "create_schema"
   },
   "source": [
    "## 9. Creating Weaviate Schema\n",
    "\n",
    "Let's create a schema for our library catalog data following Yale's production patterns."
   ]
  },
  {
   "cell_type": "code",
   "execution_count": null,
   "metadata": {
    "id": "weaviate_schema"
   },
   "outputs": [],
   "source": [
    "# Create collection schema following Yale's production pattern\n",
    "def create_library_collection(client):\n",
    "    \"\"\"Create collection for library catalog entities\"\"\"\n",
    "    \n",
    "    try:\n",
    "        # Delete existing collection if it exists\n",
    "        try:\n",
    "            client.collections.delete(\"LibraryEntity\")\n",
    "        except:\n",
    "            pass  # Collection doesn't exist\n",
    "        \n",
    "        # Create new collection with schema\n",
    "        collection = client.collections.create(\n",
    "            name=\"LibraryEntity\",\n",
    "            description=\"Collection for library catalog entities with embeddings\",\n",
    "            vectorizer_config=Configure.Vectorizer.text2vec_openai(\n",
    "                model=\"text-embedding-3-small\",\n",
    "                dimensions=1536\n",
    "            ),\n",
    "            vector_index_config=Configure.VectorIndex.hnsw(\n",
    "                ef=128,\n",
    "                max_connections=64,\n",
    "                ef_construction=128,\n",
    "                distance_metric=VectorDistances.COSINE\n",
    "            ),\n",
    "            properties=[\n",
    "                Property(name=\"personId\", data_type=DataType.TEXT),\n",
    "                Property(name=\"person\", data_type=DataType.TEXT),\n",
    "                Property(name=\"title\", data_type=DataType.TEXT),\n",
    "                Property(name=\"subjects\", data_type=DataType.TEXT),\n",
    "                Property(name=\"provision\", data_type=DataType.TEXT),\n",
    "                Property(name=\"composite\", data_type=DataType.TEXT),\n",
    "                Property(name=\"roles\", data_type=DataType.TEXT),\n",
    "                Property(name=\"classification\", data_type=DataType.TEXT),\n",
    "                Property(name=\"field_type\", data_type=DataType.TEXT),  # person, title, composite\n",
    "                Property(name=\"language\", data_type=DataType.TEXT)\n",
    "            ]\n",
    "        )\n",
    "        \n",
    "        print(\"✅ Created LibraryEntity collection with:\")\n",
    "        print(\"   • OpenAI text-embedding-3-small vectorizer\")\n",
    "        print(\"   • HNSW vector index (cosine distance)\")\n",
    "        print(\"   • Library-specific properties\")\n",
    "        \n",
    "        return collection\n",
    "        \n",
    "    except Exception as e:\n",
    "        print(f\"❌ Error creating collection: {e}\")\n",
    "        return None\n",
    "\n",
    "# Create the collection\n",
    "library_collection = create_library_collection(weaviate_client)\n",
    "\n",
    "print(\"\\n🏗️ Weaviate schema created successfully!\")\n",
    "print(f\"Collection ready to store {len(df)} library catalog records.\")"
   ]
  },
  {
   "cell_type": "markdown",
   "metadata": {
    "id": "index_data"
   },
   "source": [
    "## 10. Indexing Data in Weaviate\n",
    "\n",
    "Now let's index our library records with their embeddings into Weaviate."
   ]
  },
  {
   "cell_type": "code",
   "execution_count": null,
   "metadata": {
    "id": "index_embeddings"
   },
   "outputs": [],
   "source": [
    "def index_library_records(collection, df, field_type='person'):\n",
    "    \"\"\"Index library records with embeddings into Weaviate\"\"\"\n",
    "    \n",
    "    indexed_count = 0\n",
    "    \n",
    "    print(f\"📥 Indexing {len(df)} records with '{field_type}' embeddings...\")\n",
    "    \n",
    "    # Use batch processing for efficiency (following Yale's pattern)\n",
    "    with collection.batch.fixed_size(batch_size=10) as batch:\n",
    "        for idx, row in df.iterrows():\n",
    "            # Skip if no embedding available\n",
    "            embedding_field = f'{field_type}_embedding'\n",
    "            if embedding_field not in row or row[embedding_field] is None:\n",
    "                continue\n",
    "            \n",
    "            # Detect language based on content\n",
    "            language = detect_language(row['title'], row['subjects'])\n",
    "            \n",
    "            # Prepare properties\n",
    "            properties = {\n",
    "                'personId': str(row['personId']),\n",
    "                'person': str(row['person']),\n",
    "                'title': str(row['title']),\n",
    "                'subjects': str(row['subjects']),\n",
    "                'provision': str(row['provision']),\n",
    "                'composite': str(row['composite']),\n",
    "                'roles': str(row['roles']),\n",
    "                'classification': str(row['classification']),\n",
    "                'field_type': field_type,\n",
    "                'language': language\n",
    "            }\n",
    "            \n",
    "            # Generate UUID for consistent indexing\n",
    "            uuid_input = f\"{row['personId']}_{field_type}\"\n",
    "            uuid = generate_uuid5(uuid_input)\n",
    "            \n",
    "            # Add to batch\n",
    "            batch.add_object(\n",
    "                properties=properties,\n",
    "                uuid=uuid,\n",
    "                vector=row[embedding_field]\n",
    "            )\n",
    "            \n",
    "            indexed_count += 1\n",
    "    \n",
    "    print(f\"✅ Successfully indexed {indexed_count} records\")\n",
    "    return indexed_count\n",
    "\n",
    "def detect_language(title, subjects):\n",
    "    \"\"\"Simple language detection based on content patterns\"\"\"\n",
    "    content = f\"{title} {subjects}\".lower()\n",
    "    \n",
    "    # Spanish indicators\n",
    "    spanish_words = ['gitano', 'ciudad', 'perros', 'poesía', 'siglo']\n",
    "    if any(word in content for word in spanish_words):\n",
    "        return 'Spanish'\n",
    "    \n",
    "    # Portuguese indicators  \n",
    "    portuguese_words = ['casmurro', 'brasileiro', 'ficção', 'século']\n",
    "    if any(word in content for word in portuguese_words):\n",
    "        return 'Portuguese'\n",
    "    \n",
    "    # German indicators\n",
    "    german_words = ['archäologie', 'photographie', 'quartette', 'violinen', 'müllerin']\n",
    "    if any(word in content for word in german_words):\n",
    "        return 'German'\n",
    "    \n",
    "    # Default to English\n",
    "    return 'English'\n",
    "\n",
    "# Index records for each field type\n",
    "total_indexed = 0\n",
    "for field_type in ['person', 'title', 'composite']:\n",
    "    if f'{field_type}_embedding' in df.columns:\n",
    "        count = index_library_records(library_collection, df, field_type)\n",
    "        total_indexed += count\n",
    "        print()\n",
    "\n",
    "print(f\"🎉 Total records indexed: {total_indexed}\")\n",
    "\n",
    "# Get collection statistics\n",
    "stats = library_collection.aggregate.over_all(total_count=True)\n",
    "print(f\"📊 Collection now contains: {stats.total_count} objects\")"
   ]
  },
  {
   "cell_type": "markdown",
   "metadata": {
    "id": "vector_search"
   },
   "source": [
    "## 11. Vector Similarity Search\n",
    "\n",
    "Now let's perform similarity searches to find related entities."
   ]
  },
  {
   "cell_type": "code",
   "execution_count": null,
   "metadata": {
    "id": "search_functions"
   },
   "outputs": [],
   "source": [
    "def search_similar_entities(collection, query_vector, field_type='person', \n",
    "                          limit=5, distance_threshold=0.3):\n",
    "    \"\"\"Search for similar entities using vector similarity\"\"\"\n",
    "    \n",
    "    try:\n",
    "        # Perform near_vector search with filters\n",
    "        result = collection.query.near_vector(\n",
    "            near_vector=query_vector,\n",
    "            filters=Filter.by_property(\"field_type\").equal(field_type),\n",
    "            limit=limit,\n",
    "            return_properties=[\"personId\", \"person\", \"title\", \"classification\", \"language\"],\n",
    "            return_metadata=MetadataQuery(distance=True),\n",
    "            include_vector=False\n",
    "        )\n",
    "        \n",
    "        # Process results\n",
    "        similar_entities = []\n",
    "        for obj in result.objects:\n",
    "            # Filter by distance threshold\n",
    "            if hasattr(obj, 'metadata') and hasattr(obj.metadata, 'distance'):\n",
    "                if obj.metadata.distance <= distance_threshold:\n",
    "                    similarity = 1.0 - obj.metadata.distance\n",
    "                    similar_entities.append({\n",
    "                        'properties': obj.properties,\n",
    "                        'similarity': similarity,\n",
    "                        'distance': obj.metadata.distance\n",
    "                    })\n",
    "        \n",
    "        return similar_entities\n",
    "        \n",
    "    except Exception as e:\n",
    "        print(f\"❌ Search error: {e}\")\n",
    "        return []\n",
    "\n",
    "def search_by_classification(collection, classification, limit=10):\n",
    "    \"\"\"Search entities by classification using filters\"\"\"\n",
    "    \n",
    "    try:\n",
    "        result = collection.query.fetch_objects(\n",
    "            filters=Filter.by_property(\"classification\").equal(classification),\n",
    "            limit=limit,\n",
    "            include_vector=False\n",
    "        )\n",
    "        \n",
    "        return [{\n",
    "            'properties': obj.properties\n",
    "        } for obj in result.objects]\n",
    "        \n",
    "    except Exception as e:\n",
    "        print(f\"❌ Filter search error: {e}\")\n",
    "        return []\n",
    "\n",
    "print(\"✅ Search functions defined!\")\n",
    "print(\"\\n🔍 Available search methods:\")\n",
    "print(\"• Vector similarity search (near_vector)\")\n",
    "print(\"• Classification filtering\")\n",
    "print(\"• Combined vector + filter searches\")"
   ]
  },
  {
   "cell_type": "code",
   "execution_count": null,
   "metadata": {
    "id": "perform_searches"
   },
   "outputs": [],
   "source": [
    "# Example 1: Find similar people to Franz Schubert (composer)\n",
    "print(\"🎯 SEARCH EXAMPLE 1: Similar to Franz Schubert (Composer)\")\n",
    "print(\"=\" * 60)\n",
    "\n",
    "# Get Franz Schubert composer embedding\n",
    "composer_row = df[df['person'] == 'Schubert, Franz, 1797-1828'].iloc[0]\n",
    "composer_embedding = composer_row['person_embedding']\n",
    "\n",
    "similar_to_composer = search_similar_entities(\n",
    "    library_collection, \n",
    "    composer_embedding, \n",
    "    field_type='person',\n",
    "    limit=5,\n",
    "    distance_threshold=0.5\n",
    ")\n",
    "\n",
    "for i, entity in enumerate(similar_to_composer, 1):\n",
    "    props = entity['properties']\n",
    "    print(f\"{i}. {props['person']}\")\n",
    "    print(f\"   📚 Title: {props['title'][:50]}...\")\n",
    "    print(f\"   🏷️ Classification: {props['classification']}\")\n",
    "    print(f\"   📊 Similarity: {entity['similarity']:.4f}\")\n",
    "    print()\n",
    "\n",
    "# Example 2: Find similar people to Franz Schubert (archaeologist)\n",
    "print(\"\\n🎯 SEARCH EXAMPLE 2: Similar to Franz Schubert (Archaeologist)\")\n",
    "print(\"=\" * 60)\n",
    "\n",
    "archaeologist_row = df[df['person'] == 'Schubert, Franz'].iloc[0]\n",
    "archaeologist_embedding = archaeologist_row['person_embedding']\n",
    "\n",
    "similar_to_archaeologist = search_similar_entities(\n",
    "    library_collection,\n",
    "    archaeologist_embedding,\n",
    "    field_type='person', \n",
    "    limit=5,\n",
    "    distance_threshold=0.5\n",
    ")\n",
    "\n",
    "for i, entity in enumerate(similar_to_archaeologist, 1):\n",
    "    props = entity['properties']\n",
    "    print(f\"{i}. {props['person']}\")\n",
    "    print(f\"   📚 Title: {props['title'][:50]}...\")\n",
    "    print(f\"   🏷️ Classification: {props['classification']}\")\n",
    "    print(f\"   📊 Similarity: {entity['similarity']:.4f}\")\n",
    "    print()\n",
    "\n",
    "# Example 3: Search by classification\n",
    "print(\"\\n🎯 SEARCH EXAMPLE 3: All Music Entities\")\n",
    "print(\"=\" * 60)\n",
    "\n",
    "music_entities = search_by_classification(\n",
    "    library_collection,\n",
    "    \"Music, Sound, and Sonic Arts\",\n",
    "    limit=10\n",
    ")\n",
    "\n",
    "for i, entity in enumerate(music_entities, 1):\n",
    "    props = entity['properties']\n",
    "    print(f\"{i}. {props['person']} - {props['title'][:40]}...\")\n",
    "    print(f\"   🎵 Subjects: {props['subjects']}\")\n",
    "    print()\n",
    "\n",
    "print(f\"\\n📊 Search Results Summary:\")\n",
    "print(f\"• Found {len(similar_to_composer)} entities similar to composer\")\n",
    "print(f\"• Found {len(similar_to_archaeologist)} entities similar to archaeologist\")\n",
    "print(f\"• Found {len(music_entities)} music-related entities\")"
   ]
  },
  {
   "cell_type": "markdown",
   "metadata": {
    "id": "multilingual_demo"
   },
   "source": [
    "## 12. Multilingual Embeddings Demo\n",
    "\n",
    "Let's test how embeddings handle Spanish and Portuguese content."
   ]
  },
  {
   "cell_type": "code",
   "execution_count": null,
   "metadata": {
    "id": "multilingual_analysis"
   },
   "outputs": [],
   "source": [
    "# Add more Spanish and Portuguese examples\n",
    "multilingual_examples = [\n",
    "    {\n",
    "        \"person\": \"Cervantes Saavedra, Miguel de, 1547-1616\",\n",
    "        \"title\": \"Don Quijote de la Mancha\",\n",
    "        \"subjects\": \"Literatura española--Siglo XVII\",\n",
    "        \"language\": \"Spanish\",\n",
    "        \"classification\": \"Literature and Narrative Arts\"\n",
    "    },\n",
    "    {\n",
    "        \"person\": \"Camões, Luís de, 1524?-1580\", \n",
    "        \"title\": \"Os Lusíadas\",\n",
    "        \"subjects\": \"Poesia épica portuguesa--Século XVI\",\n",
    "        \"language\": \"Portuguese\",\n",
    "        \"classification\": \"Literature and Narrative Arts\"\n",
    "    },\n",
    "    {\n",
    "        \"person\": \"Lope de Vega, 1562-1635\",\n",
    "        \"title\": \"Fuenteovejuna\", \n",
    "        \"subjects\": \"Teatro español--Siglo XVII\",\n",
    "        \"language\": \"Spanish\",\n",
    "        \"classification\": \"Literature and Narrative Arts\"\n",
    "    },\n",
    "    {\n",
    "        \"person\": \"Pessoa, Fernando, 1888-1935\",\n",
    "        \"title\": \"Mensagem\",\n",
    "        \"subjects\": \"Poesia portuguesa--Século XX\", \n",
    "        \"language\": \"Portuguese\",\n",
    "        \"classification\": \"Literature and Narrative Arts\"\n",
    "    }\n",
    "]\n",
    "\n",
    "# Generate embeddings for multilingual examples\n",
    "print(\"🌍 Generating embeddings for multilingual examples...\")\n",
    "\n",
    "for example in multilingual_examples:\n",
    "    # Create composite text for embedding\n",
    "    composite_text = f\"Autor: {example['person']}\\nTítulo: {example['title']}\\nMatérias: {example['subjects']}\"\n",
    "    \n",
    "    # Generate embedding\n",
    "    embedding = get_embedding(composite_text)\n",
    "    example['embedding'] = embedding\n",
    "    example['composite'] = composite_text\n",
    "\n",
    "print(f\"✅ Generated embeddings for {len(multilingual_examples)} multilingual examples\")\n",
    "\n",
    "# Test cross-language similarity\n",
    "print(\"\\n🔍 Cross-Language Similarity Analysis:\")\n",
    "print(\"=\" * 50)\n",
    "\n",
    "# Compare Spanish and Portuguese literature\n",
    "spanish_lit = [ex for ex in multilingual_examples if ex['language'] == 'Spanish']\n",
    "portuguese_lit = [ex for ex in multilingual_examples if ex['language'] == 'Portuguese']\n",
    "\n",
    "for sp_example in spanish_lit:\n",
    "    for pt_example in portuguese_lit:\n",
    "        if sp_example['embedding'] and pt_example['embedding']:\n",
    "            similarity = cosine_similarity(\n",
    "                [sp_example['embedding']], \n",
    "                [pt_example['embedding']]\n",
    "            )[0][0]\n",
    "            \n",
    "            print(f\"📖 {sp_example['person']} (ES)\")\n",
    "            print(f\"   ↔ {pt_example['person']} (PT)\")\n",
    "            print(f\"   📊 Cross-language similarity: {similarity:.4f}\")\n",
    "            print()\n",
    "\n",
    "# Language clustering visualization\n",
    "all_embeddings = []\n",
    "all_labels = []\n",
    "all_languages = []\n",
    "\n",
    "# Include original data\n",
    "for _, row in df.iterrows():\n",
    "    if row['person_embedding'] is not None:\n",
    "        all_embeddings.append(row['person_embedding'])\n",
    "        all_labels.append(row['person'])\n",
    "        all_languages.append(detect_language(row['title'], row['subjects']))\n",
    "\n",
    "# Add multilingual examples\n",
    "for example in multilingual_examples:\n",
    "    if example['embedding'] is not None:\n",
    "        all_embeddings.append(example['embedding'])\n",
    "        all_labels.append(example['person']) \n",
    "        all_languages.append(example['language'])\n",
    "\n",
    "# Create language clustering visualization\n",
    "if len(all_embeddings) > 2:\n",
    "    embeddings_array = np.array(all_embeddings)\n",
    "    \n",
    "    # Use PCA for better visualization with multiple languages\n",
    "    pca = PCA(n_components=2, random_state=42)\n",
    "    embeddings_2d = pca.fit_transform(embeddings_array)\n",
    "    \n",
    "    # Create language-colored plot\n",
    "    fig = px.scatter(\n",
    "        x=embeddings_2d[:, 0],\n",
    "        y=embeddings_2d[:, 1], \n",
    "        color=all_languages,\n",
    "        hover_name=all_labels,\n",
    "        title=\"Multilingual Author Embeddings (PCA)\",\n",
    "        labels={'color': 'Language'},\n",
    "        width=800,\n",
    "        height=600\n",
    "    )\n",
    "    \n",
    "    fig.update_traces(marker=dict(size=10, line=dict(width=1, color='white')))\n",
    "    fig.update_layout(\n",
    "        title_font_size=16,\n",
    "        xaxis_title=\"PCA Component 1\",\n",
    "        yaxis_title=\"PCA Component 2\"\n",
    "    )\n",
    "    \n",
    "    fig.show()\n",
    "    \n",
    "    print(\"\\n🎯 Multilingual Observations:\")\n",
    "    print(\"• Literature authors tend to cluster together regardless of language\")\n",
    "    print(\"• Domain (music, literature, etc.) often matters more than language\")\n",
    "    print(\"• OpenAI embeddings handle multilingual content effectively\")"
   ]
  },
  {
   "cell_type": "markdown",
   "metadata": {
    "id": "entity_resolution"
   },
   "source": [
    "## 13. Entity Resolution in Action\n",
    "\n",
    "Let's demonstrate how embeddings solve the Franz Schubert disambiguation problem."
   ]
  },
  {
   "cell_type": "code",
   "execution_count": null,
   "metadata": {
    "id": "entity_resolution_demo"
   },
   "outputs": [],
   "source": [
    "def analyze_entity_disambiguation(df, person_name_pattern):\n",
    "    \"\"\"Analyze how well embeddings disambiguate entities with similar names\"\"\"\n",
    "    \n",
    "    # Find all records matching the pattern\n",
    "    matching_records = df[df['person'].str.contains(person_name_pattern, case=False, na=False)]\n",
    "    \n",
    "    print(f\"🔍 Entity Disambiguation Analysis: '{person_name_pattern}'\")\n",
    "    print(\"=\" * 60)\n",
    "    print(f\"Found {len(matching_records)} matching records:\")\n",
    "    print()\n",
    "    \n",
    "    results = []\n",
    "    \n",
    "    for idx, record in matching_records.iterrows():\n",
    "        result = {\n",
    "            'person': record['person'],\n",
    "            'title': record['title'],\n",
    "            'classification': record['classification'],\n",
    "            'subjects': record['subjects'],\n",
    "            'provision_year': extract_year(record['provision']),\n",
    "            'embedding': record['person_embedding']\n",
    "        }\n",
    "        results.append(result)\n",
    "        \n",
    "        print(f\"📋 Record {len(results)}:\")\n",
    "        print(f\"   Name: {result['person']}\")\n",
    "        print(f\"   Work: {result['title'][:50]}...\")\n",
    "        print(f\"   Domain: {result['classification']}\")\n",
    "        print(f\"   Year: {result['provision_year']}\")\n",
    "        print(f\"   Subjects: {result['subjects']}\")\n",
    "        print()\n",
    "    \n",
    "    # Calculate similarities between all pairs\n",
    "    if len(results) > 1:\n",
    "        print(\"📊 Pairwise Similarity Analysis:\")\n",
    "        print(\"-\" * 40)\n",
    "        \n",
    "        for i in range(len(results)):\n",
    "            for j in range(i+1, len(results)):\n",
    "                if results[i]['embedding'] and results[j]['embedding']:\n",
    "                    similarity = cosine_similarity(\n",
    "                        [results[i]['embedding']], \n",
    "                        [results[j]['embedding']]\n",
    "                    )[0][0]\n",
    "                    \n",
    "                    print(f\"Person A: {results[i]['person']}\")\n",
    "                    print(f\"Person B: {results[j]['person']}\")\n",
    "                    print(f\"Similarity: {similarity:.4f}\")\n",
    "                    \n",
    "                    # Interpretation\n",
    "                    if similarity > 0.8:\n",
    "                        interpretation = \"🟢 LIKELY SAME PERSON\"\n",
    "                    elif similarity > 0.6:\n",
    "                        interpretation = \"🟡 POSSIBLY RELATED\"\n",
    "                    else:\n",
    "                        interpretation = \"🔴 LIKELY DIFFERENT PEOPLE\"\n",
    "                    \n",
    "                    print(f\"Interpretation: {interpretation}\")\n",
    "                    print()\n",
    "    \n",
    "    return results\n",
    "\n",
    "def extract_year(provision):\n",
    "    \"\"\"Extract publication year from provision information\"\"\"\n",
    "    import re\n",
    "    if provision:\n",
    "        # Look for 4-digit years\n",
    "        years = re.findall(r'\\b(1[8-9]\\d{2}|20\\d{2})\\b', provision)\n",
    "        if years:\n",
    "            return years[0]\n",
    "    return \"Unknown\"\n",
    "\n",
    "# Analyze Franz Schubert disambiguation\n",
    "schubert_analysis = analyze_entity_disambiguation(df, \"Schubert, Franz\")\n",
    "\n",
    "# Additional analysis: Check domain-specific clustering\n",
    "print(\"\\n🎭 Domain-Specific Clustering Analysis:\")\n",
    "print(\"=\" * 50)\n",
    "\n",
    "# Group by classification\n",
    "classifications = df['classification'].unique()\n",
    "for classification in classifications:\n",
    "    records = df[df['classification'] == classification]\n",
    "    print(f\"\\n🏷️ {classification}: {len(records)} records\")\n",
    "    \n",
    "    # Calculate average intra-domain similarity\n",
    "    embeddings = [emb for emb in records['person_embedding'] if emb is not None]\n",
    "    if len(embeddings) > 1:\n",
    "        similarities = []\n",
    "        for i in range(len(embeddings)):\n",
    "            for j in range(i+1, len(embeddings)):\n",
    "                sim = cosine_similarity([embeddings[i]], [embeddings[j]])[0][0]\n",
    "                similarities.append(sim)\n",
    "        \n",
    "        avg_similarity = np.mean(similarities)\n",
    "        print(f\"   📊 Average intra-domain similarity: {avg_similarity:.4f}\")\n",
    "\n",
    "print(\"\\n✅ Entity resolution analysis complete!\")\n",
    "print(\"\\n🎯 Key Insights:\")\n",
    "print(\"• Embeddings capture semantic differences between domains\")\n",
    "print(\"• Same names in different fields show lower similarity\")\n",
    "print(\"• Context (subjects, titles) helps disambiguate entities\")\n",
    "print(\"• Temporal information (dates) provides additional validation\")"
   ]
  },
  {
   "cell_type": "markdown",
   "metadata": {
    "id": "practical_applications"
   },
   "source": [
    "## 14. Practical Applications & Cost Analysis\n",
    "\n",
    "Let's discuss real-world applications and cost considerations."
   ]
  },
  {
   "cell_type": "code",
   "execution_count": null,
   "metadata": {
    "id": "cost_analysis"
   },
   "outputs": [],
   "source": [
    "# Cost analysis for Yale Library scale\n",
    "def calculate_embedding_costs(num_records, avg_tokens_per_record=100):\n",
    "    \"\"\"Calculate costs for embedding generation at scale\"\"\"\n",
    "    \n",
    "    total_tokens = num_records * avg_tokens_per_record\n",
    "    cost_per_million = 0.02  # $0.02 per 1M tokens for text-embedding-3-small\n",
    "    total_cost = (total_tokens / 1_000_000) * cost_per_million\n",
    "    \n",
    "    return {\n",
    "        'num_records': num_records,\n",
    "        'total_tokens': total_tokens,\n",
    "        'total_cost': total_cost,\n",
    "        'cost_per_record': total_cost / num_records if num_records > 0 else 0\n",
    "    }\n",
    "\n",
    "print(\"💰 EMBEDDING COST ANALYSIS\")\n",
    "print(\"=\" * 40)\n",
    "\n",
    "# Example scales\n",
    "scales = [\n",
    "    (\"Workshop demo\", 6),\n",
    "    (\"Small library\", 10_000),\n",
    "    (\"Medium library\", 100_000), \n",
    "    (\"Yale Library scale\", 17_590_104),  # Real Yale Library size\n",
    "    (\"Large university\", 50_000_000)\n",
    "]\n",
    "\n",
    "for scale_name, num_records in scales:\n",
    "    costs = calculate_embedding_costs(num_records)\n",
    "    print(f\"📚 {scale_name}:\")\n",
    "    print(f\"   Records: {costs['num_records']:,}\")\n",
    "    print(f\"   Tokens: {costs['total_tokens']:,}\")\n",
    "    print(f\"   Total cost: ${costs['total_cost']:.2f}\")\n",
    "    print(f\"   Cost per record: ${costs['cost_per_record']:.6f}\")\n",
    "    print()\n",
    "\n",
    "print(\"🎯 PRACTICAL APPLICATIONS\")\n",
    "print(\"=\" * 40)\n",
    "\n",
    "applications = [\n",
    "    {\n",
    "        \"domain\": \"Digital Libraries\",\n",
    "        \"use_cases\": [\n",
    "            \"Author disambiguation (like Franz Schubert)\",\n",
    "            \"Subject clustering and recommendation\", \n",
    "            \"Cross-language content discovery\",\n",
    "            \"Duplicate detection across catalogs\"\n",
    "        ]\n",
    "    },\n",
    "    {\n",
    "        \"domain\": \"Academic Research\",\n",
    "        \"use_cases\": [\n",
    "            \"Literature review automation\",\n",
    "            \"Citation network analysis\",\n",
    "            \"Research collaboration discovery\",\n",
    "            \"Grant proposal matching\"\n",
    "        ]\n",
    "    },\n",
    "    {\n",
    "        \"domain\": \"Cultural Heritage\",\n",
    "        \"use_cases\": [\n",
    "            \"Cross-institutional collection linking\",\n",
    "            \"Provenance research\",\n",
    "            \"Multilingual catalog integration\",\n",
    "            \"Historical entity tracking\"\n",
    "        ]\n",
    "    }\n",
    "]\n",
    "\n",
    "for app in applications:\n",
    "    print(f\"🏛️ {app['domain']}:\")\n",
    "    for use_case in app['use_cases']:\n",
    "        print(f\"   • {use_case}\")\n",
    "    print()\n",
    "\n",
    "print(\"⚡ PERFORMANCE CONSIDERATIONS\")\n",
    "print(\"=\" * 40)\n",
    "print(\"• Embedding generation: One-time cost, reusable vectors\")\n",
    "print(\"• Vector search: Sub-second queries on millions of records\")\n",
    "print(\"• Storage: ~6KB per record (1536 dimensions × 4 bytes)\")\n",
    "print(\"• Scalability: Horizontal scaling with vector databases\")\n",
    "print(\"• Updates: Incremental embedding generation for new records\")\n",
    "\n",
    "print(\"\\n🛡️ ETHICAL CONSIDERATIONS\")\n",
    "print(\"=\" * 40)\n",
    "print(\"• Bias in embeddings: Models may reflect training data biases\")\n",
    "print(\"• Cultural representation: Ensure diverse training data\")\n",
    "print(\"• Privacy: Personal data in embeddings may leak information\")\n",
    "print(\"• Transparency: Document model choices and limitations\")\n",
    "print(\"• Validation: Human oversight for critical decisions\")"
   ]
  },
  {
   "cell_type": "markdown",
   "metadata": {
    "id": "next_steps"
   },
   "source": [
    "## 15. Next Steps & Advanced Topics\n",
    "\n",
    "Ideas for extending this work and diving deeper."
   ]
  },
  {
   "cell_type": "code",
   "execution_count": null,
   "metadata": {
    "id": "advanced_topics"
   },
   "outputs": [],
   "source": [
    "print(\"🚀 NEXT STEPS FOR YALE GRADUATE STUDENTS\")\n",
    "print(\"=\" * 50)\n",
    "\n",
    "next_steps = [\n",
    "    {\n",
    "        \"topic\": \"Fine-tuning Embeddings\",\n",
    "        \"description\": \"Adapt embeddings to your specific domain\",\n",
    "        \"techniques\": [\n",
    "            \"SetFit for few-shot classification\",\n",
    "            \"Sentence-BERT fine-tuning\", \n",
    "            \"Domain-specific training data\",\n",
    "            \"Evaluation metrics for embedding quality\"\n",
    "        ]\n",
    "    },\n",
    "    {\n",
    "        \"topic\": \"Advanced Vector Search\", \n",
    "        \"description\": \"Optimize search performance and relevance\",\n",
    "        \"techniques\": [\n",
    "            \"Hybrid search (vector + keyword)\",\n",
    "            \"Query expansion with embeddings\",\n",
    "            \"Re-ranking strategies\",\n",
    "            \"Multi-modal embeddings (text + images)\"\n",
    "        ]\n",
    "    },\n",
    "    {\n",
    "        \"topic\": \"Production Deployment\",\n",
    "        \"description\": \"Scale embeddings for real applications\",\n",
    "        \"techniques\": [\n",
    "            \"Batch processing pipelines\",\n",
    "            \"Real-time embedding generation\",\n",
    "            \"Monitoring and maintenance\",\n",
    "            \"A/B testing for embedding changes\"\n",
    "        ]\n",
    "    }\n",
    "]\n",
    "\n",
    "for i, step in enumerate(next_steps, 1):\n",
    "    print(f\"\\n{i}. {step['topic']}\")\n",
    "    print(f\"   {step['description']}\")\n",
    "    print(\"   Techniques to explore:\")\n",
    "    for technique in step['techniques']:\n",
    "        print(f\"   • {technique}\")\n",
    "\n",
    "print(\"\\n\\n📚 RECOMMENDED RESOURCES\")\n",
    "print(\"=\" * 40)\n",
    "\n",
    "resources = [\n",
    "    \"📖 Papers:\",\n",
    "    \"   • 'Attention Is All You Need' (Transformer architecture)\",\n",
    "    \"   • 'SetFit: Efficient Few-Shot Learning' (few-shot classification)\", \n",
    "    \"   • 'Sentence-BERT' (sentence embeddings)\",\n",
    "    \"\",\n",
    "    \"🛠️ Tools & Libraries:\",\n",
    "    \"   • Weaviate: Production vector database\",\n",
    "    \"   • Sentence Transformers: Embedding models\",\n",
    "    \"   • LangChain: LLM application framework\",\n",
    "    \"   • Pinecone/Chroma: Alternative vector databases\",\n",
    "    \"\", \n",
    "    \"🎓 Learning Paths:\",\n",
    "    \"   • Hugging Face NLP Course (free)\",\n",
    "    \"   • fast.ai Practical Deep Learning\",\n",
    "    \"   • OpenAI Cookbook (practical examples)\",\n",
    "    \"   • Vector Database documentation\"\n",
    "]\n",
    "\n",
    "for resource in resources:\n",
    "    print(resource)\n",
    "\n",
    "print(\"\\n\\n🎯 PROJECT IDEAS FOR YOUR RESEARCH\")\n",
    "print(\"=\" * 40)\n",
    "\n",
    "project_ideas = [\n",
    "    \"🔬 Scientific Literature: Author disambiguation in your field\",\n",
    "    \"🏛️ Historical Research: Entity linking across archives\", \n",
    "    \"🌍 Language Studies: Cross-lingual concept mapping\",\n",
    "    \"📊 Data Science: Semantic clustering of datasets\",\n",
    "    \"🎨 Digital Humanities: Cultural heritage collection analysis\",\n",
    "    \"📱 Information Science: Recommendation system improvement\"\n",
    "]\n",
    "\n",
    "for idea in project_ideas:\n",
    "    print(f\"   {idea}\")\n",
    "\n",
    "# Clean up resources\n",
    "weaviate_client.close()\n",
    "\n",
    "print(\"\\n\\n✅ WORKSHOP COMPLETE!\")\n",
    "print(\"🎉 You now understand how text embeddings work and can apply them to entity resolution challenges.\")\n",
    "print(\"📧 Questions? Contact: timothy.thompson@yale.edu\")"
   ]
  },
  {
   "cell_type": "markdown",
   "metadata": {
    "id": "conclusion"
   },
   "source": [
    "## Conclusion\n",
    "\n",
    "**What we've learned:**\n",
    "- Text embeddings convert semantic meaning into numerical vectors\n",
    "- OpenAI's text-embedding-3-small provides high-quality, cost-effective embeddings\n",
    "- Vector databases enable efficient similarity search at scale\n",
    "- Embeddings solve complex entity resolution problems like the \"Franz Schubert Problem\"\n",
    "- The approach works across multiple languages and domains\n",
    "\n",
    "**Real-world impact:**\n",
    "- Yale Library can disambiguate 17.6M catalog records for ~$35\n",
    "- Enables better discovery across cultural heritage collections\n",
    "- Supports multilingual and cross-institutional research\n",
    "\n",
    "**The future is semantic search** – embeddings are transforming how we find, connect, and understand information. 🚀"
   ]
  }
 ],
 "metadata": {
  "kernelspec": {
   "display_name": "Python 3 (ipykernel)",
   "language": "python",
   "name": "python3"
  },
  "language_info": {
   "codemirror_mode": {
    "name": "ipython",
    "version": 3
   },
   "file_extension": ".py",
   "mimetype": "text/x-python",
   "name": "python",
   "nbconvert_exporter": "python",
   "pygments_lexer": "ipython3",
   "version": "3.11.4"
  }
 },
 "nbformat": 4,
 "nbformat_minor": 4
}
